{
 "cells": [
  {
   "cell_type": "code",
   "execution_count": 4,
   "metadata": {
    "collapsed": true,
    "pycharm": {
     "name": "#%%\n"
    }
   },
   "outputs": [],
   "source": [
    "import json\n",
    "import csv\n",
    "import os\n",
    "import select\n",
    "from pprint import pprint as pr\n",
    "import sqlalchemy as sa\n",
    "import pandas as pd\n",
    "from app.sample_data import stat_vectors, comp_style_vectors, map_style_vectors, roles"
   ]
  },
  {
   "cell_type": "code",
   "execution_count": 10,
   "outputs": [],
   "source": [
    "BASE_DIR = os.path.abspath(os.path.dirname('../'))\n",
    "\n",
    "SERVER='192.168.0.245'\n",
    "SQLSERVER_DATABASE='lookingglass'\n",
    "SQLSERVER_USER='thecaptain'\n",
    "SQLSERVER_PASSWORD='99Redbal00ns'\n",
    "PORT=1433\n",
    "SQLSERVER_BASE_URI = 'mssql+pyodbc://{USER}:{PWD}@{SERVER}:{PORT}/{DATABASE}?driver=ODBC+Driver+17+for+SQL+Server'\n",
    "\n",
    "engine = sa.create_engine(SQLSERVER_BASE_URI.format(\n",
    "  SERVER=SERVER,\n",
    "  DATABASE=SQLSERVER_DATABASE,\n",
    "  USER=SQLSERVER_USER,\n",
    "  PWD=SQLSERVER_PASSWORD,\n",
    "  PORT=PORT\n",
    "))\n",
    "hero_stats_path = f'{BASE_DIR}\\\\app\\sample_data\\hero_stats.csv'\n",
    "\n",
    "meta_data = sa.MetaData(bind=engine)\n",
    "sa.MetaData.reflect(meta_data)"
   ],
   "metadata": {
    "collapsed": false,
    "pycharm": {
     "name": "#%%\n"
    }
   }
  },
  {
   "cell_type": "code",
   "execution_count": 18,
   "outputs": [],
   "source": [
    "Hero=meta_data.tables['Hero']\n",
    "\n",
    "hero_q = sa.select(\n",
    "  Hero.c.HeroName\n",
    "  , Hero.c.NewRole\n",
    ")\n",
    "\n",
    "hero_df = pd.read_sql(sql=hero_q, con=engine)\n",
    "# hero_df.head()"
   ],
   "metadata": {
    "collapsed": false,
    "pycharm": {
     "name": "#%%\n"
    }
   }
  },
  {
   "cell_type": "code",
   "execution_count": 20,
   "outputs": [
    {
     "data": {
      "text/plain": "       HeroName          NewRole  Bruiser  Healer  Melee Assassin  \\\n0       Abathur          Support      0.0     0.0             0.0   \n1        Alarak   Melee Assassin      0.0     0.0             1.0   \n2   Alexstrasza           Healer      0.0     1.0             0.0   \n3           Ana           Healer      0.0     1.0             0.0   \n4        Anduin           Healer      0.0     1.0             0.0   \n..          ...              ...      ...     ...             ...   \n85         Yrel          Bruiser      1.0     0.0             0.0   \n86       Zagara  Ranged Assassin      0.0     0.0             0.0   \n87        Zarya          Support      0.0     0.0             0.0   \n88      Zeratul   Melee Assassin      0.0     0.0             1.0   \n89      Zul'jin  Ranged Assassin      0.0     0.0             0.0   \n\n    Ranged Assassin  Support  Tank  \n0               0.0      1.0   0.0  \n1               0.0      0.0   0.0  \n2               0.0      0.0   0.0  \n3               0.0      0.0   0.0  \n4               0.0      0.0   0.0  \n..              ...      ...   ...  \n85              0.0      0.0   0.0  \n86              1.0      0.0   0.0  \n87              0.0      1.0   0.0  \n88              0.0      0.0   0.0  \n89              1.0      0.0   0.0  \n\n[90 rows x 8 columns]",
      "text/html": "<div>\n<style scoped>\n    .dataframe tbody tr th:only-of-type {\n        vertical-align: middle;\n    }\n\n    .dataframe tbody tr th {\n        vertical-align: top;\n    }\n\n    .dataframe thead th {\n        text-align: right;\n    }\n</style>\n<table border=\"1\" class=\"dataframe\">\n  <thead>\n    <tr style=\"text-align: right;\">\n      <th></th>\n      <th>HeroName</th>\n      <th>NewRole</th>\n      <th>Bruiser</th>\n      <th>Healer</th>\n      <th>Melee Assassin</th>\n      <th>Ranged Assassin</th>\n      <th>Support</th>\n      <th>Tank</th>\n    </tr>\n  </thead>\n  <tbody>\n    <tr>\n      <th>0</th>\n      <td>Abathur</td>\n      <td>Support</td>\n      <td>0.0</td>\n      <td>0.0</td>\n      <td>0.0</td>\n      <td>0.0</td>\n      <td>1.0</td>\n      <td>0.0</td>\n    </tr>\n    <tr>\n      <th>1</th>\n      <td>Alarak</td>\n      <td>Melee Assassin</td>\n      <td>0.0</td>\n      <td>0.0</td>\n      <td>1.0</td>\n      <td>0.0</td>\n      <td>0.0</td>\n      <td>0.0</td>\n    </tr>\n    <tr>\n      <th>2</th>\n      <td>Alexstrasza</td>\n      <td>Healer</td>\n      <td>0.0</td>\n      <td>1.0</td>\n      <td>0.0</td>\n      <td>0.0</td>\n      <td>0.0</td>\n      <td>0.0</td>\n    </tr>\n    <tr>\n      <th>3</th>\n      <td>Ana</td>\n      <td>Healer</td>\n      <td>0.0</td>\n      <td>1.0</td>\n      <td>0.0</td>\n      <td>0.0</td>\n      <td>0.0</td>\n      <td>0.0</td>\n    </tr>\n    <tr>\n      <th>4</th>\n      <td>Anduin</td>\n      <td>Healer</td>\n      <td>0.0</td>\n      <td>1.0</td>\n      <td>0.0</td>\n      <td>0.0</td>\n      <td>0.0</td>\n      <td>0.0</td>\n    </tr>\n    <tr>\n      <th>...</th>\n      <td>...</td>\n      <td>...</td>\n      <td>...</td>\n      <td>...</td>\n      <td>...</td>\n      <td>...</td>\n      <td>...</td>\n      <td>...</td>\n    </tr>\n    <tr>\n      <th>85</th>\n      <td>Yrel</td>\n      <td>Bruiser</td>\n      <td>1.0</td>\n      <td>0.0</td>\n      <td>0.0</td>\n      <td>0.0</td>\n      <td>0.0</td>\n      <td>0.0</td>\n    </tr>\n    <tr>\n      <th>86</th>\n      <td>Zagara</td>\n      <td>Ranged Assassin</td>\n      <td>0.0</td>\n      <td>0.0</td>\n      <td>0.0</td>\n      <td>1.0</td>\n      <td>0.0</td>\n      <td>0.0</td>\n    </tr>\n    <tr>\n      <th>87</th>\n      <td>Zarya</td>\n      <td>Support</td>\n      <td>0.0</td>\n      <td>0.0</td>\n      <td>0.0</td>\n      <td>0.0</td>\n      <td>1.0</td>\n      <td>0.0</td>\n    </tr>\n    <tr>\n      <th>88</th>\n      <td>Zeratul</td>\n      <td>Melee Assassin</td>\n      <td>0.0</td>\n      <td>0.0</td>\n      <td>1.0</td>\n      <td>0.0</td>\n      <td>0.0</td>\n      <td>0.0</td>\n    </tr>\n    <tr>\n      <th>89</th>\n      <td>Zul'jin</td>\n      <td>Ranged Assassin</td>\n      <td>0.0</td>\n      <td>0.0</td>\n      <td>0.0</td>\n      <td>1.0</td>\n      <td>0.0</td>\n      <td>0.0</td>\n    </tr>\n  </tbody>\n</table>\n<p>90 rows × 8 columns</p>\n</div>"
     },
     "execution_count": 20,
     "metadata": {},
     "output_type": "execute_result"
    }
   ],
   "source": [
    "hero_role_df = pd.DataFrame(columns=['HeroName', 'NewRole'])\n",
    "hero_role_df = hero_role_df.astype(dtype= {\"HeroName\":\"object\" })\n",
    "hero_role_df.HeroName = hero_df['HeroName']\n",
    "hero_role_df.NewRole = hero_df[hero_role_df['HeroName'] == hero_df['HeroName']].NewRole\n",
    "\n",
    "for col in roles:\n",
    "  hero_role_df.loc[(hero_role_df.NewRole == col), col] = 1\n",
    "\n",
    "hero_role_df.loc[(hero_role_df.HeroName == 'Varian'), 'Tank'] = 1\n",
    "hero_role_df.loc[(hero_role_df.HeroName == 'Varian'), 'Melee Assassin'] = 1\n",
    "hero_role_df.loc[(hero_role_df.HeroName == 'Kharazim'), 'Melee Assassin'] = 1\n",
    "hero_role_df.loc[(hero_role_df.HeroName == 'Blaze'), 'Tank'] = 1\n",
    "\n",
    "hero_role_df.fillna(0, inplace=True)\n",
    "hero_role_df.head(100)"
   ],
   "metadata": {
    "collapsed": false,
    "pycharm": {
     "name": "#%%\n"
    }
   }
  },
  {
   "cell_type": "code",
   "execution_count": 23,
   "outputs": [
    {
     "data": {
      "text/plain": "             WaveClear  Engage  Peel  TeamSustain  SelfSustain SoloLane  \\\nHeroName                                                                  \nAbathur            2.0     0.0   2.0          5.0          0.0    Maybe   \nAlarak             2.0     5.0   5.0          0.0          2.0    Maybe   \nAlexstrasza        4.0     1.0   2.0          7.0          5.0    Maybe   \nAna                2.0     2.0   4.0          7.0          3.0       No   \nAnduin             3.0     2.0   4.0          6.0          5.0       No   \n\n             Fight  Macro  Artillery  Protect  Pick  \nHeroName                                             \nAbathur        4.0    8.0        1.0      7.0   2.0  \nAlarak         5.0    3.0        2.0      4.0   9.0  \nAlexstrasza    7.0    3.0        4.0      5.0   3.0  \nAna            4.0    4.0        5.0      7.0   8.0  \nAnduin         4.0    3.0        3.0      7.0   7.0  ",
      "text/html": "<div>\n<style scoped>\n    .dataframe tbody tr th:only-of-type {\n        vertical-align: middle;\n    }\n\n    .dataframe tbody tr th {\n        vertical-align: top;\n    }\n\n    .dataframe thead th {\n        text-align: right;\n    }\n</style>\n<table border=\"1\" class=\"dataframe\">\n  <thead>\n    <tr style=\"text-align: right;\">\n      <th></th>\n      <th>WaveClear</th>\n      <th>Engage</th>\n      <th>Peel</th>\n      <th>TeamSustain</th>\n      <th>SelfSustain</th>\n      <th>SoloLane</th>\n      <th>Fight</th>\n      <th>Macro</th>\n      <th>Artillery</th>\n      <th>Protect</th>\n      <th>Pick</th>\n    </tr>\n    <tr>\n      <th>HeroName</th>\n      <th></th>\n      <th></th>\n      <th></th>\n      <th></th>\n      <th></th>\n      <th></th>\n      <th></th>\n      <th></th>\n      <th></th>\n      <th></th>\n      <th></th>\n    </tr>\n  </thead>\n  <tbody>\n    <tr>\n      <th>Abathur</th>\n      <td>2.0</td>\n      <td>0.0</td>\n      <td>2.0</td>\n      <td>5.0</td>\n      <td>0.0</td>\n      <td>Maybe</td>\n      <td>4.0</td>\n      <td>8.0</td>\n      <td>1.0</td>\n      <td>7.0</td>\n      <td>2.0</td>\n    </tr>\n    <tr>\n      <th>Alarak</th>\n      <td>2.0</td>\n      <td>5.0</td>\n      <td>5.0</td>\n      <td>0.0</td>\n      <td>2.0</td>\n      <td>Maybe</td>\n      <td>5.0</td>\n      <td>3.0</td>\n      <td>2.0</td>\n      <td>4.0</td>\n      <td>9.0</td>\n    </tr>\n    <tr>\n      <th>Alexstrasza</th>\n      <td>4.0</td>\n      <td>1.0</td>\n      <td>2.0</td>\n      <td>7.0</td>\n      <td>5.0</td>\n      <td>Maybe</td>\n      <td>7.0</td>\n      <td>3.0</td>\n      <td>4.0</td>\n      <td>5.0</td>\n      <td>3.0</td>\n    </tr>\n    <tr>\n      <th>Ana</th>\n      <td>2.0</td>\n      <td>2.0</td>\n      <td>4.0</td>\n      <td>7.0</td>\n      <td>3.0</td>\n      <td>No</td>\n      <td>4.0</td>\n      <td>4.0</td>\n      <td>5.0</td>\n      <td>7.0</td>\n      <td>8.0</td>\n    </tr>\n    <tr>\n      <th>Anduin</th>\n      <td>3.0</td>\n      <td>2.0</td>\n      <td>4.0</td>\n      <td>6.0</td>\n      <td>5.0</td>\n      <td>No</td>\n      <td>4.0</td>\n      <td>3.0</td>\n      <td>3.0</td>\n      <td>7.0</td>\n      <td>7.0</td>\n    </tr>\n  </tbody>\n</table>\n</div>"
     },
     "execution_count": 23,
     "metadata": {},
     "output_type": "execute_result"
    }
   ],
   "source": [
    "stats_df = pd.read_csv(hero_stats_path)\n",
    "stats_df.set_index('HeroName', inplace=True)\n",
    "stats_df.head()"
   ],
   "metadata": {
    "collapsed": false,
    "pycharm": {
     "name": "#%%\n"
    }
   }
  },
  {
   "cell_type": "code",
   "execution_count": 13,
   "outputs": [],
   "source": [],
   "metadata": {
    "collapsed": false,
    "pycharm": {
     "name": "#%%\n"
    }
   }
  }
 ],
 "metadata": {
  "kernelspec": {
   "display_name": "Python 3",
   "language": "python",
   "name": "python3"
  },
  "language_info": {
   "codemirror_mode": {
    "name": "ipython",
    "version": 2
   },
   "file_extension": ".py",
   "mimetype": "text/x-python",
   "name": "python",
   "nbconvert_exporter": "python",
   "pygments_lexer": "ipython2",
   "version": "2.7.6"
  }
 },
 "nbformat": 4,
 "nbformat_minor": 0
}