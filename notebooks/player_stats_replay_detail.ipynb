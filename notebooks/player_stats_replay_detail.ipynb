{
 "cells": [
  {
   "cell_type": "code",
   "execution_count": 73,
   "metadata": {
    "collapsed": true,
    "pycharm": {
     "name": "#%%\n"
    }
   },
   "outputs": [],
   "source": [
    "import json\n",
    "import csv\n",
    "import os\n",
    "from pprint import pprint as pr\n",
    "import sqlalchemy as sa\n",
    "from sqlalchemy import join\n",
    "import pandas as pd\n",
    "from app.sample_data import stat_vectors, comp_style_vectors, map_style_vectors, roles"
   ]
  },
  {
   "cell_type": "code",
   "execution_count": 74,
   "outputs": [],
   "source": [
    "BASE_DIR = os.path.abspath(os.path.dirname('../'))\n",
    "\n",
    "SERVER='192.168.0.245'\n",
    "SQLSERVER_DATABASE='lookingglass'\n",
    "SQLSERVER_USER='thecaptain'\n",
    "SQLSERVER_PASSWORD='99Redbal00ns'\n",
    "PORT=1433\n",
    "SQLSERVER_BASE_URI = 'mssql+pyodbc://{USER}:{PWD}@{SERVER}:{PORT}/{DATABASE}?driver=ODBC+Driver+17+for+SQL+Server'\n",
    "\n",
    "engine = sa.create_engine(SQLSERVER_BASE_URI.format(\n",
    "  SERVER=SERVER,\n",
    "  DATABASE=SQLSERVER_DATABASE,\n",
    "  USER=SQLSERVER_USER,\n",
    "  PWD=SQLSERVER_PASSWORD,\n",
    "  PORT=PORT\n",
    "))\n",
    "\n",
    "meta_data = sa.MetaData(bind=engine)\n",
    "sa.MetaData.reflect(meta_data)"
   ],
   "metadata": {
    "collapsed": false,
    "pycharm": {
     "name": "#%%\n"
    }
   }
  },
  {
   "cell_type": "code",
   "execution_count": 75,
   "outputs": [],
   "source": [
    "Player=meta_data.tables['Player']\n",
    "TeamMember=meta_data.tables['TeamMember']\n",
    "Hero=meta_data.tables['Hero']\n",
    "Battleground=meta_data.tables['Map']\n",
    "Replay=meta_data.tables['ReplayDetail']\n",
    "ReplayPlayer=meta_data.tables['ReplayPlayer']"
   ],
   "metadata": {
    "collapsed": false,
    "pycharm": {
     "name": "#%%\n"
    }
   }
  },
  {
   "cell_type": "code",
   "execution_count": 193,
   "outputs": [
    {
     "data": {
      "text/plain": "(46530, 57)"
     },
     "execution_count": 193,
     "metadata": {},
     "output_type": "execute_result"
    }
   ],
   "source": [
    "team_id = 4109\n",
    "act_list = ['TheCaptain#12345', 'Aly#11717']\n",
    "\n",
    "j = Replay.join(\n",
    "    ReplayPlayer\n",
    "    , ReplayPlayer.c.ReplayId == Replay.c.ReplayId\n",
    ").join(\n",
    " Player\n",
    "    , Player.c.PlayerId == ReplayPlayer.c.PlayerId\n",
    ").join(\n",
    "    Battleground\n",
    "    , Battleground.c.MapId == Replay.c.MapId\n",
    ").join(\n",
    "    Hero\n",
    "    , Hero.c.HeroId == ReplayPlayer.c.HeroId\n",
    ")\n",
    "\n",
    "query = sa.select(\n",
    "    Replay.c.ReplayFingerPrint\n",
    "    , Battleground.c.MapName\n",
    "    , Replay.c.GameType\n",
    "    , Replay.c.GameDate\n",
    "    , Replay.c.GameLengthTimestamp\n",
    "    , Player.c.Battletag\n",
    "    , Hero.c.HeroName\n",
    "    , Hero.c.NewRole\n",
    "    , ReplayPlayer\n",
    "    , Player.c.BlizzardId\n",
    ").select_from(j).where(sa.and_(\n",
    "    Replay.c.GameDate >= '01/01/2022'\n",
    "    # , Player.c.Battletag.in_(act_list)\n",
    "))\n",
    "\n",
    "df = pd.read_sql(sql = query,\n",
    "                 con = engine)\n",
    "\n",
    "df['Battletag'].drop_duplicates(keep='first', inplace=True)\n",
    "# df.Battletag = 'TheCaptain#12345'\n",
    "df.shape"
   ],
   "metadata": {
    "collapsed": false,
    "pycharm": {
     "name": "#%%\n"
    }
   }
  },
  {
   "cell_type": "code",
   "execution_count": 194,
   "outputs": [
    {
     "data": {
      "text/plain": "ReplayFingerPrint                 object\nMapName                           object\nGameType                          object\nGameDate                  datetime64[ns]\nGameLengthTimestamp               object\nBattletag                         object\nHeroName                          object\nNewRole                           object\nPlayerReplayId                     int64\nReplayId                           int64\nPlayerId                           int64\nHeroId                             int64\nHeroLevel                          int64\nTeam                               int64\nIsWinner                           int64\nParty                              int64\nFirstToTen                         int64\nKills                              int64\nAssists                            int64\nTakedowns                          int64\nDeaths                             int64\nLevel                              int64\nHeroDamage                         int64\nSiegeDamage                        int64\nStructureDamage                    int64\nMinionDamage                       int64\nCreepDamage                        int64\nSummonDamage                       int64\nTimeCcEnemyHeroes                  int64\nHealing                            int64\nSelfHealing                        int64\nDamageTaken                        int64\nExperienceContribution             int64\nHighestKillStreak                  int64\nTownKills                          int64\nMultikill                          int64\nTimeSpentDead                      int64\nMercCampCaptures                   int64\nWatchTowerCaptures                 int64\nMetaExperience                     int64\nProtectionAllies                   int64\nSilencingEnemies                   int64\nRootingEnemies                     int64\nStunningEnemies                    int64\nClutchHeals                        int64\nEscapes                            int64\nVengeance                          int64\nOutnumberedDeaths                  int64\nTeamfightEscapes                   int64\nTeamfightHealing                   int64\nTeamfightDamageTaken               int64\nTeamfightHeroDamage                int64\nPhysicalDamage                     int64\nSpellDamage                        int64\nRegenGlobes                        int64\nTimeonFire                         int64\nBlizzardId                        object\ndtype: object"
     },
     "execution_count": 194,
     "metadata": {},
     "output_type": "execute_result"
    }
   ],
   "source": [
    "df.dtypes"
   ],
   "metadata": {
    "collapsed": false,
    "pycharm": {
     "name": "#%%\n"
    }
   }
  },
  {
   "cell_type": "code",
   "execution_count": 195,
   "outputs": [
    {
     "data": {
      "text/plain": "                      ReplayFingerPrint           MapName     GameType  \\\n0  e34a8cda-6f59-1fff-1ac1-f9223ac4f2af  Garden of Terror  StormLeague   \n1  68c67e67-aab3-5bf3-04eb-737340b16624  Infernal Shrines   QuickMatch   \n2  08186618-744c-7425-6536-34a0de482b88   Hanamura Temple   QuickMatch   \n3  588f367e-af15-7fb6-e430-c67549a14638  Blackheart's Bay   QuickMatch   \n4  80f99fd5-da0c-a1ac-e533-861e417c6063  Warhead Junction  StormLeague   \n\n             GameDate GameLengthTimestamp         Battletag HeroName  \\\n0 2022-03-20 20:37:12                1009  TheCaptain#12345    Jaina   \n1 2022-01-01 05:10:50                1484  TheCaptain#12345  Nazeebo   \n2 2022-01-01 05:35:49                1301  TheCaptain#12345   Stukov   \n3 2022-01-01 06:02:14                1030  TheCaptain#12345    Valla   \n4 2022-01-02 02:31:22                1163  TheCaptain#12345  Johanna   \n\n           NewRole  PlayerReplayId  ReplayId  ...  RegenGlobes  TimeonFire  \\\n0  Ranged Assassin             595        61  ...           32         225   \n1  Ranged Assassin           22732      2276  ...           42         118   \n2           Healer           22736      2273  ...           37           0   \n3  Ranged Assassin           22749      2275  ...           25           0   \n4             Tank           22762      2278  ...           18           0   \n\n   BlizzardId  GameTypeCode  HeroRoleCode  MapCode  YearCode  MonthCode  \\\n0     9771889             2             3        7      2022          3   \n1     9771889             1             3       10      2022          1   \n2     9771889             1             1        8      2022          1   \n3     9771889             1             3        2      2022          1   \n4     9771889             2             5       17      2022          1   \n\n   DayCode  Target  \n0        6       1  \n1        5       1  \n2        5       1  \n3        5       0  \n4        6       0  \n\n[5 rows x 64 columns]",
      "text/html": "<div>\n<style scoped>\n    .dataframe tbody tr th:only-of-type {\n        vertical-align: middle;\n    }\n\n    .dataframe tbody tr th {\n        vertical-align: top;\n    }\n\n    .dataframe thead th {\n        text-align: right;\n    }\n</style>\n<table border=\"1\" class=\"dataframe\">\n  <thead>\n    <tr style=\"text-align: right;\">\n      <th></th>\n      <th>ReplayFingerPrint</th>\n      <th>MapName</th>\n      <th>GameType</th>\n      <th>GameDate</th>\n      <th>GameLengthTimestamp</th>\n      <th>Battletag</th>\n      <th>HeroName</th>\n      <th>NewRole</th>\n      <th>PlayerReplayId</th>\n      <th>ReplayId</th>\n      <th>...</th>\n      <th>RegenGlobes</th>\n      <th>TimeonFire</th>\n      <th>BlizzardId</th>\n      <th>GameTypeCode</th>\n      <th>HeroRoleCode</th>\n      <th>MapCode</th>\n      <th>YearCode</th>\n      <th>MonthCode</th>\n      <th>DayCode</th>\n      <th>Target</th>\n    </tr>\n  </thead>\n  <tbody>\n    <tr>\n      <th>0</th>\n      <td>e34a8cda-6f59-1fff-1ac1-f9223ac4f2af</td>\n      <td>Garden of Terror</td>\n      <td>StormLeague</td>\n      <td>2022-03-20 20:37:12</td>\n      <td>1009</td>\n      <td>TheCaptain#12345</td>\n      <td>Jaina</td>\n      <td>Ranged Assassin</td>\n      <td>595</td>\n      <td>61</td>\n      <td>...</td>\n      <td>32</td>\n      <td>225</td>\n      <td>9771889</td>\n      <td>2</td>\n      <td>3</td>\n      <td>7</td>\n      <td>2022</td>\n      <td>3</td>\n      <td>6</td>\n      <td>1</td>\n    </tr>\n    <tr>\n      <th>1</th>\n      <td>68c67e67-aab3-5bf3-04eb-737340b16624</td>\n      <td>Infernal Shrines</td>\n      <td>QuickMatch</td>\n      <td>2022-01-01 05:10:50</td>\n      <td>1484</td>\n      <td>TheCaptain#12345</td>\n      <td>Nazeebo</td>\n      <td>Ranged Assassin</td>\n      <td>22732</td>\n      <td>2276</td>\n      <td>...</td>\n      <td>42</td>\n      <td>118</td>\n      <td>9771889</td>\n      <td>1</td>\n      <td>3</td>\n      <td>10</td>\n      <td>2022</td>\n      <td>1</td>\n      <td>5</td>\n      <td>1</td>\n    </tr>\n    <tr>\n      <th>2</th>\n      <td>08186618-744c-7425-6536-34a0de482b88</td>\n      <td>Hanamura Temple</td>\n      <td>QuickMatch</td>\n      <td>2022-01-01 05:35:49</td>\n      <td>1301</td>\n      <td>TheCaptain#12345</td>\n      <td>Stukov</td>\n      <td>Healer</td>\n      <td>22736</td>\n      <td>2273</td>\n      <td>...</td>\n      <td>37</td>\n      <td>0</td>\n      <td>9771889</td>\n      <td>1</td>\n      <td>1</td>\n      <td>8</td>\n      <td>2022</td>\n      <td>1</td>\n      <td>5</td>\n      <td>1</td>\n    </tr>\n    <tr>\n      <th>3</th>\n      <td>588f367e-af15-7fb6-e430-c67549a14638</td>\n      <td>Blackheart's Bay</td>\n      <td>QuickMatch</td>\n      <td>2022-01-01 06:02:14</td>\n      <td>1030</td>\n      <td>TheCaptain#12345</td>\n      <td>Valla</td>\n      <td>Ranged Assassin</td>\n      <td>22749</td>\n      <td>2275</td>\n      <td>...</td>\n      <td>25</td>\n      <td>0</td>\n      <td>9771889</td>\n      <td>1</td>\n      <td>3</td>\n      <td>2</td>\n      <td>2022</td>\n      <td>1</td>\n      <td>5</td>\n      <td>0</td>\n    </tr>\n    <tr>\n      <th>4</th>\n      <td>80f99fd5-da0c-a1ac-e533-861e417c6063</td>\n      <td>Warhead Junction</td>\n      <td>StormLeague</td>\n      <td>2022-01-02 02:31:22</td>\n      <td>1163</td>\n      <td>TheCaptain#12345</td>\n      <td>Johanna</td>\n      <td>Tank</td>\n      <td>22762</td>\n      <td>2278</td>\n      <td>...</td>\n      <td>18</td>\n      <td>0</td>\n      <td>9771889</td>\n      <td>2</td>\n      <td>5</td>\n      <td>17</td>\n      <td>2022</td>\n      <td>1</td>\n      <td>6</td>\n      <td>0</td>\n    </tr>\n  </tbody>\n</table>\n<p>5 rows × 64 columns</p>\n</div>"
     },
     "execution_count": 195,
     "metadata": {},
     "output_type": "execute_result"
    }
   ],
   "source": [
    "##Formatting the data\n",
    "df['GameTypeCode'] = df.GameType.astype('category').cat.codes\n",
    "df['HeroRoleCode'] = df.NewRole.astype('category').cat.codes\n",
    "df['MapCode'] = df.MapName.astype('category').cat.codes\n",
    "df['YearCode'] = df.GameDate.dt.year\n",
    "df['MonthCode'] = df.GameDate.dt.month\n",
    "df['DayCode'] = df.GameDate.dt.dayofweek\n",
    "# df['BlizzardId'] = df.BlizzardId.astype('int')\n",
    "\n",
    "##Creating a target to determine outcome\n",
    "df['Target'] = (df.IsWinner == 1 ).astype('int')\n",
    "\n",
    "df.head(5)"
   ],
   "metadata": {
    "collapsed": false,
    "pycharm": {
     "name": "#%%\n"
    }
   }
  },
  {
   "cell_type": "code",
   "execution_count": 196,
   "outputs": [
    {
     "data": {
      "text/plain": "<bound method Series.unique of 0         TheCaptain#12345\n1         TheCaptain#12345\n2         TheCaptain#12345\n3         TheCaptain#12345\n4         TheCaptain#12345\n               ...        \n46525    cupofjoe2236#1247\n46526      ElcaRReado#1187\n46527          StatiK#1917\n46528        Espedual#1547\n46529      Jaymaster#11674\nName: Battletag, Length: 46530, dtype: object>"
     },
     "execution_count": 196,
     "metadata": {},
     "output_type": "execute_result"
    }
   ],
   "source": [
    "df.Battletag.unique"
   ],
   "metadata": {
    "collapsed": false,
    "pycharm": {
     "name": "#%%\n"
    }
   }
  },
  {
   "cell_type": "code",
   "execution_count": 197,
   "outputs": [],
   "source": [
    "from sklearn.ensemble import RandomForestClassifier\n",
    "from sklearn.metrics import accuracy_score, precision_score"
   ],
   "metadata": {
    "collapsed": false,
    "pycharm": {
     "name": "#%%\n"
    }
   }
  },
  {
   "cell_type": "code",
   "execution_count": 198,
   "outputs": [],
   "source": [
    "rf = RandomForestClassifier(\n",
    "    n_estimators=50\n",
    "    , min_samples_split=10\n",
    "    , random_state=1\n",
    ")"
   ],
   "metadata": {
    "collapsed": false,
    "pycharm": {
     "name": "#%%\n"
    }
   }
  },
  {
   "cell_type": "code",
   "execution_count": 199,
   "outputs": [],
   "source": [
    "train = df[df.GameDate < '2022-05-01']\n",
    "test = df[df.GameDate >= '2022-05-01']"
   ],
   "metadata": {
    "collapsed": false,
    "pycharm": {
     "name": "#%%\n"
    }
   }
  },
  {
   "cell_type": "code",
   "execution_count": 215,
   "outputs": [],
   "source": [
    "predictors = [\n",
    "    'HeroId'\n",
    "    # , 'DayCode'\n",
    "    , 'MapCode', 'GameTypeCode', 'HeroRoleCode'\n",
    "    # , 'HeroLevel'\n",
    "    # , 'Kills'\n",
    "    # , 'Assists'\n",
    "    # , 'Deaths'\n",
    "    , 'ExperienceContribution'\n",
    "    , 'FirstToTen'\n",
    "    # , 'Level'\n",
    "    # , 'HeroDamage'\n",
    "    # , 'Healing'\n",
    "    , 'Takedowns'\n",
    "    # , 'SelfHealing'\n",
    "    , 'DamageTaken'\n",
    "    , 'TimeSpentDead'\n",
    "    , 'GameLengthTimestamp'\n",
    "]"
   ],
   "metadata": {
    "collapsed": false,
    "pycharm": {
     "name": "#%%\n"
    }
   }
  },
  {
   "cell_type": "code",
   "execution_count": 216,
   "outputs": [
    {
     "name": "stderr",
     "output_type": "stream",
     "text": [
      "c:\\source\\innovation\\insight\\lookingglass_playground\\venv\\lib\\site-packages\\sklearn\\utils\\validation.py:1858: FutureWarning: Feature names only support names that are all strings. Got feature names with dtypes: ['quoted_name', 'str']. An error will be raised in 1.2.\n",
      "  warnings.warn(\n"
     ]
    },
    {
     "data": {
      "text/plain": "RandomForestClassifier(min_samples_split=10, n_estimators=50, random_state=1)",
      "text/html": "<style>#sk-container-id-22 {color: black;background-color: white;}#sk-container-id-22 pre{padding: 0;}#sk-container-id-22 div.sk-toggleable {background-color: white;}#sk-container-id-22 label.sk-toggleable__label {cursor: pointer;display: block;width: 100%;margin-bottom: 0;padding: 0.3em;box-sizing: border-box;text-align: center;}#sk-container-id-22 label.sk-toggleable__label-arrow:before {content: \"▸\";float: left;margin-right: 0.25em;color: #696969;}#sk-container-id-22 label.sk-toggleable__label-arrow:hover:before {color: black;}#sk-container-id-22 div.sk-estimator:hover label.sk-toggleable__label-arrow:before {color: black;}#sk-container-id-22 div.sk-toggleable__content {max-height: 0;max-width: 0;overflow: hidden;text-align: left;background-color: #f0f8ff;}#sk-container-id-22 div.sk-toggleable__content pre {margin: 0.2em;color: black;border-radius: 0.25em;background-color: #f0f8ff;}#sk-container-id-22 input.sk-toggleable__control:checked~div.sk-toggleable__content {max-height: 200px;max-width: 100%;overflow: auto;}#sk-container-id-22 input.sk-toggleable__control:checked~label.sk-toggleable__label-arrow:before {content: \"▾\";}#sk-container-id-22 div.sk-estimator input.sk-toggleable__control:checked~label.sk-toggleable__label {background-color: #d4ebff;}#sk-container-id-22 div.sk-label input.sk-toggleable__control:checked~label.sk-toggleable__label {background-color: #d4ebff;}#sk-container-id-22 input.sk-hidden--visually {border: 0;clip: rect(1px 1px 1px 1px);clip: rect(1px, 1px, 1px, 1px);height: 1px;margin: -1px;overflow: hidden;padding: 0;position: absolute;width: 1px;}#sk-container-id-22 div.sk-estimator {font-family: monospace;background-color: #f0f8ff;border: 1px dotted black;border-radius: 0.25em;box-sizing: border-box;margin-bottom: 0.5em;}#sk-container-id-22 div.sk-estimator:hover {background-color: #d4ebff;}#sk-container-id-22 div.sk-parallel-item::after {content: \"\";width: 100%;border-bottom: 1px solid gray;flex-grow: 1;}#sk-container-id-22 div.sk-label:hover label.sk-toggleable__label {background-color: #d4ebff;}#sk-container-id-22 div.sk-serial::before {content: \"\";position: absolute;border-left: 1px solid gray;box-sizing: border-box;top: 0;bottom: 0;left: 50%;z-index: 0;}#sk-container-id-22 div.sk-serial {display: flex;flex-direction: column;align-items: center;background-color: white;padding-right: 0.2em;padding-left: 0.2em;position: relative;}#sk-container-id-22 div.sk-item {position: relative;z-index: 1;}#sk-container-id-22 div.sk-parallel {display: flex;align-items: stretch;justify-content: center;background-color: white;position: relative;}#sk-container-id-22 div.sk-item::before, #sk-container-id-22 div.sk-parallel-item::before {content: \"\";position: absolute;border-left: 1px solid gray;box-sizing: border-box;top: 0;bottom: 0;left: 50%;z-index: -1;}#sk-container-id-22 div.sk-parallel-item {display: flex;flex-direction: column;z-index: 1;position: relative;background-color: white;}#sk-container-id-22 div.sk-parallel-item:first-child::after {align-self: flex-end;width: 50%;}#sk-container-id-22 div.sk-parallel-item:last-child::after {align-self: flex-start;width: 50%;}#sk-container-id-22 div.sk-parallel-item:only-child::after {width: 0;}#sk-container-id-22 div.sk-dashed-wrapped {border: 1px dashed gray;margin: 0 0.4em 0.5em 0.4em;box-sizing: border-box;padding-bottom: 0.4em;background-color: white;}#sk-container-id-22 div.sk-label label {font-family: monospace;font-weight: bold;display: inline-block;line-height: 1.2em;}#sk-container-id-22 div.sk-label-container {text-align: center;}#sk-container-id-22 div.sk-container {/* jupyter's `normalize.less` sets `[hidden] { display: none; }` but bootstrap.min.css set `[hidden] { display: none !important; }` so we also need the `!important` here to be able to override the default hidden behavior on the sphinx rendered scikit-learn.org. See: https://github.com/scikit-learn/scikit-learn/issues/21755 */display: inline-block !important;position: relative;}#sk-container-id-22 div.sk-text-repr-fallback {display: none;}</style><div id=\"sk-container-id-22\" class=\"sk-top-container\"><div class=\"sk-text-repr-fallback\"><pre>RandomForestClassifier(min_samples_split=10, n_estimators=50, random_state=1)</pre><b>In a Jupyter environment, please rerun this cell to show the HTML representation or trust the notebook. <br />On GitHub, the HTML representation is unable to render, please try loading this page with nbviewer.org.</b></div><div class=\"sk-container\" hidden><div class=\"sk-item\"><div class=\"sk-estimator sk-toggleable\"><input class=\"sk-toggleable__control sk-hidden--visually\" id=\"sk-estimator-id-22\" type=\"checkbox\" checked><label for=\"sk-estimator-id-22\" class=\"sk-toggleable__label sk-toggleable__label-arrow\">RandomForestClassifier</label><div class=\"sk-toggleable__content\"><pre>RandomForestClassifier(min_samples_split=10, n_estimators=50, random_state=1)</pre></div></div></div></div></div>"
     },
     "execution_count": 216,
     "metadata": {},
     "output_type": "execute_result"
    }
   ],
   "source": [
    "rf.fit(train[predictors], train[\"Target\"])"
   ],
   "metadata": {
    "collapsed": false,
    "pycharm": {
     "name": "#%%\n"
    }
   }
  },
  {
   "cell_type": "code",
   "execution_count": 217,
   "outputs": [
    {
     "name": "stderr",
     "output_type": "stream",
     "text": [
      "c:\\source\\innovation\\insight\\lookingglass_playground\\venv\\lib\\site-packages\\sklearn\\utils\\validation.py:1858: FutureWarning: Feature names only support names that are all strings. Got feature names with dtypes: ['quoted_name', 'str']. An error will be raised in 1.2.\n",
      "  warnings.warn(\n"
     ]
    }
   ],
   "source": [
    "preds = rf.predict(test[predictors])"
   ],
   "metadata": {
    "collapsed": false,
    "pycharm": {
     "name": "#%%\n"
    }
   }
  },
  {
   "cell_type": "code",
   "execution_count": 218,
   "outputs": [
    {
     "data": {
      "text/plain": "0.8363453815261044"
     },
     "execution_count": 218,
     "metadata": {},
     "output_type": "execute_result"
    }
   ],
   "source": [
    "accuracy_score(test['Target'], preds)"
   ],
   "metadata": {
    "collapsed": false,
    "pycharm": {
     "name": "#%%\n"
    }
   }
  },
  {
   "cell_type": "code",
   "execution_count": 219,
   "outputs": [
    {
     "data": {
      "text/plain": "prediction     0     1\nactual                \n0           2099   391\n1            424  2066",
      "text/html": "<div>\n<style scoped>\n    .dataframe tbody tr th:only-of-type {\n        vertical-align: middle;\n    }\n\n    .dataframe tbody tr th {\n        vertical-align: top;\n    }\n\n    .dataframe thead th {\n        text-align: right;\n    }\n</style>\n<table border=\"1\" class=\"dataframe\">\n  <thead>\n    <tr style=\"text-align: right;\">\n      <th>prediction</th>\n      <th>0</th>\n      <th>1</th>\n    </tr>\n    <tr>\n      <th>actual</th>\n      <th></th>\n      <th></th>\n    </tr>\n  </thead>\n  <tbody>\n    <tr>\n      <th>0</th>\n      <td>2099</td>\n      <td>391</td>\n    </tr>\n    <tr>\n      <th>1</th>\n      <td>424</td>\n      <td>2066</td>\n    </tr>\n  </tbody>\n</table>\n</div>"
     },
     "execution_count": 219,
     "metadata": {},
     "output_type": "execute_result"
    }
   ],
   "source": [
    "combined = pd.DataFrame(dict(actual=test[\"Target\"], prediction=preds))\n",
    "pd.crosstab(index=combined[\"actual\"], columns=combined[\"prediction\"])"
   ],
   "metadata": {
    "collapsed": false,
    "pycharm": {
     "name": "#%%\n"
    }
   }
  },
  {
   "cell_type": "code",
   "execution_count": 220,
   "outputs": [
    {
     "data": {
      "text/plain": "0.8408628408628409"
     },
     "execution_count": 220,
     "metadata": {},
     "output_type": "execute_result"
    }
   ],
   "source": [
    "precision_score(test['Target'], preds)"
   ],
   "metadata": {
    "collapsed": false,
    "pycharm": {
     "name": "#%%\n"
    }
   }
  },
  {
   "cell_type": "code",
   "execution_count": 221,
   "outputs": [
    {
     "data": {
      "text/plain": "                          ReplayFingerPrint                   MapName  \\\n182    413218d8-6265-6879-cbe3-88f238a62497   Battlefield of Eternity   \n183    67bad1ef-b494-9c76-7ded-7954fa53b5af          Garden of Terror   \n228    9da0b59b-1a25-b9d6-2e5c-b0ace2694958          Infernal Shrines   \n362    16cfe951-a8d5-faf7-231f-439139599035            Towers of Doom   \n415    f991baaf-391f-cfd7-a026-fdf8711cae58          Volskaya Foundry   \n...                                     ...                       ...   \n46124  de2c91b0-0673-df55-5d6b-eedcd08b23c0          Garden of Terror   \n46163  e60d2f7a-2c03-5a0d-7646-5a441e159d45              Alterac Pass   \n46173  87ecd0ce-b451-dd31-4584-33ac9cdef013           Hanamura Temple   \n46240  cc4f9a46-f7fe-73af-d0a8-bc726d7f9072           Hanamura Temple   \n46299  6f8ff132-70e0-37a9-c78f-3cb3881ed582  Tomb of the Spider Queen   \n\n          GameType            GameDate GameLengthTimestamp          Battletag  \\\n182     QuickMatch 2022-03-01 02:15:28                1075   TheCaptain#12345   \n183     QuickMatch 2022-03-01 02:36:56                1074   TheCaptain#12345   \n228     QuickMatch 2022-03-23 23:43:22                1354   TheCaptain#12345   \n362    StormLeague 2022-05-08 21:10:28                1144   TheCaptain#12345   \n415     QuickMatch 2022-05-22 00:09:37                 916   TheCaptain#12345   \n...            ...                 ...                 ...                ...   \n46124  StormLeague 2022-07-01 19:33:35                1318   JUSTPEACHY#21982   \n46163   QuickMatch 2022-07-03 04:33:20                1408       BryGuy#11187   \n46173  StormLeague 2022-07-04 16:34:06                1186    VeganButch#1362   \n46240  StormLeague 2022-07-09 02:39:32                1049     Schmoejoe#1593   \n46299  StormLeague 2022-07-12 02:05:12                 997  AgitorLucens#1445   \n\n         HeroName NewRole  PlayerReplayId  ReplayId  ...  RegenGlobes  \\\n182    Brightwing  Healer           28748      2875  ...           14   \n183    Brightwing  Healer           28761      2877  ...           23   \n228    Brightwing  Healer           30341      3039  ...           26   \n362    Brightwing  Healer           32450      3250  ...           22   \n415    Brightwing  Healer           33009      3303  ...           15   \n...           ...     ...             ...       ...  ...          ...   \n46124  Brightwing  Healer           35401      3542  ...           27   \n46163  Brightwing  Healer           35418      3548  ...           33   \n46173  Brightwing  Healer           35508      3552  ...           15   \n46240  Brightwing  Healer           35714      3578  ...           40   \n46299  Brightwing  Healer           35975      3600  ...           30   \n\n       TimeonFire  BlizzardId  GameTypeCode  HeroRoleCode  MapCode  YearCode  \\\n182             0     9771889             1             1        1      2022   \n183             0     9771889             1             1        7      2022   \n228             0     9771889             1             1       10      2022   \n362             0     9771889             2             1       15      2022   \n415             0     9771889             1             1       16      2022   \n...           ...         ...           ...           ...      ...       ...   \n46124           0        None             2             1        7      2022   \n46163           0        None             1             1        0      2022   \n46173           0        None             2             1        8      2022   \n46240           0        None             2             1        8      2022   \n46299           0        None             2             1       14      2022   \n\n       MonthCode  DayCode  Target  \n182            3        1       0  \n183            3        1       1  \n228            3        2       0  \n362            5        6       1  \n415            5        6       0  \n...          ...      ...     ...  \n46124          7        4       0  \n46163          7        6       0  \n46173          7        0       0  \n46240          7        5       1  \n46299          7        1       1  \n\n[1355 rows x 64 columns]",
      "text/html": "<div>\n<style scoped>\n    .dataframe tbody tr th:only-of-type {\n        vertical-align: middle;\n    }\n\n    .dataframe tbody tr th {\n        vertical-align: top;\n    }\n\n    .dataframe thead th {\n        text-align: right;\n    }\n</style>\n<table border=\"1\" class=\"dataframe\">\n  <thead>\n    <tr style=\"text-align: right;\">\n      <th></th>\n      <th>ReplayFingerPrint</th>\n      <th>MapName</th>\n      <th>GameType</th>\n      <th>GameDate</th>\n      <th>GameLengthTimestamp</th>\n      <th>Battletag</th>\n      <th>HeroName</th>\n      <th>NewRole</th>\n      <th>PlayerReplayId</th>\n      <th>ReplayId</th>\n      <th>...</th>\n      <th>RegenGlobes</th>\n      <th>TimeonFire</th>\n      <th>BlizzardId</th>\n      <th>GameTypeCode</th>\n      <th>HeroRoleCode</th>\n      <th>MapCode</th>\n      <th>YearCode</th>\n      <th>MonthCode</th>\n      <th>DayCode</th>\n      <th>Target</th>\n    </tr>\n  </thead>\n  <tbody>\n    <tr>\n      <th>182</th>\n      <td>413218d8-6265-6879-cbe3-88f238a62497</td>\n      <td>Battlefield of Eternity</td>\n      <td>QuickMatch</td>\n      <td>2022-03-01 02:15:28</td>\n      <td>1075</td>\n      <td>TheCaptain#12345</td>\n      <td>Brightwing</td>\n      <td>Healer</td>\n      <td>28748</td>\n      <td>2875</td>\n      <td>...</td>\n      <td>14</td>\n      <td>0</td>\n      <td>9771889</td>\n      <td>1</td>\n      <td>1</td>\n      <td>1</td>\n      <td>2022</td>\n      <td>3</td>\n      <td>1</td>\n      <td>0</td>\n    </tr>\n    <tr>\n      <th>183</th>\n      <td>67bad1ef-b494-9c76-7ded-7954fa53b5af</td>\n      <td>Garden of Terror</td>\n      <td>QuickMatch</td>\n      <td>2022-03-01 02:36:56</td>\n      <td>1074</td>\n      <td>TheCaptain#12345</td>\n      <td>Brightwing</td>\n      <td>Healer</td>\n      <td>28761</td>\n      <td>2877</td>\n      <td>...</td>\n      <td>23</td>\n      <td>0</td>\n      <td>9771889</td>\n      <td>1</td>\n      <td>1</td>\n      <td>7</td>\n      <td>2022</td>\n      <td>3</td>\n      <td>1</td>\n      <td>1</td>\n    </tr>\n    <tr>\n      <th>228</th>\n      <td>9da0b59b-1a25-b9d6-2e5c-b0ace2694958</td>\n      <td>Infernal Shrines</td>\n      <td>QuickMatch</td>\n      <td>2022-03-23 23:43:22</td>\n      <td>1354</td>\n      <td>TheCaptain#12345</td>\n      <td>Brightwing</td>\n      <td>Healer</td>\n      <td>30341</td>\n      <td>3039</td>\n      <td>...</td>\n      <td>26</td>\n      <td>0</td>\n      <td>9771889</td>\n      <td>1</td>\n      <td>1</td>\n      <td>10</td>\n      <td>2022</td>\n      <td>3</td>\n      <td>2</td>\n      <td>0</td>\n    </tr>\n    <tr>\n      <th>362</th>\n      <td>16cfe951-a8d5-faf7-231f-439139599035</td>\n      <td>Towers of Doom</td>\n      <td>StormLeague</td>\n      <td>2022-05-08 21:10:28</td>\n      <td>1144</td>\n      <td>TheCaptain#12345</td>\n      <td>Brightwing</td>\n      <td>Healer</td>\n      <td>32450</td>\n      <td>3250</td>\n      <td>...</td>\n      <td>22</td>\n      <td>0</td>\n      <td>9771889</td>\n      <td>2</td>\n      <td>1</td>\n      <td>15</td>\n      <td>2022</td>\n      <td>5</td>\n      <td>6</td>\n      <td>1</td>\n    </tr>\n    <tr>\n      <th>415</th>\n      <td>f991baaf-391f-cfd7-a026-fdf8711cae58</td>\n      <td>Volskaya Foundry</td>\n      <td>QuickMatch</td>\n      <td>2022-05-22 00:09:37</td>\n      <td>916</td>\n      <td>TheCaptain#12345</td>\n      <td>Brightwing</td>\n      <td>Healer</td>\n      <td>33009</td>\n      <td>3303</td>\n      <td>...</td>\n      <td>15</td>\n      <td>0</td>\n      <td>9771889</td>\n      <td>1</td>\n      <td>1</td>\n      <td>16</td>\n      <td>2022</td>\n      <td>5</td>\n      <td>6</td>\n      <td>0</td>\n    </tr>\n    <tr>\n      <th>...</th>\n      <td>...</td>\n      <td>...</td>\n      <td>...</td>\n      <td>...</td>\n      <td>...</td>\n      <td>...</td>\n      <td>...</td>\n      <td>...</td>\n      <td>...</td>\n      <td>...</td>\n      <td>...</td>\n      <td>...</td>\n      <td>...</td>\n      <td>...</td>\n      <td>...</td>\n      <td>...</td>\n      <td>...</td>\n      <td>...</td>\n      <td>...</td>\n      <td>...</td>\n      <td>...</td>\n    </tr>\n    <tr>\n      <th>46124</th>\n      <td>de2c91b0-0673-df55-5d6b-eedcd08b23c0</td>\n      <td>Garden of Terror</td>\n      <td>StormLeague</td>\n      <td>2022-07-01 19:33:35</td>\n      <td>1318</td>\n      <td>JUSTPEACHY#21982</td>\n      <td>Brightwing</td>\n      <td>Healer</td>\n      <td>35401</td>\n      <td>3542</td>\n      <td>...</td>\n      <td>27</td>\n      <td>0</td>\n      <td>None</td>\n      <td>2</td>\n      <td>1</td>\n      <td>7</td>\n      <td>2022</td>\n      <td>7</td>\n      <td>4</td>\n      <td>0</td>\n    </tr>\n    <tr>\n      <th>46163</th>\n      <td>e60d2f7a-2c03-5a0d-7646-5a441e159d45</td>\n      <td>Alterac Pass</td>\n      <td>QuickMatch</td>\n      <td>2022-07-03 04:33:20</td>\n      <td>1408</td>\n      <td>BryGuy#11187</td>\n      <td>Brightwing</td>\n      <td>Healer</td>\n      <td>35418</td>\n      <td>3548</td>\n      <td>...</td>\n      <td>33</td>\n      <td>0</td>\n      <td>None</td>\n      <td>1</td>\n      <td>1</td>\n      <td>0</td>\n      <td>2022</td>\n      <td>7</td>\n      <td>6</td>\n      <td>0</td>\n    </tr>\n    <tr>\n      <th>46173</th>\n      <td>87ecd0ce-b451-dd31-4584-33ac9cdef013</td>\n      <td>Hanamura Temple</td>\n      <td>StormLeague</td>\n      <td>2022-07-04 16:34:06</td>\n      <td>1186</td>\n      <td>VeganButch#1362</td>\n      <td>Brightwing</td>\n      <td>Healer</td>\n      <td>35508</td>\n      <td>3552</td>\n      <td>...</td>\n      <td>15</td>\n      <td>0</td>\n      <td>None</td>\n      <td>2</td>\n      <td>1</td>\n      <td>8</td>\n      <td>2022</td>\n      <td>7</td>\n      <td>0</td>\n      <td>0</td>\n    </tr>\n    <tr>\n      <th>46240</th>\n      <td>cc4f9a46-f7fe-73af-d0a8-bc726d7f9072</td>\n      <td>Hanamura Temple</td>\n      <td>StormLeague</td>\n      <td>2022-07-09 02:39:32</td>\n      <td>1049</td>\n      <td>Schmoejoe#1593</td>\n      <td>Brightwing</td>\n      <td>Healer</td>\n      <td>35714</td>\n      <td>3578</td>\n      <td>...</td>\n      <td>40</td>\n      <td>0</td>\n      <td>None</td>\n      <td>2</td>\n      <td>1</td>\n      <td>8</td>\n      <td>2022</td>\n      <td>7</td>\n      <td>5</td>\n      <td>1</td>\n    </tr>\n    <tr>\n      <th>46299</th>\n      <td>6f8ff132-70e0-37a9-c78f-3cb3881ed582</td>\n      <td>Tomb of the Spider Queen</td>\n      <td>StormLeague</td>\n      <td>2022-07-12 02:05:12</td>\n      <td>997</td>\n      <td>AgitorLucens#1445</td>\n      <td>Brightwing</td>\n      <td>Healer</td>\n      <td>35975</td>\n      <td>3600</td>\n      <td>...</td>\n      <td>30</td>\n      <td>0</td>\n      <td>None</td>\n      <td>2</td>\n      <td>1</td>\n      <td>14</td>\n      <td>2022</td>\n      <td>7</td>\n      <td>1</td>\n      <td>1</td>\n    </tr>\n  </tbody>\n</table>\n<p>1355 rows × 64 columns</p>\n</div>"
     },
     "execution_count": 221,
     "metadata": {},
     "output_type": "execute_result"
    }
   ],
   "source": [
    "grouped_replays = df.groupby('HeroName')\n",
    "group = grouped_replays.get_group('Brightwing')\n",
    "group"
   ],
   "metadata": {
    "collapsed": false,
    "pycharm": {
     "name": "#%%\n"
    }
   }
  },
  {
   "cell_type": "code",
   "execution_count": 222,
   "outputs": [],
   "source": [
    "def rolling_averages(group, cols, new_cols):\n",
    "    group = group.sort_values(\"GameDate\")\n",
    "    rolling_stats = group[cols].rolling(3, closed='left').mean()\n",
    "    group[new_cols] = rolling_stats\n",
    "    group = group.dropna(subset=new_cols)\n",
    "    return group"
   ],
   "metadata": {
    "collapsed": false,
    "pycharm": {
     "name": "#%%\n"
    }
   }
  },
  {
   "cell_type": "code",
   "execution_count": 223,
   "outputs": [],
   "source": [
    "cols = [\n",
    "      'Kills', 'Assists', 'Takedowns', 'Deaths'\n",
    "    , 'Level', 'HighestKillStreak', 'HeroDamage'\n",
    "    , 'SiegeDamage', 'StructureDamage', 'MinionDamage', 'CreepDamage'\n",
    "    , 'SummonDamage', 'TimeCcEnemyHeroes', 'Healing', 'SelfHealing'\n",
    "    , 'DamageTaken', 'ExperienceContribution', 'TownKills', 'TimeSpentDead'\n",
    "    , 'MercCampCaptures', 'WatchTowerCaptures', 'MetaExperience'\n",
    "    , 'ProtectionAllies', 'SilencingEnemies', 'RootingEnemies'\n",
    "    , 'StunningEnemies', 'ClutchHeals', 'Escapes', 'Vengeance'\n",
    "    , 'OutnumberedDeaths', 'TeamfightEscapes', 'TeamfightHealing'\n",
    "    , 'TeamfightDamageTaken', 'TeamfightHeroDamage', 'Multikill'\n",
    "    , 'PhysicalDamage', 'SpellDamage', 'RegenGlobes'\n",
    "    , 'GameLengthTimestamp'\n",
    "]\n",
    "\n",
    "new_cols = [f'{c}_Rolling' for c in cols]"
   ],
   "metadata": {
    "collapsed": false,
    "pycharm": {
     "name": "#%%\n"
    }
   }
  },
  {
   "cell_type": "code",
   "execution_count": 224,
   "outputs": [
    {
     "data": {
      "text/plain": "                          ReplayFingerPrint                   MapName  \\\n35698  13a6f929-7e11-ba9c-0fcd-ba8ef5f9401c            Braxis Holdout   \n15830  1aa5db0e-445e-dab0-7fec-f27bf28c0c6e              Dragon Shire   \n20151  507c5cb5-4703-a505-c5d7-550417e0a287            Braxis Holdout   \n14283  05ecd383-ff1d-ea03-4466-2dad06785339          Garden of Terror   \n35128  6a47d35f-0e9e-bbda-b384-1eca311188c5                Sky Temple   \n...                                     ...                       ...   \n9823   cd68b9b1-d17b-f562-2985-74eaadbe4a19            Towers of Doom   \n1212   d2d80b91-a899-b2ea-fc0a-1d4cf22e82c0  Tomb of the Spider Queen   \n1213   279042a7-9209-4142-2b08-40ded654557c              Alterac Pass   \n687    83d5467f-21e9-5602-6769-bc303a2ab540  Tomb of the Spider Queen   \n1800   268ea7af-7a1d-c6cf-0830-830e886c6d17           Hanamura Temple   \n\n          GameType            GameDate GameLengthTimestamp          Battletag  \\\n35698  StormLeague 2022-01-01 01:15:15                 935  TwiztdPnguin#1549   \n15830   QuickMatch 2022-01-01 01:27:37                1395       Urayami#1552   \n20151  StormLeague 2022-01-01 01:30:11                1420    UrbanPunk#11242   \n14283  StormLeague 2022-01-01 01:53:30                 962           Jep#1749   \n35128   QuickMatch 2022-01-01 02:34:08                 806   soccerboy54#1695   \n...            ...                 ...                 ...                ...   \n9823   StormLeague 2022-07-16 22:22:55                1037      JohnnyKA#1258   \n1212    QuickMatch 2022-07-16 22:56:07                1308  BornToShine#11556   \n1213    QuickMatch 2022-07-16 23:26:43                1686  BornToShine#11556   \n687    StormLeague 2022-07-19 00:05:17                1306   TheCaptain#12345   \n1800   StormLeague 2022-07-19 00:49:02                 870  BornToShine#11556   \n\n         HeroName NewRole  PlayerReplayId  ReplayId  ...  \\\n35698  Brightwing  Healer          113055     11307  ...   \n15830  Brightwing  Healer          110931     11097  ...   \n20151  Brightwing  Healer          111686     11169  ...   \n14283  Brightwing  Healer          111710     11173  ...   \n35128  Brightwing  Healer          110955     11099  ...   \n...           ...     ...             ...       ...  ...   \n9823   Brightwing  Healer           36106      3614  ...   \n1212   Brightwing  Healer           36078      3611  ...   \n1213   Brightwing  Healer           36074      3608  ...   \n687    Brightwing  Healer          153085     15310  ...   \n1800   Brightwing  Healer          153104     15312  ...   \n\n       OutnumberedDeaths_Rolling  TeamfightEscapes_Rolling  \\\n35698                   1.333333                       0.0   \n15830                   0.666667                       0.0   \n20151                   0.333333                       0.0   \n14283                   0.666667                       0.0   \n35128                   0.666667                       0.0   \n...                          ...                       ...   \n9823                    0.333333                       0.0   \n1212                    0.333333                       0.0   \n1213                    0.333333                       0.0   \n687                     0.000000                       0.0   \n1800                    0.333333                       0.0   \n\n       TeamfightHealing_Rolling  TeamfightDamageTaken_Rolling  \\\n35698                       0.0                  27839.333333   \n15830                       0.0                  21036.666667   \n20151                       0.0                  31868.666667   \n14283                       0.0                  24107.000000   \n35128                       0.0                  25079.666667   \n...                         ...                           ...   \n9823                        0.0                  14611.666667   \n1212                        0.0                  19939.666667   \n1213                        0.0                  22852.666667   \n687                         0.0                  22215.333333   \n1800                        0.0                  22057.333333   \n\n       TeamfightHeroDamage_Rolling  Multikill_Rolling  PhysicalDamage_Rolling  \\\n35698                  9112.333333           1.333333            25196.333333   \n15830                  8398.666667           1.333333            24676.333333   \n20151                 10879.000000           1.000000            30869.000000   \n14283                  9824.000000           1.000000            26348.000000   \n35128                  9967.333333           1.666667            25636.000000   \n...                            ...                ...                     ...   \n9823                   5211.000000           2.000000            29663.000000   \n1212                   5688.333333           1.333333            23373.333333   \n1213                   5998.666667           2.333333            25526.333333   \n687                    6532.000000           3.666667            34633.000000   \n1800                   5118.333333           3.333333            38627.666667   \n\n       SpellDamage_Rolling  RegenGlobes_Rolling  GameLengthTimestamp_Rolling  \n35698         22710.000000            21.666667                  1167.666667  \n15830         24388.000000            22.666667                  1084.333333  \n20151         27699.333333            30.666667                  1339.666667  \n14283         22025.666667            24.333333                  1250.000000  \n35128         24063.333333            22.333333                  1259.000000  \n...                    ...                  ...                          ...  \n9823          27114.000000            32.666667                  1208.000000  \n1212          27449.000000            28.000000                  1207.000000  \n1213          29567.000000            30.000000                  1266.333333  \n687           39178.333333            31.333333                  1343.666667  \n1800          36304.666667            36.333333                  1433.333333  \n\n[1352 rows x 103 columns]",
      "text/html": "<div>\n<style scoped>\n    .dataframe tbody tr th:only-of-type {\n        vertical-align: middle;\n    }\n\n    .dataframe tbody tr th {\n        vertical-align: top;\n    }\n\n    .dataframe thead th {\n        text-align: right;\n    }\n</style>\n<table border=\"1\" class=\"dataframe\">\n  <thead>\n    <tr style=\"text-align: right;\">\n      <th></th>\n      <th>ReplayFingerPrint</th>\n      <th>MapName</th>\n      <th>GameType</th>\n      <th>GameDate</th>\n      <th>GameLengthTimestamp</th>\n      <th>Battletag</th>\n      <th>HeroName</th>\n      <th>NewRole</th>\n      <th>PlayerReplayId</th>\n      <th>ReplayId</th>\n      <th>...</th>\n      <th>OutnumberedDeaths_Rolling</th>\n      <th>TeamfightEscapes_Rolling</th>\n      <th>TeamfightHealing_Rolling</th>\n      <th>TeamfightDamageTaken_Rolling</th>\n      <th>TeamfightHeroDamage_Rolling</th>\n      <th>Multikill_Rolling</th>\n      <th>PhysicalDamage_Rolling</th>\n      <th>SpellDamage_Rolling</th>\n      <th>RegenGlobes_Rolling</th>\n      <th>GameLengthTimestamp_Rolling</th>\n    </tr>\n  </thead>\n  <tbody>\n    <tr>\n      <th>35698</th>\n      <td>13a6f929-7e11-ba9c-0fcd-ba8ef5f9401c</td>\n      <td>Braxis Holdout</td>\n      <td>StormLeague</td>\n      <td>2022-01-01 01:15:15</td>\n      <td>935</td>\n      <td>TwiztdPnguin#1549</td>\n      <td>Brightwing</td>\n      <td>Healer</td>\n      <td>113055</td>\n      <td>11307</td>\n      <td>...</td>\n      <td>1.333333</td>\n      <td>0.0</td>\n      <td>0.0</td>\n      <td>27839.333333</td>\n      <td>9112.333333</td>\n      <td>1.333333</td>\n      <td>25196.333333</td>\n      <td>22710.000000</td>\n      <td>21.666667</td>\n      <td>1167.666667</td>\n    </tr>\n    <tr>\n      <th>15830</th>\n      <td>1aa5db0e-445e-dab0-7fec-f27bf28c0c6e</td>\n      <td>Dragon Shire</td>\n      <td>QuickMatch</td>\n      <td>2022-01-01 01:27:37</td>\n      <td>1395</td>\n      <td>Urayami#1552</td>\n      <td>Brightwing</td>\n      <td>Healer</td>\n      <td>110931</td>\n      <td>11097</td>\n      <td>...</td>\n      <td>0.666667</td>\n      <td>0.0</td>\n      <td>0.0</td>\n      <td>21036.666667</td>\n      <td>8398.666667</td>\n      <td>1.333333</td>\n      <td>24676.333333</td>\n      <td>24388.000000</td>\n      <td>22.666667</td>\n      <td>1084.333333</td>\n    </tr>\n    <tr>\n      <th>20151</th>\n      <td>507c5cb5-4703-a505-c5d7-550417e0a287</td>\n      <td>Braxis Holdout</td>\n      <td>StormLeague</td>\n      <td>2022-01-01 01:30:11</td>\n      <td>1420</td>\n      <td>UrbanPunk#11242</td>\n      <td>Brightwing</td>\n      <td>Healer</td>\n      <td>111686</td>\n      <td>11169</td>\n      <td>...</td>\n      <td>0.333333</td>\n      <td>0.0</td>\n      <td>0.0</td>\n      <td>31868.666667</td>\n      <td>10879.000000</td>\n      <td>1.000000</td>\n      <td>30869.000000</td>\n      <td>27699.333333</td>\n      <td>30.666667</td>\n      <td>1339.666667</td>\n    </tr>\n    <tr>\n      <th>14283</th>\n      <td>05ecd383-ff1d-ea03-4466-2dad06785339</td>\n      <td>Garden of Terror</td>\n      <td>StormLeague</td>\n      <td>2022-01-01 01:53:30</td>\n      <td>962</td>\n      <td>Jep#1749</td>\n      <td>Brightwing</td>\n      <td>Healer</td>\n      <td>111710</td>\n      <td>11173</td>\n      <td>...</td>\n      <td>0.666667</td>\n      <td>0.0</td>\n      <td>0.0</td>\n      <td>24107.000000</td>\n      <td>9824.000000</td>\n      <td>1.000000</td>\n      <td>26348.000000</td>\n      <td>22025.666667</td>\n      <td>24.333333</td>\n      <td>1250.000000</td>\n    </tr>\n    <tr>\n      <th>35128</th>\n      <td>6a47d35f-0e9e-bbda-b384-1eca311188c5</td>\n      <td>Sky Temple</td>\n      <td>QuickMatch</td>\n      <td>2022-01-01 02:34:08</td>\n      <td>806</td>\n      <td>soccerboy54#1695</td>\n      <td>Brightwing</td>\n      <td>Healer</td>\n      <td>110955</td>\n      <td>11099</td>\n      <td>...</td>\n      <td>0.666667</td>\n      <td>0.0</td>\n      <td>0.0</td>\n      <td>25079.666667</td>\n      <td>9967.333333</td>\n      <td>1.666667</td>\n      <td>25636.000000</td>\n      <td>24063.333333</td>\n      <td>22.333333</td>\n      <td>1259.000000</td>\n    </tr>\n    <tr>\n      <th>...</th>\n      <td>...</td>\n      <td>...</td>\n      <td>...</td>\n      <td>...</td>\n      <td>...</td>\n      <td>...</td>\n      <td>...</td>\n      <td>...</td>\n      <td>...</td>\n      <td>...</td>\n      <td>...</td>\n      <td>...</td>\n      <td>...</td>\n      <td>...</td>\n      <td>...</td>\n      <td>...</td>\n      <td>...</td>\n      <td>...</td>\n      <td>...</td>\n      <td>...</td>\n      <td>...</td>\n    </tr>\n    <tr>\n      <th>9823</th>\n      <td>cd68b9b1-d17b-f562-2985-74eaadbe4a19</td>\n      <td>Towers of Doom</td>\n      <td>StormLeague</td>\n      <td>2022-07-16 22:22:55</td>\n      <td>1037</td>\n      <td>JohnnyKA#1258</td>\n      <td>Brightwing</td>\n      <td>Healer</td>\n      <td>36106</td>\n      <td>3614</td>\n      <td>...</td>\n      <td>0.333333</td>\n      <td>0.0</td>\n      <td>0.0</td>\n      <td>14611.666667</td>\n      <td>5211.000000</td>\n      <td>2.000000</td>\n      <td>29663.000000</td>\n      <td>27114.000000</td>\n      <td>32.666667</td>\n      <td>1208.000000</td>\n    </tr>\n    <tr>\n      <th>1212</th>\n      <td>d2d80b91-a899-b2ea-fc0a-1d4cf22e82c0</td>\n      <td>Tomb of the Spider Queen</td>\n      <td>QuickMatch</td>\n      <td>2022-07-16 22:56:07</td>\n      <td>1308</td>\n      <td>BornToShine#11556</td>\n      <td>Brightwing</td>\n      <td>Healer</td>\n      <td>36078</td>\n      <td>3611</td>\n      <td>...</td>\n      <td>0.333333</td>\n      <td>0.0</td>\n      <td>0.0</td>\n      <td>19939.666667</td>\n      <td>5688.333333</td>\n      <td>1.333333</td>\n      <td>23373.333333</td>\n      <td>27449.000000</td>\n      <td>28.000000</td>\n      <td>1207.000000</td>\n    </tr>\n    <tr>\n      <th>1213</th>\n      <td>279042a7-9209-4142-2b08-40ded654557c</td>\n      <td>Alterac Pass</td>\n      <td>QuickMatch</td>\n      <td>2022-07-16 23:26:43</td>\n      <td>1686</td>\n      <td>BornToShine#11556</td>\n      <td>Brightwing</td>\n      <td>Healer</td>\n      <td>36074</td>\n      <td>3608</td>\n      <td>...</td>\n      <td>0.333333</td>\n      <td>0.0</td>\n      <td>0.0</td>\n      <td>22852.666667</td>\n      <td>5998.666667</td>\n      <td>2.333333</td>\n      <td>25526.333333</td>\n      <td>29567.000000</td>\n      <td>30.000000</td>\n      <td>1266.333333</td>\n    </tr>\n    <tr>\n      <th>687</th>\n      <td>83d5467f-21e9-5602-6769-bc303a2ab540</td>\n      <td>Tomb of the Spider Queen</td>\n      <td>StormLeague</td>\n      <td>2022-07-19 00:05:17</td>\n      <td>1306</td>\n      <td>TheCaptain#12345</td>\n      <td>Brightwing</td>\n      <td>Healer</td>\n      <td>153085</td>\n      <td>15310</td>\n      <td>...</td>\n      <td>0.000000</td>\n      <td>0.0</td>\n      <td>0.0</td>\n      <td>22215.333333</td>\n      <td>6532.000000</td>\n      <td>3.666667</td>\n      <td>34633.000000</td>\n      <td>39178.333333</td>\n      <td>31.333333</td>\n      <td>1343.666667</td>\n    </tr>\n    <tr>\n      <th>1800</th>\n      <td>268ea7af-7a1d-c6cf-0830-830e886c6d17</td>\n      <td>Hanamura Temple</td>\n      <td>StormLeague</td>\n      <td>2022-07-19 00:49:02</td>\n      <td>870</td>\n      <td>BornToShine#11556</td>\n      <td>Brightwing</td>\n      <td>Healer</td>\n      <td>153104</td>\n      <td>15312</td>\n      <td>...</td>\n      <td>0.333333</td>\n      <td>0.0</td>\n      <td>0.0</td>\n      <td>22057.333333</td>\n      <td>5118.333333</td>\n      <td>3.333333</td>\n      <td>38627.666667</td>\n      <td>36304.666667</td>\n      <td>36.333333</td>\n      <td>1433.333333</td>\n    </tr>\n  </tbody>\n</table>\n<p>1352 rows × 103 columns</p>\n</div>"
     },
     "execution_count": 224,
     "metadata": {},
     "output_type": "execute_result"
    }
   ],
   "source": [
    "rolling_averages(group, cols, new_cols)"
   ],
   "metadata": {
    "collapsed": false,
    "pycharm": {
     "name": "#%%\n"
    }
   }
  },
  {
   "cell_type": "code",
   "execution_count": 225,
   "outputs": [
    {
     "data": {
      "text/plain": "                          ReplayFingerPrint           MapName     GameType  \\\n0      21f63581-b65b-87aa-b7eb-14bc6e942264    Braxis Holdout   QuickMatch   \n1      9d10d401-1c7d-9f46-dbcb-c450114bdcbc  Blackheart's Bay   QuickMatch   \n2      0b6ee2e9-8957-cb85-0bf3-d82bd0e0d70a      Dragon Shire   QuickMatch   \n3      e1c9b5db-fe03-0538-002e-d2be6b2f9f50     Cursed Hollow  StormLeague   \n4      627b3c61-ac85-fbef-22f3-8a150ffbb812    Towers of Doom  StormLeague   \n...                                     ...               ...          ...   \n46255  165e833f-5360-4fe3-0299-30bcd5d767ff  Garden of Terror  StormLeague   \n46256  59ee9da7-21e7-2f39-334e-f3e8fbf408b3   Hanamura Temple  StormLeague   \n46257  a8a47d86-7dfb-e78b-05dd-e1af71dffc7f      Alterac Pass  StormLeague   \n46258  cb460655-9cd7-05db-9ae1-609c6003f446  Garden of Terror   QuickMatch   \n46259  268ea7af-7a1d-c6cf-0830-830e886c6d17   Hanamura Temple  StormLeague   \n\n                 GameDate GameLengthTimestamp       Battletag HeroName  \\\n0     2022-01-01 05:29:34                1268     Grimas#1740  Abathur   \n1     2022-01-01 06:02:33                1057    Spader#11430  Abathur   \n2     2022-01-01 06:24:01                1030    soakplz#1213  Abathur   \n3     2022-01-01 07:18:08                1193   Dunkerz#21913  Abathur   \n4     2022-01-01 19:47:10                1504  ledzep154#1772  Abathur   \n...                   ...                 ...             ...      ...   \n46255 2022-07-12 00:44:24                1648     Rells#11356  Zul'jin   \n46256 2022-07-12 01:40:30                1201   Hamflaps#1789  Zul'jin   \n46257 2022-07-16 21:59:19                1201    SubZero#1577  Zul'jin   \n46258 2022-07-17 00:20:27                1349   cgsdeath#1660  Zul'jin   \n46259 2022-07-19 00:49:02                 870    SubZero#1577  Zul'jin   \n\n               NewRole  PlayerReplayId  ReplayId  ...  \\\n0              Support          111103     11112  ...   \n1              Support          113301     11332  ...   \n2              Support          111184     11118  ...   \n3              Support          126376     12643  ...   \n4              Support          133771     13374  ...   \n...                ...             ...       ...  ...   \n46255  Ranged Assassin           35990      3595  ...   \n46256  Ranged Assassin           35993      3596  ...   \n46257  Ranged Assassin           36116      3607  ...   \n46258  Ranged Assassin           36219      3621  ...   \n46259  Ranged Assassin          153106     15312  ...   \n\n       OutnumberedDeaths_Rolling  TeamfightEscapes_Rolling  \\\n0                       0.333333                       0.0   \n1                       0.333333                       0.0   \n2                       0.000000                       0.0   \n3                       0.333333                       0.0   \n4                       0.333333                       0.0   \n...                          ...                       ...   \n46255                   2.666667                       0.0   \n46256                   1.333333                       0.0   \n46257                   2.000000                       0.0   \n46258                   2.000000                       0.0   \n46259                   2.000000                       0.0   \n\n       TeamfightHealing_Rolling  TeamfightDamageTaken_Rolling  \\\n0                           0.0                    417.000000   \n1                           0.0                    417.000000   \n2                           0.0                      0.000000   \n3                           0.0                    127.333333   \n4                           0.0                    127.333333   \n...                         ...                           ...   \n46255                       0.0                  27535.000000   \n46256                       0.0                  30780.333333   \n46257                       0.0                  31963.000000   \n46258                       0.0                  35488.333333   \n46259                       0.0                  28584.333333   \n\n       TeamfightHeroDamage_Rolling  Multikill_Rolling  PhysicalDamage_Rolling  \\\n0                        57.333333           0.666667                0.000000   \n1                        57.333333           2.000000             1833.333333   \n2                         0.000000           3.000000             4218.333333   \n3                         0.000000           2.666667             4706.333333   \n4                         0.000000           3.000000             7848.000000   \n...                            ...                ...                     ...   \n46255                 40955.333333           1.666667           115959.666667   \n46256                 53724.666667           2.000000           132370.666667   \n46257                 47825.000000           1.666667           106089.666667   \n46258                 44132.000000           1.666667            93267.666667   \n46259                 33348.666667           2.333333            92279.333333   \n\n       SpellDamage_Rolling  RegenGlobes_Rolling  GameLengthTimestamp_Rolling  \n0            145801.000000             1.666667                  1176.333333  \n1            148729.000000             1.333333                  1320.333333  \n2            141368.666667             2.000000                  1269.666667  \n3            114910.333333             3.000000                  1118.333333  \n4            117247.000000             4.333333                  1093.333333  \n...                    ...                  ...                          ...  \n46255        105165.666667            26.333333                  1422.666667  \n46256        138339.333333            33.333333                  1566.666667  \n46257         99021.333333            29.666667                  1391.000000  \n46258         81173.333333            26.000000                  1350.000000  \n46259         62302.333333            26.000000                  1250.333333  \n\n[46260 rows x 103 columns]",
      "text/html": "<div>\n<style scoped>\n    .dataframe tbody tr th:only-of-type {\n        vertical-align: middle;\n    }\n\n    .dataframe tbody tr th {\n        vertical-align: top;\n    }\n\n    .dataframe thead th {\n        text-align: right;\n    }\n</style>\n<table border=\"1\" class=\"dataframe\">\n  <thead>\n    <tr style=\"text-align: right;\">\n      <th></th>\n      <th>ReplayFingerPrint</th>\n      <th>MapName</th>\n      <th>GameType</th>\n      <th>GameDate</th>\n      <th>GameLengthTimestamp</th>\n      <th>Battletag</th>\n      <th>HeroName</th>\n      <th>NewRole</th>\n      <th>PlayerReplayId</th>\n      <th>ReplayId</th>\n      <th>...</th>\n      <th>OutnumberedDeaths_Rolling</th>\n      <th>TeamfightEscapes_Rolling</th>\n      <th>TeamfightHealing_Rolling</th>\n      <th>TeamfightDamageTaken_Rolling</th>\n      <th>TeamfightHeroDamage_Rolling</th>\n      <th>Multikill_Rolling</th>\n      <th>PhysicalDamage_Rolling</th>\n      <th>SpellDamage_Rolling</th>\n      <th>RegenGlobes_Rolling</th>\n      <th>GameLengthTimestamp_Rolling</th>\n    </tr>\n  </thead>\n  <tbody>\n    <tr>\n      <th>0</th>\n      <td>21f63581-b65b-87aa-b7eb-14bc6e942264</td>\n      <td>Braxis Holdout</td>\n      <td>QuickMatch</td>\n      <td>2022-01-01 05:29:34</td>\n      <td>1268</td>\n      <td>Grimas#1740</td>\n      <td>Abathur</td>\n      <td>Support</td>\n      <td>111103</td>\n      <td>11112</td>\n      <td>...</td>\n      <td>0.333333</td>\n      <td>0.0</td>\n      <td>0.0</td>\n      <td>417.000000</td>\n      <td>57.333333</td>\n      <td>0.666667</td>\n      <td>0.000000</td>\n      <td>145801.000000</td>\n      <td>1.666667</td>\n      <td>1176.333333</td>\n    </tr>\n    <tr>\n      <th>1</th>\n      <td>9d10d401-1c7d-9f46-dbcb-c450114bdcbc</td>\n      <td>Blackheart's Bay</td>\n      <td>QuickMatch</td>\n      <td>2022-01-01 06:02:33</td>\n      <td>1057</td>\n      <td>Spader#11430</td>\n      <td>Abathur</td>\n      <td>Support</td>\n      <td>113301</td>\n      <td>11332</td>\n      <td>...</td>\n      <td>0.333333</td>\n      <td>0.0</td>\n      <td>0.0</td>\n      <td>417.000000</td>\n      <td>57.333333</td>\n      <td>2.000000</td>\n      <td>1833.333333</td>\n      <td>148729.000000</td>\n      <td>1.333333</td>\n      <td>1320.333333</td>\n    </tr>\n    <tr>\n      <th>2</th>\n      <td>0b6ee2e9-8957-cb85-0bf3-d82bd0e0d70a</td>\n      <td>Dragon Shire</td>\n      <td>QuickMatch</td>\n      <td>2022-01-01 06:24:01</td>\n      <td>1030</td>\n      <td>soakplz#1213</td>\n      <td>Abathur</td>\n      <td>Support</td>\n      <td>111184</td>\n      <td>11118</td>\n      <td>...</td>\n      <td>0.000000</td>\n      <td>0.0</td>\n      <td>0.0</td>\n      <td>0.000000</td>\n      <td>0.000000</td>\n      <td>3.000000</td>\n      <td>4218.333333</td>\n      <td>141368.666667</td>\n      <td>2.000000</td>\n      <td>1269.666667</td>\n    </tr>\n    <tr>\n      <th>3</th>\n      <td>e1c9b5db-fe03-0538-002e-d2be6b2f9f50</td>\n      <td>Cursed Hollow</td>\n      <td>StormLeague</td>\n      <td>2022-01-01 07:18:08</td>\n      <td>1193</td>\n      <td>Dunkerz#21913</td>\n      <td>Abathur</td>\n      <td>Support</td>\n      <td>126376</td>\n      <td>12643</td>\n      <td>...</td>\n      <td>0.333333</td>\n      <td>0.0</td>\n      <td>0.0</td>\n      <td>127.333333</td>\n      <td>0.000000</td>\n      <td>2.666667</td>\n      <td>4706.333333</td>\n      <td>114910.333333</td>\n      <td>3.000000</td>\n      <td>1118.333333</td>\n    </tr>\n    <tr>\n      <th>4</th>\n      <td>627b3c61-ac85-fbef-22f3-8a150ffbb812</td>\n      <td>Towers of Doom</td>\n      <td>StormLeague</td>\n      <td>2022-01-01 19:47:10</td>\n      <td>1504</td>\n      <td>ledzep154#1772</td>\n      <td>Abathur</td>\n      <td>Support</td>\n      <td>133771</td>\n      <td>13374</td>\n      <td>...</td>\n      <td>0.333333</td>\n      <td>0.0</td>\n      <td>0.0</td>\n      <td>127.333333</td>\n      <td>0.000000</td>\n      <td>3.000000</td>\n      <td>7848.000000</td>\n      <td>117247.000000</td>\n      <td>4.333333</td>\n      <td>1093.333333</td>\n    </tr>\n    <tr>\n      <th>...</th>\n      <td>...</td>\n      <td>...</td>\n      <td>...</td>\n      <td>...</td>\n      <td>...</td>\n      <td>...</td>\n      <td>...</td>\n      <td>...</td>\n      <td>...</td>\n      <td>...</td>\n      <td>...</td>\n      <td>...</td>\n      <td>...</td>\n      <td>...</td>\n      <td>...</td>\n      <td>...</td>\n      <td>...</td>\n      <td>...</td>\n      <td>...</td>\n      <td>...</td>\n      <td>...</td>\n    </tr>\n    <tr>\n      <th>46255</th>\n      <td>165e833f-5360-4fe3-0299-30bcd5d767ff</td>\n      <td>Garden of Terror</td>\n      <td>StormLeague</td>\n      <td>2022-07-12 00:44:24</td>\n      <td>1648</td>\n      <td>Rells#11356</td>\n      <td>Zul'jin</td>\n      <td>Ranged Assassin</td>\n      <td>35990</td>\n      <td>3595</td>\n      <td>...</td>\n      <td>2.666667</td>\n      <td>0.0</td>\n      <td>0.0</td>\n      <td>27535.000000</td>\n      <td>40955.333333</td>\n      <td>1.666667</td>\n      <td>115959.666667</td>\n      <td>105165.666667</td>\n      <td>26.333333</td>\n      <td>1422.666667</td>\n    </tr>\n    <tr>\n      <th>46256</th>\n      <td>59ee9da7-21e7-2f39-334e-f3e8fbf408b3</td>\n      <td>Hanamura Temple</td>\n      <td>StormLeague</td>\n      <td>2022-07-12 01:40:30</td>\n      <td>1201</td>\n      <td>Hamflaps#1789</td>\n      <td>Zul'jin</td>\n      <td>Ranged Assassin</td>\n      <td>35993</td>\n      <td>3596</td>\n      <td>...</td>\n      <td>1.333333</td>\n      <td>0.0</td>\n      <td>0.0</td>\n      <td>30780.333333</td>\n      <td>53724.666667</td>\n      <td>2.000000</td>\n      <td>132370.666667</td>\n      <td>138339.333333</td>\n      <td>33.333333</td>\n      <td>1566.666667</td>\n    </tr>\n    <tr>\n      <th>46257</th>\n      <td>a8a47d86-7dfb-e78b-05dd-e1af71dffc7f</td>\n      <td>Alterac Pass</td>\n      <td>StormLeague</td>\n      <td>2022-07-16 21:59:19</td>\n      <td>1201</td>\n      <td>SubZero#1577</td>\n      <td>Zul'jin</td>\n      <td>Ranged Assassin</td>\n      <td>36116</td>\n      <td>3607</td>\n      <td>...</td>\n      <td>2.000000</td>\n      <td>0.0</td>\n      <td>0.0</td>\n      <td>31963.000000</td>\n      <td>47825.000000</td>\n      <td>1.666667</td>\n      <td>106089.666667</td>\n      <td>99021.333333</td>\n      <td>29.666667</td>\n      <td>1391.000000</td>\n    </tr>\n    <tr>\n      <th>46258</th>\n      <td>cb460655-9cd7-05db-9ae1-609c6003f446</td>\n      <td>Garden of Terror</td>\n      <td>QuickMatch</td>\n      <td>2022-07-17 00:20:27</td>\n      <td>1349</td>\n      <td>cgsdeath#1660</td>\n      <td>Zul'jin</td>\n      <td>Ranged Assassin</td>\n      <td>36219</td>\n      <td>3621</td>\n      <td>...</td>\n      <td>2.000000</td>\n      <td>0.0</td>\n      <td>0.0</td>\n      <td>35488.333333</td>\n      <td>44132.000000</td>\n      <td>1.666667</td>\n      <td>93267.666667</td>\n      <td>81173.333333</td>\n      <td>26.000000</td>\n      <td>1350.000000</td>\n    </tr>\n    <tr>\n      <th>46259</th>\n      <td>268ea7af-7a1d-c6cf-0830-830e886c6d17</td>\n      <td>Hanamura Temple</td>\n      <td>StormLeague</td>\n      <td>2022-07-19 00:49:02</td>\n      <td>870</td>\n      <td>SubZero#1577</td>\n      <td>Zul'jin</td>\n      <td>Ranged Assassin</td>\n      <td>153106</td>\n      <td>15312</td>\n      <td>...</td>\n      <td>2.000000</td>\n      <td>0.0</td>\n      <td>0.0</td>\n      <td>28584.333333</td>\n      <td>33348.666667</td>\n      <td>2.333333</td>\n      <td>92279.333333</td>\n      <td>62302.333333</td>\n      <td>26.000000</td>\n      <td>1250.333333</td>\n    </tr>\n  </tbody>\n</table>\n<p>46260 rows × 103 columns</p>\n</div>"
     },
     "execution_count": 225,
     "metadata": {},
     "output_type": "execute_result"
    }
   ],
   "source": [
    "replay_rolling = df.groupby('HeroName').apply(lambda x: rolling_averages(x, cols, new_cols)).droplevel('HeroName')\n",
    "replay_rolling.index = range(replay_rolling.shape[0]) # Gives unique values for each row in the index.\n",
    "replay_rolling"
   ],
   "metadata": {
    "collapsed": false,
    "pycharm": {
     "name": "#%%\n"
    }
   }
  },
  {
   "cell_type": "code",
   "execution_count": 226,
   "outputs": [],
   "source": [
    "def make_predictions(data, predictors, rand_f):\n",
    "    train = data[data.GameDate < '2022-05-01']\n",
    "    test = data[data.GameDate >= '2022-05-01']\n",
    "    rand_f.fit(train[predictors], train[\"Target\"])\n",
    "    preds = rf.predict(test[predictors])\n",
    "    combined = pd.DataFrame(dict(actual=test[\"Target\"], prediction=preds), index=test.index)\n",
    "    precision = precision_score(test['Target'], preds)\n",
    "    return combined, precision"
   ],
   "metadata": {
    "collapsed": false,
    "pycharm": {
     "name": "#%%\n"
    }
   }
  },
  {
   "cell_type": "code",
   "execution_count": 227,
   "outputs": [
    {
     "name": "stderr",
     "output_type": "stream",
     "text": [
      "c:\\source\\innovation\\insight\\lookingglass_playground\\venv\\lib\\site-packages\\sklearn\\utils\\validation.py:1858: FutureWarning: Feature names only support names that are all strings. Got feature names with dtypes: ['quoted_name', 'str']. An error will be raised in 1.2.\n",
      "  warnings.warn(\n",
      "c:\\source\\innovation\\insight\\lookingglass_playground\\venv\\lib\\site-packages\\sklearn\\utils\\validation.py:1858: FutureWarning: Feature names only support names that are all strings. Got feature names with dtypes: ['quoted_name', 'str']. An error will be raised in 1.2.\n",
      "  warnings.warn(\n",
      "c:\\source\\innovation\\insight\\lookingglass_playground\\venv\\lib\\site-packages\\sklearn\\utils\\validation.py:1858: FutureWarning: Feature names only support names that are all strings. Got feature names with dtypes: ['quoted_name', 'str']. An error will be raised in 1.2.\n",
      "  warnings.warn(\n"
     ]
    },
    {
     "data": {
      "text/plain": "0.8411251980982567"
     },
     "execution_count": 227,
     "metadata": {},
     "output_type": "execute_result"
    }
   ],
   "source": [
    "predictors = [\n",
    "    'HeroId', 'MapCode', 'GameTypeCode', 'HeroRoleCode', 'GameLengthTimestamp'\n",
    "    , 'HeroLevel', 'Kills', 'Assists', 'Deaths'\n",
    "    , 'ExperienceContribution', 'FirstToTen', 'Level', 'HeroDamage', 'Healing'\n",
    "    , 'Takedowns', 'DayCode', 'SelfHealing', 'DamageTaken', 'TimeSpentDead'\n",
    "]\n",
    "\n",
    "cols = [\n",
    "      'Kills', 'Assists', 'Takedowns', 'Deaths'\n",
    "    , 'Level', 'HighestKillStreak', 'HeroDamage'\n",
    "    , 'SiegeDamage', 'StructureDamage', 'MinionDamage', 'CreepDamage'\n",
    "    , 'SummonDamage', 'TimeCcEnemyHeroes', 'Healing', 'SelfHealing'\n",
    "    , 'DamageTaken', 'ExperienceContribution', 'TownKills', 'TimeSpentDead'\n",
    "    , 'MercCampCaptures', 'WatchTowerCaptures', 'MetaExperience'\n",
    "    , 'ProtectionAllies', 'SilencingEnemies', 'RootingEnemies'\n",
    "    , 'StunningEnemies', 'ClutchHeals', 'Escapes', 'Vengeance'\n",
    "    , 'OutnumberedDeaths', 'TeamfightEscapes', 'TeamfightHealing'\n",
    "    , 'TeamfightDamageTaken', 'TeamfightHeroDamage', 'Multikill'\n",
    "    , 'PhysicalDamage', 'SpellDamage', 'RegenGlobes'\n",
    "]\n",
    "new_cols = [f'{c}_Rolling' for c in cols]\n",
    "rf = RandomForestClassifier(n_estimators=50, min_samples_split=10, random_state=1)\n",
    "rf.fit(train[predictors], train[\"Target\"])\n",
    "combined, precision = make_predictions(replay_rolling, predictors + new_cols, rf)\n",
    "precision"
   ],
   "metadata": {
    "collapsed": false,
    "pycharm": {
     "name": "#%%\n"
    }
   }
  },
  {
   "cell_type": "code",
   "execution_count": 228,
   "outputs": [
    {
     "data": {
      "text/plain": "       actual  prediction            GameDate            Battletag HeroName  \\\n466         0           1 2022-05-01 02:22:03         Sammyy#11285  Abathur   \n467         1           1 2022-05-01 03:50:09  NightKnight#1170286  Abathur   \n468         1           0 2022-05-03 18:01:11       Starblade#1651  Abathur   \n469         1           1 2022-05-03 20:51:52        SavPants#1349  Abathur   \n470         1           1 2022-05-03 21:14:28       RockForge#1559  Abathur   \n...       ...         ...                 ...                  ...      ...   \n46255       1           1 2022-07-12 00:44:24          Rells#11356  Zul'jin   \n46256       0           0 2022-07-12 01:40:30        Hamflaps#1789  Zul'jin   \n46257       0           0 2022-07-16 21:59:19         SubZero#1577  Zul'jin   \n46258       1           1 2022-07-17 00:20:27        cgsdeath#1660  Zul'jin   \n46259       0           0 2022-07-19 00:49:02         SubZero#1577  Zul'jin   \n\n       IsWinner  \n466           0  \n467           1  \n468           1  \n469           1  \n470           1  \n...         ...  \n46255         1  \n46256         0  \n46257         0  \n46258         1  \n46259         0  \n\n[4980 rows x 6 columns]",
      "text/html": "<div>\n<style scoped>\n    .dataframe tbody tr th:only-of-type {\n        vertical-align: middle;\n    }\n\n    .dataframe tbody tr th {\n        vertical-align: top;\n    }\n\n    .dataframe thead th {\n        text-align: right;\n    }\n</style>\n<table border=\"1\" class=\"dataframe\">\n  <thead>\n    <tr style=\"text-align: right;\">\n      <th></th>\n      <th>actual</th>\n      <th>prediction</th>\n      <th>GameDate</th>\n      <th>Battletag</th>\n      <th>HeroName</th>\n      <th>IsWinner</th>\n    </tr>\n  </thead>\n  <tbody>\n    <tr>\n      <th>466</th>\n      <td>0</td>\n      <td>1</td>\n      <td>2022-05-01 02:22:03</td>\n      <td>Sammyy#11285</td>\n      <td>Abathur</td>\n      <td>0</td>\n    </tr>\n    <tr>\n      <th>467</th>\n      <td>1</td>\n      <td>1</td>\n      <td>2022-05-01 03:50:09</td>\n      <td>NightKnight#1170286</td>\n      <td>Abathur</td>\n      <td>1</td>\n    </tr>\n    <tr>\n      <th>468</th>\n      <td>1</td>\n      <td>0</td>\n      <td>2022-05-03 18:01:11</td>\n      <td>Starblade#1651</td>\n      <td>Abathur</td>\n      <td>1</td>\n    </tr>\n    <tr>\n      <th>469</th>\n      <td>1</td>\n      <td>1</td>\n      <td>2022-05-03 20:51:52</td>\n      <td>SavPants#1349</td>\n      <td>Abathur</td>\n      <td>1</td>\n    </tr>\n    <tr>\n      <th>470</th>\n      <td>1</td>\n      <td>1</td>\n      <td>2022-05-03 21:14:28</td>\n      <td>RockForge#1559</td>\n      <td>Abathur</td>\n      <td>1</td>\n    </tr>\n    <tr>\n      <th>...</th>\n      <td>...</td>\n      <td>...</td>\n      <td>...</td>\n      <td>...</td>\n      <td>...</td>\n      <td>...</td>\n    </tr>\n    <tr>\n      <th>46255</th>\n      <td>1</td>\n      <td>1</td>\n      <td>2022-07-12 00:44:24</td>\n      <td>Rells#11356</td>\n      <td>Zul'jin</td>\n      <td>1</td>\n    </tr>\n    <tr>\n      <th>46256</th>\n      <td>0</td>\n      <td>0</td>\n      <td>2022-07-12 01:40:30</td>\n      <td>Hamflaps#1789</td>\n      <td>Zul'jin</td>\n      <td>0</td>\n    </tr>\n    <tr>\n      <th>46257</th>\n      <td>0</td>\n      <td>0</td>\n      <td>2022-07-16 21:59:19</td>\n      <td>SubZero#1577</td>\n      <td>Zul'jin</td>\n      <td>0</td>\n    </tr>\n    <tr>\n      <th>46258</th>\n      <td>1</td>\n      <td>1</td>\n      <td>2022-07-17 00:20:27</td>\n      <td>cgsdeath#1660</td>\n      <td>Zul'jin</td>\n      <td>1</td>\n    </tr>\n    <tr>\n      <th>46259</th>\n      <td>0</td>\n      <td>0</td>\n      <td>2022-07-19 00:49:02</td>\n      <td>SubZero#1577</td>\n      <td>Zul'jin</td>\n      <td>0</td>\n    </tr>\n  </tbody>\n</table>\n<p>4980 rows × 6 columns</p>\n</div>"
     },
     "execution_count": 228,
     "metadata": {},
     "output_type": "execute_result"
    }
   ],
   "source": [
    "combined = combined.merge(replay_rolling[[\"GameDate\", \"Battletag\", \"HeroName\", \"IsWinner\"]], left_index=True, right_index=True)\n",
    "combined"
   ],
   "metadata": {
    "collapsed": false,
    "pycharm": {
     "name": "#%%\n"
    }
   }
  },
  {
   "cell_type": "code",
   "execution_count": 13,
   "outputs": [],
   "source": [
    "# df.columns\n",
    "points = [\n",
    "    'Battletag', 'HeroName', 'NewRole', 'GameMap'\n",
    "    , 'GameDate',  'GameType', 'GameLengthTimestamp'\n",
    "    , 'HeroLevel', 'Kills', 'Assists', 'Takedowns', 'Deaths', 'Team'\n",
    "    , 'IsWinner', 'FirstToTen', 'Level', 'HighestKillStreak', 'HeroDamage'\n",
    "    , 'SiegeDamage', 'StructureDamage', 'MinionDamage', 'CreepDamage'\n",
    "    , 'SummonDamage', 'TimeCcEnemyHeroes', 'Healing', 'SelfHealing'\n",
    "    , 'DamageTaken', 'ExperienceContribution', 'TownKills', 'TimeSpentDead'\n",
    "    , 'MercCampCaptures', 'WatchTowerCaptures', 'MetaExperience'\n",
    "    , 'MatchAward', 'ProtectionAllies', 'SilencingEnemies', 'RootingEnemies'\n",
    "    , 'StunningEnemies', 'ClutchHeals', 'Escapes', 'Vengeance'\n",
    "    , 'OutnumberedDeaths', 'TeamfightEscapes', 'TeamfightHealing'\n",
    "    , 'TeamfightDamageTaken', 'TeamfightHeroDamage', 'Multikill'\n",
    "    , 'PhysicalDamage', 'SpellDamage', 'RegenGlobes'\n",
    "    , 'PlayerId','HeroId', 'ReplayId', 'SourceReplayId', 'Party', 'RankedSeason'\n",
    "    # , 'LevelOne', 'LevelFour', 'LevelSeven', 'LevelTen', 'LevelThirteen', 'LevelSixteen', 'LevelTwenty'\n",
    "]\n",
    "\n",
    "agg_points = [\n",
    "    'Battletag', 'Hero', 'NewRole', 'GameLength'\n",
    "    , 'HeroLevel', 'Kills', 'Assists', 'Takedowns', 'Deaths', 'Team'\n",
    "    , 'IsWinner', 'FirstToTen', 'Level', 'HighestKillStreak', 'HeroDamage'\n",
    "    , 'SiegeDamage', 'StructureDamage', 'MinionDamage', 'CreepDamage'\n",
    "    , 'SummonDamage', 'TimeCcEnemyHeroes', 'Healing', 'SelfHealing'\n",
    "    , 'DamageTaken', 'ExperienceContribution', 'TownKills', 'TimeSpentDead'\n",
    "    , 'MercCampCaptures', 'WatchTowerCaptures', 'MetaExperience'\n",
    "    , 'MatchAward', 'ProtectionAllies', 'SilencingEnemies', 'RootingEnemies'\n",
    "    , 'StunningEnemies', 'ClutchHeals', 'Escapes', 'Vengeance'\n",
    "    , 'OutnumberedDeaths', 'TeamfightEscapes', 'TeamfightHealing'\n",
    "    , 'TeamfightDamageTaken', 'TeamfightHeroDamage', 'Multikill'\n",
    "    , 'PhysicalDamage', 'SpellDamage', 'RegenGlobes'\n",
    "    # , 'GameDate',  'GameType'\n",
    "    # , 'PlayerId','HeroId',\n",
    "    # , 'LevelOne', 'LevelFour', 'LevelSeven', 'LevelTen', 'LevelThirteen', 'LevelSixteen', 'LevelTwenty'\n",
    "]\n",
    "\n",
    "\n",
    "dps_agg_points = [\n",
    "    'Battletag', 'Hero', 'NewRole', 'IsWinner'\n",
    "    , 'Kills', 'Assists', 'Takedowns', 'Deaths'\n",
    "    , 'HighestKillStreak', 'HeroDamage'\n",
    "    , 'SiegeDamage', 'StructureDamage', 'MinionDamage', 'CreepDamage'\n",
    "    , 'SummonDamage', 'TimeCcEnemyHeroes', 'Healing', 'SelfHealing'\n",
    "    , 'DamageTaken', 'ExperienceContribution', 'TownKills', 'TimeSpentDead'\n",
    "    , 'MercCampCaptures', 'WatchTowerCaptures', 'MetaExperience'\n",
    "    , 'ProtectionAllies', 'SilencingEnemies', 'RootingEnemies'\n",
    "    , 'StunningEnemies', 'ClutchHeals', 'Escapes', 'Vengeance'\n",
    "    , 'OutnumberedDeaths', 'TeamfightEscapes', 'TeamfightHealing'\n",
    "    , 'TeamfightDamageTaken', 'TeamfightHeroDamage', 'Multikill'\n",
    "    , 'PhysicalDamage', 'SpellDamage', 'RegenGlobes'\n",
    "    # , 'GameDate',  'GameType'\n",
    "    # , 'PlayerId','HeroId',\n",
    "    # , 'LevelOne', 'LevelFour', 'LevelSeven', 'LevelTen', 'LevelThirteen', 'LevelSixteen', 'LevelTwenty'\n",
    "]"
   ],
   "metadata": {
    "collapsed": false,
    "pycharm": {
     "name": "#%%\n"
    }
   }
  },
  {
   "cell_type": "code",
   "execution_count": 14,
   "outputs": [
    {
     "data": {
      "text/plain": "                                              MeanKills  KillCount  \\\nBattletag        Hero        NewRole                                 \nTheCaptain#12345 Anub'arak   Tank              1.600000          5   \n                 Auriel      Healer            0.000000          1   \n                 Blaze       Tank              1.000000          1   \n                 Brightwing  Healer            2.000000          8   \n                 Cassia      Ranged Assassin   4.405797         69   \n                 Chromie     Ranged Assassin   3.222222          9   \n                 Deathwing   Bruiser           4.500000          2   \n                 Deckard     Healer            0.333333          3   \n                 Dehaka      Bruiser           0.000000          1   \n                 Diablo      Tank              1.666667          3   \n                 Fenix       Ranged Assassin   2.500000          2   \n                 Gall        Ranged Assassin   1.500000          2   \n                 Gazlowe     Bruiser           0.000000          1   \n                 Genji       Ranged Assassin   8.000000          2   \n                 Greymane    Ranged Assassin   5.000000          1   \n                 Gul'dan     Ranged Assassin   3.055556         18   \n                 Jaina       Ranged Assassin   4.320261        153   \n                 Johanna     Tank              2.875000          8   \n                 Kael'thas   Ranged Assassin   4.541667         24   \n                 Kerrigan    Melee Assassin    4.000000          1   \n                 Kharazim    Healer            3.333333          3   \n                 Li-Ming     Ranged Assassin   4.000000         35   \n                 Lt. Morales Healer            1.000000          3   \n                 Mal'Ganis   Tank              4.000000          1   \n                 Malfurion   Healer            1.666667          3   \n                 Mephisto    Ranged Assassin   1.900000         10   \n                 Nazeebo     Ranged Assassin   3.000000         14   \n                 Orphea      Ranged Assassin   4.543478         46   \n                 Probius     Ranged Assassin   2.000000         30   \n                 Qhira       Melee Assassin    3.900000         10   \n                 Raynor      Ranged Assassin   4.000000          1   \n                 Rehgar      Healer            0.500000          2   \n                 Sgt. Hammer Ranged Assassin   2.750000          4   \n                 Stitches    Tank              2.333333          3   \n                 Stukov      Healer            3.257143         35   \n                 Sylvanas    Ranged Assassin   2.000000          2   \n                 The Butcher Melee Assassin    3.000000          2   \n                 Thrall      Bruiser           4.000000          5   \n                 Tyrande     Healer            0.500000          2   \n                 Uther       Healer            2.000000          2   \n                 Valeera     Melee Assassin    5.800000          5   \n                 Valla       Ranged Assassin   4.594595         37   \n                 Varian      Bruiser           4.310811         74   \n                 Whitemane   Healer            1.000000          2   \n                 Zagara      Ranged Assassin   5.000000          1   \n                 Zarya       Support           3.750000          8   \n                 Zul'jin     Ranged Assassin   4.000000          2   \n\n                                              MedianKills  Takedowns  \nBattletag        Hero        NewRole                                  \nTheCaptain#12345 Anub'arak   Tank                     1.0          5  \n                 Auriel      Healer                   0.0          1  \n                 Blaze       Tank                     1.0          1  \n                 Brightwing  Healer                   1.0          8  \n                 Cassia      Ranged Assassin          4.0         69  \n                 Chromie     Ranged Assassin          1.0          9  \n                 Deathwing   Bruiser                  4.5          2  \n                 Deckard     Healer                   0.0          3  \n                 Dehaka      Bruiser                  0.0          1  \n                 Diablo      Tank                     1.0          3  \n                 Fenix       Ranged Assassin          2.5          2  \n                 Gall        Ranged Assassin          1.5          2  \n                 Gazlowe     Bruiser                  0.0          1  \n                 Genji       Ranged Assassin          8.0          2  \n                 Greymane    Ranged Assassin          5.0          1  \n                 Gul'dan     Ranged Assassin          3.0         18  \n                 Jaina       Ranged Assassin          4.0        153  \n                 Johanna     Tank                     2.5          8  \n                 Kael'thas   Ranged Assassin          3.5         24  \n                 Kerrigan    Melee Assassin           4.0          1  \n                 Kharazim    Healer                   2.0          3  \n                 Li-Ming     Ranged Assassin          4.0         35  \n                 Lt. Morales Healer                   1.0          3  \n                 Mal'Ganis   Tank                     4.0          1  \n                 Malfurion   Healer                   2.0          3  \n                 Mephisto    Ranged Assassin          1.5         10  \n                 Nazeebo     Ranged Assassin          3.0         14  \n                 Orphea      Ranged Assassin          4.0         46  \n                 Probius     Ranged Assassin          1.5         30  \n                 Qhira       Melee Assassin           4.0         10  \n                 Raynor      Ranged Assassin          4.0          1  \n                 Rehgar      Healer                   0.5          2  \n                 Sgt. Hammer Ranged Assassin          2.5          4  \n                 Stitches    Tank                     3.0          3  \n                 Stukov      Healer                   3.0         35  \n                 Sylvanas    Ranged Assassin          2.0          2  \n                 The Butcher Melee Assassin           3.0          2  \n                 Thrall      Bruiser                  4.0          5  \n                 Tyrande     Healer                   0.5          2  \n                 Uther       Healer                   2.0          2  \n                 Valeera     Melee Assassin           6.0          5  \n                 Valla       Ranged Assassin          4.0         37  \n                 Varian      Bruiser                  4.0         74  \n                 Whitemane   Healer                   1.0          2  \n                 Zagara      Ranged Assassin          5.0          1  \n                 Zarya       Support                  1.5          8  \n                 Zul'jin     Ranged Assassin          4.0          2  ",
      "text/html": "<div>\n<style scoped>\n    .dataframe tbody tr th:only-of-type {\n        vertical-align: middle;\n    }\n\n    .dataframe tbody tr th {\n        vertical-align: top;\n    }\n\n    .dataframe thead th {\n        text-align: right;\n    }\n</style>\n<table border=\"1\" class=\"dataframe\">\n  <thead>\n    <tr style=\"text-align: right;\">\n      <th></th>\n      <th></th>\n      <th></th>\n      <th>MeanKills</th>\n      <th>KillCount</th>\n      <th>MedianKills</th>\n      <th>Takedowns</th>\n    </tr>\n    <tr>\n      <th>Battletag</th>\n      <th>Hero</th>\n      <th>NewRole</th>\n      <th></th>\n      <th></th>\n      <th></th>\n      <th></th>\n    </tr>\n  </thead>\n  <tbody>\n    <tr>\n      <th rowspan=\"47\" valign=\"top\">TheCaptain#12345</th>\n      <th>Anub'arak</th>\n      <th>Tank</th>\n      <td>1.600000</td>\n      <td>5</td>\n      <td>1.0</td>\n      <td>5</td>\n    </tr>\n    <tr>\n      <th>Auriel</th>\n      <th>Healer</th>\n      <td>0.000000</td>\n      <td>1</td>\n      <td>0.0</td>\n      <td>1</td>\n    </tr>\n    <tr>\n      <th>Blaze</th>\n      <th>Tank</th>\n      <td>1.000000</td>\n      <td>1</td>\n      <td>1.0</td>\n      <td>1</td>\n    </tr>\n    <tr>\n      <th>Brightwing</th>\n      <th>Healer</th>\n      <td>2.000000</td>\n      <td>8</td>\n      <td>1.0</td>\n      <td>8</td>\n    </tr>\n    <tr>\n      <th>Cassia</th>\n      <th>Ranged Assassin</th>\n      <td>4.405797</td>\n      <td>69</td>\n      <td>4.0</td>\n      <td>69</td>\n    </tr>\n    <tr>\n      <th>Chromie</th>\n      <th>Ranged Assassin</th>\n      <td>3.222222</td>\n      <td>9</td>\n      <td>1.0</td>\n      <td>9</td>\n    </tr>\n    <tr>\n      <th>Deathwing</th>\n      <th>Bruiser</th>\n      <td>4.500000</td>\n      <td>2</td>\n      <td>4.5</td>\n      <td>2</td>\n    </tr>\n    <tr>\n      <th>Deckard</th>\n      <th>Healer</th>\n      <td>0.333333</td>\n      <td>3</td>\n      <td>0.0</td>\n      <td>3</td>\n    </tr>\n    <tr>\n      <th>Dehaka</th>\n      <th>Bruiser</th>\n      <td>0.000000</td>\n      <td>1</td>\n      <td>0.0</td>\n      <td>1</td>\n    </tr>\n    <tr>\n      <th>Diablo</th>\n      <th>Tank</th>\n      <td>1.666667</td>\n      <td>3</td>\n      <td>1.0</td>\n      <td>3</td>\n    </tr>\n    <tr>\n      <th>Fenix</th>\n      <th>Ranged Assassin</th>\n      <td>2.500000</td>\n      <td>2</td>\n      <td>2.5</td>\n      <td>2</td>\n    </tr>\n    <tr>\n      <th>Gall</th>\n      <th>Ranged Assassin</th>\n      <td>1.500000</td>\n      <td>2</td>\n      <td>1.5</td>\n      <td>2</td>\n    </tr>\n    <tr>\n      <th>Gazlowe</th>\n      <th>Bruiser</th>\n      <td>0.000000</td>\n      <td>1</td>\n      <td>0.0</td>\n      <td>1</td>\n    </tr>\n    <tr>\n      <th>Genji</th>\n      <th>Ranged Assassin</th>\n      <td>8.000000</td>\n      <td>2</td>\n      <td>8.0</td>\n      <td>2</td>\n    </tr>\n    <tr>\n      <th>Greymane</th>\n      <th>Ranged Assassin</th>\n      <td>5.000000</td>\n      <td>1</td>\n      <td>5.0</td>\n      <td>1</td>\n    </tr>\n    <tr>\n      <th>Gul'dan</th>\n      <th>Ranged Assassin</th>\n      <td>3.055556</td>\n      <td>18</td>\n      <td>3.0</td>\n      <td>18</td>\n    </tr>\n    <tr>\n      <th>Jaina</th>\n      <th>Ranged Assassin</th>\n      <td>4.320261</td>\n      <td>153</td>\n      <td>4.0</td>\n      <td>153</td>\n    </tr>\n    <tr>\n      <th>Johanna</th>\n      <th>Tank</th>\n      <td>2.875000</td>\n      <td>8</td>\n      <td>2.5</td>\n      <td>8</td>\n    </tr>\n    <tr>\n      <th>Kael'thas</th>\n      <th>Ranged Assassin</th>\n      <td>4.541667</td>\n      <td>24</td>\n      <td>3.5</td>\n      <td>24</td>\n    </tr>\n    <tr>\n      <th>Kerrigan</th>\n      <th>Melee Assassin</th>\n      <td>4.000000</td>\n      <td>1</td>\n      <td>4.0</td>\n      <td>1</td>\n    </tr>\n    <tr>\n      <th>Kharazim</th>\n      <th>Healer</th>\n      <td>3.333333</td>\n      <td>3</td>\n      <td>2.0</td>\n      <td>3</td>\n    </tr>\n    <tr>\n      <th>Li-Ming</th>\n      <th>Ranged Assassin</th>\n      <td>4.000000</td>\n      <td>35</td>\n      <td>4.0</td>\n      <td>35</td>\n    </tr>\n    <tr>\n      <th>Lt. Morales</th>\n      <th>Healer</th>\n      <td>1.000000</td>\n      <td>3</td>\n      <td>1.0</td>\n      <td>3</td>\n    </tr>\n    <tr>\n      <th>Mal'Ganis</th>\n      <th>Tank</th>\n      <td>4.000000</td>\n      <td>1</td>\n      <td>4.0</td>\n      <td>1</td>\n    </tr>\n    <tr>\n      <th>Malfurion</th>\n      <th>Healer</th>\n      <td>1.666667</td>\n      <td>3</td>\n      <td>2.0</td>\n      <td>3</td>\n    </tr>\n    <tr>\n      <th>Mephisto</th>\n      <th>Ranged Assassin</th>\n      <td>1.900000</td>\n      <td>10</td>\n      <td>1.5</td>\n      <td>10</td>\n    </tr>\n    <tr>\n      <th>Nazeebo</th>\n      <th>Ranged Assassin</th>\n      <td>3.000000</td>\n      <td>14</td>\n      <td>3.0</td>\n      <td>14</td>\n    </tr>\n    <tr>\n      <th>Orphea</th>\n      <th>Ranged Assassin</th>\n      <td>4.543478</td>\n      <td>46</td>\n      <td>4.0</td>\n      <td>46</td>\n    </tr>\n    <tr>\n      <th>Probius</th>\n      <th>Ranged Assassin</th>\n      <td>2.000000</td>\n      <td>30</td>\n      <td>1.5</td>\n      <td>30</td>\n    </tr>\n    <tr>\n      <th>Qhira</th>\n      <th>Melee Assassin</th>\n      <td>3.900000</td>\n      <td>10</td>\n      <td>4.0</td>\n      <td>10</td>\n    </tr>\n    <tr>\n      <th>Raynor</th>\n      <th>Ranged Assassin</th>\n      <td>4.000000</td>\n      <td>1</td>\n      <td>4.0</td>\n      <td>1</td>\n    </tr>\n    <tr>\n      <th>Rehgar</th>\n      <th>Healer</th>\n      <td>0.500000</td>\n      <td>2</td>\n      <td>0.5</td>\n      <td>2</td>\n    </tr>\n    <tr>\n      <th>Sgt. Hammer</th>\n      <th>Ranged Assassin</th>\n      <td>2.750000</td>\n      <td>4</td>\n      <td>2.5</td>\n      <td>4</td>\n    </tr>\n    <tr>\n      <th>Stitches</th>\n      <th>Tank</th>\n      <td>2.333333</td>\n      <td>3</td>\n      <td>3.0</td>\n      <td>3</td>\n    </tr>\n    <tr>\n      <th>Stukov</th>\n      <th>Healer</th>\n      <td>3.257143</td>\n      <td>35</td>\n      <td>3.0</td>\n      <td>35</td>\n    </tr>\n    <tr>\n      <th>Sylvanas</th>\n      <th>Ranged Assassin</th>\n      <td>2.000000</td>\n      <td>2</td>\n      <td>2.0</td>\n      <td>2</td>\n    </tr>\n    <tr>\n      <th>The Butcher</th>\n      <th>Melee Assassin</th>\n      <td>3.000000</td>\n      <td>2</td>\n      <td>3.0</td>\n      <td>2</td>\n    </tr>\n    <tr>\n      <th>Thrall</th>\n      <th>Bruiser</th>\n      <td>4.000000</td>\n      <td>5</td>\n      <td>4.0</td>\n      <td>5</td>\n    </tr>\n    <tr>\n      <th>Tyrande</th>\n      <th>Healer</th>\n      <td>0.500000</td>\n      <td>2</td>\n      <td>0.5</td>\n      <td>2</td>\n    </tr>\n    <tr>\n      <th>Uther</th>\n      <th>Healer</th>\n      <td>2.000000</td>\n      <td>2</td>\n      <td>2.0</td>\n      <td>2</td>\n    </tr>\n    <tr>\n      <th>Valeera</th>\n      <th>Melee Assassin</th>\n      <td>5.800000</td>\n      <td>5</td>\n      <td>6.0</td>\n      <td>5</td>\n    </tr>\n    <tr>\n      <th>Valla</th>\n      <th>Ranged Assassin</th>\n      <td>4.594595</td>\n      <td>37</td>\n      <td>4.0</td>\n      <td>37</td>\n    </tr>\n    <tr>\n      <th>Varian</th>\n      <th>Bruiser</th>\n      <td>4.310811</td>\n      <td>74</td>\n      <td>4.0</td>\n      <td>74</td>\n    </tr>\n    <tr>\n      <th>Whitemane</th>\n      <th>Healer</th>\n      <td>1.000000</td>\n      <td>2</td>\n      <td>1.0</td>\n      <td>2</td>\n    </tr>\n    <tr>\n      <th>Zagara</th>\n      <th>Ranged Assassin</th>\n      <td>5.000000</td>\n      <td>1</td>\n      <td>5.0</td>\n      <td>1</td>\n    </tr>\n    <tr>\n      <th>Zarya</th>\n      <th>Support</th>\n      <td>3.750000</td>\n      <td>8</td>\n      <td>1.5</td>\n      <td>8</td>\n    </tr>\n    <tr>\n      <th>Zul'jin</th>\n      <th>Ranged Assassin</th>\n      <td>4.000000</td>\n      <td>2</td>\n      <td>4.0</td>\n      <td>2</td>\n    </tr>\n  </tbody>\n</table>\n</div>"
     },
     "execution_count": 14,
     "metadata": {},
     "output_type": "execute_result"
    }
   ],
   "source": [
    "df[[*dps_agg_points]].groupby(['Battletag', 'Hero', 'NewRole']).agg(\n",
    "    MeanKills=('Kills', 'mean'), KillCount=('Kills', 'count'), MedianKills=('Kills', 'median'),\n",
    "    Takedowns=('Takedowns', 'count')\n",
    ")"
   ],
   "metadata": {
    "collapsed": false,
    "pycharm": {
     "name": "#%%\n"
    }
   }
  },
  {
   "cell_type": "code",
   "execution_count": 224,
   "outputs": [
    {
     "data": {
      "text/plain": "                                       IsWinner                     Kills  \\\n                                            max sum count      mean   max   \nBattletag    Hero      NewRole                                              \nAly#11717    Anub'arak Tank                   1  10    12  0.833333     3   \n             Cassia    Ranged Assassin        1  26    44  0.590909    10   \n             Dehaka    Bruiser                0   0     4  0.000000     1   \n             Diablo    Tank                   0   0     2  0.000000     3   \n             Fenix     Ranged Assassin        0   0     2  0.000000     0   \n...                                         ...  ..   ...       ...   ...   \nYipYip#11141 Imperius  Bruiser                0   0     2  0.000000     0   \n             Lunara    Ranged Assassin        1   8    16  0.500000     9   \n             Raynor    Ranged Assassin        1  12    16  0.750000     4   \n             Sylvanas  Ranged Assassin        1   4    14  0.285714     7   \n             Valla     Ranged Assassin        1   6    14  0.428571    15   \n\n                                                            Assists       ...  \\\n                                        sum count      mean     max  sum  ...   \nBattletag    Hero      NewRole                                            ...   \nAly#11717    Anub'arak Tank              20    12  1.666667      13  100  ...   \n             Cassia    Ranged Assassin  156    44  3.545455      23  408  ...   \n             Dehaka    Bruiser            2     4  0.500000      11   30  ...   \n             Diablo    Tank               6     2  3.000000      11   22  ...   \n             Fenix     Ranged Assassin    0     2  0.000000       3    6  ...   \n...                                     ...   ...       ...     ...  ...  ...   \nYipYip#11141 Imperius  Bruiser            0     2  0.000000      11   22  ...   \n             Lunara    Ranged Assassin   84    16  5.250000      24  162  ...   \n             Raynor    Ranged Assassin   34    16  2.125000      17  124  ...   \n             Sylvanas  Ranged Assassin   68    14  4.857143      18  160  ...   \n             Valla     Ranged Assassin   80    14  5.714286      12  104  ...   \n\n                                       PhysicalDamage                 \\\n                                                count           mean   \nBattletag    Hero      NewRole                                         \nAly#11717    Anub'arak Tank                        12   19936.333333   \n             Cassia    Ranged Assassin             44   32339.227273   \n             Dehaka    Bruiser                      4   22302.000000   \n             Diablo    Tank                         2   27723.000000   \n             Fenix     Ranged Assassin              2   56330.000000   \n...                                               ...            ...   \nYipYip#11141 Imperius  Bruiser                      2   34818.000000   \n             Lunara    Ranged Assassin             16   50279.500000   \n             Raynor    Ranged Assassin             16  105575.750000   \n             Sylvanas  Ranged Assassin             14   76491.428571   \n             Valla     Ranged Assassin             14   73247.142857   \n\n                                       SpellDamage                 \\\n                                               max      sum count   \nBattletag    Hero      NewRole                                      \nAly#11717    Anub'arak Tank                  90282   654482    12   \n             Cassia    Ranged Assassin      195268  4506456    44   \n             Dehaka    Bruiser               66791   264456     4   \n             Diablo    Tank                  81278   162556     2   \n             Fenix     Ranged Assassin       34956    69912     2   \n...                                            ...      ...   ...   \nYipYip#11141 Imperius  Bruiser               47113    94226     2   \n             Lunara    Ranged Assassin      136293  1606160    16   \n             Raynor    Ranged Assassin       45022   392588    16   \n             Sylvanas  Ranged Assassin      100626  1097796    14   \n             Valla     Ranged Assassin      178975  1259796    14   \n\n                                                      RegenGlobes              \\\n                                                 mean         max   sum count   \nBattletag    Hero      NewRole                                                  \nAly#11717    Anub'arak Tank              54540.166667          29   246    12   \n             Cassia    Ranged Assassin  102419.454545          43  1100    44   \n             Dehaka    Bruiser           66114.000000          27   106     4   \n             Diablo    Tank              81278.000000          21    42     2   \n             Fenix     Ranged Assassin   34956.000000          22    44     2   \n...                                               ...         ...   ...   ...   \nYipYip#11141 Imperius  Bruiser           47113.000000          26    52     2   \n             Lunara    Ranged Assassin  100385.000000          52   602    16   \n             Raynor    Ranged Assassin   24536.750000          42   374    16   \n             Sylvanas  Ranged Assassin   78414.000000          47   436    14   \n             Valla     Ranged Assassin   89985.428571          55   426    14   \n\n                                                   \n                                             mean  \nBattletag    Hero      NewRole                     \nAly#11717    Anub'arak Tank             20.500000  \n             Cassia    Ranged Assassin  25.000000  \n             Dehaka    Bruiser          26.500000  \n             Diablo    Tank             21.000000  \n             Fenix     Ranged Assassin  22.000000  \n...                                           ...  \nYipYip#11141 Imperius  Bruiser          26.000000  \n             Lunara    Ranged Assassin  37.625000  \n             Raynor    Ranged Assassin  23.375000  \n             Sylvanas  Ranged Assassin  31.142857  \n             Valla     Ranged Assassin  30.428571  \n\n[253 rows x 152 columns]",
      "text/html": "<div>\n<style scoped>\n    .dataframe tbody tr th:only-of-type {\n        vertical-align: middle;\n    }\n\n    .dataframe tbody tr th {\n        vertical-align: top;\n    }\n\n    .dataframe thead tr th {\n        text-align: left;\n    }\n\n    .dataframe thead tr:last-of-type th {\n        text-align: right;\n    }\n</style>\n<table border=\"1\" class=\"dataframe\">\n  <thead>\n    <tr>\n      <th></th>\n      <th></th>\n      <th></th>\n      <th colspan=\"4\" halign=\"left\">IsWinner</th>\n      <th colspan=\"4\" halign=\"left\">Kills</th>\n      <th colspan=\"2\" halign=\"left\">Assists</th>\n      <th>...</th>\n      <th colspan=\"2\" halign=\"left\">PhysicalDamage</th>\n      <th colspan=\"4\" halign=\"left\">SpellDamage</th>\n      <th colspan=\"4\" halign=\"left\">RegenGlobes</th>\n    </tr>\n    <tr>\n      <th></th>\n      <th></th>\n      <th></th>\n      <th>max</th>\n      <th>sum</th>\n      <th>count</th>\n      <th>mean</th>\n      <th>max</th>\n      <th>sum</th>\n      <th>count</th>\n      <th>mean</th>\n      <th>max</th>\n      <th>sum</th>\n      <th>...</th>\n      <th>count</th>\n      <th>mean</th>\n      <th>max</th>\n      <th>sum</th>\n      <th>count</th>\n      <th>mean</th>\n      <th>max</th>\n      <th>sum</th>\n      <th>count</th>\n      <th>mean</th>\n    </tr>\n    <tr>\n      <th>Battletag</th>\n      <th>Hero</th>\n      <th>NewRole</th>\n      <th></th>\n      <th></th>\n      <th></th>\n      <th></th>\n      <th></th>\n      <th></th>\n      <th></th>\n      <th></th>\n      <th></th>\n      <th></th>\n      <th></th>\n      <th></th>\n      <th></th>\n      <th></th>\n      <th></th>\n      <th></th>\n      <th></th>\n      <th></th>\n      <th></th>\n      <th></th>\n      <th></th>\n    </tr>\n  </thead>\n  <tbody>\n    <tr>\n      <th rowspan=\"5\" valign=\"top\">Aly#11717</th>\n      <th>Anub'arak</th>\n      <th>Tank</th>\n      <td>1</td>\n      <td>10</td>\n      <td>12</td>\n      <td>0.833333</td>\n      <td>3</td>\n      <td>20</td>\n      <td>12</td>\n      <td>1.666667</td>\n      <td>13</td>\n      <td>100</td>\n      <td>...</td>\n      <td>12</td>\n      <td>19936.333333</td>\n      <td>90282</td>\n      <td>654482</td>\n      <td>12</td>\n      <td>54540.166667</td>\n      <td>29</td>\n      <td>246</td>\n      <td>12</td>\n      <td>20.500000</td>\n    </tr>\n    <tr>\n      <th>Cassia</th>\n      <th>Ranged Assassin</th>\n      <td>1</td>\n      <td>26</td>\n      <td>44</td>\n      <td>0.590909</td>\n      <td>10</td>\n      <td>156</td>\n      <td>44</td>\n      <td>3.545455</td>\n      <td>23</td>\n      <td>408</td>\n      <td>...</td>\n      <td>44</td>\n      <td>32339.227273</td>\n      <td>195268</td>\n      <td>4506456</td>\n      <td>44</td>\n      <td>102419.454545</td>\n      <td>43</td>\n      <td>1100</td>\n      <td>44</td>\n      <td>25.000000</td>\n    </tr>\n    <tr>\n      <th>Dehaka</th>\n      <th>Bruiser</th>\n      <td>0</td>\n      <td>0</td>\n      <td>4</td>\n      <td>0.000000</td>\n      <td>1</td>\n      <td>2</td>\n      <td>4</td>\n      <td>0.500000</td>\n      <td>11</td>\n      <td>30</td>\n      <td>...</td>\n      <td>4</td>\n      <td>22302.000000</td>\n      <td>66791</td>\n      <td>264456</td>\n      <td>4</td>\n      <td>66114.000000</td>\n      <td>27</td>\n      <td>106</td>\n      <td>4</td>\n      <td>26.500000</td>\n    </tr>\n    <tr>\n      <th>Diablo</th>\n      <th>Tank</th>\n      <td>0</td>\n      <td>0</td>\n      <td>2</td>\n      <td>0.000000</td>\n      <td>3</td>\n      <td>6</td>\n      <td>2</td>\n      <td>3.000000</td>\n      <td>11</td>\n      <td>22</td>\n      <td>...</td>\n      <td>2</td>\n      <td>27723.000000</td>\n      <td>81278</td>\n      <td>162556</td>\n      <td>2</td>\n      <td>81278.000000</td>\n      <td>21</td>\n      <td>42</td>\n      <td>2</td>\n      <td>21.000000</td>\n    </tr>\n    <tr>\n      <th>Fenix</th>\n      <th>Ranged Assassin</th>\n      <td>0</td>\n      <td>0</td>\n      <td>2</td>\n      <td>0.000000</td>\n      <td>0</td>\n      <td>0</td>\n      <td>2</td>\n      <td>0.000000</td>\n      <td>3</td>\n      <td>6</td>\n      <td>...</td>\n      <td>2</td>\n      <td>56330.000000</td>\n      <td>34956</td>\n      <td>69912</td>\n      <td>2</td>\n      <td>34956.000000</td>\n      <td>22</td>\n      <td>44</td>\n      <td>2</td>\n      <td>22.000000</td>\n    </tr>\n    <tr>\n      <th>...</th>\n      <th>...</th>\n      <th>...</th>\n      <td>...</td>\n      <td>...</td>\n      <td>...</td>\n      <td>...</td>\n      <td>...</td>\n      <td>...</td>\n      <td>...</td>\n      <td>...</td>\n      <td>...</td>\n      <td>...</td>\n      <td>...</td>\n      <td>...</td>\n      <td>...</td>\n      <td>...</td>\n      <td>...</td>\n      <td>...</td>\n      <td>...</td>\n      <td>...</td>\n      <td>...</td>\n      <td>...</td>\n      <td>...</td>\n    </tr>\n    <tr>\n      <th rowspan=\"5\" valign=\"top\">YipYip#11141</th>\n      <th>Imperius</th>\n      <th>Bruiser</th>\n      <td>0</td>\n      <td>0</td>\n      <td>2</td>\n      <td>0.000000</td>\n      <td>0</td>\n      <td>0</td>\n      <td>2</td>\n      <td>0.000000</td>\n      <td>11</td>\n      <td>22</td>\n      <td>...</td>\n      <td>2</td>\n      <td>34818.000000</td>\n      <td>47113</td>\n      <td>94226</td>\n      <td>2</td>\n      <td>47113.000000</td>\n      <td>26</td>\n      <td>52</td>\n      <td>2</td>\n      <td>26.000000</td>\n    </tr>\n    <tr>\n      <th>Lunara</th>\n      <th>Ranged Assassin</th>\n      <td>1</td>\n      <td>8</td>\n      <td>16</td>\n      <td>0.500000</td>\n      <td>9</td>\n      <td>84</td>\n      <td>16</td>\n      <td>5.250000</td>\n      <td>24</td>\n      <td>162</td>\n      <td>...</td>\n      <td>16</td>\n      <td>50279.500000</td>\n      <td>136293</td>\n      <td>1606160</td>\n      <td>16</td>\n      <td>100385.000000</td>\n      <td>52</td>\n      <td>602</td>\n      <td>16</td>\n      <td>37.625000</td>\n    </tr>\n    <tr>\n      <th>Raynor</th>\n      <th>Ranged Assassin</th>\n      <td>1</td>\n      <td>12</td>\n      <td>16</td>\n      <td>0.750000</td>\n      <td>4</td>\n      <td>34</td>\n      <td>16</td>\n      <td>2.125000</td>\n      <td>17</td>\n      <td>124</td>\n      <td>...</td>\n      <td>16</td>\n      <td>105575.750000</td>\n      <td>45022</td>\n      <td>392588</td>\n      <td>16</td>\n      <td>24536.750000</td>\n      <td>42</td>\n      <td>374</td>\n      <td>16</td>\n      <td>23.375000</td>\n    </tr>\n    <tr>\n      <th>Sylvanas</th>\n      <th>Ranged Assassin</th>\n      <td>1</td>\n      <td>4</td>\n      <td>14</td>\n      <td>0.285714</td>\n      <td>7</td>\n      <td>68</td>\n      <td>14</td>\n      <td>4.857143</td>\n      <td>18</td>\n      <td>160</td>\n      <td>...</td>\n      <td>14</td>\n      <td>76491.428571</td>\n      <td>100626</td>\n      <td>1097796</td>\n      <td>14</td>\n      <td>78414.000000</td>\n      <td>47</td>\n      <td>436</td>\n      <td>14</td>\n      <td>31.142857</td>\n    </tr>\n    <tr>\n      <th>Valla</th>\n      <th>Ranged Assassin</th>\n      <td>1</td>\n      <td>6</td>\n      <td>14</td>\n      <td>0.428571</td>\n      <td>15</td>\n      <td>80</td>\n      <td>14</td>\n      <td>5.714286</td>\n      <td>12</td>\n      <td>104</td>\n      <td>...</td>\n      <td>14</td>\n      <td>73247.142857</td>\n      <td>178975</td>\n      <td>1259796</td>\n      <td>14</td>\n      <td>89985.428571</td>\n      <td>55</td>\n      <td>426</td>\n      <td>14</td>\n      <td>30.428571</td>\n    </tr>\n  </tbody>\n</table>\n<p>253 rows × 152 columns</p>\n</div>"
     },
     "execution_count": 224,
     "metadata": {},
     "output_type": "execute_result"
    }
   ],
   "source": [
    "df[[*dps_agg_points]].groupby(['Battletag', 'Hero', 'NewRole']).agg([ \"max\", \"sum\", \"count\", \"mean\"], axis=0)"
   ],
   "metadata": {
    "collapsed": false,
    "pycharm": {
     "name": "#%%\n"
    }
   }
  },
  {
   "cell_type": "code",
   "execution_count": 225,
   "outputs": [
    {
     "data": {
      "text/plain": "                                              HeroCount  Wins  WinRate\nBattletag         Hero       NewRole                                  \nAly#11717         Cassia     Ranged Assassin         44    26     0.59\n                  Jaina      Ranged Assassin         80    52     0.65\n                  Orphea     Ranged Assassin         86    48     0.56\n                  Valla      Ranged Assassin         22     4     0.18\n                  Varian     Bruiser                 50    26     0.52\nAnaressa#1611     Johanna    Tank                    52    24     0.46\n                  Lunara     Ranged Assassin        116    84     0.72\n                  Raynor     Ranged Assassin         52    30     0.58\n                  Sylvanas   Ranged Assassin        124    64     0.52\n                  Valla      Ranged Assassin         80    42     0.52\nBornToShine#11556 Anduin     Healer                 218   116     0.53\n                  Brightwing Healer                 180    84     0.47\n                  Deckard    Healer                  40    24     0.60\n                  Rehgar     Healer                 154    86     0.56\n                  Stukov     Healer                 224   122     0.54\nDirePants#125315  Anub'arak  Tank                    86    48     0.56\n                  Dehaka     Bruiser                 40    22     0.55\n                  E.T.C.     Tank                    56    26     0.46\n                  Johanna    Tank                    64    44     0.69\n                  Leoric     Bruiser                 42    32     0.76\nDirepants#125315  Diablo     Tank                     2     2     1.00\n                  Malthael   Bruiser                  2     2     1.00\nKnivers#1675      Anub'arak  Tank                    42    24     0.57\n                  Blaze      Tank                    30    18     0.60\n                  E.T.C.     Tank                    30    18     0.60\n                  Garrosh    Tank                    48    28     0.58\n                  Muradin    Tank                    34    18     0.53\nMowBWan#1362      Anub'arak  Tank                    69    35     0.51\n                  Diablo     Tank                    72    29     0.40\n                  Johanna    Tank                   169    87     0.51\n                  Muradin    Tank                   156    89     0.57\n                  Sonya      Bruiser                 31    20     0.65\nPapaShango#11954  Artanis    Bruiser                  2     0     0.00\nSubZero#1577      Greymane   Ranged Assassin        104    64     0.62\n                  Sonya      Bruiser                 32    22     0.69\n                  Tassadar   Ranged Assassin         58    22     0.38\n                  Tychus     Ranged Assassin         90    54     0.60\n                  Zul'jin    Ranged Assassin         84    46     0.55\nTheCaptain#12345  Cassia     Ranged Assassin        112    72     0.64\n                  Jaina      Ranged Assassin        272   156     0.57\n                  Orphea     Ranged Assassin         90    46     0.51\n                  Valla      Ranged Assassin         72    32     0.44\n                  Varian     Bruiser                 98    44     0.45\nYipYip#11141      Cassia     Ranged Assassin         10     6     0.60\n                  Lunara     Ranged Assassin         16     8     0.50\n                  Raynor     Ranged Assassin         16    12     0.75\n                  Sylvanas   Ranged Assassin         14     4     0.29\n                  Valla      Ranged Assassin         14     6     0.43",
      "text/html": "<div>\n<style scoped>\n    .dataframe tbody tr th:only-of-type {\n        vertical-align: middle;\n    }\n\n    .dataframe tbody tr th {\n        vertical-align: top;\n    }\n\n    .dataframe thead th {\n        text-align: right;\n    }\n</style>\n<table border=\"1\" class=\"dataframe\">\n  <thead>\n    <tr style=\"text-align: right;\">\n      <th></th>\n      <th></th>\n      <th></th>\n      <th>HeroCount</th>\n      <th>Wins</th>\n      <th>WinRate</th>\n    </tr>\n    <tr>\n      <th>Battletag</th>\n      <th>Hero</th>\n      <th>NewRole</th>\n      <th></th>\n      <th></th>\n      <th></th>\n    </tr>\n  </thead>\n  <tbody>\n    <tr>\n      <th rowspan=\"5\" valign=\"top\">Aly#11717</th>\n      <th>Cassia</th>\n      <th>Ranged Assassin</th>\n      <td>44</td>\n      <td>26</td>\n      <td>0.59</td>\n    </tr>\n    <tr>\n      <th>Jaina</th>\n      <th>Ranged Assassin</th>\n      <td>80</td>\n      <td>52</td>\n      <td>0.65</td>\n    </tr>\n    <tr>\n      <th>Orphea</th>\n      <th>Ranged Assassin</th>\n      <td>86</td>\n      <td>48</td>\n      <td>0.56</td>\n    </tr>\n    <tr>\n      <th>Valla</th>\n      <th>Ranged Assassin</th>\n      <td>22</td>\n      <td>4</td>\n      <td>0.18</td>\n    </tr>\n    <tr>\n      <th>Varian</th>\n      <th>Bruiser</th>\n      <td>50</td>\n      <td>26</td>\n      <td>0.52</td>\n    </tr>\n    <tr>\n      <th rowspan=\"5\" valign=\"top\">Anaressa#1611</th>\n      <th>Johanna</th>\n      <th>Tank</th>\n      <td>52</td>\n      <td>24</td>\n      <td>0.46</td>\n    </tr>\n    <tr>\n      <th>Lunara</th>\n      <th>Ranged Assassin</th>\n      <td>116</td>\n      <td>84</td>\n      <td>0.72</td>\n    </tr>\n    <tr>\n      <th>Raynor</th>\n      <th>Ranged Assassin</th>\n      <td>52</td>\n      <td>30</td>\n      <td>0.58</td>\n    </tr>\n    <tr>\n      <th>Sylvanas</th>\n      <th>Ranged Assassin</th>\n      <td>124</td>\n      <td>64</td>\n      <td>0.52</td>\n    </tr>\n    <tr>\n      <th>Valla</th>\n      <th>Ranged Assassin</th>\n      <td>80</td>\n      <td>42</td>\n      <td>0.52</td>\n    </tr>\n    <tr>\n      <th rowspan=\"5\" valign=\"top\">BornToShine#11556</th>\n      <th>Anduin</th>\n      <th>Healer</th>\n      <td>218</td>\n      <td>116</td>\n      <td>0.53</td>\n    </tr>\n    <tr>\n      <th>Brightwing</th>\n      <th>Healer</th>\n      <td>180</td>\n      <td>84</td>\n      <td>0.47</td>\n    </tr>\n    <tr>\n      <th>Deckard</th>\n      <th>Healer</th>\n      <td>40</td>\n      <td>24</td>\n      <td>0.60</td>\n    </tr>\n    <tr>\n      <th>Rehgar</th>\n      <th>Healer</th>\n      <td>154</td>\n      <td>86</td>\n      <td>0.56</td>\n    </tr>\n    <tr>\n      <th>Stukov</th>\n      <th>Healer</th>\n      <td>224</td>\n      <td>122</td>\n      <td>0.54</td>\n    </tr>\n    <tr>\n      <th rowspan=\"5\" valign=\"top\">DirePants#125315</th>\n      <th>Anub'arak</th>\n      <th>Tank</th>\n      <td>86</td>\n      <td>48</td>\n      <td>0.56</td>\n    </tr>\n    <tr>\n      <th>Dehaka</th>\n      <th>Bruiser</th>\n      <td>40</td>\n      <td>22</td>\n      <td>0.55</td>\n    </tr>\n    <tr>\n      <th>E.T.C.</th>\n      <th>Tank</th>\n      <td>56</td>\n      <td>26</td>\n      <td>0.46</td>\n    </tr>\n    <tr>\n      <th>Johanna</th>\n      <th>Tank</th>\n      <td>64</td>\n      <td>44</td>\n      <td>0.69</td>\n    </tr>\n    <tr>\n      <th>Leoric</th>\n      <th>Bruiser</th>\n      <td>42</td>\n      <td>32</td>\n      <td>0.76</td>\n    </tr>\n    <tr>\n      <th rowspan=\"2\" valign=\"top\">Direpants#125315</th>\n      <th>Diablo</th>\n      <th>Tank</th>\n      <td>2</td>\n      <td>2</td>\n      <td>1.00</td>\n    </tr>\n    <tr>\n      <th>Malthael</th>\n      <th>Bruiser</th>\n      <td>2</td>\n      <td>2</td>\n      <td>1.00</td>\n    </tr>\n    <tr>\n      <th rowspan=\"5\" valign=\"top\">Knivers#1675</th>\n      <th>Anub'arak</th>\n      <th>Tank</th>\n      <td>42</td>\n      <td>24</td>\n      <td>0.57</td>\n    </tr>\n    <tr>\n      <th>Blaze</th>\n      <th>Tank</th>\n      <td>30</td>\n      <td>18</td>\n      <td>0.60</td>\n    </tr>\n    <tr>\n      <th>E.T.C.</th>\n      <th>Tank</th>\n      <td>30</td>\n      <td>18</td>\n      <td>0.60</td>\n    </tr>\n    <tr>\n      <th>Garrosh</th>\n      <th>Tank</th>\n      <td>48</td>\n      <td>28</td>\n      <td>0.58</td>\n    </tr>\n    <tr>\n      <th>Muradin</th>\n      <th>Tank</th>\n      <td>34</td>\n      <td>18</td>\n      <td>0.53</td>\n    </tr>\n    <tr>\n      <th rowspan=\"5\" valign=\"top\">MowBWan#1362</th>\n      <th>Anub'arak</th>\n      <th>Tank</th>\n      <td>69</td>\n      <td>35</td>\n      <td>0.51</td>\n    </tr>\n    <tr>\n      <th>Diablo</th>\n      <th>Tank</th>\n      <td>72</td>\n      <td>29</td>\n      <td>0.40</td>\n    </tr>\n    <tr>\n      <th>Johanna</th>\n      <th>Tank</th>\n      <td>169</td>\n      <td>87</td>\n      <td>0.51</td>\n    </tr>\n    <tr>\n      <th>Muradin</th>\n      <th>Tank</th>\n      <td>156</td>\n      <td>89</td>\n      <td>0.57</td>\n    </tr>\n    <tr>\n      <th>Sonya</th>\n      <th>Bruiser</th>\n      <td>31</td>\n      <td>20</td>\n      <td>0.65</td>\n    </tr>\n    <tr>\n      <th>PapaShango#11954</th>\n      <th>Artanis</th>\n      <th>Bruiser</th>\n      <td>2</td>\n      <td>0</td>\n      <td>0.00</td>\n    </tr>\n    <tr>\n      <th rowspan=\"5\" valign=\"top\">SubZero#1577</th>\n      <th>Greymane</th>\n      <th>Ranged Assassin</th>\n      <td>104</td>\n      <td>64</td>\n      <td>0.62</td>\n    </tr>\n    <tr>\n      <th>Sonya</th>\n      <th>Bruiser</th>\n      <td>32</td>\n      <td>22</td>\n      <td>0.69</td>\n    </tr>\n    <tr>\n      <th>Tassadar</th>\n      <th>Ranged Assassin</th>\n      <td>58</td>\n      <td>22</td>\n      <td>0.38</td>\n    </tr>\n    <tr>\n      <th>Tychus</th>\n      <th>Ranged Assassin</th>\n      <td>90</td>\n      <td>54</td>\n      <td>0.60</td>\n    </tr>\n    <tr>\n      <th>Zul'jin</th>\n      <th>Ranged Assassin</th>\n      <td>84</td>\n      <td>46</td>\n      <td>0.55</td>\n    </tr>\n    <tr>\n      <th rowspan=\"5\" valign=\"top\">TheCaptain#12345</th>\n      <th>Cassia</th>\n      <th>Ranged Assassin</th>\n      <td>112</td>\n      <td>72</td>\n      <td>0.64</td>\n    </tr>\n    <tr>\n      <th>Jaina</th>\n      <th>Ranged Assassin</th>\n      <td>272</td>\n      <td>156</td>\n      <td>0.57</td>\n    </tr>\n    <tr>\n      <th>Orphea</th>\n      <th>Ranged Assassin</th>\n      <td>90</td>\n      <td>46</td>\n      <td>0.51</td>\n    </tr>\n    <tr>\n      <th>Valla</th>\n      <th>Ranged Assassin</th>\n      <td>72</td>\n      <td>32</td>\n      <td>0.44</td>\n    </tr>\n    <tr>\n      <th>Varian</th>\n      <th>Bruiser</th>\n      <td>98</td>\n      <td>44</td>\n      <td>0.45</td>\n    </tr>\n    <tr>\n      <th rowspan=\"5\" valign=\"top\">YipYip#11141</th>\n      <th>Cassia</th>\n      <th>Ranged Assassin</th>\n      <td>10</td>\n      <td>6</td>\n      <td>0.60</td>\n    </tr>\n    <tr>\n      <th>Lunara</th>\n      <th>Ranged Assassin</th>\n      <td>16</td>\n      <td>8</td>\n      <td>0.50</td>\n    </tr>\n    <tr>\n      <th>Raynor</th>\n      <th>Ranged Assassin</th>\n      <td>16</td>\n      <td>12</td>\n      <td>0.75</td>\n    </tr>\n    <tr>\n      <th>Sylvanas</th>\n      <th>Ranged Assassin</th>\n      <td>14</td>\n      <td>4</td>\n      <td>0.29</td>\n    </tr>\n    <tr>\n      <th>Valla</th>\n      <th>Ranged Assassin</th>\n      <td>14</td>\n      <td>6</td>\n      <td>0.43</td>\n    </tr>\n  </tbody>\n</table>\n</div>"
     },
     "execution_count": 225,
     "metadata": {},
     "output_type": "execute_result"
    }
   ],
   "source": [
    "dfn = df[[*dps_agg_points]].groupby(['Battletag', 'Hero', 'NewRole']).agg(\n",
    "    HeroCount=('Kills', 'count')\n",
    "    , Wins=('IsWinner', 'sum')\n",
    ").sort_values('HeroCount', ascending=False)\n",
    "\n",
    "dfn['WinRate'] = round(dfn.Wins / dfn.HeroCount, 2)\n",
    "\n",
    "dfn.groupby(['Battletag']).head(5).sort_index()\n",
    "# df.sort_values('Count', ascending=False).groupby('Date').head(2).sort_index()"
   ],
   "metadata": {
    "collapsed": false,
    "pycharm": {
     "name": "#%%\n"
    }
   }
  },
  {
   "cell_type": "code",
   "execution_count": null,
   "outputs": [],
   "source": [],
   "metadata": {
    "collapsed": false,
    "pycharm": {
     "name": "#%%\n"
    }
   }
  }
 ],
 "metadata": {
  "kernelspec": {
   "display_name": "Python 3",
   "language": "python",
   "name": "python3"
  },
  "language_info": {
   "codemirror_mode": {
    "name": "ipython",
    "version": 2
   },
   "file_extension": ".py",
   "mimetype": "text/x-python",
   "name": "python",
   "nbconvert_exporter": "python",
   "pygments_lexer": "ipython2",
   "version": "2.7.6"
  }
 },
 "nbformat": 4,
 "nbformat_minor": 0
}