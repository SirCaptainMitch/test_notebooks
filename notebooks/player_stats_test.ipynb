{
 "cells": [
  {
   "cell_type": "code",
   "execution_count": 1,
   "metadata": {
    "collapsed": true,
    "pycharm": {
     "name": "#%%\n"
    }
   },
   "outputs": [],
   "source": [
    "import json\n",
    "import csv\n",
    "import os\n",
    "from pprint import pprint as pr\n",
    "import sqlalchemy as sa\n",
    "from sqlalchemy import join\n",
    "import pandas as pd\n",
    "from app.sample_data import stat_vectors, comp_style_vectors, map_style_vectors, roles"
   ]
  },
  {
   "cell_type": "code",
   "execution_count": 2,
   "outputs": [],
   "source": [
    "BASE_DIR = os.path.abspath(os.path.dirname('../'))\n",
    "\n",
    "SERVER='192.168.0.245'\n",
    "SQLSERVER_DATABASE='lookingglass'\n",
    "SQLSERVER_USER='thecaptain'\n",
    "SQLSERVER_PASSWORD='99Redbal00ns'\n",
    "PORT=1433\n",
    "SQLSERVER_BASE_URI = 'mssql+pyodbc://{USER}:{PWD}@{SERVER}:{PORT}/{DATABASE}?driver=ODBC+Driver+17+for+SQL+Server'\n",
    "\n",
    "engine = sa.create_engine(SQLSERVER_BASE_URI.format(\n",
    "  SERVER=SERVER,\n",
    "  DATABASE=SQLSERVER_DATABASE,\n",
    "  USER=SQLSERVER_USER,\n",
    "  PWD=SQLSERVER_PASSWORD,\n",
    "  PORT=PORT\n",
    "))\n",
    "\n",
    "meta_data = sa.MetaData(bind=engine)\n",
    "sa.MetaData.reflect(meta_data)"
   ],
   "metadata": {
    "collapsed": false,
    "pycharm": {
     "name": "#%%\n"
    }
   }
  },
  {
   "cell_type": "code",
   "execution_count": 3,
   "outputs": [],
   "source": [
    "Player=meta_data.tables['Player']\n",
    "TeamMember=meta_data.tables['TeamMember']\n",
    "Hero=meta_data.tables['Hero']\n",
    "Battleground=meta_data.tables['Map']\n",
    "Replay=meta_data.tables['Replay']"
   ],
   "metadata": {
    "collapsed": false,
    "pycharm": {
     "name": "#%%\n"
    }
   }
  },
  {
   "cell_type": "code",
   "execution_count": 4,
   "outputs": [
    {
     "data": {
      "text/plain": "(914, 71)"
     },
     "execution_count": 4,
     "metadata": {},
     "output_type": "execute_result"
    }
   ],
   "source": [
    "team_id = 4109\n",
    "act_list = ['TheCaptain#12345', 'Aly#11717']\n",
    "\n",
    "j = Replay.join(Player,Player.c.Battletag == Replay.c.Battletag).join(Hero, Replay.c.Hero == Hero.c.HeroName)\n",
    "\n",
    "query = sa.select(\n",
    "    Replay\n",
    "    , Player.c.PlayerId\n",
    "    , Hero.c.HeroId\n",
    "    , Hero.c.NewRole\n",
    ").select_from(j).where(sa.and_(\n",
    "    Replay.c.GameDate >= '01/01/2022'\n",
    "    , Player.c.Battletag.in_(act_list)\n",
    "))\n",
    "\n",
    "df = pd.read_sql(sql = query,\n",
    "                 con = engine)\n",
    "df['Battletag'].drop_duplicates(keep='first', inplace=True)\n",
    "df.Battletag = 'TheCaptain#12345'\n",
    "df.shape"
   ],
   "metadata": {
    "collapsed": false,
    "pycharm": {
     "name": "#%%\n"
    }
   }
  },
  {
   "cell_type": "code",
   "execution_count": 37,
   "outputs": [
    {
     "data": {
      "text/plain": "ReplayId                   int64\nSourceReplayId             int64\nReplaySource              object\nBattletag                 object\nGameDate          datetime64[ns]\n                       ...      \nYearCode                   int64\nMonthCode                  int64\nDayCode                    int64\nTarget                     int32\nMapCode                     int8\nLength: 78, dtype: object"
     },
     "execution_count": 37,
     "metadata": {},
     "output_type": "execute_result"
    }
   ],
   "source": [
    "df.dtypes"
   ],
   "metadata": {
    "collapsed": false,
    "pycharm": {
     "name": "#%%\n"
    }
   }
  },
  {
   "cell_type": "code",
   "execution_count": 36,
   "outputs": [
    {
     "data": {
      "text/plain": "   ReplayId  SourceReplayId   ReplaySource         Battletag  \\\n0         2        41465867  HeroesProfile  TheCaptain#12345   \n1         4        41466439  HeroesProfile  TheCaptain#12345   \n2       208        41645712  HeroesProfile  TheCaptain#12345   \n3       499        41543545  HeroesProfile  TheCaptain#12345   \n4       500        41565424  HeroesProfile  TheCaptain#12345   \n\n             GameDate   RankedSeason     GameType  GameLength  \\\n0 2022-01-02 03:04:07  2022 Season 1  Quick Match        1009   \n1 2022-01-02 04:34:26  2022 Season 1  Quick Match        1105   \n2 2022-01-08 22:41:48  2022 Season 1  Quick Match         804   \n3 2022-01-05 02:00:00  2022 Season 1  Quick Match        1208   \n4 2022-01-04 00:35:51  2022 Season 1  Quick Match         820   \n\n            GameMap    Hero  ...  PlayerId  HeroId          NewRole  \\\n0        Sky Temple  Auriel  ...         1       9           Healer   \n1  Volskaya Foundry   Blaze  ...         1      11             Tank   \n2  Blackheart's Bay  Cassia  ...         1      13  Ranged Assassin   \n3  Infernal Shrines   Jaina  ...         1      35  Ranged Assassin   \n4     Cursed Hollow   Jaina  ...         1      35  Ranged Assassin   \n\n   GameTypeCode  HeroRoleCode  YearCode  MonthCode  DayCode Target MapCode  \n0             1             1      2022          1        6      0      10  \n1             1             5      2022          1        6      0      13  \n2             1             3      2022          1        5      1       2  \n3             1             3      2022          1        2      1       9  \n4             1             3      2022          1        1      1       4  \n\n[5 rows x 78 columns]",
      "text/html": "<div>\n<style scoped>\n    .dataframe tbody tr th:only-of-type {\n        vertical-align: middle;\n    }\n\n    .dataframe tbody tr th {\n        vertical-align: top;\n    }\n\n    .dataframe thead th {\n        text-align: right;\n    }\n</style>\n<table border=\"1\" class=\"dataframe\">\n  <thead>\n    <tr style=\"text-align: right;\">\n      <th></th>\n      <th>ReplayId</th>\n      <th>SourceReplayId</th>\n      <th>ReplaySource</th>\n      <th>Battletag</th>\n      <th>GameDate</th>\n      <th>RankedSeason</th>\n      <th>GameType</th>\n      <th>GameLength</th>\n      <th>GameMap</th>\n      <th>Hero</th>\n      <th>...</th>\n      <th>PlayerId</th>\n      <th>HeroId</th>\n      <th>NewRole</th>\n      <th>GameTypeCode</th>\n      <th>HeroRoleCode</th>\n      <th>YearCode</th>\n      <th>MonthCode</th>\n      <th>DayCode</th>\n      <th>Target</th>\n      <th>MapCode</th>\n    </tr>\n  </thead>\n  <tbody>\n    <tr>\n      <th>0</th>\n      <td>2</td>\n      <td>41465867</td>\n      <td>HeroesProfile</td>\n      <td>TheCaptain#12345</td>\n      <td>2022-01-02 03:04:07</td>\n      <td>2022 Season 1</td>\n      <td>Quick Match</td>\n      <td>1009</td>\n      <td>Sky Temple</td>\n      <td>Auriel</td>\n      <td>...</td>\n      <td>1</td>\n      <td>9</td>\n      <td>Healer</td>\n      <td>1</td>\n      <td>1</td>\n      <td>2022</td>\n      <td>1</td>\n      <td>6</td>\n      <td>0</td>\n      <td>10</td>\n    </tr>\n    <tr>\n      <th>1</th>\n      <td>4</td>\n      <td>41466439</td>\n      <td>HeroesProfile</td>\n      <td>TheCaptain#12345</td>\n      <td>2022-01-02 04:34:26</td>\n      <td>2022 Season 1</td>\n      <td>Quick Match</td>\n      <td>1105</td>\n      <td>Volskaya Foundry</td>\n      <td>Blaze</td>\n      <td>...</td>\n      <td>1</td>\n      <td>11</td>\n      <td>Tank</td>\n      <td>1</td>\n      <td>5</td>\n      <td>2022</td>\n      <td>1</td>\n      <td>6</td>\n      <td>0</td>\n      <td>13</td>\n    </tr>\n    <tr>\n      <th>2</th>\n      <td>208</td>\n      <td>41645712</td>\n      <td>HeroesProfile</td>\n      <td>TheCaptain#12345</td>\n      <td>2022-01-08 22:41:48</td>\n      <td>2022 Season 1</td>\n      <td>Quick Match</td>\n      <td>804</td>\n      <td>Blackheart's Bay</td>\n      <td>Cassia</td>\n      <td>...</td>\n      <td>1</td>\n      <td>13</td>\n      <td>Ranged Assassin</td>\n      <td>1</td>\n      <td>3</td>\n      <td>2022</td>\n      <td>1</td>\n      <td>5</td>\n      <td>1</td>\n      <td>2</td>\n    </tr>\n    <tr>\n      <th>3</th>\n      <td>499</td>\n      <td>41543545</td>\n      <td>HeroesProfile</td>\n      <td>TheCaptain#12345</td>\n      <td>2022-01-05 02:00:00</td>\n      <td>2022 Season 1</td>\n      <td>Quick Match</td>\n      <td>1208</td>\n      <td>Infernal Shrines</td>\n      <td>Jaina</td>\n      <td>...</td>\n      <td>1</td>\n      <td>35</td>\n      <td>Ranged Assassin</td>\n      <td>1</td>\n      <td>3</td>\n      <td>2022</td>\n      <td>1</td>\n      <td>2</td>\n      <td>1</td>\n      <td>9</td>\n    </tr>\n    <tr>\n      <th>4</th>\n      <td>500</td>\n      <td>41565424</td>\n      <td>HeroesProfile</td>\n      <td>TheCaptain#12345</td>\n      <td>2022-01-04 00:35:51</td>\n      <td>2022 Season 1</td>\n      <td>Quick Match</td>\n      <td>820</td>\n      <td>Cursed Hollow</td>\n      <td>Jaina</td>\n      <td>...</td>\n      <td>1</td>\n      <td>35</td>\n      <td>Ranged Assassin</td>\n      <td>1</td>\n      <td>3</td>\n      <td>2022</td>\n      <td>1</td>\n      <td>1</td>\n      <td>1</td>\n      <td>4</td>\n    </tr>\n  </tbody>\n</table>\n<p>5 rows × 78 columns</p>\n</div>"
     },
     "execution_count": 36,
     "metadata": {},
     "output_type": "execute_result"
    }
   ],
   "source": [
    "##Formatting the data\n",
    "df['GameTypeCode'] = df.GameType.astype('category').cat.codes\n",
    "df['HeroRoleCode'] = df.NewRole.astype('category').cat.codes\n",
    "df['MapCode'] = df.GameMap.astype('category').cat.codes\n",
    "df['YearCode'] = df.GameDate.dt.year\n",
    "df['MonthCode'] = df.GameDate.dt.month\n",
    "df['DayCode'] = df.GameDate.dt.dayofweek\n",
    "\n",
    "##Creating a target to determine outcome\n",
    "df['Target'] = (df.IsWinner == 1 ).astype('int')\n",
    "\n",
    "df.head(5)"
   ],
   "metadata": {
    "collapsed": false,
    "pycharm": {
     "name": "#%%\n"
    }
   }
  },
  {
   "cell_type": "code",
   "execution_count": 62,
   "outputs": [],
   "source": [
    "from sklearn.ensemble import RandomForestClassifier\n",
    "from sklearn.metrics import accuracy_score, precision_score"
   ],
   "metadata": {
    "collapsed": false,
    "pycharm": {
     "name": "#%%\n"
    }
   }
  },
  {
   "cell_type": "code",
   "execution_count": 44,
   "outputs": [],
   "source": [
    "rf = RandomForestClassifier(\n",
    "    n_estimators=50\n",
    "    , min_samples_split=10\n",
    "    , random_state=1\n",
    ")"
   ],
   "metadata": {
    "collapsed": false,
    "pycharm": {
     "name": "#%%\n"
    }
   }
  },
  {
   "cell_type": "code",
   "execution_count": 45,
   "outputs": [],
   "source": [
    "train = df[df.GameDate < '2022-05-01']\n",
    "test = df[df.GameDate >= '2022-05-01']"
   ],
   "metadata": {
    "collapsed": false,
    "pycharm": {
     "name": "#%%\n"
    }
   }
  },
  {
   "cell_type": "code",
   "execution_count": 97,
   "outputs": [],
   "source": [
    "predictors = [\n",
    "    'HeroId', 'MapCode', 'GameTypeCode', 'HeroRoleCode', 'GameLength'\n",
    "    , 'HeroLevel', 'Kills', 'Assists', 'Deaths'\n",
    "    , 'ExperienceContribution'\n",
    "    , 'FirstToTen', 'Level', 'HeroDamage', 'Healing'\n",
    "    , 'Takedowns'\n",
    "    , 'DayCode', 'SelfHealing', 'DamageTaken', 'TimeSpentDead'\n",
    "]"
   ],
   "metadata": {
    "collapsed": false,
    "pycharm": {
     "name": "#%%\n"
    }
   }
  },
  {
   "cell_type": "code",
   "execution_count": 98,
   "outputs": [
    {
     "name": "stderr",
     "output_type": "stream",
     "text": [
      "c:\\source\\innovation\\insight\\lookingglass_playground\\venv\\lib\\site-packages\\sklearn\\utils\\validation.py:1858: FutureWarning: Feature names only support names that are all strings. Got feature names with dtypes: ['quoted_name', 'str']. An error will be raised in 1.2.\n",
      "  warnings.warn(\n"
     ]
    },
    {
     "data": {
      "text/plain": "RandomForestClassifier(min_samples_split=10, n_estimators=50, random_state=1)",
      "text/html": "<style>#sk-container-id-6 {color: black;background-color: white;}#sk-container-id-6 pre{padding: 0;}#sk-container-id-6 div.sk-toggleable {background-color: white;}#sk-container-id-6 label.sk-toggleable__label {cursor: pointer;display: block;width: 100%;margin-bottom: 0;padding: 0.3em;box-sizing: border-box;text-align: center;}#sk-container-id-6 label.sk-toggleable__label-arrow:before {content: \"▸\";float: left;margin-right: 0.25em;color: #696969;}#sk-container-id-6 label.sk-toggleable__label-arrow:hover:before {color: black;}#sk-container-id-6 div.sk-estimator:hover label.sk-toggleable__label-arrow:before {color: black;}#sk-container-id-6 div.sk-toggleable__content {max-height: 0;max-width: 0;overflow: hidden;text-align: left;background-color: #f0f8ff;}#sk-container-id-6 div.sk-toggleable__content pre {margin: 0.2em;color: black;border-radius: 0.25em;background-color: #f0f8ff;}#sk-container-id-6 input.sk-toggleable__control:checked~div.sk-toggleable__content {max-height: 200px;max-width: 100%;overflow: auto;}#sk-container-id-6 input.sk-toggleable__control:checked~label.sk-toggleable__label-arrow:before {content: \"▾\";}#sk-container-id-6 div.sk-estimator input.sk-toggleable__control:checked~label.sk-toggleable__label {background-color: #d4ebff;}#sk-container-id-6 div.sk-label input.sk-toggleable__control:checked~label.sk-toggleable__label {background-color: #d4ebff;}#sk-container-id-6 input.sk-hidden--visually {border: 0;clip: rect(1px 1px 1px 1px);clip: rect(1px, 1px, 1px, 1px);height: 1px;margin: -1px;overflow: hidden;padding: 0;position: absolute;width: 1px;}#sk-container-id-6 div.sk-estimator {font-family: monospace;background-color: #f0f8ff;border: 1px dotted black;border-radius: 0.25em;box-sizing: border-box;margin-bottom: 0.5em;}#sk-container-id-6 div.sk-estimator:hover {background-color: #d4ebff;}#sk-container-id-6 div.sk-parallel-item::after {content: \"\";width: 100%;border-bottom: 1px solid gray;flex-grow: 1;}#sk-container-id-6 div.sk-label:hover label.sk-toggleable__label {background-color: #d4ebff;}#sk-container-id-6 div.sk-serial::before {content: \"\";position: absolute;border-left: 1px solid gray;box-sizing: border-box;top: 0;bottom: 0;left: 50%;z-index: 0;}#sk-container-id-6 div.sk-serial {display: flex;flex-direction: column;align-items: center;background-color: white;padding-right: 0.2em;padding-left: 0.2em;position: relative;}#sk-container-id-6 div.sk-item {position: relative;z-index: 1;}#sk-container-id-6 div.sk-parallel {display: flex;align-items: stretch;justify-content: center;background-color: white;position: relative;}#sk-container-id-6 div.sk-item::before, #sk-container-id-6 div.sk-parallel-item::before {content: \"\";position: absolute;border-left: 1px solid gray;box-sizing: border-box;top: 0;bottom: 0;left: 50%;z-index: -1;}#sk-container-id-6 div.sk-parallel-item {display: flex;flex-direction: column;z-index: 1;position: relative;background-color: white;}#sk-container-id-6 div.sk-parallel-item:first-child::after {align-self: flex-end;width: 50%;}#sk-container-id-6 div.sk-parallel-item:last-child::after {align-self: flex-start;width: 50%;}#sk-container-id-6 div.sk-parallel-item:only-child::after {width: 0;}#sk-container-id-6 div.sk-dashed-wrapped {border: 1px dashed gray;margin: 0 0.4em 0.5em 0.4em;box-sizing: border-box;padding-bottom: 0.4em;background-color: white;}#sk-container-id-6 div.sk-label label {font-family: monospace;font-weight: bold;display: inline-block;line-height: 1.2em;}#sk-container-id-6 div.sk-label-container {text-align: center;}#sk-container-id-6 div.sk-container {/* jupyter's `normalize.less` sets `[hidden] { display: none; }` but bootstrap.min.css set `[hidden] { display: none !important; }` so we also need the `!important` here to be able to override the default hidden behavior on the sphinx rendered scikit-learn.org. See: https://github.com/scikit-learn/scikit-learn/issues/21755 */display: inline-block !important;position: relative;}#sk-container-id-6 div.sk-text-repr-fallback {display: none;}</style><div id=\"sk-container-id-6\" class=\"sk-top-container\"><div class=\"sk-text-repr-fallback\"><pre>RandomForestClassifier(min_samples_split=10, n_estimators=50, random_state=1)</pre><b>In a Jupyter environment, please rerun this cell to show the HTML representation or trust the notebook. <br />On GitHub, the HTML representation is unable to render, please try loading this page with nbviewer.org.</b></div><div class=\"sk-container\" hidden><div class=\"sk-item\"><div class=\"sk-estimator sk-toggleable\"><input class=\"sk-toggleable__control sk-hidden--visually\" id=\"sk-estimator-id-6\" type=\"checkbox\" checked><label for=\"sk-estimator-id-6\" class=\"sk-toggleable__label sk-toggleable__label-arrow\">RandomForestClassifier</label><div class=\"sk-toggleable__content\"><pre>RandomForestClassifier(min_samples_split=10, n_estimators=50, random_state=1)</pre></div></div></div></div></div>"
     },
     "execution_count": 98,
     "metadata": {},
     "output_type": "execute_result"
    }
   ],
   "source": [
    "rf.fit(train[predictors], train[\"Target\"])"
   ],
   "metadata": {
    "collapsed": false,
    "pycharm": {
     "name": "#%%\n"
    }
   }
  },
  {
   "cell_type": "code",
   "execution_count": 99,
   "outputs": [
    {
     "name": "stderr",
     "output_type": "stream",
     "text": [
      "c:\\source\\innovation\\insight\\lookingglass_playground\\venv\\lib\\site-packages\\sklearn\\utils\\validation.py:1858: FutureWarning: Feature names only support names that are all strings. Got feature names with dtypes: ['quoted_name', 'str']. An error will be raised in 1.2.\n",
      "  warnings.warn(\n"
     ]
    }
   ],
   "source": [
    "preds = rf.predict(test[predictors])"
   ],
   "metadata": {
    "collapsed": false,
    "pycharm": {
     "name": "#%%\n"
    }
   }
  },
  {
   "cell_type": "code",
   "execution_count": 121,
   "outputs": [
    {
     "data": {
      "text/plain": "0.8282828282828283"
     },
     "execution_count": 121,
     "metadata": {},
     "output_type": "execute_result"
    }
   ],
   "source": [
    "accuracy_score(test['Target'], preds)"
   ],
   "metadata": {
    "collapsed": false,
    "pycharm": {
     "name": "#%%\n"
    }
   }
  },
  {
   "cell_type": "code",
   "execution_count": 124,
   "outputs": [
    {
     "data": {
      "text/plain": "prediction    0    1\nactual              \n0           168   27\n1            41  160",
      "text/html": "<div>\n<style scoped>\n    .dataframe tbody tr th:only-of-type {\n        vertical-align: middle;\n    }\n\n    .dataframe tbody tr th {\n        vertical-align: top;\n    }\n\n    .dataframe thead th {\n        text-align: right;\n    }\n</style>\n<table border=\"1\" class=\"dataframe\">\n  <thead>\n    <tr style=\"text-align: right;\">\n      <th>prediction</th>\n      <th>0</th>\n      <th>1</th>\n    </tr>\n    <tr>\n      <th>actual</th>\n      <th></th>\n      <th></th>\n    </tr>\n  </thead>\n  <tbody>\n    <tr>\n      <th>0</th>\n      <td>168</td>\n      <td>27</td>\n    </tr>\n    <tr>\n      <th>1</th>\n      <td>41</td>\n      <td>160</td>\n    </tr>\n  </tbody>\n</table>\n</div>"
     },
     "execution_count": 124,
     "metadata": {},
     "output_type": "execute_result"
    }
   ],
   "source": [
    "combined = pd.DataFrame(dict(actual=test[\"Target\"], prediction=preds))\n",
    "pd.crosstab(index=combined[\"actual\"], columns=combined[\"prediction\"])"
   ],
   "metadata": {
    "collapsed": false,
    "pycharm": {
     "name": "#%%\n"
    }
   }
  },
  {
   "cell_type": "code",
   "execution_count": 125,
   "outputs": [
    {
     "data": {
      "text/plain": "0.8556149732620321"
     },
     "execution_count": 125,
     "metadata": {},
     "output_type": "execute_result"
    }
   ],
   "source": [
    "precision_score(test['Target'], preds)"
   ],
   "metadata": {
    "collapsed": false,
    "pycharm": {
     "name": "#%%\n"
    }
   }
  },
  {
   "cell_type": "code",
   "execution_count": 126,
   "outputs": [
    {
     "data": {
      "text/plain": "     ReplayId  SourceReplayId   ReplaySource         Battletag  \\\n3         499        41543545  HeroesProfile  TheCaptain#12345   \n4         500        41565424  HeroesProfile  TheCaptain#12345   \n18       1515        41625127  HeroesProfile  TheCaptain#12345   \n19       1516        41665508  HeroesProfile  TheCaptain#12345   \n27       1912        41543052  HeroesProfile  TheCaptain#12345   \n..        ...             ...            ...               ...   \n881    473832        44631726  HeroesProfile  TheCaptain#12345   \n882    473833        44631941  HeroesProfile  TheCaptain#12345   \n883    473834        44632659  HeroesProfile  TheCaptain#12345   \n884    473835        44656365  HeroesProfile  TheCaptain#12345   \n894    473845        44556143  HeroesProfile  TheCaptain#12345   \n\n               GameDate   RankedSeason      GameType  GameLength  \\\n3   2022-01-05 02:00:00  2022 Season 1   Quick Match        1208   \n4   2022-01-04 00:35:51  2022 Season 1   Quick Match         820   \n18  2022-01-09 00:00:13  2022 Season 1        Custom        1018   \n19  2022-01-11 02:15:34  2022 Season 1        Custom         918   \n27  2022-01-04 03:28:57  2022 Season 1  Storm League        1376   \n..                  ...            ...           ...         ...   \n881 2022-07-04 19:55:38                 Storm League        1329   \n882 2022-07-04 20:27:14                 Storm League        1411   \n883 2022-07-04 21:38:23                 Storm League        1536   \n884 2022-07-05 23:53:32                 Storm League        1488   \n894 2022-06-29 02:07:03                       Custom         912   \n\n                      GameMap   Hero  ...  PlayerId  HeroId          NewRole  \\\n3            Infernal Shrines  Jaina  ...         1      35  Ranged Assassin   \n4               Cursed Hollow  Jaina  ...         1      35  Ranged Assassin   \n18           Infernal Shrines  Jaina  ...         1      35  Ranged Assassin   \n19               Dragon Shire  Jaina  ...         1      35  Ranged Assassin   \n27               Dragon Shire  Jaina  ...         1      35  Ranged Assassin   \n..                        ...    ...  ...       ...     ...              ...   \n881             Cursed Hollow  Jaina  ...         1      35  Ranged Assassin   \n882          Garden of Terror  Jaina  ...         1      35  Ranged Assassin   \n883  Tomb of the Spider Queen  Jaina  ...         1      35  Ranged Assassin   \n884             Cursed Hollow  Jaina  ...         1      35  Ranged Assassin   \n894            Towers of Doom  Jaina  ...         1      35  Ranged Assassin   \n\n     GameTypeCode  HeroRoleCode  YearCode  MonthCode  DayCode Target MapCode  \n3               1             3      2022          1        2      1       9  \n4               1             3      2022          1        1      1       4  \n18              0             3      2022          1        6      0       9  \n19              0             3      2022          1        1      0       5  \n27              2             3      2022          1        1      0       5  \n..            ...           ...       ...        ...      ...    ...     ...  \n881             2             3      2022          7        0      0       4  \n882             2             3      2022          7        0      1       6  \n883             2             3      2022          7        0      1      11  \n884             2             3      2022          7        1      0       4  \n894             0             3      2022          6        2      0      12  \n\n[193 rows x 78 columns]",
      "text/html": "<div>\n<style scoped>\n    .dataframe tbody tr th:only-of-type {\n        vertical-align: middle;\n    }\n\n    .dataframe tbody tr th {\n        vertical-align: top;\n    }\n\n    .dataframe thead th {\n        text-align: right;\n    }\n</style>\n<table border=\"1\" class=\"dataframe\">\n  <thead>\n    <tr style=\"text-align: right;\">\n      <th></th>\n      <th>ReplayId</th>\n      <th>SourceReplayId</th>\n      <th>ReplaySource</th>\n      <th>Battletag</th>\n      <th>GameDate</th>\n      <th>RankedSeason</th>\n      <th>GameType</th>\n      <th>GameLength</th>\n      <th>GameMap</th>\n      <th>Hero</th>\n      <th>...</th>\n      <th>PlayerId</th>\n      <th>HeroId</th>\n      <th>NewRole</th>\n      <th>GameTypeCode</th>\n      <th>HeroRoleCode</th>\n      <th>YearCode</th>\n      <th>MonthCode</th>\n      <th>DayCode</th>\n      <th>Target</th>\n      <th>MapCode</th>\n    </tr>\n  </thead>\n  <tbody>\n    <tr>\n      <th>3</th>\n      <td>499</td>\n      <td>41543545</td>\n      <td>HeroesProfile</td>\n      <td>TheCaptain#12345</td>\n      <td>2022-01-05 02:00:00</td>\n      <td>2022 Season 1</td>\n      <td>Quick Match</td>\n      <td>1208</td>\n      <td>Infernal Shrines</td>\n      <td>Jaina</td>\n      <td>...</td>\n      <td>1</td>\n      <td>35</td>\n      <td>Ranged Assassin</td>\n      <td>1</td>\n      <td>3</td>\n      <td>2022</td>\n      <td>1</td>\n      <td>2</td>\n      <td>1</td>\n      <td>9</td>\n    </tr>\n    <tr>\n      <th>4</th>\n      <td>500</td>\n      <td>41565424</td>\n      <td>HeroesProfile</td>\n      <td>TheCaptain#12345</td>\n      <td>2022-01-04 00:35:51</td>\n      <td>2022 Season 1</td>\n      <td>Quick Match</td>\n      <td>820</td>\n      <td>Cursed Hollow</td>\n      <td>Jaina</td>\n      <td>...</td>\n      <td>1</td>\n      <td>35</td>\n      <td>Ranged Assassin</td>\n      <td>1</td>\n      <td>3</td>\n      <td>2022</td>\n      <td>1</td>\n      <td>1</td>\n      <td>1</td>\n      <td>4</td>\n    </tr>\n    <tr>\n      <th>18</th>\n      <td>1515</td>\n      <td>41625127</td>\n      <td>HeroesProfile</td>\n      <td>TheCaptain#12345</td>\n      <td>2022-01-09 00:00:13</td>\n      <td>2022 Season 1</td>\n      <td>Custom</td>\n      <td>1018</td>\n      <td>Infernal Shrines</td>\n      <td>Jaina</td>\n      <td>...</td>\n      <td>1</td>\n      <td>35</td>\n      <td>Ranged Assassin</td>\n      <td>0</td>\n      <td>3</td>\n      <td>2022</td>\n      <td>1</td>\n      <td>6</td>\n      <td>0</td>\n      <td>9</td>\n    </tr>\n    <tr>\n      <th>19</th>\n      <td>1516</td>\n      <td>41665508</td>\n      <td>HeroesProfile</td>\n      <td>TheCaptain#12345</td>\n      <td>2022-01-11 02:15:34</td>\n      <td>2022 Season 1</td>\n      <td>Custom</td>\n      <td>918</td>\n      <td>Dragon Shire</td>\n      <td>Jaina</td>\n      <td>...</td>\n      <td>1</td>\n      <td>35</td>\n      <td>Ranged Assassin</td>\n      <td>0</td>\n      <td>3</td>\n      <td>2022</td>\n      <td>1</td>\n      <td>1</td>\n      <td>0</td>\n      <td>5</td>\n    </tr>\n    <tr>\n      <th>27</th>\n      <td>1912</td>\n      <td>41543052</td>\n      <td>HeroesProfile</td>\n      <td>TheCaptain#12345</td>\n      <td>2022-01-04 03:28:57</td>\n      <td>2022 Season 1</td>\n      <td>Storm League</td>\n      <td>1376</td>\n      <td>Dragon Shire</td>\n      <td>Jaina</td>\n      <td>...</td>\n      <td>1</td>\n      <td>35</td>\n      <td>Ranged Assassin</td>\n      <td>2</td>\n      <td>3</td>\n      <td>2022</td>\n      <td>1</td>\n      <td>1</td>\n      <td>0</td>\n      <td>5</td>\n    </tr>\n    <tr>\n      <th>...</th>\n      <td>...</td>\n      <td>...</td>\n      <td>...</td>\n      <td>...</td>\n      <td>...</td>\n      <td>...</td>\n      <td>...</td>\n      <td>...</td>\n      <td>...</td>\n      <td>...</td>\n      <td>...</td>\n      <td>...</td>\n      <td>...</td>\n      <td>...</td>\n      <td>...</td>\n      <td>...</td>\n      <td>...</td>\n      <td>...</td>\n      <td>...</td>\n      <td>...</td>\n      <td>...</td>\n    </tr>\n    <tr>\n      <th>881</th>\n      <td>473832</td>\n      <td>44631726</td>\n      <td>HeroesProfile</td>\n      <td>TheCaptain#12345</td>\n      <td>2022-07-04 19:55:38</td>\n      <td></td>\n      <td>Storm League</td>\n      <td>1329</td>\n      <td>Cursed Hollow</td>\n      <td>Jaina</td>\n      <td>...</td>\n      <td>1</td>\n      <td>35</td>\n      <td>Ranged Assassin</td>\n      <td>2</td>\n      <td>3</td>\n      <td>2022</td>\n      <td>7</td>\n      <td>0</td>\n      <td>0</td>\n      <td>4</td>\n    </tr>\n    <tr>\n      <th>882</th>\n      <td>473833</td>\n      <td>44631941</td>\n      <td>HeroesProfile</td>\n      <td>TheCaptain#12345</td>\n      <td>2022-07-04 20:27:14</td>\n      <td></td>\n      <td>Storm League</td>\n      <td>1411</td>\n      <td>Garden of Terror</td>\n      <td>Jaina</td>\n      <td>...</td>\n      <td>1</td>\n      <td>35</td>\n      <td>Ranged Assassin</td>\n      <td>2</td>\n      <td>3</td>\n      <td>2022</td>\n      <td>7</td>\n      <td>0</td>\n      <td>1</td>\n      <td>6</td>\n    </tr>\n    <tr>\n      <th>883</th>\n      <td>473834</td>\n      <td>44632659</td>\n      <td>HeroesProfile</td>\n      <td>TheCaptain#12345</td>\n      <td>2022-07-04 21:38:23</td>\n      <td></td>\n      <td>Storm League</td>\n      <td>1536</td>\n      <td>Tomb of the Spider Queen</td>\n      <td>Jaina</td>\n      <td>...</td>\n      <td>1</td>\n      <td>35</td>\n      <td>Ranged Assassin</td>\n      <td>2</td>\n      <td>3</td>\n      <td>2022</td>\n      <td>7</td>\n      <td>0</td>\n      <td>1</td>\n      <td>11</td>\n    </tr>\n    <tr>\n      <th>884</th>\n      <td>473835</td>\n      <td>44656365</td>\n      <td>HeroesProfile</td>\n      <td>TheCaptain#12345</td>\n      <td>2022-07-05 23:53:32</td>\n      <td></td>\n      <td>Storm League</td>\n      <td>1488</td>\n      <td>Cursed Hollow</td>\n      <td>Jaina</td>\n      <td>...</td>\n      <td>1</td>\n      <td>35</td>\n      <td>Ranged Assassin</td>\n      <td>2</td>\n      <td>3</td>\n      <td>2022</td>\n      <td>7</td>\n      <td>1</td>\n      <td>0</td>\n      <td>4</td>\n    </tr>\n    <tr>\n      <th>894</th>\n      <td>473845</td>\n      <td>44556143</td>\n      <td>HeroesProfile</td>\n      <td>TheCaptain#12345</td>\n      <td>2022-06-29 02:07:03</td>\n      <td></td>\n      <td>Custom</td>\n      <td>912</td>\n      <td>Towers of Doom</td>\n      <td>Jaina</td>\n      <td>...</td>\n      <td>1</td>\n      <td>35</td>\n      <td>Ranged Assassin</td>\n      <td>0</td>\n      <td>3</td>\n      <td>2022</td>\n      <td>6</td>\n      <td>2</td>\n      <td>0</td>\n      <td>12</td>\n    </tr>\n  </tbody>\n</table>\n<p>193 rows × 78 columns</p>\n</div>"
     },
     "execution_count": 126,
     "metadata": {},
     "output_type": "execute_result"
    }
   ],
   "source": [
    "grouped_replays = df.groupby('Hero')\n",
    "group = grouped_replays.get_group('Jaina')\n",
    "group"
   ],
   "metadata": {
    "collapsed": false,
    "pycharm": {
     "name": "#%%\n"
    }
   }
  },
  {
   "cell_type": "code",
   "execution_count": 117,
   "outputs": [],
   "source": [
    "def rolling_averages(group, cols, new_cols):\n",
    "    group = group.sort_values(\"GameDate\")\n",
    "    rolling_stats = group[cols].rolling(3, closed='left').mean()\n",
    "    group[new_cols] = rolling_stats\n",
    "    group = group.dropna(subset=new_cols)\n",
    "    return group"
   ],
   "metadata": {
    "collapsed": false,
    "pycharm": {
     "name": "#%%\n"
    }
   }
  },
  {
   "cell_type": "code",
   "execution_count": 118,
   "outputs": [],
   "source": [
    "cols = [\n",
    "      'Kills', 'Assists', 'Takedowns', 'Deaths'\n",
    "    , 'Level', 'HighestKillStreak', 'HeroDamage'\n",
    "    , 'SiegeDamage', 'StructureDamage', 'MinionDamage', 'CreepDamage'\n",
    "    , 'SummonDamage', 'TimeCcEnemyHeroes', 'Healing', 'SelfHealing'\n",
    "    , 'DamageTaken', 'ExperienceContribution', 'TownKills', 'TimeSpentDead'\n",
    "    , 'MercCampCaptures', 'WatchTowerCaptures', 'MetaExperience'\n",
    "    , 'ProtectionAllies', 'SilencingEnemies', 'RootingEnemies'\n",
    "    , 'StunningEnemies', 'ClutchHeals', 'Escapes', 'Vengeance'\n",
    "    , 'OutnumberedDeaths', 'TeamfightEscapes', 'TeamfightHealing'\n",
    "    , 'TeamfightDamageTaken', 'TeamfightHeroDamage', 'Multikill'\n",
    "    , 'PhysicalDamage', 'SpellDamage', 'RegenGlobes'\n",
    "]\n",
    "\n",
    "new_cols = [f'{c}_Rolling' for c in cols]"
   ],
   "metadata": {
    "collapsed": false,
    "pycharm": {
     "name": "#%%\n"
    }
   }
  },
  {
   "cell_type": "code",
   "execution_count": 119,
   "outputs": [
    {
     "data": {
      "text/plain": "     ReplayId  SourceReplayId   ReplaySource         Battletag  \\\n28       1913        41543438  HeroesProfile  TheCaptain#12345   \n3         499        41543545  HeroesProfile  TheCaptain#12345   \n29       1914        41556021  HeroesProfile  TheCaptain#12345   \n30       1915        41556747  HeroesProfile  TheCaptain#12345   \n31       1919        41591364  HeroesProfile  TheCaptain#12345   \n..        ...             ...            ...               ...   \n894    473845        44556143  HeroesProfile  TheCaptain#12345   \n881    473832        44631726  HeroesProfile  TheCaptain#12345   \n882    473833        44631941  HeroesProfile  TheCaptain#12345   \n883    473834        44632659  HeroesProfile  TheCaptain#12345   \n884    473835        44656365  HeroesProfile  TheCaptain#12345   \n\n               GameDate   RankedSeason      GameType  GameLength  \\\n28  2022-01-05 01:35:44  2022 Season 1  Storm League        1144   \n3   2022-01-05 02:00:00  2022 Season 1   Quick Match        1208   \n29  2022-01-06 01:22:38  2022 Season 1  Storm League        1058   \n30  2022-01-06 02:45:05  2022 Season 1  Storm League         913   \n31  2022-01-07 18:05:20  2022 Season 1  Storm League        1783   \n..                  ...            ...           ...         ...   \n894 2022-06-29 02:07:03                       Custom         912   \n881 2022-07-04 19:55:38                 Storm League        1329   \n882 2022-07-04 20:27:14                 Storm League        1411   \n883 2022-07-04 21:38:23                 Storm League        1536   \n884 2022-07-05 23:53:32                 Storm League        1488   \n\n                      GameMap   Hero  ...  Vengeance_Rolling  \\\n28             Towers of Doom  Jaina  ...           0.333333   \n3            Infernal Shrines  Jaina  ...           1.000000   \n29   Tomb of the Spider Queen  Jaina  ...           1.000000   \n30               Dragon Shire  Jaina  ...           1.000000   \n31   Tomb of the Spider Queen  Jaina  ...           0.333333   \n..                        ...    ...  ...                ...   \n894            Towers of Doom  Jaina  ...           0.333333   \n881             Cursed Hollow  Jaina  ...           0.000000   \n882          Garden of Terror  Jaina  ...           0.000000   \n883  Tomb of the Spider Queen  Jaina  ...           0.333333   \n884             Cursed Hollow  Jaina  ...           0.666667   \n\n     OutnumberedDeaths_Rolling  TeamfightEscapes_Rolling  \\\n28                    0.666667                  0.000000   \n3                     0.666667                  0.000000   \n29                    1.000000                  0.000000   \n30                    2.000000                  0.000000   \n31                    1.666667                  0.000000   \n..                         ...                       ...   \n894                   0.666667                  0.000000   \n881                   1.333333                  0.000000   \n882                   1.000000                  0.000000   \n883                   1.333333                  0.333333   \n884                   1.000000                  0.333333   \n\n     TeamfightHealing_Rolling  TeamfightDamageTaken_Rolling  \\\n28                        0.0                  17150.333333   \n3                         0.0                  16304.000000   \n29                        0.0                  20349.333333   \n30                        0.0                  15781.000000   \n31                        0.0                  14877.666667   \n..                        ...                           ...   \n894                       0.0                  13266.333333   \n881                       0.0                  13230.000000   \n882                       0.0                  15243.333333   \n883                       0.0                  16744.000000   \n884                       0.0                  16127.666667   \n\n     TeamfightHeroDamage_Rolling  Multikill_Rolling  PhysicalDamage_Rolling  \\\n28                  36979.000000           3.666667            28277.666667   \n3                   35169.000000           2.333333            20039.000000   \n29                  36474.000000           1.333333            18388.000000   \n30                  25868.666667           1.000000            16936.000000   \n31                  22303.666667           2.000000            16223.666667   \n..                           ...                ...                     ...   \n894                 21514.666667           2.000000            20656.333333   \n881                 24658.000000           2.333333            13262.000000   \n882                 29666.000000           2.333333            16668.666667   \n883                 32991.666667           2.666667            13302.666667   \n884                 33119.666667           3.000000            18006.000000   \n\n    SpellDamage_Rolling RegenGlobes_Rolling  \n28        152424.333333           24.666667  \n3         157784.666667           26.666667  \n29        165087.000000           29.666667  \n30        128147.666667           27.000000  \n31        127369.000000           27.000000  \n..                  ...                 ...  \n894       141567.000000           28.666667  \n881       119802.000000           20.333333  \n882       167064.333333           23.666667  \n883       171340.333333           24.333333  \n884       206803.000000           33.333333  \n\n[190 rows x 116 columns]",
      "text/html": "<div>\n<style scoped>\n    .dataframe tbody tr th:only-of-type {\n        vertical-align: middle;\n    }\n\n    .dataframe tbody tr th {\n        vertical-align: top;\n    }\n\n    .dataframe thead th {\n        text-align: right;\n    }\n</style>\n<table border=\"1\" class=\"dataframe\">\n  <thead>\n    <tr style=\"text-align: right;\">\n      <th></th>\n      <th>ReplayId</th>\n      <th>SourceReplayId</th>\n      <th>ReplaySource</th>\n      <th>Battletag</th>\n      <th>GameDate</th>\n      <th>RankedSeason</th>\n      <th>GameType</th>\n      <th>GameLength</th>\n      <th>GameMap</th>\n      <th>Hero</th>\n      <th>...</th>\n      <th>Vengeance_Rolling</th>\n      <th>OutnumberedDeaths_Rolling</th>\n      <th>TeamfightEscapes_Rolling</th>\n      <th>TeamfightHealing_Rolling</th>\n      <th>TeamfightDamageTaken_Rolling</th>\n      <th>TeamfightHeroDamage_Rolling</th>\n      <th>Multikill_Rolling</th>\n      <th>PhysicalDamage_Rolling</th>\n      <th>SpellDamage_Rolling</th>\n      <th>RegenGlobes_Rolling</th>\n    </tr>\n  </thead>\n  <tbody>\n    <tr>\n      <th>28</th>\n      <td>1913</td>\n      <td>41543438</td>\n      <td>HeroesProfile</td>\n      <td>TheCaptain#12345</td>\n      <td>2022-01-05 01:35:44</td>\n      <td>2022 Season 1</td>\n      <td>Storm League</td>\n      <td>1144</td>\n      <td>Towers of Doom</td>\n      <td>Jaina</td>\n      <td>...</td>\n      <td>0.333333</td>\n      <td>0.666667</td>\n      <td>0.000000</td>\n      <td>0.0</td>\n      <td>17150.333333</td>\n      <td>36979.000000</td>\n      <td>3.666667</td>\n      <td>28277.666667</td>\n      <td>152424.333333</td>\n      <td>24.666667</td>\n    </tr>\n    <tr>\n      <th>3</th>\n      <td>499</td>\n      <td>41543545</td>\n      <td>HeroesProfile</td>\n      <td>TheCaptain#12345</td>\n      <td>2022-01-05 02:00:00</td>\n      <td>2022 Season 1</td>\n      <td>Quick Match</td>\n      <td>1208</td>\n      <td>Infernal Shrines</td>\n      <td>Jaina</td>\n      <td>...</td>\n      <td>1.000000</td>\n      <td>0.666667</td>\n      <td>0.000000</td>\n      <td>0.0</td>\n      <td>16304.000000</td>\n      <td>35169.000000</td>\n      <td>2.333333</td>\n      <td>20039.000000</td>\n      <td>157784.666667</td>\n      <td>26.666667</td>\n    </tr>\n    <tr>\n      <th>29</th>\n      <td>1914</td>\n      <td>41556021</td>\n      <td>HeroesProfile</td>\n      <td>TheCaptain#12345</td>\n      <td>2022-01-06 01:22:38</td>\n      <td>2022 Season 1</td>\n      <td>Storm League</td>\n      <td>1058</td>\n      <td>Tomb of the Spider Queen</td>\n      <td>Jaina</td>\n      <td>...</td>\n      <td>1.000000</td>\n      <td>1.000000</td>\n      <td>0.000000</td>\n      <td>0.0</td>\n      <td>20349.333333</td>\n      <td>36474.000000</td>\n      <td>1.333333</td>\n      <td>18388.000000</td>\n      <td>165087.000000</td>\n      <td>29.666667</td>\n    </tr>\n    <tr>\n      <th>30</th>\n      <td>1915</td>\n      <td>41556747</td>\n      <td>HeroesProfile</td>\n      <td>TheCaptain#12345</td>\n      <td>2022-01-06 02:45:05</td>\n      <td>2022 Season 1</td>\n      <td>Storm League</td>\n      <td>913</td>\n      <td>Dragon Shire</td>\n      <td>Jaina</td>\n      <td>...</td>\n      <td>1.000000</td>\n      <td>2.000000</td>\n      <td>0.000000</td>\n      <td>0.0</td>\n      <td>15781.000000</td>\n      <td>25868.666667</td>\n      <td>1.000000</td>\n      <td>16936.000000</td>\n      <td>128147.666667</td>\n      <td>27.000000</td>\n    </tr>\n    <tr>\n      <th>31</th>\n      <td>1919</td>\n      <td>41591364</td>\n      <td>HeroesProfile</td>\n      <td>TheCaptain#12345</td>\n      <td>2022-01-07 18:05:20</td>\n      <td>2022 Season 1</td>\n      <td>Storm League</td>\n      <td>1783</td>\n      <td>Tomb of the Spider Queen</td>\n      <td>Jaina</td>\n      <td>...</td>\n      <td>0.333333</td>\n      <td>1.666667</td>\n      <td>0.000000</td>\n      <td>0.0</td>\n      <td>14877.666667</td>\n      <td>22303.666667</td>\n      <td>2.000000</td>\n      <td>16223.666667</td>\n      <td>127369.000000</td>\n      <td>27.000000</td>\n    </tr>\n    <tr>\n      <th>...</th>\n      <td>...</td>\n      <td>...</td>\n      <td>...</td>\n      <td>...</td>\n      <td>...</td>\n      <td>...</td>\n      <td>...</td>\n      <td>...</td>\n      <td>...</td>\n      <td>...</td>\n      <td>...</td>\n      <td>...</td>\n      <td>...</td>\n      <td>...</td>\n      <td>...</td>\n      <td>...</td>\n      <td>...</td>\n      <td>...</td>\n      <td>...</td>\n      <td>...</td>\n      <td>...</td>\n    </tr>\n    <tr>\n      <th>894</th>\n      <td>473845</td>\n      <td>44556143</td>\n      <td>HeroesProfile</td>\n      <td>TheCaptain#12345</td>\n      <td>2022-06-29 02:07:03</td>\n      <td></td>\n      <td>Custom</td>\n      <td>912</td>\n      <td>Towers of Doom</td>\n      <td>Jaina</td>\n      <td>...</td>\n      <td>0.333333</td>\n      <td>0.666667</td>\n      <td>0.000000</td>\n      <td>0.0</td>\n      <td>13266.333333</td>\n      <td>21514.666667</td>\n      <td>2.000000</td>\n      <td>20656.333333</td>\n      <td>141567.000000</td>\n      <td>28.666667</td>\n    </tr>\n    <tr>\n      <th>881</th>\n      <td>473832</td>\n      <td>44631726</td>\n      <td>HeroesProfile</td>\n      <td>TheCaptain#12345</td>\n      <td>2022-07-04 19:55:38</td>\n      <td></td>\n      <td>Storm League</td>\n      <td>1329</td>\n      <td>Cursed Hollow</td>\n      <td>Jaina</td>\n      <td>...</td>\n      <td>0.000000</td>\n      <td>1.333333</td>\n      <td>0.000000</td>\n      <td>0.0</td>\n      <td>13230.000000</td>\n      <td>24658.000000</td>\n      <td>2.333333</td>\n      <td>13262.000000</td>\n      <td>119802.000000</td>\n      <td>20.333333</td>\n    </tr>\n    <tr>\n      <th>882</th>\n      <td>473833</td>\n      <td>44631941</td>\n      <td>HeroesProfile</td>\n      <td>TheCaptain#12345</td>\n      <td>2022-07-04 20:27:14</td>\n      <td></td>\n      <td>Storm League</td>\n      <td>1411</td>\n      <td>Garden of Terror</td>\n      <td>Jaina</td>\n      <td>...</td>\n      <td>0.000000</td>\n      <td>1.000000</td>\n      <td>0.000000</td>\n      <td>0.0</td>\n      <td>15243.333333</td>\n      <td>29666.000000</td>\n      <td>2.333333</td>\n      <td>16668.666667</td>\n      <td>167064.333333</td>\n      <td>23.666667</td>\n    </tr>\n    <tr>\n      <th>883</th>\n      <td>473834</td>\n      <td>44632659</td>\n      <td>HeroesProfile</td>\n      <td>TheCaptain#12345</td>\n      <td>2022-07-04 21:38:23</td>\n      <td></td>\n      <td>Storm League</td>\n      <td>1536</td>\n      <td>Tomb of the Spider Queen</td>\n      <td>Jaina</td>\n      <td>...</td>\n      <td>0.333333</td>\n      <td>1.333333</td>\n      <td>0.333333</td>\n      <td>0.0</td>\n      <td>16744.000000</td>\n      <td>32991.666667</td>\n      <td>2.666667</td>\n      <td>13302.666667</td>\n      <td>171340.333333</td>\n      <td>24.333333</td>\n    </tr>\n    <tr>\n      <th>884</th>\n      <td>473835</td>\n      <td>44656365</td>\n      <td>HeroesProfile</td>\n      <td>TheCaptain#12345</td>\n      <td>2022-07-05 23:53:32</td>\n      <td></td>\n      <td>Storm League</td>\n      <td>1488</td>\n      <td>Cursed Hollow</td>\n      <td>Jaina</td>\n      <td>...</td>\n      <td>0.666667</td>\n      <td>1.000000</td>\n      <td>0.333333</td>\n      <td>0.0</td>\n      <td>16127.666667</td>\n      <td>33119.666667</td>\n      <td>3.000000</td>\n      <td>18006.000000</td>\n      <td>206803.000000</td>\n      <td>33.333333</td>\n    </tr>\n  </tbody>\n</table>\n<p>190 rows × 116 columns</p>\n</div>"
     },
     "execution_count": 119,
     "metadata": {},
     "output_type": "execute_result"
    }
   ],
   "source": [
    "rolling_averages(group, cols, new_cols)"
   ],
   "metadata": {
    "collapsed": false,
    "pycharm": {
     "name": "#%%\n"
    }
   }
  },
  {
   "cell_type": "code",
   "execution_count": 143,
   "outputs": [
    {
     "data": {
      "text/plain": "     ReplayId  SourceReplayId   ReplaySource         Battletag  \\\n0      443503        43244919  HeroesProfile  TheCaptain#12345   \n1      443547        43378545  HeroesProfile  TheCaptain#12345   \n2      443548        43659098  HeroesProfile  TheCaptain#12345   \n3      442831        43799922  HeroesProfile  TheCaptain#12345   \n4      443504        43801509  HeroesProfile  TheCaptain#12345   \n..        ...             ...            ...               ...   \n782    443009        43596838  HeroesProfile  TheCaptain#12345   \n783    443025        43612427  HeroesProfile  TheCaptain#12345   \n784    443010        43659087  HeroesProfile  TheCaptain#12345   \n785    443011        43744097  HeroesProfile  TheCaptain#12345   \n786    461079        44510839  HeroesProfile  TheCaptain#12345   \n\n               GameDate   RankedSeason      GameType  GameLength  \\\n0   2022-04-10 05:10:39  2022 Season 1   Quick Match        1035   \n1   2022-04-18 22:04:12  2022 Season 1  Storm League        1226   \n2   2022-05-06 00:59:11  2022 Season 1  Storm League         964   \n3   2022-05-15 03:40:15  2022 Season 1   Quick Match        1418   \n4   2022-05-15 06:31:43  2022 Season 1   Quick Match        1136   \n..                  ...            ...           ...         ...   \n782 2022-05-03 02:04:28  2022 Season 1  Storm League         989   \n783 2022-05-04 01:05:44  2022 Season 1        Custom         827   \n784 2022-05-04 19:29:10  2022 Season 1  Storm League         956   \n785 2022-05-07 22:14:32  2022 Season 1  Storm League        1535   \n786 2022-06-26 05:46:00  2022 Season 1   Quick Match         987   \n\n                      GameMap       Hero  ...  Vengeance_Rolling  \\\n0            Warhead Junction  Anub'arak  ...           0.000000   \n1             Hanamura Temple  Anub'arak  ...           0.333333   \n2                Dragon Shire  Anub'arak  ...           0.333333   \n3    Tomb of the Spider Queen  Anub'arak  ...           0.333333   \n4              Braxis Holdout  Anub'arak  ...           0.000000   \n..                        ...        ...  ...                ...   \n782                Sky Temple      Zarya  ...           1.666667   \n783            Towers of Doom      Zarya  ...           1.666667   \n784           Hanamura Temple      Zarya  ...           0.666667   \n785              Alterac Pass      Zarya  ...           0.333333   \n786            Towers of Doom      Zarya  ...           0.333333   \n\n     OutnumberedDeaths_Rolling  TeamfightEscapes_Rolling  \\\n0                     1.333333                       0.0   \n1                     2.333333                       0.0   \n2                     2.000000                       0.0   \n3                     2.000000                       0.0   \n4                     1.333333                       0.0   \n..                         ...                       ...   \n782                   1.333333                       0.0   \n783                   1.000000                       0.0   \n784                   1.333333                       0.0   \n785                   2.000000                       0.0   \n786                   2.333333                       0.0   \n\n     TeamfightHealing_Rolling  TeamfightDamageTaken_Rolling  \\\n0                         0.0                  39151.000000   \n1                         0.0                  48692.000000   \n2                         0.0                  49237.666667   \n3                         0.0                  40584.666667   \n4                         0.0                  50201.666667   \n..                        ...                           ...   \n782                       0.0                  24820.333333   \n783                       0.0                  29117.000000   \n784                       0.0                  29049.000000   \n785                       0.0                  32242.666667   \n786                       0.0                  35186.000000   \n\n     TeamfightHeroDamage_Rolling  Multikill_Rolling  PhysicalDamage_Rolling  \\\n0                   18148.666667           1.000000            17988.333333   \n1                   18131.000000           1.000000            18172.666667   \n2                   17560.333333           1.666667            16903.666667   \n3                   12996.000000           1.666667            21576.000000   \n4                   23204.666667           1.333333            22235.000000   \n..                           ...                ...                     ...   \n782                 27937.333333           4.666667            71928.333333   \n783                 30596.000000           3.666667            73210.333333   \n784                 23433.000000           2.000000            58438.666667   \n785                 23415.333333           1.000000            52695.333333   \n786                 18713.666667           1.000000            61983.666667   \n\n    SpellDamage_Rolling RegenGlobes_Rolling  \n0          44648.333333           20.000000  \n1          51770.333333           19.666667  \n2          52004.000000           20.666667  \n3          64421.000000           21.666667  \n4          76938.666667           25.333333  \n..                  ...                 ...  \n782        44196.000000           32.000000  \n783        41875.000000           29.666667  \n784        39014.333333           25.000000  \n785        39009.000000           24.000000  \n786        48758.333333           26.000000  \n\n[787 rows x 116 columns]",
      "text/html": "<div>\n<style scoped>\n    .dataframe tbody tr th:only-of-type {\n        vertical-align: middle;\n    }\n\n    .dataframe tbody tr th {\n        vertical-align: top;\n    }\n\n    .dataframe thead th {\n        text-align: right;\n    }\n</style>\n<table border=\"1\" class=\"dataframe\">\n  <thead>\n    <tr style=\"text-align: right;\">\n      <th></th>\n      <th>ReplayId</th>\n      <th>SourceReplayId</th>\n      <th>ReplaySource</th>\n      <th>Battletag</th>\n      <th>GameDate</th>\n      <th>RankedSeason</th>\n      <th>GameType</th>\n      <th>GameLength</th>\n      <th>GameMap</th>\n      <th>Hero</th>\n      <th>...</th>\n      <th>Vengeance_Rolling</th>\n      <th>OutnumberedDeaths_Rolling</th>\n      <th>TeamfightEscapes_Rolling</th>\n      <th>TeamfightHealing_Rolling</th>\n      <th>TeamfightDamageTaken_Rolling</th>\n      <th>TeamfightHeroDamage_Rolling</th>\n      <th>Multikill_Rolling</th>\n      <th>PhysicalDamage_Rolling</th>\n      <th>SpellDamage_Rolling</th>\n      <th>RegenGlobes_Rolling</th>\n    </tr>\n  </thead>\n  <tbody>\n    <tr>\n      <th>0</th>\n      <td>443503</td>\n      <td>43244919</td>\n      <td>HeroesProfile</td>\n      <td>TheCaptain#12345</td>\n      <td>2022-04-10 05:10:39</td>\n      <td>2022 Season 1</td>\n      <td>Quick Match</td>\n      <td>1035</td>\n      <td>Warhead Junction</td>\n      <td>Anub'arak</td>\n      <td>...</td>\n      <td>0.000000</td>\n      <td>1.333333</td>\n      <td>0.0</td>\n      <td>0.0</td>\n      <td>39151.000000</td>\n      <td>18148.666667</td>\n      <td>1.000000</td>\n      <td>17988.333333</td>\n      <td>44648.333333</td>\n      <td>20.000000</td>\n    </tr>\n    <tr>\n      <th>1</th>\n      <td>443547</td>\n      <td>43378545</td>\n      <td>HeroesProfile</td>\n      <td>TheCaptain#12345</td>\n      <td>2022-04-18 22:04:12</td>\n      <td>2022 Season 1</td>\n      <td>Storm League</td>\n      <td>1226</td>\n      <td>Hanamura Temple</td>\n      <td>Anub'arak</td>\n      <td>...</td>\n      <td>0.333333</td>\n      <td>2.333333</td>\n      <td>0.0</td>\n      <td>0.0</td>\n      <td>48692.000000</td>\n      <td>18131.000000</td>\n      <td>1.000000</td>\n      <td>18172.666667</td>\n      <td>51770.333333</td>\n      <td>19.666667</td>\n    </tr>\n    <tr>\n      <th>2</th>\n      <td>443548</td>\n      <td>43659098</td>\n      <td>HeroesProfile</td>\n      <td>TheCaptain#12345</td>\n      <td>2022-05-06 00:59:11</td>\n      <td>2022 Season 1</td>\n      <td>Storm League</td>\n      <td>964</td>\n      <td>Dragon Shire</td>\n      <td>Anub'arak</td>\n      <td>...</td>\n      <td>0.333333</td>\n      <td>2.000000</td>\n      <td>0.0</td>\n      <td>0.0</td>\n      <td>49237.666667</td>\n      <td>17560.333333</td>\n      <td>1.666667</td>\n      <td>16903.666667</td>\n      <td>52004.000000</td>\n      <td>20.666667</td>\n    </tr>\n    <tr>\n      <th>3</th>\n      <td>442831</td>\n      <td>43799922</td>\n      <td>HeroesProfile</td>\n      <td>TheCaptain#12345</td>\n      <td>2022-05-15 03:40:15</td>\n      <td>2022 Season 1</td>\n      <td>Quick Match</td>\n      <td>1418</td>\n      <td>Tomb of the Spider Queen</td>\n      <td>Anub'arak</td>\n      <td>...</td>\n      <td>0.333333</td>\n      <td>2.000000</td>\n      <td>0.0</td>\n      <td>0.0</td>\n      <td>40584.666667</td>\n      <td>12996.000000</td>\n      <td>1.666667</td>\n      <td>21576.000000</td>\n      <td>64421.000000</td>\n      <td>21.666667</td>\n    </tr>\n    <tr>\n      <th>4</th>\n      <td>443504</td>\n      <td>43801509</td>\n      <td>HeroesProfile</td>\n      <td>TheCaptain#12345</td>\n      <td>2022-05-15 06:31:43</td>\n      <td>2022 Season 1</td>\n      <td>Quick Match</td>\n      <td>1136</td>\n      <td>Braxis Holdout</td>\n      <td>Anub'arak</td>\n      <td>...</td>\n      <td>0.000000</td>\n      <td>1.333333</td>\n      <td>0.0</td>\n      <td>0.0</td>\n      <td>50201.666667</td>\n      <td>23204.666667</td>\n      <td>1.333333</td>\n      <td>22235.000000</td>\n      <td>76938.666667</td>\n      <td>25.333333</td>\n    </tr>\n    <tr>\n      <th>...</th>\n      <td>...</td>\n      <td>...</td>\n      <td>...</td>\n      <td>...</td>\n      <td>...</td>\n      <td>...</td>\n      <td>...</td>\n      <td>...</td>\n      <td>...</td>\n      <td>...</td>\n      <td>...</td>\n      <td>...</td>\n      <td>...</td>\n      <td>...</td>\n      <td>...</td>\n      <td>...</td>\n      <td>...</td>\n      <td>...</td>\n      <td>...</td>\n      <td>...</td>\n      <td>...</td>\n    </tr>\n    <tr>\n      <th>782</th>\n      <td>443009</td>\n      <td>43596838</td>\n      <td>HeroesProfile</td>\n      <td>TheCaptain#12345</td>\n      <td>2022-05-03 02:04:28</td>\n      <td>2022 Season 1</td>\n      <td>Storm League</td>\n      <td>989</td>\n      <td>Sky Temple</td>\n      <td>Zarya</td>\n      <td>...</td>\n      <td>1.666667</td>\n      <td>1.333333</td>\n      <td>0.0</td>\n      <td>0.0</td>\n      <td>24820.333333</td>\n      <td>27937.333333</td>\n      <td>4.666667</td>\n      <td>71928.333333</td>\n      <td>44196.000000</td>\n      <td>32.000000</td>\n    </tr>\n    <tr>\n      <th>783</th>\n      <td>443025</td>\n      <td>43612427</td>\n      <td>HeroesProfile</td>\n      <td>TheCaptain#12345</td>\n      <td>2022-05-04 01:05:44</td>\n      <td>2022 Season 1</td>\n      <td>Custom</td>\n      <td>827</td>\n      <td>Towers of Doom</td>\n      <td>Zarya</td>\n      <td>...</td>\n      <td>1.666667</td>\n      <td>1.000000</td>\n      <td>0.0</td>\n      <td>0.0</td>\n      <td>29117.000000</td>\n      <td>30596.000000</td>\n      <td>3.666667</td>\n      <td>73210.333333</td>\n      <td>41875.000000</td>\n      <td>29.666667</td>\n    </tr>\n    <tr>\n      <th>784</th>\n      <td>443010</td>\n      <td>43659087</td>\n      <td>HeroesProfile</td>\n      <td>TheCaptain#12345</td>\n      <td>2022-05-04 19:29:10</td>\n      <td>2022 Season 1</td>\n      <td>Storm League</td>\n      <td>956</td>\n      <td>Hanamura Temple</td>\n      <td>Zarya</td>\n      <td>...</td>\n      <td>0.666667</td>\n      <td>1.333333</td>\n      <td>0.0</td>\n      <td>0.0</td>\n      <td>29049.000000</td>\n      <td>23433.000000</td>\n      <td>2.000000</td>\n      <td>58438.666667</td>\n      <td>39014.333333</td>\n      <td>25.000000</td>\n    </tr>\n    <tr>\n      <th>785</th>\n      <td>443011</td>\n      <td>43744097</td>\n      <td>HeroesProfile</td>\n      <td>TheCaptain#12345</td>\n      <td>2022-05-07 22:14:32</td>\n      <td>2022 Season 1</td>\n      <td>Storm League</td>\n      <td>1535</td>\n      <td>Alterac Pass</td>\n      <td>Zarya</td>\n      <td>...</td>\n      <td>0.333333</td>\n      <td>2.000000</td>\n      <td>0.0</td>\n      <td>0.0</td>\n      <td>32242.666667</td>\n      <td>23415.333333</td>\n      <td>1.000000</td>\n      <td>52695.333333</td>\n      <td>39009.000000</td>\n      <td>24.000000</td>\n    </tr>\n    <tr>\n      <th>786</th>\n      <td>461079</td>\n      <td>44510839</td>\n      <td>HeroesProfile</td>\n      <td>TheCaptain#12345</td>\n      <td>2022-06-26 05:46:00</td>\n      <td>2022 Season 1</td>\n      <td>Quick Match</td>\n      <td>987</td>\n      <td>Towers of Doom</td>\n      <td>Zarya</td>\n      <td>...</td>\n      <td>0.333333</td>\n      <td>2.333333</td>\n      <td>0.0</td>\n      <td>0.0</td>\n      <td>35186.000000</td>\n      <td>18713.666667</td>\n      <td>1.000000</td>\n      <td>61983.666667</td>\n      <td>48758.333333</td>\n      <td>26.000000</td>\n    </tr>\n  </tbody>\n</table>\n<p>787 rows × 116 columns</p>\n</div>"
     },
     "execution_count": 143,
     "metadata": {},
     "output_type": "execute_result"
    }
   ],
   "source": [
    "replay_rolling = df.groupby('Hero').apply(lambda x: rolling_averages(x, cols, new_cols)).droplevel('Hero')\n",
    "replay_rolling.index = range(replay_rolling.shape[0]) # Gives unique values for each row in the index.\n",
    "replay_rolling"
   ],
   "metadata": {
    "collapsed": false,
    "pycharm": {
     "name": "#%%\n"
    }
   }
  },
  {
   "cell_type": "code",
   "execution_count": 144,
   "outputs": [],
   "source": [
    "def make_predictions(data, predictors, rand_f):\n",
    "    train = data[data.GameDate < '2022-05-01']\n",
    "    test = data[data.GameDate >= '2022-05-01']\n",
    "    rand_f.fit(train[predictors], train[\"Target\"])\n",
    "    preds = rf.predict(test[predictors])\n",
    "    combined = pd.DataFrame(dict(actual=test[\"Target\"], prediction=preds), index=test.index)\n",
    "    precision = precision_score(test['Target'], preds)\n",
    "    return combined, precision"
   ],
   "metadata": {
    "collapsed": false,
    "pycharm": {
     "name": "#%%\n"
    }
   }
  },
  {
   "cell_type": "code",
   "execution_count": 145,
   "outputs": [
    {
     "name": "stderr",
     "output_type": "stream",
     "text": [
      "c:\\source\\innovation\\insight\\lookingglass_playground\\venv\\lib\\site-packages\\sklearn\\utils\\validation.py:1858: FutureWarning: Feature names only support names that are all strings. Got feature names with dtypes: ['quoted_name', 'str']. An error will be raised in 1.2.\n",
      "  warnings.warn(\n",
      "c:\\source\\innovation\\insight\\lookingglass_playground\\venv\\lib\\site-packages\\sklearn\\utils\\validation.py:1858: FutureWarning: Feature names only support names that are all strings. Got feature names with dtypes: ['quoted_name', 'str']. An error will be raised in 1.2.\n",
      "  warnings.warn(\n",
      "c:\\source\\innovation\\insight\\lookingglass_playground\\venv\\lib\\site-packages\\sklearn\\utils\\validation.py:1858: FutureWarning: Feature names only support names that are all strings. Got feature names with dtypes: ['quoted_name', 'str']. An error will be raised in 1.2.\n",
      "  warnings.warn(\n"
     ]
    },
    {
     "data": {
      "text/plain": "0.8432432432432433"
     },
     "execution_count": 145,
     "metadata": {},
     "output_type": "execute_result"
    }
   ],
   "source": [
    "predictors = [\n",
    "    'HeroId', 'MapCode', 'GameTypeCode', 'HeroRoleCode', 'GameLength'\n",
    "    , 'HeroLevel', 'Kills', 'Assists', 'Deaths'\n",
    "    , 'ExperienceContribution', 'FirstToTen', 'Level', 'HeroDamage', 'Healing'\n",
    "    , 'Takedowns', 'DayCode', 'SelfHealing', 'DamageTaken', 'TimeSpentDead'\n",
    "]\n",
    "\n",
    "cols = [\n",
    "      'Kills', 'Assists', 'Takedowns', 'Deaths'\n",
    "    , 'Level', 'HighestKillStreak', 'HeroDamage'\n",
    "    , 'SiegeDamage', 'StructureDamage', 'MinionDamage', 'CreepDamage'\n",
    "    , 'SummonDamage', 'TimeCcEnemyHeroes', 'Healing', 'SelfHealing'\n",
    "    , 'DamageTaken', 'ExperienceContribution', 'TownKills', 'TimeSpentDead'\n",
    "    , 'MercCampCaptures', 'WatchTowerCaptures', 'MetaExperience'\n",
    "    , 'ProtectionAllies', 'SilencingEnemies', 'RootingEnemies'\n",
    "    , 'StunningEnemies', 'ClutchHeals', 'Escapes', 'Vengeance'\n",
    "    , 'OutnumberedDeaths', 'TeamfightEscapes', 'TeamfightHealing'\n",
    "    , 'TeamfightDamageTaken', 'TeamfightHeroDamage', 'Multikill'\n",
    "    , 'PhysicalDamage', 'SpellDamage', 'RegenGlobes'\n",
    "]\n",
    "new_cols = [f'{c}_Rolling' for c in cols]\n",
    "rf = RandomForestClassifier(n_estimators=50, min_samples_split=10, random_state=1)\n",
    "rf.fit(train[predictors], train[\"Target\"])\n",
    "combined, precision = make_predictions(replay_rolling, predictors + new_cols, rf)\n",
    "precision"
   ],
   "metadata": {
    "collapsed": false,
    "pycharm": {
     "name": "#%%\n"
    }
   }
  },
  {
   "cell_type": "code",
   "execution_count": 146,
   "outputs": [
    {
     "data": {
      "text/plain": "     actual  prediction            GameDate         Battletag       Hero  \\\n2         1           1 2022-05-06 00:59:11  TheCaptain#12345  Anub'arak   \n3         1           0 2022-05-15 03:40:15  TheCaptain#12345  Anub'arak   \n4         1           1 2022-05-15 06:31:43  TheCaptain#12345  Anub'arak   \n5         0           0 2022-05-21 21:38:43  TheCaptain#12345  Anub'arak   \n6         0           0 2022-05-30 19:58:26  TheCaptain#12345  Anub'arak   \n..      ...         ...                 ...               ...        ...   \n782       1           1 2022-05-03 02:04:28  TheCaptain#12345      Zarya   \n783       0           0 2022-05-04 01:05:44  TheCaptain#12345      Zarya   \n784       0           0 2022-05-04 19:29:10  TheCaptain#12345      Zarya   \n785       0           1 2022-05-07 22:14:32  TheCaptain#12345      Zarya   \n786       1           1 2022-06-26 05:46:00  TheCaptain#12345      Zarya   \n\n     IsWinner  \n2           1  \n3           1  \n4           1  \n5           0  \n6           0  \n..        ...  \n782         1  \n783         0  \n784         0  \n785         0  \n786         1  \n\n[354 rows x 6 columns]",
      "text/html": "<div>\n<style scoped>\n    .dataframe tbody tr th:only-of-type {\n        vertical-align: middle;\n    }\n\n    .dataframe tbody tr th {\n        vertical-align: top;\n    }\n\n    .dataframe thead th {\n        text-align: right;\n    }\n</style>\n<table border=\"1\" class=\"dataframe\">\n  <thead>\n    <tr style=\"text-align: right;\">\n      <th></th>\n      <th>actual</th>\n      <th>prediction</th>\n      <th>GameDate</th>\n      <th>Battletag</th>\n      <th>Hero</th>\n      <th>IsWinner</th>\n    </tr>\n  </thead>\n  <tbody>\n    <tr>\n      <th>2</th>\n      <td>1</td>\n      <td>1</td>\n      <td>2022-05-06 00:59:11</td>\n      <td>TheCaptain#12345</td>\n      <td>Anub'arak</td>\n      <td>1</td>\n    </tr>\n    <tr>\n      <th>3</th>\n      <td>1</td>\n      <td>0</td>\n      <td>2022-05-15 03:40:15</td>\n      <td>TheCaptain#12345</td>\n      <td>Anub'arak</td>\n      <td>1</td>\n    </tr>\n    <tr>\n      <th>4</th>\n      <td>1</td>\n      <td>1</td>\n      <td>2022-05-15 06:31:43</td>\n      <td>TheCaptain#12345</td>\n      <td>Anub'arak</td>\n      <td>1</td>\n    </tr>\n    <tr>\n      <th>5</th>\n      <td>0</td>\n      <td>0</td>\n      <td>2022-05-21 21:38:43</td>\n      <td>TheCaptain#12345</td>\n      <td>Anub'arak</td>\n      <td>0</td>\n    </tr>\n    <tr>\n      <th>6</th>\n      <td>0</td>\n      <td>0</td>\n      <td>2022-05-30 19:58:26</td>\n      <td>TheCaptain#12345</td>\n      <td>Anub'arak</td>\n      <td>0</td>\n    </tr>\n    <tr>\n      <th>...</th>\n      <td>...</td>\n      <td>...</td>\n      <td>...</td>\n      <td>...</td>\n      <td>...</td>\n      <td>...</td>\n    </tr>\n    <tr>\n      <th>782</th>\n      <td>1</td>\n      <td>1</td>\n      <td>2022-05-03 02:04:28</td>\n      <td>TheCaptain#12345</td>\n      <td>Zarya</td>\n      <td>1</td>\n    </tr>\n    <tr>\n      <th>783</th>\n      <td>0</td>\n      <td>0</td>\n      <td>2022-05-04 01:05:44</td>\n      <td>TheCaptain#12345</td>\n      <td>Zarya</td>\n      <td>0</td>\n    </tr>\n    <tr>\n      <th>784</th>\n      <td>0</td>\n      <td>0</td>\n      <td>2022-05-04 19:29:10</td>\n      <td>TheCaptain#12345</td>\n      <td>Zarya</td>\n      <td>0</td>\n    </tr>\n    <tr>\n      <th>785</th>\n      <td>0</td>\n      <td>1</td>\n      <td>2022-05-07 22:14:32</td>\n      <td>TheCaptain#12345</td>\n      <td>Zarya</td>\n      <td>0</td>\n    </tr>\n    <tr>\n      <th>786</th>\n      <td>1</td>\n      <td>1</td>\n      <td>2022-06-26 05:46:00</td>\n      <td>TheCaptain#12345</td>\n      <td>Zarya</td>\n      <td>1</td>\n    </tr>\n  </tbody>\n</table>\n<p>354 rows × 6 columns</p>\n</div>"
     },
     "execution_count": 146,
     "metadata": {},
     "output_type": "execute_result"
    }
   ],
   "source": [
    "combined = combined.merge(replay_rolling[[\"GameDate\", \"Battletag\", \"Hero\", \"IsWinner\"]], left_index=True, right_index=True)\n",
    "combined"
   ],
   "metadata": {
    "collapsed": false,
    "pycharm": {
     "name": "#%%\n"
    }
   }
  },
  {
   "cell_type": "code",
   "execution_count": 13,
   "outputs": [],
   "source": [
    "# df.columns\n",
    "points = [\n",
    "    'Battletag', 'Hero', 'NewRole', 'GameMap'\n",
    "    , 'GameDate',  'GameType', 'GameLength'\n",
    "    , 'HeroLevel', 'Kills', 'Assists', 'Takedowns', 'Deaths', 'Team'\n",
    "    , 'IsWinner', 'FirstToTen', 'Level', 'HighestKillStreak', 'HeroDamage'\n",
    "    , 'SiegeDamage', 'StructureDamage', 'MinionDamage', 'CreepDamage'\n",
    "    , 'SummonDamage', 'TimeCcEnemyHeroes', 'Healing', 'SelfHealing'\n",
    "    , 'DamageTaken', 'ExperienceContribution', 'TownKills', 'TimeSpentDead'\n",
    "    , 'MercCampCaptures', 'WatchTowerCaptures', 'MetaExperience'\n",
    "    , 'MatchAward', 'ProtectionAllies', 'SilencingEnemies', 'RootingEnemies'\n",
    "    , 'StunningEnemies', 'ClutchHeals', 'Escapes', 'Vengeance'\n",
    "    , 'OutnumberedDeaths', 'TeamfightEscapes', 'TeamfightHealing'\n",
    "    , 'TeamfightDamageTaken', 'TeamfightHeroDamage', 'Multikill'\n",
    "    , 'PhysicalDamage', 'SpellDamage', 'RegenGlobes'\n",
    "    , 'PlayerId','HeroId', 'ReplayId', 'SourceReplayId', 'Party', 'RankedSeason'\n",
    "    # , 'LevelOne', 'LevelFour', 'LevelSeven', 'LevelTen', 'LevelThirteen', 'LevelSixteen', 'LevelTwenty'\n",
    "]\n",
    "\n",
    "agg_points = [\n",
    "    'Battletag', 'Hero', 'NewRole', 'GameLength'\n",
    "    , 'HeroLevel', 'Kills', 'Assists', 'Takedowns', 'Deaths', 'Team'\n",
    "    , 'IsWinner', 'FirstToTen', 'Level', 'HighestKillStreak', 'HeroDamage'\n",
    "    , 'SiegeDamage', 'StructureDamage', 'MinionDamage', 'CreepDamage'\n",
    "    , 'SummonDamage', 'TimeCcEnemyHeroes', 'Healing', 'SelfHealing'\n",
    "    , 'DamageTaken', 'ExperienceContribution', 'TownKills', 'TimeSpentDead'\n",
    "    , 'MercCampCaptures', 'WatchTowerCaptures', 'MetaExperience'\n",
    "    , 'MatchAward', 'ProtectionAllies', 'SilencingEnemies', 'RootingEnemies'\n",
    "    , 'StunningEnemies', 'ClutchHeals', 'Escapes', 'Vengeance'\n",
    "    , 'OutnumberedDeaths', 'TeamfightEscapes', 'TeamfightHealing'\n",
    "    , 'TeamfightDamageTaken', 'TeamfightHeroDamage', 'Multikill'\n",
    "    , 'PhysicalDamage', 'SpellDamage', 'RegenGlobes'\n",
    "    # , 'GameDate',  'GameType'\n",
    "    # , 'PlayerId','HeroId',\n",
    "    # , 'LevelOne', 'LevelFour', 'LevelSeven', 'LevelTen', 'LevelThirteen', 'LevelSixteen', 'LevelTwenty'\n",
    "]\n",
    "\n",
    "\n",
    "dps_agg_points = [\n",
    "    'Battletag', 'Hero', 'NewRole', 'IsWinner'\n",
    "    , 'Kills', 'Assists', 'Takedowns', 'Deaths'\n",
    "    , 'HighestKillStreak', 'HeroDamage'\n",
    "    , 'SiegeDamage', 'StructureDamage', 'MinionDamage', 'CreepDamage'\n",
    "    , 'SummonDamage', 'TimeCcEnemyHeroes', 'Healing', 'SelfHealing'\n",
    "    , 'DamageTaken', 'ExperienceContribution', 'TownKills', 'TimeSpentDead'\n",
    "    , 'MercCampCaptures', 'WatchTowerCaptures', 'MetaExperience'\n",
    "    , 'ProtectionAllies', 'SilencingEnemies', 'RootingEnemies'\n",
    "    , 'StunningEnemies', 'ClutchHeals', 'Escapes', 'Vengeance'\n",
    "    , 'OutnumberedDeaths', 'TeamfightEscapes', 'TeamfightHealing'\n",
    "    , 'TeamfightDamageTaken', 'TeamfightHeroDamage', 'Multikill'\n",
    "    , 'PhysicalDamage', 'SpellDamage', 'RegenGlobes'\n",
    "    # , 'GameDate',  'GameType'\n",
    "    # , 'PlayerId','HeroId',\n",
    "    # , 'LevelOne', 'LevelFour', 'LevelSeven', 'LevelTen', 'LevelThirteen', 'LevelSixteen', 'LevelTwenty'\n",
    "]"
   ],
   "metadata": {
    "collapsed": false,
    "pycharm": {
     "name": "#%%\n"
    }
   }
  },
  {
   "cell_type": "code",
   "execution_count": 14,
   "outputs": [
    {
     "data": {
      "text/plain": "                                              MeanKills  KillCount  \\\nBattletag        Hero        NewRole                                 \nTheCaptain#12345 Anub'arak   Tank              1.600000          5   \n                 Auriel      Healer            0.000000          1   \n                 Blaze       Tank              1.000000          1   \n                 Brightwing  Healer            2.000000          8   \n                 Cassia      Ranged Assassin   4.405797         69   \n                 Chromie     Ranged Assassin   3.222222          9   \n                 Deathwing   Bruiser           4.500000          2   \n                 Deckard     Healer            0.333333          3   \n                 Dehaka      Bruiser           0.000000          1   \n                 Diablo      Tank              1.666667          3   \n                 Fenix       Ranged Assassin   2.500000          2   \n                 Gall        Ranged Assassin   1.500000          2   \n                 Gazlowe     Bruiser           0.000000          1   \n                 Genji       Ranged Assassin   8.000000          2   \n                 Greymane    Ranged Assassin   5.000000          1   \n                 Gul'dan     Ranged Assassin   3.055556         18   \n                 Jaina       Ranged Assassin   4.320261        153   \n                 Johanna     Tank              2.875000          8   \n                 Kael'thas   Ranged Assassin   4.541667         24   \n                 Kerrigan    Melee Assassin    4.000000          1   \n                 Kharazim    Healer            3.333333          3   \n                 Li-Ming     Ranged Assassin   4.000000         35   \n                 Lt. Morales Healer            1.000000          3   \n                 Mal'Ganis   Tank              4.000000          1   \n                 Malfurion   Healer            1.666667          3   \n                 Mephisto    Ranged Assassin   1.900000         10   \n                 Nazeebo     Ranged Assassin   3.000000         14   \n                 Orphea      Ranged Assassin   4.543478         46   \n                 Probius     Ranged Assassin   2.000000         30   \n                 Qhira       Melee Assassin    3.900000         10   \n                 Raynor      Ranged Assassin   4.000000          1   \n                 Rehgar      Healer            0.500000          2   \n                 Sgt. Hammer Ranged Assassin   2.750000          4   \n                 Stitches    Tank              2.333333          3   \n                 Stukov      Healer            3.257143         35   \n                 Sylvanas    Ranged Assassin   2.000000          2   \n                 The Butcher Melee Assassin    3.000000          2   \n                 Thrall      Bruiser           4.000000          5   \n                 Tyrande     Healer            0.500000          2   \n                 Uther       Healer            2.000000          2   \n                 Valeera     Melee Assassin    5.800000          5   \n                 Valla       Ranged Assassin   4.594595         37   \n                 Varian      Bruiser           4.310811         74   \n                 Whitemane   Healer            1.000000          2   \n                 Zagara      Ranged Assassin   5.000000          1   \n                 Zarya       Support           3.750000          8   \n                 Zul'jin     Ranged Assassin   4.000000          2   \n\n                                              MedianKills  Takedowns  \nBattletag        Hero        NewRole                                  \nTheCaptain#12345 Anub'arak   Tank                     1.0          5  \n                 Auriel      Healer                   0.0          1  \n                 Blaze       Tank                     1.0          1  \n                 Brightwing  Healer                   1.0          8  \n                 Cassia      Ranged Assassin          4.0         69  \n                 Chromie     Ranged Assassin          1.0          9  \n                 Deathwing   Bruiser                  4.5          2  \n                 Deckard     Healer                   0.0          3  \n                 Dehaka      Bruiser                  0.0          1  \n                 Diablo      Tank                     1.0          3  \n                 Fenix       Ranged Assassin          2.5          2  \n                 Gall        Ranged Assassin          1.5          2  \n                 Gazlowe     Bruiser                  0.0          1  \n                 Genji       Ranged Assassin          8.0          2  \n                 Greymane    Ranged Assassin          5.0          1  \n                 Gul'dan     Ranged Assassin          3.0         18  \n                 Jaina       Ranged Assassin          4.0        153  \n                 Johanna     Tank                     2.5          8  \n                 Kael'thas   Ranged Assassin          3.5         24  \n                 Kerrigan    Melee Assassin           4.0          1  \n                 Kharazim    Healer                   2.0          3  \n                 Li-Ming     Ranged Assassin          4.0         35  \n                 Lt. Morales Healer                   1.0          3  \n                 Mal'Ganis   Tank                     4.0          1  \n                 Malfurion   Healer                   2.0          3  \n                 Mephisto    Ranged Assassin          1.5         10  \n                 Nazeebo     Ranged Assassin          3.0         14  \n                 Orphea      Ranged Assassin          4.0         46  \n                 Probius     Ranged Assassin          1.5         30  \n                 Qhira       Melee Assassin           4.0         10  \n                 Raynor      Ranged Assassin          4.0          1  \n                 Rehgar      Healer                   0.5          2  \n                 Sgt. Hammer Ranged Assassin          2.5          4  \n                 Stitches    Tank                     3.0          3  \n                 Stukov      Healer                   3.0         35  \n                 Sylvanas    Ranged Assassin          2.0          2  \n                 The Butcher Melee Assassin           3.0          2  \n                 Thrall      Bruiser                  4.0          5  \n                 Tyrande     Healer                   0.5          2  \n                 Uther       Healer                   2.0          2  \n                 Valeera     Melee Assassin           6.0          5  \n                 Valla       Ranged Assassin          4.0         37  \n                 Varian      Bruiser                  4.0         74  \n                 Whitemane   Healer                   1.0          2  \n                 Zagara      Ranged Assassin          5.0          1  \n                 Zarya       Support                  1.5          8  \n                 Zul'jin     Ranged Assassin          4.0          2  ",
      "text/html": "<div>\n<style scoped>\n    .dataframe tbody tr th:only-of-type {\n        vertical-align: middle;\n    }\n\n    .dataframe tbody tr th {\n        vertical-align: top;\n    }\n\n    .dataframe thead th {\n        text-align: right;\n    }\n</style>\n<table border=\"1\" class=\"dataframe\">\n  <thead>\n    <tr style=\"text-align: right;\">\n      <th></th>\n      <th></th>\n      <th></th>\n      <th>MeanKills</th>\n      <th>KillCount</th>\n      <th>MedianKills</th>\n      <th>Takedowns</th>\n    </tr>\n    <tr>\n      <th>Battletag</th>\n      <th>Hero</th>\n      <th>NewRole</th>\n      <th></th>\n      <th></th>\n      <th></th>\n      <th></th>\n    </tr>\n  </thead>\n  <tbody>\n    <tr>\n      <th rowspan=\"47\" valign=\"top\">TheCaptain#12345</th>\n      <th>Anub'arak</th>\n      <th>Tank</th>\n      <td>1.600000</td>\n      <td>5</td>\n      <td>1.0</td>\n      <td>5</td>\n    </tr>\n    <tr>\n      <th>Auriel</th>\n      <th>Healer</th>\n      <td>0.000000</td>\n      <td>1</td>\n      <td>0.0</td>\n      <td>1</td>\n    </tr>\n    <tr>\n      <th>Blaze</th>\n      <th>Tank</th>\n      <td>1.000000</td>\n      <td>1</td>\n      <td>1.0</td>\n      <td>1</td>\n    </tr>\n    <tr>\n      <th>Brightwing</th>\n      <th>Healer</th>\n      <td>2.000000</td>\n      <td>8</td>\n      <td>1.0</td>\n      <td>8</td>\n    </tr>\n    <tr>\n      <th>Cassia</th>\n      <th>Ranged Assassin</th>\n      <td>4.405797</td>\n      <td>69</td>\n      <td>4.0</td>\n      <td>69</td>\n    </tr>\n    <tr>\n      <th>Chromie</th>\n      <th>Ranged Assassin</th>\n      <td>3.222222</td>\n      <td>9</td>\n      <td>1.0</td>\n      <td>9</td>\n    </tr>\n    <tr>\n      <th>Deathwing</th>\n      <th>Bruiser</th>\n      <td>4.500000</td>\n      <td>2</td>\n      <td>4.5</td>\n      <td>2</td>\n    </tr>\n    <tr>\n      <th>Deckard</th>\n      <th>Healer</th>\n      <td>0.333333</td>\n      <td>3</td>\n      <td>0.0</td>\n      <td>3</td>\n    </tr>\n    <tr>\n      <th>Dehaka</th>\n      <th>Bruiser</th>\n      <td>0.000000</td>\n      <td>1</td>\n      <td>0.0</td>\n      <td>1</td>\n    </tr>\n    <tr>\n      <th>Diablo</th>\n      <th>Tank</th>\n      <td>1.666667</td>\n      <td>3</td>\n      <td>1.0</td>\n      <td>3</td>\n    </tr>\n    <tr>\n      <th>Fenix</th>\n      <th>Ranged Assassin</th>\n      <td>2.500000</td>\n      <td>2</td>\n      <td>2.5</td>\n      <td>2</td>\n    </tr>\n    <tr>\n      <th>Gall</th>\n      <th>Ranged Assassin</th>\n      <td>1.500000</td>\n      <td>2</td>\n      <td>1.5</td>\n      <td>2</td>\n    </tr>\n    <tr>\n      <th>Gazlowe</th>\n      <th>Bruiser</th>\n      <td>0.000000</td>\n      <td>1</td>\n      <td>0.0</td>\n      <td>1</td>\n    </tr>\n    <tr>\n      <th>Genji</th>\n      <th>Ranged Assassin</th>\n      <td>8.000000</td>\n      <td>2</td>\n      <td>8.0</td>\n      <td>2</td>\n    </tr>\n    <tr>\n      <th>Greymane</th>\n      <th>Ranged Assassin</th>\n      <td>5.000000</td>\n      <td>1</td>\n      <td>5.0</td>\n      <td>1</td>\n    </tr>\n    <tr>\n      <th>Gul'dan</th>\n      <th>Ranged Assassin</th>\n      <td>3.055556</td>\n      <td>18</td>\n      <td>3.0</td>\n      <td>18</td>\n    </tr>\n    <tr>\n      <th>Jaina</th>\n      <th>Ranged Assassin</th>\n      <td>4.320261</td>\n      <td>153</td>\n      <td>4.0</td>\n      <td>153</td>\n    </tr>\n    <tr>\n      <th>Johanna</th>\n      <th>Tank</th>\n      <td>2.875000</td>\n      <td>8</td>\n      <td>2.5</td>\n      <td>8</td>\n    </tr>\n    <tr>\n      <th>Kael'thas</th>\n      <th>Ranged Assassin</th>\n      <td>4.541667</td>\n      <td>24</td>\n      <td>3.5</td>\n      <td>24</td>\n    </tr>\n    <tr>\n      <th>Kerrigan</th>\n      <th>Melee Assassin</th>\n      <td>4.000000</td>\n      <td>1</td>\n      <td>4.0</td>\n      <td>1</td>\n    </tr>\n    <tr>\n      <th>Kharazim</th>\n      <th>Healer</th>\n      <td>3.333333</td>\n      <td>3</td>\n      <td>2.0</td>\n      <td>3</td>\n    </tr>\n    <tr>\n      <th>Li-Ming</th>\n      <th>Ranged Assassin</th>\n      <td>4.000000</td>\n      <td>35</td>\n      <td>4.0</td>\n      <td>35</td>\n    </tr>\n    <tr>\n      <th>Lt. Morales</th>\n      <th>Healer</th>\n      <td>1.000000</td>\n      <td>3</td>\n      <td>1.0</td>\n      <td>3</td>\n    </tr>\n    <tr>\n      <th>Mal'Ganis</th>\n      <th>Tank</th>\n      <td>4.000000</td>\n      <td>1</td>\n      <td>4.0</td>\n      <td>1</td>\n    </tr>\n    <tr>\n      <th>Malfurion</th>\n      <th>Healer</th>\n      <td>1.666667</td>\n      <td>3</td>\n      <td>2.0</td>\n      <td>3</td>\n    </tr>\n    <tr>\n      <th>Mephisto</th>\n      <th>Ranged Assassin</th>\n      <td>1.900000</td>\n      <td>10</td>\n      <td>1.5</td>\n      <td>10</td>\n    </tr>\n    <tr>\n      <th>Nazeebo</th>\n      <th>Ranged Assassin</th>\n      <td>3.000000</td>\n      <td>14</td>\n      <td>3.0</td>\n      <td>14</td>\n    </tr>\n    <tr>\n      <th>Orphea</th>\n      <th>Ranged Assassin</th>\n      <td>4.543478</td>\n      <td>46</td>\n      <td>4.0</td>\n      <td>46</td>\n    </tr>\n    <tr>\n      <th>Probius</th>\n      <th>Ranged Assassin</th>\n      <td>2.000000</td>\n      <td>30</td>\n      <td>1.5</td>\n      <td>30</td>\n    </tr>\n    <tr>\n      <th>Qhira</th>\n      <th>Melee Assassin</th>\n      <td>3.900000</td>\n      <td>10</td>\n      <td>4.0</td>\n      <td>10</td>\n    </tr>\n    <tr>\n      <th>Raynor</th>\n      <th>Ranged Assassin</th>\n      <td>4.000000</td>\n      <td>1</td>\n      <td>4.0</td>\n      <td>1</td>\n    </tr>\n    <tr>\n      <th>Rehgar</th>\n      <th>Healer</th>\n      <td>0.500000</td>\n      <td>2</td>\n      <td>0.5</td>\n      <td>2</td>\n    </tr>\n    <tr>\n      <th>Sgt. Hammer</th>\n      <th>Ranged Assassin</th>\n      <td>2.750000</td>\n      <td>4</td>\n      <td>2.5</td>\n      <td>4</td>\n    </tr>\n    <tr>\n      <th>Stitches</th>\n      <th>Tank</th>\n      <td>2.333333</td>\n      <td>3</td>\n      <td>3.0</td>\n      <td>3</td>\n    </tr>\n    <tr>\n      <th>Stukov</th>\n      <th>Healer</th>\n      <td>3.257143</td>\n      <td>35</td>\n      <td>3.0</td>\n      <td>35</td>\n    </tr>\n    <tr>\n      <th>Sylvanas</th>\n      <th>Ranged Assassin</th>\n      <td>2.000000</td>\n      <td>2</td>\n      <td>2.0</td>\n      <td>2</td>\n    </tr>\n    <tr>\n      <th>The Butcher</th>\n      <th>Melee Assassin</th>\n      <td>3.000000</td>\n      <td>2</td>\n      <td>3.0</td>\n      <td>2</td>\n    </tr>\n    <tr>\n      <th>Thrall</th>\n      <th>Bruiser</th>\n      <td>4.000000</td>\n      <td>5</td>\n      <td>4.0</td>\n      <td>5</td>\n    </tr>\n    <tr>\n      <th>Tyrande</th>\n      <th>Healer</th>\n      <td>0.500000</td>\n      <td>2</td>\n      <td>0.5</td>\n      <td>2</td>\n    </tr>\n    <tr>\n      <th>Uther</th>\n      <th>Healer</th>\n      <td>2.000000</td>\n      <td>2</td>\n      <td>2.0</td>\n      <td>2</td>\n    </tr>\n    <tr>\n      <th>Valeera</th>\n      <th>Melee Assassin</th>\n      <td>5.800000</td>\n      <td>5</td>\n      <td>6.0</td>\n      <td>5</td>\n    </tr>\n    <tr>\n      <th>Valla</th>\n      <th>Ranged Assassin</th>\n      <td>4.594595</td>\n      <td>37</td>\n      <td>4.0</td>\n      <td>37</td>\n    </tr>\n    <tr>\n      <th>Varian</th>\n      <th>Bruiser</th>\n      <td>4.310811</td>\n      <td>74</td>\n      <td>4.0</td>\n      <td>74</td>\n    </tr>\n    <tr>\n      <th>Whitemane</th>\n      <th>Healer</th>\n      <td>1.000000</td>\n      <td>2</td>\n      <td>1.0</td>\n      <td>2</td>\n    </tr>\n    <tr>\n      <th>Zagara</th>\n      <th>Ranged Assassin</th>\n      <td>5.000000</td>\n      <td>1</td>\n      <td>5.0</td>\n      <td>1</td>\n    </tr>\n    <tr>\n      <th>Zarya</th>\n      <th>Support</th>\n      <td>3.750000</td>\n      <td>8</td>\n      <td>1.5</td>\n      <td>8</td>\n    </tr>\n    <tr>\n      <th>Zul'jin</th>\n      <th>Ranged Assassin</th>\n      <td>4.000000</td>\n      <td>2</td>\n      <td>4.0</td>\n      <td>2</td>\n    </tr>\n  </tbody>\n</table>\n</div>"
     },
     "execution_count": 14,
     "metadata": {},
     "output_type": "execute_result"
    }
   ],
   "source": [
    "df[[*dps_agg_points]].groupby(['Battletag', 'Hero', 'NewRole']).agg(\n",
    "    MeanKills=('Kills', 'mean'), KillCount=('Kills', 'count'), MedianKills=('Kills', 'median'),\n",
    "    Takedowns=('Takedowns', 'count')\n",
    ")"
   ],
   "metadata": {
    "collapsed": false,
    "pycharm": {
     "name": "#%%\n"
    }
   }
  },
  {
   "cell_type": "code",
   "execution_count": 224,
   "outputs": [
    {
     "data": {
      "text/plain": "                                       IsWinner                     Kills  \\\n                                            max sum count      mean   max   \nBattletag    Hero      NewRole                                              \nAly#11717    Anub'arak Tank                   1  10    12  0.833333     3   \n             Cassia    Ranged Assassin        1  26    44  0.590909    10   \n             Dehaka    Bruiser                0   0     4  0.000000     1   \n             Diablo    Tank                   0   0     2  0.000000     3   \n             Fenix     Ranged Assassin        0   0     2  0.000000     0   \n...                                         ...  ..   ...       ...   ...   \nYipYip#11141 Imperius  Bruiser                0   0     2  0.000000     0   \n             Lunara    Ranged Assassin        1   8    16  0.500000     9   \n             Raynor    Ranged Assassin        1  12    16  0.750000     4   \n             Sylvanas  Ranged Assassin        1   4    14  0.285714     7   \n             Valla     Ranged Assassin        1   6    14  0.428571    15   \n\n                                                            Assists       ...  \\\n                                        sum count      mean     max  sum  ...   \nBattletag    Hero      NewRole                                            ...   \nAly#11717    Anub'arak Tank              20    12  1.666667      13  100  ...   \n             Cassia    Ranged Assassin  156    44  3.545455      23  408  ...   \n             Dehaka    Bruiser            2     4  0.500000      11   30  ...   \n             Diablo    Tank               6     2  3.000000      11   22  ...   \n             Fenix     Ranged Assassin    0     2  0.000000       3    6  ...   \n...                                     ...   ...       ...     ...  ...  ...   \nYipYip#11141 Imperius  Bruiser            0     2  0.000000      11   22  ...   \n             Lunara    Ranged Assassin   84    16  5.250000      24  162  ...   \n             Raynor    Ranged Assassin   34    16  2.125000      17  124  ...   \n             Sylvanas  Ranged Assassin   68    14  4.857143      18  160  ...   \n             Valla     Ranged Assassin   80    14  5.714286      12  104  ...   \n\n                                       PhysicalDamage                 \\\n                                                count           mean   \nBattletag    Hero      NewRole                                         \nAly#11717    Anub'arak Tank                        12   19936.333333   \n             Cassia    Ranged Assassin             44   32339.227273   \n             Dehaka    Bruiser                      4   22302.000000   \n             Diablo    Tank                         2   27723.000000   \n             Fenix     Ranged Assassin              2   56330.000000   \n...                                               ...            ...   \nYipYip#11141 Imperius  Bruiser                      2   34818.000000   \n             Lunara    Ranged Assassin             16   50279.500000   \n             Raynor    Ranged Assassin             16  105575.750000   \n             Sylvanas  Ranged Assassin             14   76491.428571   \n             Valla     Ranged Assassin             14   73247.142857   \n\n                                       SpellDamage                 \\\n                                               max      sum count   \nBattletag    Hero      NewRole                                      \nAly#11717    Anub'arak Tank                  90282   654482    12   \n             Cassia    Ranged Assassin      195268  4506456    44   \n             Dehaka    Bruiser               66791   264456     4   \n             Diablo    Tank                  81278   162556     2   \n             Fenix     Ranged Assassin       34956    69912     2   \n...                                            ...      ...   ...   \nYipYip#11141 Imperius  Bruiser               47113    94226     2   \n             Lunara    Ranged Assassin      136293  1606160    16   \n             Raynor    Ranged Assassin       45022   392588    16   \n             Sylvanas  Ranged Assassin      100626  1097796    14   \n             Valla     Ranged Assassin      178975  1259796    14   \n\n                                                      RegenGlobes              \\\n                                                 mean         max   sum count   \nBattletag    Hero      NewRole                                                  \nAly#11717    Anub'arak Tank              54540.166667          29   246    12   \n             Cassia    Ranged Assassin  102419.454545          43  1100    44   \n             Dehaka    Bruiser           66114.000000          27   106     4   \n             Diablo    Tank              81278.000000          21    42     2   \n             Fenix     Ranged Assassin   34956.000000          22    44     2   \n...                                               ...         ...   ...   ...   \nYipYip#11141 Imperius  Bruiser           47113.000000          26    52     2   \n             Lunara    Ranged Assassin  100385.000000          52   602    16   \n             Raynor    Ranged Assassin   24536.750000          42   374    16   \n             Sylvanas  Ranged Assassin   78414.000000          47   436    14   \n             Valla     Ranged Assassin   89985.428571          55   426    14   \n\n                                                   \n                                             mean  \nBattletag    Hero      NewRole                     \nAly#11717    Anub'arak Tank             20.500000  \n             Cassia    Ranged Assassin  25.000000  \n             Dehaka    Bruiser          26.500000  \n             Diablo    Tank             21.000000  \n             Fenix     Ranged Assassin  22.000000  \n...                                           ...  \nYipYip#11141 Imperius  Bruiser          26.000000  \n             Lunara    Ranged Assassin  37.625000  \n             Raynor    Ranged Assassin  23.375000  \n             Sylvanas  Ranged Assassin  31.142857  \n             Valla     Ranged Assassin  30.428571  \n\n[253 rows x 152 columns]",
      "text/html": "<div>\n<style scoped>\n    .dataframe tbody tr th:only-of-type {\n        vertical-align: middle;\n    }\n\n    .dataframe tbody tr th {\n        vertical-align: top;\n    }\n\n    .dataframe thead tr th {\n        text-align: left;\n    }\n\n    .dataframe thead tr:last-of-type th {\n        text-align: right;\n    }\n</style>\n<table border=\"1\" class=\"dataframe\">\n  <thead>\n    <tr>\n      <th></th>\n      <th></th>\n      <th></th>\n      <th colspan=\"4\" halign=\"left\">IsWinner</th>\n      <th colspan=\"4\" halign=\"left\">Kills</th>\n      <th colspan=\"2\" halign=\"left\">Assists</th>\n      <th>...</th>\n      <th colspan=\"2\" halign=\"left\">PhysicalDamage</th>\n      <th colspan=\"4\" halign=\"left\">SpellDamage</th>\n      <th colspan=\"4\" halign=\"left\">RegenGlobes</th>\n    </tr>\n    <tr>\n      <th></th>\n      <th></th>\n      <th></th>\n      <th>max</th>\n      <th>sum</th>\n      <th>count</th>\n      <th>mean</th>\n      <th>max</th>\n      <th>sum</th>\n      <th>count</th>\n      <th>mean</th>\n      <th>max</th>\n      <th>sum</th>\n      <th>...</th>\n      <th>count</th>\n      <th>mean</th>\n      <th>max</th>\n      <th>sum</th>\n      <th>count</th>\n      <th>mean</th>\n      <th>max</th>\n      <th>sum</th>\n      <th>count</th>\n      <th>mean</th>\n    </tr>\n    <tr>\n      <th>Battletag</th>\n      <th>Hero</th>\n      <th>NewRole</th>\n      <th></th>\n      <th></th>\n      <th></th>\n      <th></th>\n      <th></th>\n      <th></th>\n      <th></th>\n      <th></th>\n      <th></th>\n      <th></th>\n      <th></th>\n      <th></th>\n      <th></th>\n      <th></th>\n      <th></th>\n      <th></th>\n      <th></th>\n      <th></th>\n      <th></th>\n      <th></th>\n      <th></th>\n    </tr>\n  </thead>\n  <tbody>\n    <tr>\n      <th rowspan=\"5\" valign=\"top\">Aly#11717</th>\n      <th>Anub'arak</th>\n      <th>Tank</th>\n      <td>1</td>\n      <td>10</td>\n      <td>12</td>\n      <td>0.833333</td>\n      <td>3</td>\n      <td>20</td>\n      <td>12</td>\n      <td>1.666667</td>\n      <td>13</td>\n      <td>100</td>\n      <td>...</td>\n      <td>12</td>\n      <td>19936.333333</td>\n      <td>90282</td>\n      <td>654482</td>\n      <td>12</td>\n      <td>54540.166667</td>\n      <td>29</td>\n      <td>246</td>\n      <td>12</td>\n      <td>20.500000</td>\n    </tr>\n    <tr>\n      <th>Cassia</th>\n      <th>Ranged Assassin</th>\n      <td>1</td>\n      <td>26</td>\n      <td>44</td>\n      <td>0.590909</td>\n      <td>10</td>\n      <td>156</td>\n      <td>44</td>\n      <td>3.545455</td>\n      <td>23</td>\n      <td>408</td>\n      <td>...</td>\n      <td>44</td>\n      <td>32339.227273</td>\n      <td>195268</td>\n      <td>4506456</td>\n      <td>44</td>\n      <td>102419.454545</td>\n      <td>43</td>\n      <td>1100</td>\n      <td>44</td>\n      <td>25.000000</td>\n    </tr>\n    <tr>\n      <th>Dehaka</th>\n      <th>Bruiser</th>\n      <td>0</td>\n      <td>0</td>\n      <td>4</td>\n      <td>0.000000</td>\n      <td>1</td>\n      <td>2</td>\n      <td>4</td>\n      <td>0.500000</td>\n      <td>11</td>\n      <td>30</td>\n      <td>...</td>\n      <td>4</td>\n      <td>22302.000000</td>\n      <td>66791</td>\n      <td>264456</td>\n      <td>4</td>\n      <td>66114.000000</td>\n      <td>27</td>\n      <td>106</td>\n      <td>4</td>\n      <td>26.500000</td>\n    </tr>\n    <tr>\n      <th>Diablo</th>\n      <th>Tank</th>\n      <td>0</td>\n      <td>0</td>\n      <td>2</td>\n      <td>0.000000</td>\n      <td>3</td>\n      <td>6</td>\n      <td>2</td>\n      <td>3.000000</td>\n      <td>11</td>\n      <td>22</td>\n      <td>...</td>\n      <td>2</td>\n      <td>27723.000000</td>\n      <td>81278</td>\n      <td>162556</td>\n      <td>2</td>\n      <td>81278.000000</td>\n      <td>21</td>\n      <td>42</td>\n      <td>2</td>\n      <td>21.000000</td>\n    </tr>\n    <tr>\n      <th>Fenix</th>\n      <th>Ranged Assassin</th>\n      <td>0</td>\n      <td>0</td>\n      <td>2</td>\n      <td>0.000000</td>\n      <td>0</td>\n      <td>0</td>\n      <td>2</td>\n      <td>0.000000</td>\n      <td>3</td>\n      <td>6</td>\n      <td>...</td>\n      <td>2</td>\n      <td>56330.000000</td>\n      <td>34956</td>\n      <td>69912</td>\n      <td>2</td>\n      <td>34956.000000</td>\n      <td>22</td>\n      <td>44</td>\n      <td>2</td>\n      <td>22.000000</td>\n    </tr>\n    <tr>\n      <th>...</th>\n      <th>...</th>\n      <th>...</th>\n      <td>...</td>\n      <td>...</td>\n      <td>...</td>\n      <td>...</td>\n      <td>...</td>\n      <td>...</td>\n      <td>...</td>\n      <td>...</td>\n      <td>...</td>\n      <td>...</td>\n      <td>...</td>\n      <td>...</td>\n      <td>...</td>\n      <td>...</td>\n      <td>...</td>\n      <td>...</td>\n      <td>...</td>\n      <td>...</td>\n      <td>...</td>\n      <td>...</td>\n      <td>...</td>\n    </tr>\n    <tr>\n      <th rowspan=\"5\" valign=\"top\">YipYip#11141</th>\n      <th>Imperius</th>\n      <th>Bruiser</th>\n      <td>0</td>\n      <td>0</td>\n      <td>2</td>\n      <td>0.000000</td>\n      <td>0</td>\n      <td>0</td>\n      <td>2</td>\n      <td>0.000000</td>\n      <td>11</td>\n      <td>22</td>\n      <td>...</td>\n      <td>2</td>\n      <td>34818.000000</td>\n      <td>47113</td>\n      <td>94226</td>\n      <td>2</td>\n      <td>47113.000000</td>\n      <td>26</td>\n      <td>52</td>\n      <td>2</td>\n      <td>26.000000</td>\n    </tr>\n    <tr>\n      <th>Lunara</th>\n      <th>Ranged Assassin</th>\n      <td>1</td>\n      <td>8</td>\n      <td>16</td>\n      <td>0.500000</td>\n      <td>9</td>\n      <td>84</td>\n      <td>16</td>\n      <td>5.250000</td>\n      <td>24</td>\n      <td>162</td>\n      <td>...</td>\n      <td>16</td>\n      <td>50279.500000</td>\n      <td>136293</td>\n      <td>1606160</td>\n      <td>16</td>\n      <td>100385.000000</td>\n      <td>52</td>\n      <td>602</td>\n      <td>16</td>\n      <td>37.625000</td>\n    </tr>\n    <tr>\n      <th>Raynor</th>\n      <th>Ranged Assassin</th>\n      <td>1</td>\n      <td>12</td>\n      <td>16</td>\n      <td>0.750000</td>\n      <td>4</td>\n      <td>34</td>\n      <td>16</td>\n      <td>2.125000</td>\n      <td>17</td>\n      <td>124</td>\n      <td>...</td>\n      <td>16</td>\n      <td>105575.750000</td>\n      <td>45022</td>\n      <td>392588</td>\n      <td>16</td>\n      <td>24536.750000</td>\n      <td>42</td>\n      <td>374</td>\n      <td>16</td>\n      <td>23.375000</td>\n    </tr>\n    <tr>\n      <th>Sylvanas</th>\n      <th>Ranged Assassin</th>\n      <td>1</td>\n      <td>4</td>\n      <td>14</td>\n      <td>0.285714</td>\n      <td>7</td>\n      <td>68</td>\n      <td>14</td>\n      <td>4.857143</td>\n      <td>18</td>\n      <td>160</td>\n      <td>...</td>\n      <td>14</td>\n      <td>76491.428571</td>\n      <td>100626</td>\n      <td>1097796</td>\n      <td>14</td>\n      <td>78414.000000</td>\n      <td>47</td>\n      <td>436</td>\n      <td>14</td>\n      <td>31.142857</td>\n    </tr>\n    <tr>\n      <th>Valla</th>\n      <th>Ranged Assassin</th>\n      <td>1</td>\n      <td>6</td>\n      <td>14</td>\n      <td>0.428571</td>\n      <td>15</td>\n      <td>80</td>\n      <td>14</td>\n      <td>5.714286</td>\n      <td>12</td>\n      <td>104</td>\n      <td>...</td>\n      <td>14</td>\n      <td>73247.142857</td>\n      <td>178975</td>\n      <td>1259796</td>\n      <td>14</td>\n      <td>89985.428571</td>\n      <td>55</td>\n      <td>426</td>\n      <td>14</td>\n      <td>30.428571</td>\n    </tr>\n  </tbody>\n</table>\n<p>253 rows × 152 columns</p>\n</div>"
     },
     "execution_count": 224,
     "metadata": {},
     "output_type": "execute_result"
    }
   ],
   "source": [
    "df[[*dps_agg_points]].groupby(['Battletag', 'Hero', 'NewRole']).agg([ \"max\", \"sum\", \"count\", \"mean\"], axis=0)"
   ],
   "metadata": {
    "collapsed": false,
    "pycharm": {
     "name": "#%%\n"
    }
   }
  },
  {
   "cell_type": "code",
   "execution_count": 225,
   "outputs": [
    {
     "data": {
      "text/plain": "                                              HeroCount  Wins  WinRate\nBattletag         Hero       NewRole                                  \nAly#11717         Cassia     Ranged Assassin         44    26     0.59\n                  Jaina      Ranged Assassin         80    52     0.65\n                  Orphea     Ranged Assassin         86    48     0.56\n                  Valla      Ranged Assassin         22     4     0.18\n                  Varian     Bruiser                 50    26     0.52\nAnaressa#1611     Johanna    Tank                    52    24     0.46\n                  Lunara     Ranged Assassin        116    84     0.72\n                  Raynor     Ranged Assassin         52    30     0.58\n                  Sylvanas   Ranged Assassin        124    64     0.52\n                  Valla      Ranged Assassin         80    42     0.52\nBornToShine#11556 Anduin     Healer                 218   116     0.53\n                  Brightwing Healer                 180    84     0.47\n                  Deckard    Healer                  40    24     0.60\n                  Rehgar     Healer                 154    86     0.56\n                  Stukov     Healer                 224   122     0.54\nDirePants#125315  Anub'arak  Tank                    86    48     0.56\n                  Dehaka     Bruiser                 40    22     0.55\n                  E.T.C.     Tank                    56    26     0.46\n                  Johanna    Tank                    64    44     0.69\n                  Leoric     Bruiser                 42    32     0.76\nDirepants#125315  Diablo     Tank                     2     2     1.00\n                  Malthael   Bruiser                  2     2     1.00\nKnivers#1675      Anub'arak  Tank                    42    24     0.57\n                  Blaze      Tank                    30    18     0.60\n                  E.T.C.     Tank                    30    18     0.60\n                  Garrosh    Tank                    48    28     0.58\n                  Muradin    Tank                    34    18     0.53\nMowBWan#1362      Anub'arak  Tank                    69    35     0.51\n                  Diablo     Tank                    72    29     0.40\n                  Johanna    Tank                   169    87     0.51\n                  Muradin    Tank                   156    89     0.57\n                  Sonya      Bruiser                 31    20     0.65\nPapaShango#11954  Artanis    Bruiser                  2     0     0.00\nSubZero#1577      Greymane   Ranged Assassin        104    64     0.62\n                  Sonya      Bruiser                 32    22     0.69\n                  Tassadar   Ranged Assassin         58    22     0.38\n                  Tychus     Ranged Assassin         90    54     0.60\n                  Zul'jin    Ranged Assassin         84    46     0.55\nTheCaptain#12345  Cassia     Ranged Assassin        112    72     0.64\n                  Jaina      Ranged Assassin        272   156     0.57\n                  Orphea     Ranged Assassin         90    46     0.51\n                  Valla      Ranged Assassin         72    32     0.44\n                  Varian     Bruiser                 98    44     0.45\nYipYip#11141      Cassia     Ranged Assassin         10     6     0.60\n                  Lunara     Ranged Assassin         16     8     0.50\n                  Raynor     Ranged Assassin         16    12     0.75\n                  Sylvanas   Ranged Assassin         14     4     0.29\n                  Valla      Ranged Assassin         14     6     0.43",
      "text/html": "<div>\n<style scoped>\n    .dataframe tbody tr th:only-of-type {\n        vertical-align: middle;\n    }\n\n    .dataframe tbody tr th {\n        vertical-align: top;\n    }\n\n    .dataframe thead th {\n        text-align: right;\n    }\n</style>\n<table border=\"1\" class=\"dataframe\">\n  <thead>\n    <tr style=\"text-align: right;\">\n      <th></th>\n      <th></th>\n      <th></th>\n      <th>HeroCount</th>\n      <th>Wins</th>\n      <th>WinRate</th>\n    </tr>\n    <tr>\n      <th>Battletag</th>\n      <th>Hero</th>\n      <th>NewRole</th>\n      <th></th>\n      <th></th>\n      <th></th>\n    </tr>\n  </thead>\n  <tbody>\n    <tr>\n      <th rowspan=\"5\" valign=\"top\">Aly#11717</th>\n      <th>Cassia</th>\n      <th>Ranged Assassin</th>\n      <td>44</td>\n      <td>26</td>\n      <td>0.59</td>\n    </tr>\n    <tr>\n      <th>Jaina</th>\n      <th>Ranged Assassin</th>\n      <td>80</td>\n      <td>52</td>\n      <td>0.65</td>\n    </tr>\n    <tr>\n      <th>Orphea</th>\n      <th>Ranged Assassin</th>\n      <td>86</td>\n      <td>48</td>\n      <td>0.56</td>\n    </tr>\n    <tr>\n      <th>Valla</th>\n      <th>Ranged Assassin</th>\n      <td>22</td>\n      <td>4</td>\n      <td>0.18</td>\n    </tr>\n    <tr>\n      <th>Varian</th>\n      <th>Bruiser</th>\n      <td>50</td>\n      <td>26</td>\n      <td>0.52</td>\n    </tr>\n    <tr>\n      <th rowspan=\"5\" valign=\"top\">Anaressa#1611</th>\n      <th>Johanna</th>\n      <th>Tank</th>\n      <td>52</td>\n      <td>24</td>\n      <td>0.46</td>\n    </tr>\n    <tr>\n      <th>Lunara</th>\n      <th>Ranged Assassin</th>\n      <td>116</td>\n      <td>84</td>\n      <td>0.72</td>\n    </tr>\n    <tr>\n      <th>Raynor</th>\n      <th>Ranged Assassin</th>\n      <td>52</td>\n      <td>30</td>\n      <td>0.58</td>\n    </tr>\n    <tr>\n      <th>Sylvanas</th>\n      <th>Ranged Assassin</th>\n      <td>124</td>\n      <td>64</td>\n      <td>0.52</td>\n    </tr>\n    <tr>\n      <th>Valla</th>\n      <th>Ranged Assassin</th>\n      <td>80</td>\n      <td>42</td>\n      <td>0.52</td>\n    </tr>\n    <tr>\n      <th rowspan=\"5\" valign=\"top\">BornToShine#11556</th>\n      <th>Anduin</th>\n      <th>Healer</th>\n      <td>218</td>\n      <td>116</td>\n      <td>0.53</td>\n    </tr>\n    <tr>\n      <th>Brightwing</th>\n      <th>Healer</th>\n      <td>180</td>\n      <td>84</td>\n      <td>0.47</td>\n    </tr>\n    <tr>\n      <th>Deckard</th>\n      <th>Healer</th>\n      <td>40</td>\n      <td>24</td>\n      <td>0.60</td>\n    </tr>\n    <tr>\n      <th>Rehgar</th>\n      <th>Healer</th>\n      <td>154</td>\n      <td>86</td>\n      <td>0.56</td>\n    </tr>\n    <tr>\n      <th>Stukov</th>\n      <th>Healer</th>\n      <td>224</td>\n      <td>122</td>\n      <td>0.54</td>\n    </tr>\n    <tr>\n      <th rowspan=\"5\" valign=\"top\">DirePants#125315</th>\n      <th>Anub'arak</th>\n      <th>Tank</th>\n      <td>86</td>\n      <td>48</td>\n      <td>0.56</td>\n    </tr>\n    <tr>\n      <th>Dehaka</th>\n      <th>Bruiser</th>\n      <td>40</td>\n      <td>22</td>\n      <td>0.55</td>\n    </tr>\n    <tr>\n      <th>E.T.C.</th>\n      <th>Tank</th>\n      <td>56</td>\n      <td>26</td>\n      <td>0.46</td>\n    </tr>\n    <tr>\n      <th>Johanna</th>\n      <th>Tank</th>\n      <td>64</td>\n      <td>44</td>\n      <td>0.69</td>\n    </tr>\n    <tr>\n      <th>Leoric</th>\n      <th>Bruiser</th>\n      <td>42</td>\n      <td>32</td>\n      <td>0.76</td>\n    </tr>\n    <tr>\n      <th rowspan=\"2\" valign=\"top\">Direpants#125315</th>\n      <th>Diablo</th>\n      <th>Tank</th>\n      <td>2</td>\n      <td>2</td>\n      <td>1.00</td>\n    </tr>\n    <tr>\n      <th>Malthael</th>\n      <th>Bruiser</th>\n      <td>2</td>\n      <td>2</td>\n      <td>1.00</td>\n    </tr>\n    <tr>\n      <th rowspan=\"5\" valign=\"top\">Knivers#1675</th>\n      <th>Anub'arak</th>\n      <th>Tank</th>\n      <td>42</td>\n      <td>24</td>\n      <td>0.57</td>\n    </tr>\n    <tr>\n      <th>Blaze</th>\n      <th>Tank</th>\n      <td>30</td>\n      <td>18</td>\n      <td>0.60</td>\n    </tr>\n    <tr>\n      <th>E.T.C.</th>\n      <th>Tank</th>\n      <td>30</td>\n      <td>18</td>\n      <td>0.60</td>\n    </tr>\n    <tr>\n      <th>Garrosh</th>\n      <th>Tank</th>\n      <td>48</td>\n      <td>28</td>\n      <td>0.58</td>\n    </tr>\n    <tr>\n      <th>Muradin</th>\n      <th>Tank</th>\n      <td>34</td>\n      <td>18</td>\n      <td>0.53</td>\n    </tr>\n    <tr>\n      <th rowspan=\"5\" valign=\"top\">MowBWan#1362</th>\n      <th>Anub'arak</th>\n      <th>Tank</th>\n      <td>69</td>\n      <td>35</td>\n      <td>0.51</td>\n    </tr>\n    <tr>\n      <th>Diablo</th>\n      <th>Tank</th>\n      <td>72</td>\n      <td>29</td>\n      <td>0.40</td>\n    </tr>\n    <tr>\n      <th>Johanna</th>\n      <th>Tank</th>\n      <td>169</td>\n      <td>87</td>\n      <td>0.51</td>\n    </tr>\n    <tr>\n      <th>Muradin</th>\n      <th>Tank</th>\n      <td>156</td>\n      <td>89</td>\n      <td>0.57</td>\n    </tr>\n    <tr>\n      <th>Sonya</th>\n      <th>Bruiser</th>\n      <td>31</td>\n      <td>20</td>\n      <td>0.65</td>\n    </tr>\n    <tr>\n      <th>PapaShango#11954</th>\n      <th>Artanis</th>\n      <th>Bruiser</th>\n      <td>2</td>\n      <td>0</td>\n      <td>0.00</td>\n    </tr>\n    <tr>\n      <th rowspan=\"5\" valign=\"top\">SubZero#1577</th>\n      <th>Greymane</th>\n      <th>Ranged Assassin</th>\n      <td>104</td>\n      <td>64</td>\n      <td>0.62</td>\n    </tr>\n    <tr>\n      <th>Sonya</th>\n      <th>Bruiser</th>\n      <td>32</td>\n      <td>22</td>\n      <td>0.69</td>\n    </tr>\n    <tr>\n      <th>Tassadar</th>\n      <th>Ranged Assassin</th>\n      <td>58</td>\n      <td>22</td>\n      <td>0.38</td>\n    </tr>\n    <tr>\n      <th>Tychus</th>\n      <th>Ranged Assassin</th>\n      <td>90</td>\n      <td>54</td>\n      <td>0.60</td>\n    </tr>\n    <tr>\n      <th>Zul'jin</th>\n      <th>Ranged Assassin</th>\n      <td>84</td>\n      <td>46</td>\n      <td>0.55</td>\n    </tr>\n    <tr>\n      <th rowspan=\"5\" valign=\"top\">TheCaptain#12345</th>\n      <th>Cassia</th>\n      <th>Ranged Assassin</th>\n      <td>112</td>\n      <td>72</td>\n      <td>0.64</td>\n    </tr>\n    <tr>\n      <th>Jaina</th>\n      <th>Ranged Assassin</th>\n      <td>272</td>\n      <td>156</td>\n      <td>0.57</td>\n    </tr>\n    <tr>\n      <th>Orphea</th>\n      <th>Ranged Assassin</th>\n      <td>90</td>\n      <td>46</td>\n      <td>0.51</td>\n    </tr>\n    <tr>\n      <th>Valla</th>\n      <th>Ranged Assassin</th>\n      <td>72</td>\n      <td>32</td>\n      <td>0.44</td>\n    </tr>\n    <tr>\n      <th>Varian</th>\n      <th>Bruiser</th>\n      <td>98</td>\n      <td>44</td>\n      <td>0.45</td>\n    </tr>\n    <tr>\n      <th rowspan=\"5\" valign=\"top\">YipYip#11141</th>\n      <th>Cassia</th>\n      <th>Ranged Assassin</th>\n      <td>10</td>\n      <td>6</td>\n      <td>0.60</td>\n    </tr>\n    <tr>\n      <th>Lunara</th>\n      <th>Ranged Assassin</th>\n      <td>16</td>\n      <td>8</td>\n      <td>0.50</td>\n    </tr>\n    <tr>\n      <th>Raynor</th>\n      <th>Ranged Assassin</th>\n      <td>16</td>\n      <td>12</td>\n      <td>0.75</td>\n    </tr>\n    <tr>\n      <th>Sylvanas</th>\n      <th>Ranged Assassin</th>\n      <td>14</td>\n      <td>4</td>\n      <td>0.29</td>\n    </tr>\n    <tr>\n      <th>Valla</th>\n      <th>Ranged Assassin</th>\n      <td>14</td>\n      <td>6</td>\n      <td>0.43</td>\n    </tr>\n  </tbody>\n</table>\n</div>"
     },
     "execution_count": 225,
     "metadata": {},
     "output_type": "execute_result"
    }
   ],
   "source": [
    "dfn = df[[*dps_agg_points]].groupby(['Battletag', 'Hero', 'NewRole']).agg(\n",
    "    HeroCount=('Kills', 'count')\n",
    "    , Wins=('IsWinner', 'sum')\n",
    ").sort_values('HeroCount', ascending=False)\n",
    "\n",
    "dfn['WinRate'] = round(dfn.Wins / dfn.HeroCount, 2)\n",
    "\n",
    "dfn.groupby(['Battletag']).head(5).sort_index()\n",
    "# df.sort_values('Count', ascending=False).groupby('Date').head(2).sort_index()"
   ],
   "metadata": {
    "collapsed": false,
    "pycharm": {
     "name": "#%%\n"
    }
   }
  },
  {
   "cell_type": "code",
   "execution_count": null,
   "outputs": [],
   "source": [],
   "metadata": {
    "collapsed": false,
    "pycharm": {
     "name": "#%%\n"
    }
   }
  }
 ],
 "metadata": {
  "kernelspec": {
   "display_name": "Python 3",
   "language": "python",
   "name": "python3"
  },
  "language_info": {
   "codemirror_mode": {
    "name": "ipython",
    "version": 2
   },
   "file_extension": ".py",
   "mimetype": "text/x-python",
   "name": "python",
   "nbconvert_exporter": "python",
   "pygments_lexer": "ipython2",
   "version": "2.7.6"
  }
 },
 "nbformat": 4,
 "nbformat_minor": 0
}