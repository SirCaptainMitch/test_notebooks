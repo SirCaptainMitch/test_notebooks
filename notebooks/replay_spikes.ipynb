{
 "cells": [
  {
   "cell_type": "code",
   "execution_count": 179,
   "metadata": {
    "collapsed": true,
    "pycharm": {
     "name": "#%%\n"
    }
   },
   "outputs": [],
   "source": [
    "import sqlalchemy as sa\n",
    "import pandas as pd"
   ]
  },
  {
   "cell_type": "code",
   "execution_count": 180,
   "outputs": [],
   "source": [
    "from scripts import engine\n",
    "\n",
    "meta_data = sa.MetaData(bind=engine)\n",
    "sa.MetaData.reflect(meta_data)"
   ],
   "metadata": {
    "collapsed": false,
    "pycharm": {
     "name": "#%%\n"
    }
   }
  },
  {
   "cell_type": "code",
   "execution_count": 181,
   "outputs": [],
   "source": [
    "Player=meta_data.tables['Player']\n",
    "TeamReplayRollup=meta_data.tables['TeamReplayRollup']\n",
    "Hero=meta_data.tables['Hero']\n",
    "Battleground=meta_data.tables['Map']\n",
    "ReplayDetail=meta_data.tables['ReplayDetail']\n",
    "ReplayPlayer=meta_data.tables['ReplayPlayer']\n",
    "TeamHeroRollup=meta_data.tables['TeamHeroRollup']\n",
    "TeamRollup=meta_data.tables['TeamRollup']"
   ],
   "metadata": {
    "collapsed": false,
    "pycharm": {
     "name": "#%%\n"
    }
   }
  },
  {
   "cell_type": "code",
   "execution_count": 182,
   "outputs": [],
   "source": [
    "team_names = [\n",
    "    'gold dragons'\n",
    "    , '30 seconds to mosh'\n",
    "]\n",
    "\n",
    "core_cols = [\n",
    "    'Battletag'\n",
    "    , 'TeamName'\n",
    "    , 'MapName'\n",
    "    , 'GameType'\n",
    "    , 'GameDate'\n",
    "    , 'HeroName'\n",
    "    , 'NewRole'\n",
    "    , 'Team'\n",
    "    , 'Party'\n",
    "    , 'ReplayFingerPrint'\n",
    "]\n",
    "\n",
    "group_cols = [\n",
    "    'Battletag'\n",
    "    , 'TeamName'\n",
    "    # , 'MapName'\n",
    "    # , 'GameType'\n",
    "    , 'HeroName'\n",
    "    , 'NewRole'\n",
    "]\n",
    "\n",
    "predictors = [\n",
    "    'GameLengthTimestamp'\n",
    "    , 'IsWinner'\n",
    "    , 'Kills'\n",
    "    , 'Assists'\n",
    "    , 'Deaths'\n",
    "    , 'ExperienceContribution'\n",
    "    , 'FirstToTen'\n",
    "    , 'Level'\n",
    "    , 'HeroDamage'\n",
    "    , 'Healing'\n",
    "    , 'Takedowns'\n",
    "    , 'SelfHealing'\n",
    "    , 'DamageTaken'\n",
    "    , 'TimeSpentDead'\n",
    "]"
   ],
   "metadata": {
    "collapsed": false,
    "pycharm": {
     "name": "#%%\n"
    }
   }
  },
  {
   "cell_type": "code",
   "execution_count": 183,
   "outputs": [],
   "source": [
    "player_replay_df = pd.read_sql(sql = sa.select(TeamReplayRollup), con = engine)\n",
    "hero_rollup = pd.read_sql(sql = sa.select(TeamHeroRollup), con = engine)\n",
    "team_rollup = pd.read_sql(sql = sa.select(TeamRollup), con = engine)\n",
    "team_rollup.to_csv('../sample_data/TeamRollup.csv')"
   ],
   "metadata": {
    "collapsed": false,
    "pycharm": {
     "name": "#%%\n"
    }
   }
  },
  {
   "cell_type": "code",
   "execution_count": 184,
   "outputs": [
    {
     "data": {
      "text/plain": "(28533, 1)"
     },
     "execution_count": 184,
     "metadata": {},
     "output_type": "execute_result"
    }
   ],
   "source": [
    "j = ReplayDetail.join(Battleground, Battleground.c.MapId == ReplayDetail.c.MapId) \\\n",
    "    .join(TeamReplayRollup, TeamReplayRollup.c.ReplayFingerPrint == ReplayDetail.c.ReplayFingerPrint)\n",
    "\n",
    "query = sa.select(sa.distinct(ReplayDetail.c.ReplayFingerPrint)).select_from(j)\n",
    "replay_detail_df = pd.read_sql(sql = query, con = engine)\n",
    "replay_detail_df.shape"
   ],
   "metadata": {
    "collapsed": false,
    "pycharm": {
     "name": "#%%\n"
    }
   }
  },
  {
   "cell_type": "code",
   "execution_count": 185,
   "outputs": [],
   "source": [
    "j = ReplayDetail.join(ReplayPlayer, ReplayPlayer.c.ReplayId == ReplayDetail.c.ReplayId) \\\n",
    "    .join(Player, Player.c.PlayerId == ReplayPlayer.c.PlayerId) \\\n",
    "    .join(Battleground, Battleground.c.MapId == ReplayDetail.c.MapId) \\\n",
    "    .join(Hero, Hero.c.HeroId == ReplayPlayer.c.HeroId) \\\n",
    "    .join(TeamReplayRollup, TeamReplayRollup.c.ReplayFingerPrint == ReplayDetail.c.ReplayFingerPrint)\n",
    "\n",
    "query = sa.select(\n",
    "    ReplayDetail.c.ReplayFingerPrint\n",
    "    , TeamReplayRollup.c.TeamName\n",
    "    , Player.c.Battletag\n",
    "    , Battleground.c.MapName\n",
    "    , ReplayDetail.c.GameType\n",
    "    , Hero.c.HeroName\n",
    "    , Hero.c.NewRole\n",
    "    , ReplayDetail.c.GameDate\n",
    "    , ReplayDetail.c.GameLengthTimestamp\n",
    "    , ReplayPlayer\n",
    "    , Player.c.BlizzardId\n",
    "    , Player.c.MasterPlayerId\n",
    ").select_from(j)\n",
    "\n",
    "replay_player_detail_df = pd.read_sql(sql = query, con = engine)\n",
    "replay_player_detail_df.drop_duplicates(inplace=True)"
   ],
   "metadata": {
    "collapsed": false,
    "pycharm": {
     "name": "#%%\n"
    }
   }
  },
  {
   "cell_type": "code",
   "execution_count": 186,
   "outputs": [
    {
     "data": {
      "text/plain": "       PlayerId ShortBattletag          Battletag  AccountLevel  \\\n2             3            Aly          Aly#11717           366   \n68           69       NotMebus      NotMebus#1314           100   \n4454       6657   DadLawnRangr  DadLawnRangr#1834           992   \n36465     42892         YipYip       YipYip#11141           258   \n53688     60830         YapYap       YapYap#11802           199   \n\n        BattletagUriEscape                                   HeroesProfileUrl  \\\n2              Aly%2311717  https://www.heroesprofile.com/Profile/?blizz_i...   \n68         NotMebus%231314  https://www.heroesprofile.com/Profile/?blizz_i...   \n4454   DadLawnRangr%231834  https://www.heroesprofile.com/Profile/?blizz_i...   \n36465       YipYip%2311141  https://www.heroesprofile.com/Profile/?blizz_i...   \n53688       YapYap%2311802  https://www.heroesprofile.com/Profile/?blizz_i...   \n\n      Region BlizzardId  MasterPlayerId  \n2          1   10958259               1  \n68         1   11101128               4  \n4454       1    4293850           15372  \n36465      1   10807209               4  \n53688      1   11063760              97  ",
      "text/html": "<div>\n<style scoped>\n    .dataframe tbody tr th:only-of-type {\n        vertical-align: middle;\n    }\n\n    .dataframe tbody tr th {\n        vertical-align: top;\n    }\n\n    .dataframe thead th {\n        text-align: right;\n    }\n</style>\n<table border=\"1\" class=\"dataframe\">\n  <thead>\n    <tr style=\"text-align: right;\">\n      <th></th>\n      <th>PlayerId</th>\n      <th>ShortBattletag</th>\n      <th>Battletag</th>\n      <th>AccountLevel</th>\n      <th>BattletagUriEscape</th>\n      <th>HeroesProfileUrl</th>\n      <th>Region</th>\n      <th>BlizzardId</th>\n      <th>MasterPlayerId</th>\n    </tr>\n  </thead>\n  <tbody>\n    <tr>\n      <th>2</th>\n      <td>3</td>\n      <td>Aly</td>\n      <td>Aly#11717</td>\n      <td>366</td>\n      <td>Aly%2311717</td>\n      <td>https://www.heroesprofile.com/Profile/?blizz_i...</td>\n      <td>1</td>\n      <td>10958259</td>\n      <td>1</td>\n    </tr>\n    <tr>\n      <th>68</th>\n      <td>69</td>\n      <td>NotMebus</td>\n      <td>NotMebus#1314</td>\n      <td>100</td>\n      <td>NotMebus%231314</td>\n      <td>https://www.heroesprofile.com/Profile/?blizz_i...</td>\n      <td>1</td>\n      <td>11101128</td>\n      <td>4</td>\n    </tr>\n    <tr>\n      <th>4454</th>\n      <td>6657</td>\n      <td>DadLawnRangr</td>\n      <td>DadLawnRangr#1834</td>\n      <td>992</td>\n      <td>DadLawnRangr%231834</td>\n      <td>https://www.heroesprofile.com/Profile/?blizz_i...</td>\n      <td>1</td>\n      <td>4293850</td>\n      <td>15372</td>\n    </tr>\n    <tr>\n      <th>36465</th>\n      <td>42892</td>\n      <td>YipYip</td>\n      <td>YipYip#11141</td>\n      <td>258</td>\n      <td>YipYip%2311141</td>\n      <td>https://www.heroesprofile.com/Profile/?blizz_i...</td>\n      <td>1</td>\n      <td>10807209</td>\n      <td>4</td>\n    </tr>\n    <tr>\n      <th>53688</th>\n      <td>60830</td>\n      <td>YapYap</td>\n      <td>YapYap#11802</td>\n      <td>199</td>\n      <td>YapYap%2311802</td>\n      <td>https://www.heroesprofile.com/Profile/?blizz_i...</td>\n      <td>1</td>\n      <td>11063760</td>\n      <td>97</td>\n    </tr>\n  </tbody>\n</table>\n</div>"
     },
     "execution_count": 186,
     "metadata": {},
     "output_type": "execute_result"
    }
   ],
   "source": [
    "players = pd.read_sql(sql=sa.select(Player), con=engine)\n",
    "child_players = players[(players.MasterPlayerId != players.PlayerId)]\n",
    "child_players.head(100)"
   ],
   "metadata": {
    "collapsed": false,
    "pycharm": {
     "name": "#%%\n"
    }
   }
  },
  {
   "cell_type": "code",
   "execution_count": 187,
   "outputs": [],
   "source": [
    "rc_df = player_replay_df[['ReplayFingerPrint', 'Battletag', 'TeamName', 'Team']].sort_values(['ReplayFingerPrint', 'Team'], ascending=[True, True]).groupby(['ReplayFingerPrint', 'TeamName', 'Team']).agg('count')\n",
    "rc_df.reset_index(inplace=True)\n",
    "# rc_df = rc_df[rc_df.TeamName.isin(team_names)]\n",
    "rc_df = rc_df[rc_df['Battletag'] >= 5]\n",
    "rc_df.to_sql('TeamReplayTotal', con=engine, if_exists='replace', index=False)\n",
    "rc_df.to_csv('../sample_data/TeamReplayTotal.csv')"
   ],
   "metadata": {
    "collapsed": false,
    "pycharm": {
     "name": "#%%\n"
    }
   }
  },
  {
   "cell_type": "code",
   "execution_count": 188,
   "outputs": [],
   "source": [
    "team_replay_df = pd.merge(replay_player_detail_df, rc_df[['ReplayFingerPrint', 'TeamName', 'Team']], left_on=['ReplayFingerPrint', 'TeamName', 'Team'], right_on=['ReplayFingerPrint', 'TeamName', 'Team'])"
   ],
   "metadata": {
    "collapsed": false,
    "pycharm": {
     "name": "#%%\n"
    }
   }
  },
  {
   "cell_type": "code",
   "execution_count": 189,
   "outputs": [],
   "source": [
    "team_map_df = team_replay_df[['TeamName', 'ReplayFingerPrint', 'MapName', 'IsWinner']].drop_duplicates()\n",
    "team_map_rollup = team_map_df.groupby(['TeamName', 'MapName']).agg(\n",
    "    Games=('MapName', 'count')\n",
    "    , Wins=('IsWinner', 'sum')\n",
    ")\n",
    "\n",
    "team_map_rollup['WinRate'] = team_map_rollup['Wins'] / team_map_rollup['Games']\n",
    "team_map_rollup['WinRate'] = team_map_rollup['WinRate'].round(2)\n",
    "team_map_rollup.reset_index(inplace=True)\n",
    "team_map_rollup.to_sql('TeamMapTotal', con=engine, if_exists='replace', index=False)\n",
    "team_map_rollup.to_csv('../sample_data/TeamMapTotal.csv')"
   ],
   "metadata": {
    "collapsed": false,
    "pycharm": {
     "name": "#%%\n"
    }
   }
  },
  {
   "cell_type": "code",
   "execution_count": 190,
   "outputs": [],
   "source": [
    "team_hero_df = team_replay_df[['TeamName', 'ReplayFingerPrint', 'HeroName', 'NewRole', 'MapName' ,'IsWinner', 'Battletag']].drop_duplicates()\n",
    "team_hero_rollup = team_hero_df.groupby(['TeamName', 'HeroName', 'NewRole']).agg(\n",
    "    Games=('HeroName', 'count')\n",
    "    , Wins=('IsWinner', 'sum')\n",
    ")\n",
    "\n",
    "team_hero_rollup['WinRate'] = team_hero_rollup['Wins'] / team_hero_rollup['Games']\n",
    "team_hero_rollup['WinRate'] = team_hero_rollup['WinRate'].round(2)\n",
    "team_hero_rollup.reset_index(inplace=True)\n",
    "team_hero_rollup.to_sql('TeamHeroTotal', con=engine, if_exists='replace', index=False)\n",
    "team_hero_rollup.to_csv('../sample_data/TeamHeroTotal.csv')"
   ],
   "metadata": {
    "collapsed": false,
    "pycharm": {
     "name": "#%%\n"
    }
   }
  },
  {
   "cell_type": "code",
   "execution_count": 191,
   "outputs": [],
   "source": [
    "dfa = team_replay_df.sort_values(['ReplayFingerPrint', 'HeroName', 'Team', 'TeamName'], ascending=[False, True, False, False]).groupby(['ReplayFingerPrint', 'Team', 'TeamName'])['HeroName'].apply(list).to_frame()\n",
    "dfb = team_replay_df.sort_values(['ReplayFingerPrint', 'NewRole', 'Team', 'TeamName'], ascending=[False, True, False, False]).groupby(['ReplayFingerPrint', 'Team', 'TeamName'])['NewRole'].apply(list).to_frame()\n",
    "dfc = team_replay_df.sort_values(['ReplayFingerPrint', 'Battletag', 'Team', 'TeamName'], ascending=[False, True, False, False]).groupby(['ReplayFingerPrint', 'Team', 'TeamName'])['Battletag'].apply(list).to_frame()\n",
    "\n",
    "f_df = dfa.join(dfb).join(dfc)\n",
    "\n",
    "f_df['Heroes'] = f_df.HeroName.astype(str)\n",
    "f_df['Roles'] = f_df.NewRole.astype(str)\n",
    "f_df['Players'] = f_df.Battletag.astype(str)\n",
    "\n",
    "f_df.reset_index(inplace=True)\n",
    "\n",
    "f_df.drop('HeroName', inplace=True, axis=1)\n",
    "f_df.drop('NewRole', inplace=True, axis=1)\n",
    "f_df.drop('Battletag', inplace=True, axis=1)\n",
    "\n",
    "f_df = pd.merge(team_replay_df, f_df, left_on=['ReplayFingerPrint', 'Team', 'TeamName'], right_on=['ReplayFingerPrint', 'Team', 'TeamName'])\n",
    "f_df.to_sql('TeamReplayData', con=engine, if_exists='replace', index=False)\n",
    "f_df.to_csv('../sample_data/TeamReplayData.csv')"
   ],
   "metadata": {
    "collapsed": false,
    "pycharm": {
     "name": "#%%\n"
    }
   }
  },
  {
   "cell_type": "code",
   "execution_count": 192,
   "outputs": [],
   "source": [
    "r_rf = team_replay_df[['TeamName', 'ReplayFingerPrint', 'IsWinner']].drop_duplicates()\n",
    "r_rf = pd.merge(r_rf, f_df[['TeamName', 'ReplayFingerPrint', 'IsWinner', 'GameType']], left_on=['TeamName', 'ReplayFingerPrint', 'IsWinner'], right_on=['TeamName', 'ReplayFingerPrint', 'IsWinner']).drop_duplicates()\n",
    "r_rf = r_rf.groupby(['TeamName', 'GameType']).agg(\n",
    "    Games=('GameType', 'count')\n",
    "    , Wins=('IsWinner', 'sum')\n",
    ")\n",
    "\n",
    "r_rf['WinRate'] = r_rf['Wins'] / r_rf['Games']\n",
    "r_rf['WinRate'] = r_rf['WinRate'].round(2)\n",
    "r_rf.reset_index(inplace=True)\n",
    "r_rf.to_sql('TeamGameTypeTotal', con=engine, if_exists='replace', index=False)\n",
    "r_rf.to_csv('../sample_data/TeamGameTypeTotal.csv')"
   ],
   "metadata": {
    "collapsed": false,
    "pycharm": {
     "name": "#%%\n"
    }
   }
  },
  {
   "cell_type": "code",
   "execution_count": 193,
   "outputs": [
    {
     "data": {
      "text/plain": "                      TeamName         FirstPlayed          LastPlayed\n0           30 seconds to mosh 2021-10-06 01:14:18 2022-08-23 02:55:39\n1               beyonce gnolls 2021-12-10 01:27:27 2022-08-18 03:57:26\n2      bunker fun time academy 2022-08-16 03:56:27 2022-08-18 02:52:47\n3    chogall chocolate factory 2022-07-15 00:59:35 2022-08-17 01:50:59\n4            ff & the pancakes 2020-10-02 01:36:34 2022-08-21 01:13:42\n5                 gold dragons 2022-07-25 02:03:32 2022-08-22 03:45:03\n6             infernal misfits 2022-07-08 23:45:05 2022-08-18 01:49:19\n7            ltk - we hate obj 2022-07-29 01:37:30 2022-08-17 02:24:00\n8                out of pocket 2021-02-09 17:20:35 2022-08-19 02:26:01\n9                        smoke 2022-08-04 01:37:17 2022-08-18 02:24:15\n10             souls in slowmo 2022-08-05 01:59:58 2022-08-19 02:26:01\n11  ycmyccastep7:cheeseawakens 2021-12-30 01:27:46 2022-08-17 02:00:26",
      "text/html": "<div>\n<style scoped>\n    .dataframe tbody tr th:only-of-type {\n        vertical-align: middle;\n    }\n\n    .dataframe tbody tr th {\n        vertical-align: top;\n    }\n\n    .dataframe thead th {\n        text-align: right;\n    }\n</style>\n<table border=\"1\" class=\"dataframe\">\n  <thead>\n    <tr style=\"text-align: right;\">\n      <th></th>\n      <th>TeamName</th>\n      <th>FirstPlayed</th>\n      <th>LastPlayed</th>\n    </tr>\n  </thead>\n  <tbody>\n    <tr>\n      <th>0</th>\n      <td>30 seconds to mosh</td>\n      <td>2021-10-06 01:14:18</td>\n      <td>2022-08-23 02:55:39</td>\n    </tr>\n    <tr>\n      <th>1</th>\n      <td>beyonce gnolls</td>\n      <td>2021-12-10 01:27:27</td>\n      <td>2022-08-18 03:57:26</td>\n    </tr>\n    <tr>\n      <th>2</th>\n      <td>bunker fun time academy</td>\n      <td>2022-08-16 03:56:27</td>\n      <td>2022-08-18 02:52:47</td>\n    </tr>\n    <tr>\n      <th>3</th>\n      <td>chogall chocolate factory</td>\n      <td>2022-07-15 00:59:35</td>\n      <td>2022-08-17 01:50:59</td>\n    </tr>\n    <tr>\n      <th>4</th>\n      <td>ff &amp; the pancakes</td>\n      <td>2020-10-02 01:36:34</td>\n      <td>2022-08-21 01:13:42</td>\n    </tr>\n    <tr>\n      <th>5</th>\n      <td>gold dragons</td>\n      <td>2022-07-25 02:03:32</td>\n      <td>2022-08-22 03:45:03</td>\n    </tr>\n    <tr>\n      <th>6</th>\n      <td>infernal misfits</td>\n      <td>2022-07-08 23:45:05</td>\n      <td>2022-08-18 01:49:19</td>\n    </tr>\n    <tr>\n      <th>7</th>\n      <td>ltk - we hate obj</td>\n      <td>2022-07-29 01:37:30</td>\n      <td>2022-08-17 02:24:00</td>\n    </tr>\n    <tr>\n      <th>8</th>\n      <td>out of pocket</td>\n      <td>2021-02-09 17:20:35</td>\n      <td>2022-08-19 02:26:01</td>\n    </tr>\n    <tr>\n      <th>9</th>\n      <td>smoke</td>\n      <td>2022-08-04 01:37:17</td>\n      <td>2022-08-18 02:24:15</td>\n    </tr>\n    <tr>\n      <th>10</th>\n      <td>souls in slowmo</td>\n      <td>2022-08-05 01:59:58</td>\n      <td>2022-08-19 02:26:01</td>\n    </tr>\n    <tr>\n      <th>11</th>\n      <td>ycmyccastep7:cheeseawakens</td>\n      <td>2021-12-30 01:27:46</td>\n      <td>2022-08-17 02:00:26</td>\n    </tr>\n  </tbody>\n</table>\n</div>"
     },
     "execution_count": 193,
     "metadata": {},
     "output_type": "execute_result"
    }
   ],
   "source": [
    "r_rf = team_replay_df[['TeamName', 'ReplayFingerPrint']].drop_duplicates()\n",
    "r_rf = pd.merge(r_rf, f_df[['TeamName', 'ReplayFingerPrint', 'GameDate']], left_on=['TeamName', 'ReplayFingerPrint'], right_on=['TeamName', 'ReplayFingerPrint']).drop_duplicates()\n",
    "\n",
    "r_rf = r_rf.groupby(['TeamName']).agg(\n",
    "    FirstPlayed=('GameDate', 'min')\n",
    "    , LastPlayed=('GameDate', 'max')\n",
    ")\n",
    "r_rf.reset_index(inplace=True)\n",
    "r_rf"
   ],
   "metadata": {
    "collapsed": false,
    "pycharm": {
     "name": "#%%\n"
    }
   }
  },
  {
   "cell_type": "code",
   "execution_count": 201,
   "outputs": [
    {
     "data": {
      "text/plain": "                     TeamName TeamRank     Battletag Rank BlizzardId  \\\n0  ycmyccastep7:cheeseawakens       G5  shancb9#1737   P2    8220075   \n1  ycmyccastep7:cheeseawakens       G5  andrade#1700   P5    1160672   \n2  ycmyccastep7:cheeseawakens       G5  andrade#1700   P5    1160672   \n3  ycmyccastep7:cheeseawakens       G5  andrade#1700   P5    1160672   \n4  ycmyccastep7:cheeseawakens       G5  andrade#1700   P5    1160672   \n\n   PlayerId  HeroName          NewRole  Total  TotalWins  TotalLosses  \\\n0      1146   Abathur          Support    190         85          105   \n1       186   Illidan   Melee Assassin      4          0            4   \n2       186     Hanzo  Ranged Assassin      2          0            2   \n3       186   Gul'dan  Ranged Assassin      4          1            3   \n4       186  Greymane  Ranged Assassin     14          9            5   \n\n   HeroWinRate  \n0        44.74  \n1         0.00  \n2         0.00  \n3        25.00  \n4        64.29  ",
      "text/html": "<div>\n<style scoped>\n    .dataframe tbody tr th:only-of-type {\n        vertical-align: middle;\n    }\n\n    .dataframe tbody tr th {\n        vertical-align: top;\n    }\n\n    .dataframe thead th {\n        text-align: right;\n    }\n</style>\n<table border=\"1\" class=\"dataframe\">\n  <thead>\n    <tr style=\"text-align: right;\">\n      <th></th>\n      <th>TeamName</th>\n      <th>TeamRank</th>\n      <th>Battletag</th>\n      <th>Rank</th>\n      <th>BlizzardId</th>\n      <th>PlayerId</th>\n      <th>HeroName</th>\n      <th>NewRole</th>\n      <th>Total</th>\n      <th>TotalWins</th>\n      <th>TotalLosses</th>\n      <th>HeroWinRate</th>\n    </tr>\n  </thead>\n  <tbody>\n    <tr>\n      <th>0</th>\n      <td>ycmyccastep7:cheeseawakens</td>\n      <td>G5</td>\n      <td>shancb9#1737</td>\n      <td>P2</td>\n      <td>8220075</td>\n      <td>1146</td>\n      <td>Abathur</td>\n      <td>Support</td>\n      <td>190</td>\n      <td>85</td>\n      <td>105</td>\n      <td>44.74</td>\n    </tr>\n    <tr>\n      <th>1</th>\n      <td>ycmyccastep7:cheeseawakens</td>\n      <td>G5</td>\n      <td>andrade#1700</td>\n      <td>P5</td>\n      <td>1160672</td>\n      <td>186</td>\n      <td>Illidan</td>\n      <td>Melee Assassin</td>\n      <td>4</td>\n      <td>0</td>\n      <td>4</td>\n      <td>0.00</td>\n    </tr>\n    <tr>\n      <th>2</th>\n      <td>ycmyccastep7:cheeseawakens</td>\n      <td>G5</td>\n      <td>andrade#1700</td>\n      <td>P5</td>\n      <td>1160672</td>\n      <td>186</td>\n      <td>Hanzo</td>\n      <td>Ranged Assassin</td>\n      <td>2</td>\n      <td>0</td>\n      <td>2</td>\n      <td>0.00</td>\n    </tr>\n    <tr>\n      <th>3</th>\n      <td>ycmyccastep7:cheeseawakens</td>\n      <td>G5</td>\n      <td>andrade#1700</td>\n      <td>P5</td>\n      <td>1160672</td>\n      <td>186</td>\n      <td>Gul'dan</td>\n      <td>Ranged Assassin</td>\n      <td>4</td>\n      <td>1</td>\n      <td>3</td>\n      <td>25.00</td>\n    </tr>\n    <tr>\n      <th>4</th>\n      <td>ycmyccastep7:cheeseawakens</td>\n      <td>G5</td>\n      <td>andrade#1700</td>\n      <td>P5</td>\n      <td>1160672</td>\n      <td>186</td>\n      <td>Greymane</td>\n      <td>Ranged Assassin</td>\n      <td>14</td>\n      <td>9</td>\n      <td>5</td>\n      <td>64.29</td>\n    </tr>\n  </tbody>\n</table>\n</div>"
     },
     "execution_count": 201,
     "metadata": {},
     "output_type": "execute_result"
    }
   ],
   "source": [
    "spike_team_df = hero_rollup #[hero_rollup.TeamName.isin(team_names)]\n",
    "spike_team_df.head()"
   ],
   "metadata": {
    "collapsed": false,
    "pycharm": {
     "name": "#%%\n"
    }
   }
  },
  {
   "cell_type": "code",
   "execution_count": 202,
   "outputs": [
    {
     "data": {
      "text/plain": "                TeamName TeamRank          Battletag Rank BlizzardId  \\\n2661  30 seconds to mosh       S2          aly#11717   S5   10958259   \n2654  30 seconds to mosh       S2          aly#11717   S5   10958259   \n2652  30 seconds to mosh       S2          aly#11717   S5   10958259   \n2709  30 seconds to mosh       S2          aly#11717   S5   10958259   \n2724  30 seconds to mosh       S2          aly#11717   S5   10958259   \n...                  ...      ...                ...  ...        ...   \n1115   ltk - we hate obj       G5  zoomthenboom#1452   G3   10555838   \n1144   ltk - we hate obj       G5  zoomthenboom#1452   G3   10555838   \n1121   ltk - we hate obj       G5  zoomthenboom#1452   G3   10555838   \n1138   ltk - we hate obj       G5  zoomthenboom#1452   G3   10555838   \n1111   ltk - we hate obj       G5  zoomthenboom#1452   G3   10555838   \n\n      PlayerId  HeroName  NewRole  Total  TotalWins  ...  Deaths  \\\n2661         3    Varian  Bruiser     35         17  ...    4.52   \n2654         3    Stukov   Healer     13          9  ...    2.75   \n2652         3    Rehgar   Healer      9          3  ...    5.71   \n2709         3  Kharazim   Healer      6          3  ...    3.67   \n2724         3       Ana   Healer      6          2  ...    5.00   \n...        ...       ...      ...    ...        ...  ...     ...   \n1115     26768    E.T.C.     Tank     88         37  ...    4.74   \n1144     26768   Johanna     Tank     48         31  ...    3.44   \n1121     26768     Blaze     Tank     25         14  ...    3.34   \n1138     26768   Muradin     Tank     10          5  ...    3.56   \n1111     26768  Stitches     Tank      5          2  ...    5.50   \n\n      ExperienceContribution  FirstToTen  Level  HeroDamage   Healing  \\\n2661                 9555.45        0.58  20.70    39949.09      0.00   \n2654                 9679.50        0.62  21.75    35167.25  56594.00   \n2652                 9001.71        0.43  22.29    15160.00  76546.00   \n2709                 8518.33        1.00  21.00    33880.00  28450.67   \n2724                 7502.00        1.00  25.00    31651.00  86584.00   \n...                      ...         ...    ...         ...       ...   \n1115                 8387.10        0.41  20.69    23701.92    424.44   \n1144                 9971.63        0.44  20.27    40134.15    732.98   \n1121                12190.12        0.53  20.94    44212.16      0.00   \n1138                 6874.33        0.56  18.78    25201.78      0.00   \n1111                11321.75        0.75  22.00    47028.75      0.00   \n\n      Takedowns  SelfHealing  DamageTaken  TimeSpentDead  \n2661      12.21     31637.52     80304.45         182.88  \n2654      18.75        37.12     44296.38         100.75  \n2652      12.14      1057.14     69053.86         231.57  \n2709      12.67         0.00     63401.33         154.67  \n2724      18.00      7944.00     45041.00         264.00  \n...         ...          ...          ...            ...  \n1115      11.54     15835.79     72947.10         179.82  \n1144      13.67     18448.71     81172.92         129.50  \n1121      13.53     20825.22     91176.78         135.69  \n1138       9.56     29319.89     85411.22         123.56  \n1111      15.00     34996.50    129938.25         229.75  \n\n[2341 rows x 25 columns]",
      "text/html": "<div>\n<style scoped>\n    .dataframe tbody tr th:only-of-type {\n        vertical-align: middle;\n    }\n\n    .dataframe tbody tr th {\n        vertical-align: top;\n    }\n\n    .dataframe thead th {\n        text-align: right;\n    }\n</style>\n<table border=\"1\" class=\"dataframe\">\n  <thead>\n    <tr style=\"text-align: right;\">\n      <th></th>\n      <th>TeamName</th>\n      <th>TeamRank</th>\n      <th>Battletag</th>\n      <th>Rank</th>\n      <th>BlizzardId</th>\n      <th>PlayerId</th>\n      <th>HeroName</th>\n      <th>NewRole</th>\n      <th>Total</th>\n      <th>TotalWins</th>\n      <th>...</th>\n      <th>Deaths</th>\n      <th>ExperienceContribution</th>\n      <th>FirstToTen</th>\n      <th>Level</th>\n      <th>HeroDamage</th>\n      <th>Healing</th>\n      <th>Takedowns</th>\n      <th>SelfHealing</th>\n      <th>DamageTaken</th>\n      <th>TimeSpentDead</th>\n    </tr>\n  </thead>\n  <tbody>\n    <tr>\n      <th>2661</th>\n      <td>30 seconds to mosh</td>\n      <td>S2</td>\n      <td>aly#11717</td>\n      <td>S5</td>\n      <td>10958259</td>\n      <td>3</td>\n      <td>Varian</td>\n      <td>Bruiser</td>\n      <td>35</td>\n      <td>17</td>\n      <td>...</td>\n      <td>4.52</td>\n      <td>9555.45</td>\n      <td>0.58</td>\n      <td>20.70</td>\n      <td>39949.09</td>\n      <td>0.00</td>\n      <td>12.21</td>\n      <td>31637.52</td>\n      <td>80304.45</td>\n      <td>182.88</td>\n    </tr>\n    <tr>\n      <th>2654</th>\n      <td>30 seconds to mosh</td>\n      <td>S2</td>\n      <td>aly#11717</td>\n      <td>S5</td>\n      <td>10958259</td>\n      <td>3</td>\n      <td>Stukov</td>\n      <td>Healer</td>\n      <td>13</td>\n      <td>9</td>\n      <td>...</td>\n      <td>2.75</td>\n      <td>9679.50</td>\n      <td>0.62</td>\n      <td>21.75</td>\n      <td>35167.25</td>\n      <td>56594.00</td>\n      <td>18.75</td>\n      <td>37.12</td>\n      <td>44296.38</td>\n      <td>100.75</td>\n    </tr>\n    <tr>\n      <th>2652</th>\n      <td>30 seconds to mosh</td>\n      <td>S2</td>\n      <td>aly#11717</td>\n      <td>S5</td>\n      <td>10958259</td>\n      <td>3</td>\n      <td>Rehgar</td>\n      <td>Healer</td>\n      <td>9</td>\n      <td>3</td>\n      <td>...</td>\n      <td>5.71</td>\n      <td>9001.71</td>\n      <td>0.43</td>\n      <td>22.29</td>\n      <td>15160.00</td>\n      <td>76546.00</td>\n      <td>12.14</td>\n      <td>1057.14</td>\n      <td>69053.86</td>\n      <td>231.57</td>\n    </tr>\n    <tr>\n      <th>2709</th>\n      <td>30 seconds to mosh</td>\n      <td>S2</td>\n      <td>aly#11717</td>\n      <td>S5</td>\n      <td>10958259</td>\n      <td>3</td>\n      <td>Kharazim</td>\n      <td>Healer</td>\n      <td>6</td>\n      <td>3</td>\n      <td>...</td>\n      <td>3.67</td>\n      <td>8518.33</td>\n      <td>1.00</td>\n      <td>21.00</td>\n      <td>33880.00</td>\n      <td>28450.67</td>\n      <td>12.67</td>\n      <td>0.00</td>\n      <td>63401.33</td>\n      <td>154.67</td>\n    </tr>\n    <tr>\n      <th>2724</th>\n      <td>30 seconds to mosh</td>\n      <td>S2</td>\n      <td>aly#11717</td>\n      <td>S5</td>\n      <td>10958259</td>\n      <td>3</td>\n      <td>Ana</td>\n      <td>Healer</td>\n      <td>6</td>\n      <td>2</td>\n      <td>...</td>\n      <td>5.00</td>\n      <td>7502.00</td>\n      <td>1.00</td>\n      <td>25.00</td>\n      <td>31651.00</td>\n      <td>86584.00</td>\n      <td>18.00</td>\n      <td>7944.00</td>\n      <td>45041.00</td>\n      <td>264.00</td>\n    </tr>\n    <tr>\n      <th>...</th>\n      <td>...</td>\n      <td>...</td>\n      <td>...</td>\n      <td>...</td>\n      <td>...</td>\n      <td>...</td>\n      <td>...</td>\n      <td>...</td>\n      <td>...</td>\n      <td>...</td>\n      <td>...</td>\n      <td>...</td>\n      <td>...</td>\n      <td>...</td>\n      <td>...</td>\n      <td>...</td>\n      <td>...</td>\n      <td>...</td>\n      <td>...</td>\n      <td>...</td>\n      <td>...</td>\n    </tr>\n    <tr>\n      <th>1115</th>\n      <td>ltk - we hate obj</td>\n      <td>G5</td>\n      <td>zoomthenboom#1452</td>\n      <td>G3</td>\n      <td>10555838</td>\n      <td>26768</td>\n      <td>E.T.C.</td>\n      <td>Tank</td>\n      <td>88</td>\n      <td>37</td>\n      <td>...</td>\n      <td>4.74</td>\n      <td>8387.10</td>\n      <td>0.41</td>\n      <td>20.69</td>\n      <td>23701.92</td>\n      <td>424.44</td>\n      <td>11.54</td>\n      <td>15835.79</td>\n      <td>72947.10</td>\n      <td>179.82</td>\n    </tr>\n    <tr>\n      <th>1144</th>\n      <td>ltk - we hate obj</td>\n      <td>G5</td>\n      <td>zoomthenboom#1452</td>\n      <td>G3</td>\n      <td>10555838</td>\n      <td>26768</td>\n      <td>Johanna</td>\n      <td>Tank</td>\n      <td>48</td>\n      <td>31</td>\n      <td>...</td>\n      <td>3.44</td>\n      <td>9971.63</td>\n      <td>0.44</td>\n      <td>20.27</td>\n      <td>40134.15</td>\n      <td>732.98</td>\n      <td>13.67</td>\n      <td>18448.71</td>\n      <td>81172.92</td>\n      <td>129.50</td>\n    </tr>\n    <tr>\n      <th>1121</th>\n      <td>ltk - we hate obj</td>\n      <td>G5</td>\n      <td>zoomthenboom#1452</td>\n      <td>G3</td>\n      <td>10555838</td>\n      <td>26768</td>\n      <td>Blaze</td>\n      <td>Tank</td>\n      <td>25</td>\n      <td>14</td>\n      <td>...</td>\n      <td>3.34</td>\n      <td>12190.12</td>\n      <td>0.53</td>\n      <td>20.94</td>\n      <td>44212.16</td>\n      <td>0.00</td>\n      <td>13.53</td>\n      <td>20825.22</td>\n      <td>91176.78</td>\n      <td>135.69</td>\n    </tr>\n    <tr>\n      <th>1138</th>\n      <td>ltk - we hate obj</td>\n      <td>G5</td>\n      <td>zoomthenboom#1452</td>\n      <td>G3</td>\n      <td>10555838</td>\n      <td>26768</td>\n      <td>Muradin</td>\n      <td>Tank</td>\n      <td>10</td>\n      <td>5</td>\n      <td>...</td>\n      <td>3.56</td>\n      <td>6874.33</td>\n      <td>0.56</td>\n      <td>18.78</td>\n      <td>25201.78</td>\n      <td>0.00</td>\n      <td>9.56</td>\n      <td>29319.89</td>\n      <td>85411.22</td>\n      <td>123.56</td>\n    </tr>\n    <tr>\n      <th>1111</th>\n      <td>ltk - we hate obj</td>\n      <td>G5</td>\n      <td>zoomthenboom#1452</td>\n      <td>G3</td>\n      <td>10555838</td>\n      <td>26768</td>\n      <td>Stitches</td>\n      <td>Tank</td>\n      <td>5</td>\n      <td>2</td>\n      <td>...</td>\n      <td>5.50</td>\n      <td>11321.75</td>\n      <td>0.75</td>\n      <td>22.00</td>\n      <td>47028.75</td>\n      <td>0.00</td>\n      <td>15.00</td>\n      <td>34996.50</td>\n      <td>129938.25</td>\n      <td>229.75</td>\n    </tr>\n  </tbody>\n</table>\n<p>2341 rows × 25 columns</p>\n</div>"
     },
     "execution_count": 202,
     "metadata": {},
     "output_type": "execute_result"
    }
   ],
   "source": [
    "r_df = player_replay_df[[*group_cols, *predictors]].groupby([*group_cols]).agg('mean')\n",
    "df = pd.merge(spike_team_df, r_df, left_on=['Battletag', 'TeamName', 'HeroName', 'NewRole'], right_on=['Battletag', 'TeamName', 'HeroName', 'NewRole']).sort_values(['TeamName', 'Battletag'])\n",
    "df_1 = df[df['Total'] >= 5].sort_values(['Battletag', 'NewRole', 'Total'], ascending=[True, True, False]).groupby(['Battletag', 'NewRole']).head(1000)\n",
    "\n",
    "# df_1['GameLengthTimestamp'] = df_1['GameLengthTimestamp'].round(2)\n",
    "df_1['IsWinner'] = df_1['IsWinner'].round(2)\n",
    "df_1['Kills'] = df_1['Kills'].round(2)\n",
    "df_1['Assists'] = df_1['Assists'].round(2)\n",
    "df_1['Deaths'] = df_1['Deaths'].round(2)\n",
    "df_1['ExperienceContribution'] = df_1['ExperienceContribution'].round(2)\n",
    "df_1['FirstToTen'] = df_1['FirstToTen'].round(2)\n",
    "df_1['Level'] = df_1['Level'].round(2)\n",
    "df_1['HeroDamage'] = df_1['HeroDamage'].round(2)\n",
    "df_1['Healing'] = df_1['Healing'].round(2)\n",
    "df_1['Takedowns'] = df_1['Takedowns'].round(2)\n",
    "df_1['SelfHealing'] = df_1['SelfHealing'].round(2)\n",
    "df_1['DamageTaken'] = df_1['DamageTaken'].round(2)\n",
    "df_1['TimeSpentDead'] = df_1['TimeSpentDead'].round(2)\n",
    "\n",
    "df_1"
   ],
   "metadata": {
    "collapsed": false,
    "pycharm": {
     "name": "#%%\n"
    }
   }
  },
  {
   "cell_type": "code",
   "execution_count": 204,
   "outputs": [],
   "source": [
    "df_1.to_sql('TeamMemberHeroTotal', con=engine, if_exists='replace', index=False)\n",
    "df_1.to_csv('../sample_data/TeamMemberHeroTotal.csv')"
   ],
   "metadata": {
    "collapsed": false,
    "pycharm": {
     "name": "#%%\n"
    }
   }
  },
  {
   "cell_type": "code",
   "execution_count": 196,
   "outputs": [],
   "source": [],
   "metadata": {
    "collapsed": false,
    "pycharm": {
     "name": "#%%\n"
    }
   }
  }
 ],
 "metadata": {
  "kernelspec": {
   "display_name": "Python 3",
   "language": "python",
   "name": "python3"
  },
  "language_info": {
   "codemirror_mode": {
    "name": "ipython",
    "version": 2
   },
   "file_extension": ".py",
   "mimetype": "text/x-python",
   "name": "python",
   "nbconvert_exporter": "python",
   "pygments_lexer": "ipython2",
   "version": "2.7.6"
  }
 },
 "nbformat": 4,
 "nbformat_minor": 0
}