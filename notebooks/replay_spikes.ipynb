{
 "cells": [
  {
   "cell_type": "code",
   "execution_count": 22,
   "metadata": {
    "collapsed": true,
    "pycharm": {
     "name": "#%%\n"
    }
   },
   "outputs": [],
   "source": [
    "import sqlalchemy as sa\n",
    "import pandas as pd"
   ]
  },
  {
   "cell_type": "code",
   "execution_count": 23,
   "outputs": [],
   "source": [
    "from scripts import engine\n",
    "\n",
    "meta_data = sa.MetaData(bind=engine)\n",
    "sa.MetaData.reflect(meta_data)"
   ],
   "metadata": {
    "collapsed": false,
    "pycharm": {
     "name": "#%%\n"
    }
   }
  },
  {
   "cell_type": "code",
   "execution_count": 24,
   "outputs": [],
   "source": [
    "Player=meta_data.tables['Player']\n",
    "TeamReplayRollup=meta_data.tables['TeamReplayRollup']\n",
    "Hero=meta_data.tables['Hero']\n",
    "Battleground=meta_data.tables['Map']\n",
    "ReplayDetail=meta_data.tables['ReplayDetail']\n",
    "ReplayPlayer=meta_data.tables['ReplayPlayer']\n",
    "TeamHeroRollup=meta_data.tables['TeamHeroRollup']\n",
    "TeamRollup=meta_data.tables['TeamRollup']\n",
    "TeamPlayerReplayHistory=meta_data.tables['TeamPlayerReplayHistory']"
   ],
   "metadata": {
    "collapsed": false,
    "pycharm": {
     "name": "#%%\n"
    }
   }
  },
  {
   "cell_type": "code",
   "execution_count": 25,
   "outputs": [],
   "source": [
    "team_names = [\n",
    "    'gold dragons'\n",
    "    , '30 seconds to mosh'\n",
    "]\n",
    "\n",
    "core_cols = [\n",
    "    'Battletag'\n",
    "    , 'TeamName'\n",
    "    , 'MapName'\n",
    "    , 'GameType'\n",
    "    , 'GameDate'\n",
    "    , 'HeroName'\n",
    "    , 'NewRole'\n",
    "    , 'Team'\n",
    "    , 'Party'\n",
    "    , 'ReplayFingerPrint'\n",
    "]\n",
    "\n",
    "group_cols = [\n",
    "    'Battletag'\n",
    "    , 'TeamName'\n",
    "    # , 'MapName'\n",
    "    # , 'GameType'\n",
    "    , 'HeroName'\n",
    "    , 'NewRole'\n",
    "]\n",
    "\n",
    "predictors = [\n",
    "    'GameLengthTimestamp'\n",
    "    , 'IsWinner'\n",
    "    , 'Kills'\n",
    "    , 'Assists'\n",
    "    , 'Deaths'\n",
    "    , 'ExperienceContribution'\n",
    "    , 'FirstToTen'\n",
    "    , 'Level'\n",
    "    , 'HeroDamage'\n",
    "    , 'Healing'\n",
    "    , 'Takedowns'\n",
    "    , 'SelfHealing'\n",
    "    , 'DamageTaken'\n",
    "    , 'TimeSpentDead'\n",
    "]"
   ],
   "metadata": {
    "collapsed": false,
    "pycharm": {
     "name": "#%%\n"
    }
   }
  },
  {
   "cell_type": "code",
   "execution_count": 26,
   "outputs": [],
   "source": [
    "player_replay_df = pd.read_sql(sql = sa.select(TeamReplayRollup), con = engine)\n",
    "hero_rollup = pd.read_sql(sql = sa.select(TeamHeroRollup), con = engine)\n",
    "team_rollup = pd.read_sql(sql = sa.select(TeamRollup), con = engine)"
   ],
   "metadata": {
    "collapsed": false,
    "pycharm": {
     "name": "#%%\n"
    }
   }
  },
  {
   "cell_type": "code",
   "execution_count": 27,
   "outputs": [
    {
     "data": {
      "text/plain": "(33439, 1)"
     },
     "execution_count": 27,
     "metadata": {},
     "output_type": "execute_result"
    }
   ],
   "source": [
    "j = ReplayDetail.join(Battleground, Battleground.c.MapId == ReplayDetail.c.MapId) \\\n",
    "    .join(TeamReplayRollup, TeamReplayRollup.c.ReplayFingerPrint == ReplayDetail.c.ReplayFingerPrint)\n",
    "\n",
    "query = sa.select(sa.distinct(ReplayDetail.c.ReplayFingerPrint)).select_from(j)\n",
    "replay_detail_df = pd.read_sql(sql = query, con = engine)\n",
    "replay_detail_df.shape"
   ],
   "metadata": {
    "collapsed": false,
    "pycharm": {
     "name": "#%%\n"
    }
   }
  },
  {
   "cell_type": "code",
   "execution_count": 28,
   "outputs": [],
   "source": [
    "j = ReplayDetail.join(ReplayPlayer, ReplayPlayer.c.ReplayId == ReplayDetail.c.ReplayId) \\\n",
    "    .join(Player, Player.c.PlayerId == ReplayPlayer.c.PlayerId) \\\n",
    "    .join(Battleground, Battleground.c.MapId == ReplayDetail.c.MapId) \\\n",
    "    .join(Hero, Hero.c.HeroId == ReplayPlayer.c.HeroId) \\\n",
    "    .join(TeamReplayRollup, TeamReplayRollup.c.ReplayFingerPrint == ReplayDetail.c.ReplayFingerPrint)\n",
    "\n",
    "query = sa.select(\n",
    "    ReplayDetail.c.ReplayFingerPrint\n",
    "    , TeamReplayRollup.c.TeamName\n",
    "    , Player.c.Battletag\n",
    "    , Battleground.c.MapName\n",
    "    , ReplayDetail.c.GameType\n",
    "    , Hero.c.HeroName\n",
    "    , Hero.c.NewRole\n",
    "    , ReplayDetail.c.GameDate\n",
    "    , ReplayDetail.c.GameLengthTimestamp\n",
    "    , ReplayPlayer\n",
    "    , Player.c.BlizzardId\n",
    "    , Player.c.MasterPlayerId\n",
    ").select_from(j)\n",
    "\n",
    "replay_player_detail_df = pd.read_sql(sql = query, con = engine)\n",
    "replay_player_detail_df.drop_duplicates(inplace=True)"
   ],
   "metadata": {
    "collapsed": false,
    "pycharm": {
     "name": "#%%\n"
    }
   }
  },
  {
   "cell_type": "code",
   "execution_count": 29,
   "outputs": [
    {
     "data": {
      "text/plain": "       PlayerId ShortBattletag          Battletag  AccountLevel  \\\n2             3            Aly          Aly#11717           368   \n68           69       NotMebus      NotMebus#1314           100   \n4454       6657   DadLawnRangr  DadLawnRangr#1834          1020   \n36465     42892         YipYip       YipYip#11141           263   \n53688     60830         YapYap       YapYap#11802           199   \n\n        BattletagUriEscape                                   HeroesProfileUrl  \\\n2              Aly%2311717  https://www.heroesprofile.com/Profile/?blizz_i...   \n68         NotMebus%231314  https://www.heroesprofile.com/Profile/?blizz_i...   \n4454   DadLawnRangr%231834  https://www.heroesprofile.com/Profile/?blizz_i...   \n36465       YipYip%2311141  https://www.heroesprofile.com/Profile/?blizz_i...   \n53688       YapYap%2311802  https://www.heroesprofile.com/Profile/?blizz_i...   \n\n      Region BlizzardId  MasterPlayerId  \n2          1   10958259               1  \n68         1   11101128               4  \n4454       1    4293850           15372  \n36465      1   10807209               4  \n53688      1   11063760              97  ",
      "text/html": "<div>\n<style scoped>\n    .dataframe tbody tr th:only-of-type {\n        vertical-align: middle;\n    }\n\n    .dataframe tbody tr th {\n        vertical-align: top;\n    }\n\n    .dataframe thead th {\n        text-align: right;\n    }\n</style>\n<table border=\"1\" class=\"dataframe\">\n  <thead>\n    <tr style=\"text-align: right;\">\n      <th></th>\n      <th>PlayerId</th>\n      <th>ShortBattletag</th>\n      <th>Battletag</th>\n      <th>AccountLevel</th>\n      <th>BattletagUriEscape</th>\n      <th>HeroesProfileUrl</th>\n      <th>Region</th>\n      <th>BlizzardId</th>\n      <th>MasterPlayerId</th>\n    </tr>\n  </thead>\n  <tbody>\n    <tr>\n      <th>2</th>\n      <td>3</td>\n      <td>Aly</td>\n      <td>Aly#11717</td>\n      <td>368</td>\n      <td>Aly%2311717</td>\n      <td>https://www.heroesprofile.com/Profile/?blizz_i...</td>\n      <td>1</td>\n      <td>10958259</td>\n      <td>1</td>\n    </tr>\n    <tr>\n      <th>68</th>\n      <td>69</td>\n      <td>NotMebus</td>\n      <td>NotMebus#1314</td>\n      <td>100</td>\n      <td>NotMebus%231314</td>\n      <td>https://www.heroesprofile.com/Profile/?blizz_i...</td>\n      <td>1</td>\n      <td>11101128</td>\n      <td>4</td>\n    </tr>\n    <tr>\n      <th>4454</th>\n      <td>6657</td>\n      <td>DadLawnRangr</td>\n      <td>DadLawnRangr#1834</td>\n      <td>1020</td>\n      <td>DadLawnRangr%231834</td>\n      <td>https://www.heroesprofile.com/Profile/?blizz_i...</td>\n      <td>1</td>\n      <td>4293850</td>\n      <td>15372</td>\n    </tr>\n    <tr>\n      <th>36465</th>\n      <td>42892</td>\n      <td>YipYip</td>\n      <td>YipYip#11141</td>\n      <td>263</td>\n      <td>YipYip%2311141</td>\n      <td>https://www.heroesprofile.com/Profile/?blizz_i...</td>\n      <td>1</td>\n      <td>10807209</td>\n      <td>4</td>\n    </tr>\n    <tr>\n      <th>53688</th>\n      <td>60830</td>\n      <td>YapYap</td>\n      <td>YapYap#11802</td>\n      <td>199</td>\n      <td>YapYap%2311802</td>\n      <td>https://www.heroesprofile.com/Profile/?blizz_i...</td>\n      <td>1</td>\n      <td>11063760</td>\n      <td>97</td>\n    </tr>\n  </tbody>\n</table>\n</div>"
     },
     "execution_count": 29,
     "metadata": {},
     "output_type": "execute_result"
    }
   ],
   "source": [
    "players = pd.read_sql(sql=sa.select(Player), con=engine)\n",
    "child_players = players[(players.MasterPlayerId != players.PlayerId)]\n",
    "child_players.head(100)"
   ],
   "metadata": {
    "collapsed": false,
    "pycharm": {
     "name": "#%%\n"
    }
   }
  },
  {
   "cell_type": "code",
   "execution_count": 30,
   "outputs": [],
   "source": [
    "rc_df = player_replay_df[['ReplayFingerPrint', 'Battletag', 'TeamName', 'Team']].sort_values(['ReplayFingerPrint', 'Team'], ascending=[True, True]).groupby(['ReplayFingerPrint', 'TeamName', 'Team']).agg('count')\n",
    "rc_df.reset_index(inplace=True)\n",
    "# rc_df = rc_df[rc_df.TeamName.isin(team_names)]\n",
    "rc_df = rc_df[rc_df['Battletag'] >= 5]\n",
    "rc_df.to_sql('TeamReplayTotal', con=engine, if_exists='replace', index=False)\n",
    "rc_df.to_csv('../sample_data/TeamReplayTotal.csv', index=False)"
   ],
   "metadata": {
    "collapsed": false,
    "pycharm": {
     "name": "#%%\n"
    }
   }
  },
  {
   "cell_type": "code",
   "execution_count": 31,
   "outputs": [],
   "source": [
    "team_replay_df = pd.merge(replay_player_detail_df, rc_df[['ReplayFingerPrint', 'TeamName', 'Team']], left_on=['ReplayFingerPrint', 'TeamName', 'Team'], right_on=['ReplayFingerPrint', 'TeamName', 'Team'])"
   ],
   "metadata": {
    "collapsed": false,
    "pycharm": {
     "name": "#%%\n"
    }
   }
  },
  {
   "cell_type": "code",
   "execution_count": 32,
   "outputs": [],
   "source": [
    "team_map_df = team_replay_df[['TeamName', 'ReplayFingerPrint', 'MapName', 'IsWinner']].drop_duplicates()\n",
    "team_map_rollup = team_map_df.groupby(['TeamName', 'MapName']).agg(\n",
    "    Games=('MapName', 'count')\n",
    "    , Wins=('IsWinner', 'sum')\n",
    ")\n",
    "\n",
    "team_map_rollup['WinRate'] = team_map_rollup['Wins'] / team_map_rollup['Games']\n",
    "team_map_rollup['WinRate'] = team_map_rollup['WinRate'].round(2)\n",
    "team_map_rollup.reset_index(inplace=True)\n",
    "team_map_rollup.to_sql('TeamMapTotal', con=engine, if_exists='replace', index=False)\n",
    "team_map_rollup.to_csv('../sample_data/TeamMapTotal.csv')"
   ],
   "metadata": {
    "collapsed": false,
    "pycharm": {
     "name": "#%%\n"
    }
   }
  },
  {
   "cell_type": "code",
   "execution_count": 33,
   "outputs": [],
   "source": [
    "team_hero_df = team_replay_df[['TeamName', 'ReplayFingerPrint', 'HeroName', 'NewRole', 'MapName' ,'IsWinner', 'Battletag']].drop_duplicates()\n",
    "team_hero_rollup = team_hero_df.groupby(['TeamName', 'HeroName', 'NewRole']).agg(\n",
    "    Games=('HeroName', 'count')\n",
    "    , Wins=('IsWinner', 'sum')\n",
    ")\n",
    "\n",
    "team_hero_rollup['WinRate'] = team_hero_rollup['Wins'] / team_hero_rollup['Games']\n",
    "team_hero_rollup['WinRate'] = team_hero_rollup['WinRate'].round(2)\n",
    "team_hero_rollup.reset_index(inplace=True)\n",
    "team_hero_rollup.to_sql('TeamHeroTotal', con=engine, if_exists='replace', index=False)\n",
    "team_hero_rollup.to_csv('../sample_data/TeamHeroTotal.csv', index=False)"
   ],
   "metadata": {
    "collapsed": false,
    "pycharm": {
     "name": "#%%\n"
    }
   }
  },
  {
   "cell_type": "code",
   "execution_count": 34,
   "outputs": [],
   "source": [
    "dfa = team_replay_df.sort_values(['ReplayFingerPrint', 'HeroName', 'Team', 'TeamName'], ascending=[False, True, False, False]).groupby(['ReplayFingerPrint', 'Team', 'TeamName'])['HeroName'].apply(list).to_frame()\n",
    "dfb = team_replay_df.sort_values(['ReplayFingerPrint', 'NewRole', 'Team', 'TeamName'], ascending=[False, True, False, False]).groupby(['ReplayFingerPrint', 'Team', 'TeamName'])['NewRole'].apply(list).to_frame()\n",
    "dfc = team_replay_df.sort_values(['ReplayFingerPrint', 'Battletag', 'Team', 'TeamName'], ascending=[False, True, False, False]).groupby(['ReplayFingerPrint', 'Team', 'TeamName'])['Battletag'].apply(list).to_frame()\n",
    "\n",
    "f_df = dfa.join(dfb).join(dfc)\n",
    "\n",
    "f_df['Heroes'] = f_df.HeroName.astype(str)\n",
    "f_df['Roles'] = f_df.NewRole.astype(str)\n",
    "f_df['Players'] = f_df.Battletag.astype(str)\n",
    "\n",
    "f_df.reset_index(inplace=True)\n",
    "\n",
    "f_df.drop('HeroName', inplace=True, axis=1)\n",
    "f_df.drop('NewRole', inplace=True, axis=1)\n",
    "f_df.drop('Battletag', inplace=True, axis=1)\n",
    "\n",
    "f_df = pd.merge(team_replay_df, f_df, left_on=['ReplayFingerPrint', 'Team', 'TeamName'], right_on=['ReplayFingerPrint', 'Team', 'TeamName'])\n",
    "f_df.to_sql('TeamReplayData', con=engine, if_exists='replace', index=False)\n",
    "f_df.to_csv('../sample_data/TeamReplayData.csv', index=False)"
   ],
   "metadata": {
    "collapsed": false,
    "pycharm": {
     "name": "#%%\n"
    }
   }
  },
  {
   "cell_type": "code",
   "execution_count": 35,
   "outputs": [
    {
     "data": {
      "text/plain": "                         ReplayFingerPrint    HeroName  \\\n4226  ff8bc20c-adbd-b5dc-73ba-e45c45b98907      Alarak   \n4228  ff8bc20c-adbd-b5dc-73ba-e45c45b98907      Auriel   \n4229  ff8bc20c-adbd-b5dc-73ba-e45c45b98907     Li-Ming   \n4227  ff8bc20c-adbd-b5dc-73ba-e45c45b98907     Muradin   \n4225  ff8bc20c-adbd-b5dc-73ba-e45c45b98907    Stitches   \n...                                    ...         ...   \n4651  000f8d05-3d6d-a50f-671b-e8d15f76000c      Anduin   \n4652  000f8d05-3d6d-a50f-671b-e8d15f76000c   Anub'arak   \n4650  000f8d05-3d6d-a50f-671b-e8d15f76000c  Kel'Thuzad   \n4654  000f8d05-3d6d-a50f-671b-e8d15f76000c        Yrel   \n4653  000f8d05-3d6d-a50f-671b-e8d15f76000c      Zagara   \n\n                        TeamName  \n4226  ycmyccastep7:cheeseawakens  \n4228  ycmyccastep7:cheeseawakens  \n4229  ycmyccastep7:cheeseawakens  \n4227  ycmyccastep7:cheeseawakens  \n4225  ycmyccastep7:cheeseawakens  \n...                          ...  \n4651            infernal misfits  \n4652            infernal misfits  \n4650            infernal misfits  \n4654            infernal misfits  \n4653            infernal misfits  \n\n[4900 rows x 3 columns]",
      "text/html": "<div>\n<style scoped>\n    .dataframe tbody tr th:only-of-type {\n        vertical-align: middle;\n    }\n\n    .dataframe tbody tr th {\n        vertical-align: top;\n    }\n\n    .dataframe thead th {\n        text-align: right;\n    }\n</style>\n<table border=\"1\" class=\"dataframe\">\n  <thead>\n    <tr style=\"text-align: right;\">\n      <th></th>\n      <th>ReplayFingerPrint</th>\n      <th>HeroName</th>\n      <th>TeamName</th>\n    </tr>\n  </thead>\n  <tbody>\n    <tr>\n      <th>4226</th>\n      <td>ff8bc20c-adbd-b5dc-73ba-e45c45b98907</td>\n      <td>Alarak</td>\n      <td>ycmyccastep7:cheeseawakens</td>\n    </tr>\n    <tr>\n      <th>4228</th>\n      <td>ff8bc20c-adbd-b5dc-73ba-e45c45b98907</td>\n      <td>Auriel</td>\n      <td>ycmyccastep7:cheeseawakens</td>\n    </tr>\n    <tr>\n      <th>4229</th>\n      <td>ff8bc20c-adbd-b5dc-73ba-e45c45b98907</td>\n      <td>Li-Ming</td>\n      <td>ycmyccastep7:cheeseawakens</td>\n    </tr>\n    <tr>\n      <th>4227</th>\n      <td>ff8bc20c-adbd-b5dc-73ba-e45c45b98907</td>\n      <td>Muradin</td>\n      <td>ycmyccastep7:cheeseawakens</td>\n    </tr>\n    <tr>\n      <th>4225</th>\n      <td>ff8bc20c-adbd-b5dc-73ba-e45c45b98907</td>\n      <td>Stitches</td>\n      <td>ycmyccastep7:cheeseawakens</td>\n    </tr>\n    <tr>\n      <th>...</th>\n      <td>...</td>\n      <td>...</td>\n      <td>...</td>\n    </tr>\n    <tr>\n      <th>4651</th>\n      <td>000f8d05-3d6d-a50f-671b-e8d15f76000c</td>\n      <td>Anduin</td>\n      <td>infernal misfits</td>\n    </tr>\n    <tr>\n      <th>4652</th>\n      <td>000f8d05-3d6d-a50f-671b-e8d15f76000c</td>\n      <td>Anub'arak</td>\n      <td>infernal misfits</td>\n    </tr>\n    <tr>\n      <th>4650</th>\n      <td>000f8d05-3d6d-a50f-671b-e8d15f76000c</td>\n      <td>Kel'Thuzad</td>\n      <td>infernal misfits</td>\n    </tr>\n    <tr>\n      <th>4654</th>\n      <td>000f8d05-3d6d-a50f-671b-e8d15f76000c</td>\n      <td>Yrel</td>\n      <td>infernal misfits</td>\n    </tr>\n    <tr>\n      <th>4653</th>\n      <td>000f8d05-3d6d-a50f-671b-e8d15f76000c</td>\n      <td>Zagara</td>\n      <td>infernal misfits</td>\n    </tr>\n  </tbody>\n</table>\n<p>4900 rows × 3 columns</p>\n</div>"
     },
     "execution_count": 35,
     "metadata": {},
     "output_type": "execute_result"
    }
   ],
   "source": [
    "team_replay_df.sort_values(['ReplayFingerPrint', 'HeroName', 'Team', 'TeamName'], ascending=[False, True, False, False]).groupby(['ReplayFingerPrint', 'Team', 'TeamName'])[['ReplayFingerPrint', 'HeroName', 'TeamName']].head()"
   ],
   "metadata": {
    "collapsed": false,
    "pycharm": {
     "name": "#%%\n"
    }
   }
  },
  {
   "cell_type": "code",
   "execution_count": 36,
   "outputs": [],
   "source": [
    "r_rf = team_replay_df[['TeamName', 'ReplayFingerPrint', 'IsWinner']].drop_duplicates()\n",
    "r_rf = pd.merge(r_rf, f_df[['TeamName', 'ReplayFingerPrint', 'IsWinner', 'GameType']], left_on=['TeamName', 'ReplayFingerPrint', 'IsWinner'], right_on=['TeamName', 'ReplayFingerPrint', 'IsWinner']).drop_duplicates()\n",
    "r_rf = r_rf.groupby(['TeamName', 'GameType']).agg(\n",
    "    Games=('GameType', 'count')\n",
    "    , Wins=('IsWinner', 'sum')\n",
    ")\n",
    "\n",
    "r_rf['WinRate'] = r_rf['Wins'] / r_rf['Games']\n",
    "r_rf['WinRate'] = r_rf['WinRate'].round(2)\n",
    "r_rf.reset_index(inplace=True)\n",
    "r_rf.to_sql('TeamGameTypeTotal', con=engine, if_exists='replace', index=False)\n",
    "r_rf.to_csv('../sample_data/TeamGameTypeTotal.csv', index=False)"
   ],
   "metadata": {
    "collapsed": false,
    "pycharm": {
     "name": "#%%\n"
    }
   }
  },
  {
   "cell_type": "code",
   "execution_count": 37,
   "outputs": [],
   "source": [
    "r_rf = team_replay_df[['TeamName', 'ReplayFingerPrint']].drop_duplicates()\n",
    "r_rf = pd.merge(r_rf, f_df[['TeamName', 'ReplayFingerPrint', 'GameDate']], left_on=['TeamName', 'ReplayFingerPrint'], right_on=['TeamName', 'ReplayFingerPrint']).drop_duplicates()\n",
    "\n",
    "r_rf = r_rf.groupby(['TeamName']).agg(\n",
    "    FirstPlayed=('GameDate', 'min')\n",
    "    , LastPlayed=('GameDate', 'max')\n",
    ")\n",
    "r_rf.reset_index(inplace=True)\n",
    "team_rollup = team_rollup.merge(r_rf, left_on='TeamName', right_on='TeamName', how='left')\n",
    "team_rollup.reset_index(inplace=True)\n",
    "team_rollup.to_csv('../sample_data/TeamRollup.csv', index=False)"
   ],
   "metadata": {
    "collapsed": false,
    "pycharm": {
     "name": "#%%\n"
    }
   }
  },
  {
   "cell_type": "code",
   "execution_count": 38,
   "outputs": [
    {
     "data": {
      "text/plain": "                     TeamName TeamRank          Battletag Rank BlizzardId  \\\n0  ycmyccastep7:cheeseawakens       G5        yelly#11561   S2     203254   \n1  ycmyccastep7:cheeseawakens       G5  sarahlynneee#1194   S3    8356018   \n2  ycmyccastep7:cheeseawakens       G5  sarahlynneee#1194   S3    8356018   \n3  ycmyccastep7:cheeseawakens       G5  sarahlynneee#1194   S3    8356018   \n4  ycmyccastep7:cheeseawakens       G5  sarahlynneee#1194   S3    8356018   \n\n   PlayerId     HeroName          NewRole  Total  TotalWins  TotalLosses  \\\n0      1511      Abathur          Support      9          5            4   \n1      2170     Mephisto  Ranged Assassin      7          5            2   \n2      2170        Maiev   Melee Assassin      1          1            0   \n3      2170        Lúcio           Healer      6          2            4   \n4      2170  Lt. Morales           Healer      3          2            1   \n\n   HeroWinRate  \n0        55.56  \n1        71.43  \n2       100.00  \n3        33.33  \n4        66.67  ",
      "text/html": "<div>\n<style scoped>\n    .dataframe tbody tr th:only-of-type {\n        vertical-align: middle;\n    }\n\n    .dataframe tbody tr th {\n        vertical-align: top;\n    }\n\n    .dataframe thead th {\n        text-align: right;\n    }\n</style>\n<table border=\"1\" class=\"dataframe\">\n  <thead>\n    <tr style=\"text-align: right;\">\n      <th></th>\n      <th>TeamName</th>\n      <th>TeamRank</th>\n      <th>Battletag</th>\n      <th>Rank</th>\n      <th>BlizzardId</th>\n      <th>PlayerId</th>\n      <th>HeroName</th>\n      <th>NewRole</th>\n      <th>Total</th>\n      <th>TotalWins</th>\n      <th>TotalLosses</th>\n      <th>HeroWinRate</th>\n    </tr>\n  </thead>\n  <tbody>\n    <tr>\n      <th>0</th>\n      <td>ycmyccastep7:cheeseawakens</td>\n      <td>G5</td>\n      <td>yelly#11561</td>\n      <td>S2</td>\n      <td>203254</td>\n      <td>1511</td>\n      <td>Abathur</td>\n      <td>Support</td>\n      <td>9</td>\n      <td>5</td>\n      <td>4</td>\n      <td>55.56</td>\n    </tr>\n    <tr>\n      <th>1</th>\n      <td>ycmyccastep7:cheeseawakens</td>\n      <td>G5</td>\n      <td>sarahlynneee#1194</td>\n      <td>S3</td>\n      <td>8356018</td>\n      <td>2170</td>\n      <td>Mephisto</td>\n      <td>Ranged Assassin</td>\n      <td>7</td>\n      <td>5</td>\n      <td>2</td>\n      <td>71.43</td>\n    </tr>\n    <tr>\n      <th>2</th>\n      <td>ycmyccastep7:cheeseawakens</td>\n      <td>G5</td>\n      <td>sarahlynneee#1194</td>\n      <td>S3</td>\n      <td>8356018</td>\n      <td>2170</td>\n      <td>Maiev</td>\n      <td>Melee Assassin</td>\n      <td>1</td>\n      <td>1</td>\n      <td>0</td>\n      <td>100.00</td>\n    </tr>\n    <tr>\n      <th>3</th>\n      <td>ycmyccastep7:cheeseawakens</td>\n      <td>G5</td>\n      <td>sarahlynneee#1194</td>\n      <td>S3</td>\n      <td>8356018</td>\n      <td>2170</td>\n      <td>Lúcio</td>\n      <td>Healer</td>\n      <td>6</td>\n      <td>2</td>\n      <td>4</td>\n      <td>33.33</td>\n    </tr>\n    <tr>\n      <th>4</th>\n      <td>ycmyccastep7:cheeseawakens</td>\n      <td>G5</td>\n      <td>sarahlynneee#1194</td>\n      <td>S3</td>\n      <td>8356018</td>\n      <td>2170</td>\n      <td>Lt. Morales</td>\n      <td>Healer</td>\n      <td>3</td>\n      <td>2</td>\n      <td>1</td>\n      <td>66.67</td>\n    </tr>\n  </tbody>\n</table>\n</div>"
     },
     "execution_count": 38,
     "metadata": {},
     "output_type": "execute_result"
    }
   ],
   "source": [
    "spike_team_df = hero_rollup #[hero_rollup.TeamName.isin(team_names)]\n",
    "spike_team_df.head()"
   ],
   "metadata": {
    "collapsed": false,
    "pycharm": {
     "name": "#%%\n"
    }
   }
  },
  {
   "cell_type": "code",
   "execution_count": 39,
   "outputs": [
    {
     "data": {
      "text/plain": "                TeamName TeamRank          Battletag Rank BlizzardId  \\\n2781  30 seconds to mosh       S2          aly#11717   S5   10958259   \n2774  30 seconds to mosh       S2          aly#11717   S5   10958259   \n2772  30 seconds to mosh       S2          aly#11717   S5   10958259   \n2877  30 seconds to mosh       S2          aly#11717   S5   10958259   \n2891  30 seconds to mosh       S2          aly#11717   S5   10958259   \n...                  ...      ...                ...  ...        ...   \n1217   ltk - we hate obj       G5  zoomthenboom#1452   G3   10555838   \n1225   ltk - we hate obj       G5  zoomthenboom#1452   G3   10555838   \n1204   ltk - we hate obj       G5  zoomthenboom#1452   G3   10555838   \n1219   ltk - we hate obj       G5  zoomthenboom#1452   G3   10555838   \n1336   ltk - we hate obj       G5  zoomthenboom#1452   G3   10555838   \n\n      PlayerId  HeroName  NewRole  Total  TotalWins  ...  Deaths  \\\n2781         3    Varian  Bruiser     35         17  ...    4.52   \n2774         3    Stukov   Healer     13          9  ...    2.75   \n2772         3    Rehgar   Healer      9          3  ...    5.71   \n2877         3  Kharazim   Healer      6          3  ...    3.67   \n2891         3       Ana   Healer      6          2  ...    5.00   \n...        ...       ...      ...    ...        ...  ...     ...   \n1217     26768    E.T.C.     Tank     88         37  ...    4.66   \n1225     26768   Johanna     Tank     48         31  ...    3.42   \n1204     26768     Blaze     Tank     25         14  ...    3.23   \n1219     26768   Muradin     Tank     10          5  ...    3.56   \n1336     26768  Stitches     Tank      5          2  ...    5.50   \n\n      ExperienceContribution  FirstToTen  Level  HeroDamage   Healing  \\\n2781                 9555.45        0.58  20.70    39949.09      0.00   \n2774                 9679.50        0.62  21.75    35167.25  56594.00   \n2772                 9001.71        0.43  22.29    15160.00  76546.00   \n2877                 8518.33        1.00  21.00    33880.00  28450.67   \n2891                 7502.00        1.00  25.00    31651.00  86584.00   \n...                      ...         ...    ...         ...       ...   \n1217                 8302.71        0.44  20.68    23500.37    403.73   \n1225                 9899.00        0.45  20.21    40052.40    719.15   \n1204                11992.89        0.51  20.66    42946.49      0.00   \n1219                 6874.33        0.56  18.78    25201.78      0.00   \n1336                11321.75        0.75  22.00    47028.75      0.00   \n\n      Takedowns  SelfHealing  DamageTaken  TimeSpentDead  \n2781      12.21     31637.52     80304.45         182.88  \n2774      18.75        37.12     44296.38         100.75  \n2772      12.14      1057.14     69053.86         231.57  \n2877      12.67         0.00     63401.33         154.67  \n2891      18.00      7944.00     45041.00         264.00  \n...         ...          ...          ...            ...  \n1217      11.61     15745.12     72162.95         178.12  \n1225      13.55     18382.94     80936.09         128.34  \n1204      13.60     20304.51     88240.29         128.26  \n1219       9.56     29319.89     85411.22         123.56  \n1336      15.00     34996.50    129938.25         229.75  \n\n[2584 rows x 25 columns]",
      "text/html": "<div>\n<style scoped>\n    .dataframe tbody tr th:only-of-type {\n        vertical-align: middle;\n    }\n\n    .dataframe tbody tr th {\n        vertical-align: top;\n    }\n\n    .dataframe thead th {\n        text-align: right;\n    }\n</style>\n<table border=\"1\" class=\"dataframe\">\n  <thead>\n    <tr style=\"text-align: right;\">\n      <th></th>\n      <th>TeamName</th>\n      <th>TeamRank</th>\n      <th>Battletag</th>\n      <th>Rank</th>\n      <th>BlizzardId</th>\n      <th>PlayerId</th>\n      <th>HeroName</th>\n      <th>NewRole</th>\n      <th>Total</th>\n      <th>TotalWins</th>\n      <th>...</th>\n      <th>Deaths</th>\n      <th>ExperienceContribution</th>\n      <th>FirstToTen</th>\n      <th>Level</th>\n      <th>HeroDamage</th>\n      <th>Healing</th>\n      <th>Takedowns</th>\n      <th>SelfHealing</th>\n      <th>DamageTaken</th>\n      <th>TimeSpentDead</th>\n    </tr>\n  </thead>\n  <tbody>\n    <tr>\n      <th>2781</th>\n      <td>30 seconds to mosh</td>\n      <td>S2</td>\n      <td>aly#11717</td>\n      <td>S5</td>\n      <td>10958259</td>\n      <td>3</td>\n      <td>Varian</td>\n      <td>Bruiser</td>\n      <td>35</td>\n      <td>17</td>\n      <td>...</td>\n      <td>4.52</td>\n      <td>9555.45</td>\n      <td>0.58</td>\n      <td>20.70</td>\n      <td>39949.09</td>\n      <td>0.00</td>\n      <td>12.21</td>\n      <td>31637.52</td>\n      <td>80304.45</td>\n      <td>182.88</td>\n    </tr>\n    <tr>\n      <th>2774</th>\n      <td>30 seconds to mosh</td>\n      <td>S2</td>\n      <td>aly#11717</td>\n      <td>S5</td>\n      <td>10958259</td>\n      <td>3</td>\n      <td>Stukov</td>\n      <td>Healer</td>\n      <td>13</td>\n      <td>9</td>\n      <td>...</td>\n      <td>2.75</td>\n      <td>9679.50</td>\n      <td>0.62</td>\n      <td>21.75</td>\n      <td>35167.25</td>\n      <td>56594.00</td>\n      <td>18.75</td>\n      <td>37.12</td>\n      <td>44296.38</td>\n      <td>100.75</td>\n    </tr>\n    <tr>\n      <th>2772</th>\n      <td>30 seconds to mosh</td>\n      <td>S2</td>\n      <td>aly#11717</td>\n      <td>S5</td>\n      <td>10958259</td>\n      <td>3</td>\n      <td>Rehgar</td>\n      <td>Healer</td>\n      <td>9</td>\n      <td>3</td>\n      <td>...</td>\n      <td>5.71</td>\n      <td>9001.71</td>\n      <td>0.43</td>\n      <td>22.29</td>\n      <td>15160.00</td>\n      <td>76546.00</td>\n      <td>12.14</td>\n      <td>1057.14</td>\n      <td>69053.86</td>\n      <td>231.57</td>\n    </tr>\n    <tr>\n      <th>2877</th>\n      <td>30 seconds to mosh</td>\n      <td>S2</td>\n      <td>aly#11717</td>\n      <td>S5</td>\n      <td>10958259</td>\n      <td>3</td>\n      <td>Kharazim</td>\n      <td>Healer</td>\n      <td>6</td>\n      <td>3</td>\n      <td>...</td>\n      <td>3.67</td>\n      <td>8518.33</td>\n      <td>1.00</td>\n      <td>21.00</td>\n      <td>33880.00</td>\n      <td>28450.67</td>\n      <td>12.67</td>\n      <td>0.00</td>\n      <td>63401.33</td>\n      <td>154.67</td>\n    </tr>\n    <tr>\n      <th>2891</th>\n      <td>30 seconds to mosh</td>\n      <td>S2</td>\n      <td>aly#11717</td>\n      <td>S5</td>\n      <td>10958259</td>\n      <td>3</td>\n      <td>Ana</td>\n      <td>Healer</td>\n      <td>6</td>\n      <td>2</td>\n      <td>...</td>\n      <td>5.00</td>\n      <td>7502.00</td>\n      <td>1.00</td>\n      <td>25.00</td>\n      <td>31651.00</td>\n      <td>86584.00</td>\n      <td>18.00</td>\n      <td>7944.00</td>\n      <td>45041.00</td>\n      <td>264.00</td>\n    </tr>\n    <tr>\n      <th>...</th>\n      <td>...</td>\n      <td>...</td>\n      <td>...</td>\n      <td>...</td>\n      <td>...</td>\n      <td>...</td>\n      <td>...</td>\n      <td>...</td>\n      <td>...</td>\n      <td>...</td>\n      <td>...</td>\n      <td>...</td>\n      <td>...</td>\n      <td>...</td>\n      <td>...</td>\n      <td>...</td>\n      <td>...</td>\n      <td>...</td>\n      <td>...</td>\n      <td>...</td>\n      <td>...</td>\n    </tr>\n    <tr>\n      <th>1217</th>\n      <td>ltk - we hate obj</td>\n      <td>G5</td>\n      <td>zoomthenboom#1452</td>\n      <td>G3</td>\n      <td>10555838</td>\n      <td>26768</td>\n      <td>E.T.C.</td>\n      <td>Tank</td>\n      <td>88</td>\n      <td>37</td>\n      <td>...</td>\n      <td>4.66</td>\n      <td>8302.71</td>\n      <td>0.44</td>\n      <td>20.68</td>\n      <td>23500.37</td>\n      <td>403.73</td>\n      <td>11.61</td>\n      <td>15745.12</td>\n      <td>72162.95</td>\n      <td>178.12</td>\n    </tr>\n    <tr>\n      <th>1225</th>\n      <td>ltk - we hate obj</td>\n      <td>G5</td>\n      <td>zoomthenboom#1452</td>\n      <td>G3</td>\n      <td>10555838</td>\n      <td>26768</td>\n      <td>Johanna</td>\n      <td>Tank</td>\n      <td>48</td>\n      <td>31</td>\n      <td>...</td>\n      <td>3.42</td>\n      <td>9899.00</td>\n      <td>0.45</td>\n      <td>20.21</td>\n      <td>40052.40</td>\n      <td>719.15</td>\n      <td>13.55</td>\n      <td>18382.94</td>\n      <td>80936.09</td>\n      <td>128.34</td>\n    </tr>\n    <tr>\n      <th>1204</th>\n      <td>ltk - we hate obj</td>\n      <td>G5</td>\n      <td>zoomthenboom#1452</td>\n      <td>G3</td>\n      <td>10555838</td>\n      <td>26768</td>\n      <td>Blaze</td>\n      <td>Tank</td>\n      <td>25</td>\n      <td>14</td>\n      <td>...</td>\n      <td>3.23</td>\n      <td>11992.89</td>\n      <td>0.51</td>\n      <td>20.66</td>\n      <td>42946.49</td>\n      <td>0.00</td>\n      <td>13.60</td>\n      <td>20304.51</td>\n      <td>88240.29</td>\n      <td>128.26</td>\n    </tr>\n    <tr>\n      <th>1219</th>\n      <td>ltk - we hate obj</td>\n      <td>G5</td>\n      <td>zoomthenboom#1452</td>\n      <td>G3</td>\n      <td>10555838</td>\n      <td>26768</td>\n      <td>Muradin</td>\n      <td>Tank</td>\n      <td>10</td>\n      <td>5</td>\n      <td>...</td>\n      <td>3.56</td>\n      <td>6874.33</td>\n      <td>0.56</td>\n      <td>18.78</td>\n      <td>25201.78</td>\n      <td>0.00</td>\n      <td>9.56</td>\n      <td>29319.89</td>\n      <td>85411.22</td>\n      <td>123.56</td>\n    </tr>\n    <tr>\n      <th>1336</th>\n      <td>ltk - we hate obj</td>\n      <td>G5</td>\n      <td>zoomthenboom#1452</td>\n      <td>G3</td>\n      <td>10555838</td>\n      <td>26768</td>\n      <td>Stitches</td>\n      <td>Tank</td>\n      <td>5</td>\n      <td>2</td>\n      <td>...</td>\n      <td>5.50</td>\n      <td>11321.75</td>\n      <td>0.75</td>\n      <td>22.00</td>\n      <td>47028.75</td>\n      <td>0.00</td>\n      <td>15.00</td>\n      <td>34996.50</td>\n      <td>129938.25</td>\n      <td>229.75</td>\n    </tr>\n  </tbody>\n</table>\n<p>2584 rows × 25 columns</p>\n</div>"
     },
     "execution_count": 39,
     "metadata": {},
     "output_type": "execute_result"
    }
   ],
   "source": [
    "r_df = player_replay_df[[*group_cols, *predictors]].groupby([*group_cols]).agg('mean')\n",
    "df = pd.merge(spike_team_df, r_df, left_on=['Battletag', 'TeamName', 'HeroName', 'NewRole'], right_on=['Battletag', 'TeamName', 'HeroName', 'NewRole']).sort_values(['TeamName', 'Battletag'])\n",
    "df_1 = df[df['Total'] >= 5].sort_values(['Battletag', 'NewRole', 'Total'], ascending=[True, True, False]).groupby(['Battletag', 'NewRole']).head(1000)\n",
    "\n",
    "# df_1['GameLengthTimestamp'] = df_1['GameLengthTimestamp'].round(2)\n",
    "df_1['IsWinner'] = df_1['IsWinner'].round(2)\n",
    "df_1['Kills'] = df_1['Kills'].round(2)\n",
    "df_1['Assists'] = df_1['Assists'].round(2)\n",
    "df_1['Deaths'] = df_1['Deaths'].round(2)\n",
    "df_1['ExperienceContribution'] = df_1['ExperienceContribution'].round(2)\n",
    "df_1['FirstToTen'] = df_1['FirstToTen'].round(2)\n",
    "df_1['Level'] = df_1['Level'].round(2)\n",
    "df_1['HeroDamage'] = df_1['HeroDamage'].round(2)\n",
    "df_1['Healing'] = df_1['Healing'].round(2)\n",
    "df_1['Takedowns'] = df_1['Takedowns'].round(2)\n",
    "df_1['SelfHealing'] = df_1['SelfHealing'].round(2)\n",
    "df_1['DamageTaken'] = df_1['DamageTaken'].round(2)\n",
    "df_1['TimeSpentDead'] = df_1['TimeSpentDead'].round(2)\n",
    "\n",
    "df_1"
   ],
   "metadata": {
    "collapsed": false,
    "pycharm": {
     "name": "#%%\n"
    }
   }
  },
  {
   "cell_type": "code",
   "execution_count": 40,
   "outputs": [],
   "source": [
    "df_1.to_sql('TeamMemberHeroTotal', con=engine, if_exists='replace', index=False)\n",
    "df_1.to_csv('../sample_data/TeamMemberHeroTotal.csv', index=False)"
   ],
   "metadata": {
    "collapsed": false,
    "pycharm": {
     "name": "#%%\n"
    }
   }
  },
  {
   "cell_type": "code",
   "execution_count": 41,
   "outputs": [],
   "source": [
    "player_replay_hist = pd.read_sql(sql=sa.select(TeamPlayerReplayHistory), con=engine)\n",
    "player_replay_hist.to_csv('../sample_data/TeamPlayerReplayHistory.csv', index=False)"
   ],
   "metadata": {
    "collapsed": false,
    "pycharm": {
     "name": "#%%\n"
    }
   }
  },
  {
   "cell_type": "code",
   "execution_count": 42,
   "outputs": [
    {
     "name": "stdout",
     "output_type": "stream",
     "text": [
      "2022-09-13 17:42:03.187192\n"
     ]
    }
   ],
   "source": [
    "from datetime import datetime\n",
    "\n",
    "print(datetime.now())"
   ],
   "metadata": {
    "collapsed": false,
    "pycharm": {
     "name": "#%%\n"
    }
   }
  }
 ],
 "metadata": {
  "kernelspec": {
   "display_name": "Python 3",
   "language": "python",
   "name": "python3"
  },
  "language_info": {
   "codemirror_mode": {
    "name": "ipython",
    "version": 2
   },
   "file_extension": ".py",
   "mimetype": "text/x-python",
   "name": "python",
   "nbconvert_exporter": "python",
   "pygments_lexer": "ipython2",
   "version": "2.7.6"
  }
 },
 "nbformat": 4,
 "nbformat_minor": 0
}