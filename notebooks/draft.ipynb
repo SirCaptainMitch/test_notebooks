{
 "cells": [
  {
   "cell_type": "code",
   "execution_count": 1,
   "metadata": {
    "collapsed": true
   },
   "outputs": [],
   "source": [
    "import json\n",
    "import csv\n",
    "import os\n",
    "from pprint import pprint as pr\n",
    "import sqlalchemy as sa\n",
    "import pandas as pd"
   ]
  },
  {
   "cell_type": "code",
   "execution_count": 11,
   "outputs": [],
   "source": [
    "BASE_DIR = os.path.abspath(os.path.dirname('../'))\n",
    "\n",
    "SERVER='192.168.0.245'\n",
    "SQLSERVER_DATABASE='lookingglass'\n",
    "SQLSERVER_USER='thecaptain'\n",
    "SQLSERVER_PASSWORD='99Redbal00ns'\n",
    "PORT=1433\n",
    "SQLSERVER_BASE_URI = 'mssql+pyodbc://{USER}:{PWD}@{SERVER}:{PORT}/{DATABASE}?driver=ODBC+Driver+17+for+SQL+Server'\n",
    "\n",
    "engine = sa.create_engine(SQLSERVER_BASE_URI.format(\n",
    "  SERVER=SERVER,\n",
    "  DATABASE=SQLSERVER_DATABASE,\n",
    "  USER=SQLSERVER_USER,\n",
    "  PWD=SQLSERVER_PASSWORD,\n",
    "  PORT=PORT\n",
    "))"
   ],
   "metadata": {
    "collapsed": false,
    "pycharm": {
     "name": "#%%\n"
    }
   }
  },
  {
   "cell_type": "code",
   "execution_count": 12,
   "outputs": [],
   "source": [
    "detail_df = pd.read_sql_table(table_name='ReplayDetail', con=engine)\n",
    "draft_df = pd.read_sql_table(table_name='ReplayDraft', con=engine)\n",
    "replay_player_df = pd.read_sql_table(table_name='ReplayPlayer', con=engine)\n",
    "map_df = pd.read_sql_table(table_name='Map', con=engine)\n",
    "hero_df = pd.read_sql_table(table_name='Hero', con=engine)"
   ],
   "metadata": {
    "collapsed": false,
    "pycharm": {
     "name": "#%%\n"
    }
   }
  },
  {
   "cell_type": "code",
   "execution_count": 13,
   "outputs": [
    {
     "name": "stdout",
     "output_type": "stream",
     "text": [
      "Total ReplayDetail Records - 15067\n",
      "Total ReplayDraft Records - 121389\n",
      "Total ReplayPlayer Records - 150003\n",
      "Total Hero Records - 90\n",
      "Total Map Records - 23\n"
     ]
    }
   ],
   "source": [
    "print(f'Total ReplayDetail Records - {detail_df.shape[0]}')\n",
    "print(f'Total ReplayDraft Records - {draft_df.shape[0]}')\n",
    "print(f'Total ReplayPlayer Records - {replay_player_df.shape[0]}')\n",
    "print(f'Total Hero Records - {hero_df.shape[0]}')\n",
    "print(f'Total Map Records - {map_df.shape[0]}')"
   ],
   "metadata": {
    "collapsed": false,
    "pycharm": {
     "name": "#%%\n"
    }
   }
  },
  {
   "cell_type": "code",
   "execution_count": 14,
   "outputs": [],
   "source": [
    "map_df = map_df[['MapId', 'MapName']]\n",
    "hero_df = hero_df[['HeroId', 'HeroName', 'NewRole']]\n",
    "draft_df = draft_df[['ReplayId', 'HeroId', 'RandomValue', 'PickType', 'DraftIndex', 'Team']]\n",
    "detail_df = detail_df[['ReplayId', 'SourceReplayId', 'MapId', 'GameType', 'GameDate', 'GameDateFormatted', 'WinningTeam', 'FirstToTen', 'DraftFirstTeam']]"
   ],
   "metadata": {
    "collapsed": false,
    "pycharm": {
     "name": "#%%\n"
    }
   }
  },
  {
   "cell_type": "code",
   "execution_count": 15,
   "outputs": [],
   "source": [
    "replay_player_detail_df = pd.merge(replay_player_df, detail_df, left_on='ReplayId', right_on='ReplayId')\n",
    "replay_player_detail_df = pd.merge(replay_player_detail_df, map_df, left_on='MapId', right_on='MapId')\n",
    "replay_player_detail_df = pd.merge(replay_player_detail_df, map_df, left_on='HeroId', right_on='HeroId')"
   ],
   "metadata": {
    "collapsed": false,
    "pycharm": {
     "name": "#%%\n"
    }
   }
  },
  {
   "cell_type": "code",
   "execution_count": 16,
   "outputs": [
    {
     "data": {
      "text/plain": "   PlayerReplayId  ReplayId  RandomValue  PlayerId  HeroId  HeroLevel  Team  \\\n0               1         1   1531044922     12617      12         15     0   \n1               2         1   1531044922     12618      13         12     0   \n2               3         1   1531044922     12619      74         20     0   \n3               4         1   1531044922     12620      10         14     0   \n4               5         1   1531044922     12621      59         20     0   \n\n   IsWinner  Party  FirstToTen_x  ...  SourceReplayId  MapId    GameType  \\\n0         0      0             1  ...               0     11  QuickMatch   \n1         0      0             1  ...               0     11  QuickMatch   \n2         0      0             1  ...               0     11  QuickMatch   \n3         0      0             1  ...               0     11  QuickMatch   \n4         0      0             1  ...               0     11  QuickMatch   \n\n             GameDate  GameDateFormatted  WinningTeam  FirstToTen_y  \\\n0 2021-09-03 12:08:06         2021-09-03            1             0   \n1 2021-09-03 12:08:06         2021-09-03            1             0   \n2 2021-09-03 12:08:06         2021-09-03            1             0   \n3 2021-09-03 12:08:06         2021-09-03            1             0   \n4 2021-09-03 12:08:06         2021-09-03            1             0   \n\n   DraftFirstTeam                 MapName_x                 MapName_y  \n0               0  Tomb of the Spider Queen  Tomb of the Spider Queen  \n1               0  Tomb of the Spider Queen  Tomb of the Spider Queen  \n2               0  Tomb of the Spider Queen  Tomb of the Spider Queen  \n3               0  Tomb of the Spider Queen  Tomb of the Spider Queen  \n4               0  Tomb of the Spider Queen  Tomb of the Spider Queen  \n\n[5 rows x 59 columns]",
      "text/html": "<div>\n<style scoped>\n    .dataframe tbody tr th:only-of-type {\n        vertical-align: middle;\n    }\n\n    .dataframe tbody tr th {\n        vertical-align: top;\n    }\n\n    .dataframe thead th {\n        text-align: right;\n    }\n</style>\n<table border=\"1\" class=\"dataframe\">\n  <thead>\n    <tr style=\"text-align: right;\">\n      <th></th>\n      <th>PlayerReplayId</th>\n      <th>ReplayId</th>\n      <th>RandomValue</th>\n      <th>PlayerId</th>\n      <th>HeroId</th>\n      <th>HeroLevel</th>\n      <th>Team</th>\n      <th>IsWinner</th>\n      <th>Party</th>\n      <th>FirstToTen_x</th>\n      <th>...</th>\n      <th>SourceReplayId</th>\n      <th>MapId</th>\n      <th>GameType</th>\n      <th>GameDate</th>\n      <th>GameDateFormatted</th>\n      <th>WinningTeam</th>\n      <th>FirstToTen_y</th>\n      <th>DraftFirstTeam</th>\n      <th>MapName_x</th>\n      <th>MapName_y</th>\n    </tr>\n  </thead>\n  <tbody>\n    <tr>\n      <th>0</th>\n      <td>1</td>\n      <td>1</td>\n      <td>1531044922</td>\n      <td>12617</td>\n      <td>12</td>\n      <td>15</td>\n      <td>0</td>\n      <td>0</td>\n      <td>0</td>\n      <td>1</td>\n      <td>...</td>\n      <td>0</td>\n      <td>11</td>\n      <td>QuickMatch</td>\n      <td>2021-09-03 12:08:06</td>\n      <td>2021-09-03</td>\n      <td>1</td>\n      <td>0</td>\n      <td>0</td>\n      <td>Tomb of the Spider Queen</td>\n      <td>Tomb of the Spider Queen</td>\n    </tr>\n    <tr>\n      <th>1</th>\n      <td>2</td>\n      <td>1</td>\n      <td>1531044922</td>\n      <td>12618</td>\n      <td>13</td>\n      <td>12</td>\n      <td>0</td>\n      <td>0</td>\n      <td>0</td>\n      <td>1</td>\n      <td>...</td>\n      <td>0</td>\n      <td>11</td>\n      <td>QuickMatch</td>\n      <td>2021-09-03 12:08:06</td>\n      <td>2021-09-03</td>\n      <td>1</td>\n      <td>0</td>\n      <td>0</td>\n      <td>Tomb of the Spider Queen</td>\n      <td>Tomb of the Spider Queen</td>\n    </tr>\n    <tr>\n      <th>2</th>\n      <td>3</td>\n      <td>1</td>\n      <td>1531044922</td>\n      <td>12619</td>\n      <td>74</td>\n      <td>20</td>\n      <td>0</td>\n      <td>0</td>\n      <td>0</td>\n      <td>1</td>\n      <td>...</td>\n      <td>0</td>\n      <td>11</td>\n      <td>QuickMatch</td>\n      <td>2021-09-03 12:08:06</td>\n      <td>2021-09-03</td>\n      <td>1</td>\n      <td>0</td>\n      <td>0</td>\n      <td>Tomb of the Spider Queen</td>\n      <td>Tomb of the Spider Queen</td>\n    </tr>\n    <tr>\n      <th>3</th>\n      <td>4</td>\n      <td>1</td>\n      <td>1531044922</td>\n      <td>12620</td>\n      <td>10</td>\n      <td>14</td>\n      <td>0</td>\n      <td>0</td>\n      <td>0</td>\n      <td>1</td>\n      <td>...</td>\n      <td>0</td>\n      <td>11</td>\n      <td>QuickMatch</td>\n      <td>2021-09-03 12:08:06</td>\n      <td>2021-09-03</td>\n      <td>1</td>\n      <td>0</td>\n      <td>0</td>\n      <td>Tomb of the Spider Queen</td>\n      <td>Tomb of the Spider Queen</td>\n    </tr>\n    <tr>\n      <th>4</th>\n      <td>5</td>\n      <td>1</td>\n      <td>1531044922</td>\n      <td>12621</td>\n      <td>59</td>\n      <td>20</td>\n      <td>0</td>\n      <td>0</td>\n      <td>0</td>\n      <td>1</td>\n      <td>...</td>\n      <td>0</td>\n      <td>11</td>\n      <td>QuickMatch</td>\n      <td>2021-09-03 12:08:06</td>\n      <td>2021-09-03</td>\n      <td>1</td>\n      <td>0</td>\n      <td>0</td>\n      <td>Tomb of the Spider Queen</td>\n      <td>Tomb of the Spider Queen</td>\n    </tr>\n  </tbody>\n</table>\n<p>5 rows × 59 columns</p>\n</div>"
     },
     "execution_count": 16,
     "metadata": {},
     "output_type": "execute_result"
    }
   ],
   "source": [
    "replay_player_detail_df.head()"
   ],
   "metadata": {
    "collapsed": false,
    "pycharm": {
     "name": "#%%\n"
    }
   }
  },
  {
   "cell_type": "code",
   "execution_count": 63,
   "outputs": [],
   "source": [
    "replay_detail_df = pd.merge(detail_df, map_df, left_on='MapId', right_on='MapId')\n",
    "replay_player_detail_df = pd.merge(replay_player_df, hero_df, left_on='HeroId', right_on='HeroId')\n",
    "replay_player_detail_df = replay_player_detail_df[]"
   ],
   "metadata": {
    "collapsed": false,
    "pycharm": {
     "name": "#%%\n"
    }
   }
  },
  {
   "cell_type": "code",
   "execution_count": 64,
   "outputs": [],
   "source": [
    "replay_draft_detail_df = pd.merge(hero_draft_df, map_detail_df, left_on='ReplayId', right_on='ReplayId')"
   ],
   "metadata": {
    "collapsed": false,
    "pycharm": {
     "name": "#%%\n"
    }
   }
  },
  {
   "cell_type": "code",
   "execution_count": 65,
   "outputs": [
    {
     "data": {
      "text/plain": "   ReplayId  SourceReplayId  MapId     GameType            GameDate  \\\n0         1               0     11   QuickMatch 2021-09-03 12:08:06   \n1        13               0     11       Custom 2021-09-07 02:05:11   \n2        16               0     11   QuickMatch 2021-09-08 12:09:48   \n3        19               0     11  StormLeague 2021-09-08 01:39:58   \n4        29               0     11       Custom 2021-09-09 02:38:25   \n\n  GameDateFormatted  WinningTeam  FirstToTen  DraftFirstTeam  \\\n0        2021-09-03            1           0               0   \n1        2021-09-07            1           1               1   \n2        2021-09-08            0           0               0   \n3        2021-09-08            0           0               0   \n4        2021-09-09            0           1               0   \n\n                    MapName  \n0  Tomb of the Spider Queen  \n1  Tomb of the Spider Queen  \n2  Tomb of the Spider Queen  \n3  Tomb of the Spider Queen  \n4  Tomb of the Spider Queen  ",
      "text/html": "<div>\n<style scoped>\n    .dataframe tbody tr th:only-of-type {\n        vertical-align: middle;\n    }\n\n    .dataframe tbody tr th {\n        vertical-align: top;\n    }\n\n    .dataframe thead th {\n        text-align: right;\n    }\n</style>\n<table border=\"1\" class=\"dataframe\">\n  <thead>\n    <tr style=\"text-align: right;\">\n      <th></th>\n      <th>ReplayId</th>\n      <th>SourceReplayId</th>\n      <th>MapId</th>\n      <th>GameType</th>\n      <th>GameDate</th>\n      <th>GameDateFormatted</th>\n      <th>WinningTeam</th>\n      <th>FirstToTen</th>\n      <th>DraftFirstTeam</th>\n      <th>MapName</th>\n    </tr>\n  </thead>\n  <tbody>\n    <tr>\n      <th>0</th>\n      <td>1</td>\n      <td>0</td>\n      <td>11</td>\n      <td>QuickMatch</td>\n      <td>2021-09-03 12:08:06</td>\n      <td>2021-09-03</td>\n      <td>1</td>\n      <td>0</td>\n      <td>0</td>\n      <td>Tomb of the Spider Queen</td>\n    </tr>\n    <tr>\n      <th>1</th>\n      <td>13</td>\n      <td>0</td>\n      <td>11</td>\n      <td>Custom</td>\n      <td>2021-09-07 02:05:11</td>\n      <td>2021-09-07</td>\n      <td>1</td>\n      <td>1</td>\n      <td>1</td>\n      <td>Tomb of the Spider Queen</td>\n    </tr>\n    <tr>\n      <th>2</th>\n      <td>16</td>\n      <td>0</td>\n      <td>11</td>\n      <td>QuickMatch</td>\n      <td>2021-09-08 12:09:48</td>\n      <td>2021-09-08</td>\n      <td>0</td>\n      <td>0</td>\n      <td>0</td>\n      <td>Tomb of the Spider Queen</td>\n    </tr>\n    <tr>\n      <th>3</th>\n      <td>19</td>\n      <td>0</td>\n      <td>11</td>\n      <td>StormLeague</td>\n      <td>2021-09-08 01:39:58</td>\n      <td>2021-09-08</td>\n      <td>0</td>\n      <td>0</td>\n      <td>0</td>\n      <td>Tomb of the Spider Queen</td>\n    </tr>\n    <tr>\n      <th>4</th>\n      <td>29</td>\n      <td>0</td>\n      <td>11</td>\n      <td>Custom</td>\n      <td>2021-09-09 02:38:25</td>\n      <td>2021-09-09</td>\n      <td>0</td>\n      <td>1</td>\n      <td>0</td>\n      <td>Tomb of the Spider Queen</td>\n    </tr>\n  </tbody>\n</table>\n</div>"
     },
     "execution_count": 65,
     "metadata": {},
     "output_type": "execute_result"
    }
   ],
   "source": [
    "map_detail_df.head()"
   ],
   "metadata": {
    "collapsed": false,
    "pycharm": {
     "name": "#%%\n"
    }
   }
  },
  {
   "cell_type": "code",
   "execution_count": 66,
   "outputs": [
    {
     "data": {
      "text/plain": "   ReplayId  HeroId  RandomValue PickType  DraftIndex  Team HeroName  \\\n0         5      58    313964503   Banned           0    -1  Nazeebo   \n1        13      58   2914723711   Banned           0    -1  Nazeebo   \n2        14      58    515395070   Banned           0    -1  Nazeebo   \n3        15      58   3060720725   Banned           1    -1  Nazeebo   \n4        17      58    456305023   Banned           1    -1  Nazeebo   \n\n           NewRole  \n0  Ranged Assassin  \n1  Ranged Assassin  \n2  Ranged Assassin  \n3  Ranged Assassin  \n4  Ranged Assassin  ",
      "text/html": "<div>\n<style scoped>\n    .dataframe tbody tr th:only-of-type {\n        vertical-align: middle;\n    }\n\n    .dataframe tbody tr th {\n        vertical-align: top;\n    }\n\n    .dataframe thead th {\n        text-align: right;\n    }\n</style>\n<table border=\"1\" class=\"dataframe\">\n  <thead>\n    <tr style=\"text-align: right;\">\n      <th></th>\n      <th>ReplayId</th>\n      <th>HeroId</th>\n      <th>RandomValue</th>\n      <th>PickType</th>\n      <th>DraftIndex</th>\n      <th>Team</th>\n      <th>HeroName</th>\n      <th>NewRole</th>\n    </tr>\n  </thead>\n  <tbody>\n    <tr>\n      <th>0</th>\n      <td>5</td>\n      <td>58</td>\n      <td>313964503</td>\n      <td>Banned</td>\n      <td>0</td>\n      <td>-1</td>\n      <td>Nazeebo</td>\n      <td>Ranged Assassin</td>\n    </tr>\n    <tr>\n      <th>1</th>\n      <td>13</td>\n      <td>58</td>\n      <td>2914723711</td>\n      <td>Banned</td>\n      <td>0</td>\n      <td>-1</td>\n      <td>Nazeebo</td>\n      <td>Ranged Assassin</td>\n    </tr>\n    <tr>\n      <th>2</th>\n      <td>14</td>\n      <td>58</td>\n      <td>515395070</td>\n      <td>Banned</td>\n      <td>0</td>\n      <td>-1</td>\n      <td>Nazeebo</td>\n      <td>Ranged Assassin</td>\n    </tr>\n    <tr>\n      <th>3</th>\n      <td>15</td>\n      <td>58</td>\n      <td>3060720725</td>\n      <td>Banned</td>\n      <td>1</td>\n      <td>-1</td>\n      <td>Nazeebo</td>\n      <td>Ranged Assassin</td>\n    </tr>\n    <tr>\n      <th>4</th>\n      <td>17</td>\n      <td>58</td>\n      <td>456305023</td>\n      <td>Banned</td>\n      <td>1</td>\n      <td>-1</td>\n      <td>Nazeebo</td>\n      <td>Ranged Assassin</td>\n    </tr>\n  </tbody>\n</table>\n</div>"
     },
     "execution_count": 66,
     "metadata": {},
     "output_type": "execute_result"
    }
   ],
   "source": [
    "hero_draft_df.head()"
   ],
   "metadata": {
    "collapsed": false,
    "pycharm": {
     "name": "#%%\n"
    }
   }
  },
  {
   "cell_type": "code",
   "execution_count": 67,
   "outputs": [
    {
     "data": {
      "text/plain": "   ReplayId  HeroId  RandomValue PickType  DraftIndex  Team HeroName  \\\n0         5      58    313964503   Banned           0    -1  Nazeebo   \n1         5      10    313964503   Banned           1    -1  Azmodan   \n2         5      26    313964503   Banned           2    -1  Garrosh   \n3         5      82    313964503   Banned           3    -1    Valla   \n4         5      83    313964503   Picked           4     0   Varian   \n\n           NewRole  SourceReplayId  MapId     GameType            GameDate  \\\n0  Ranged Assassin               0      6  StormLeague 2021-09-06 08:40:24   \n1  Ranged Assassin               0      6  StormLeague 2021-09-06 08:40:24   \n2             Tank               0      6  StormLeague 2021-09-06 08:40:24   \n3  Ranged Assassin               0      6  StormLeague 2021-09-06 08:40:24   \n4          Bruiser               0      6  StormLeague 2021-09-06 08:40:24   \n\n  GameDateFormatted  WinningTeam  FirstToTen  DraftFirstTeam           MapName  \n0        2021-09-06            1           1               0  Garden of Terror  \n1        2021-09-06            1           1               0  Garden of Terror  \n2        2021-09-06            1           1               0  Garden of Terror  \n3        2021-09-06            1           1               0  Garden of Terror  \n4        2021-09-06            1           1               0  Garden of Terror  ",
      "text/html": "<div>\n<style scoped>\n    .dataframe tbody tr th:only-of-type {\n        vertical-align: middle;\n    }\n\n    .dataframe tbody tr th {\n        vertical-align: top;\n    }\n\n    .dataframe thead th {\n        text-align: right;\n    }\n</style>\n<table border=\"1\" class=\"dataframe\">\n  <thead>\n    <tr style=\"text-align: right;\">\n      <th></th>\n      <th>ReplayId</th>\n      <th>HeroId</th>\n      <th>RandomValue</th>\n      <th>PickType</th>\n      <th>DraftIndex</th>\n      <th>Team</th>\n      <th>HeroName</th>\n      <th>NewRole</th>\n      <th>SourceReplayId</th>\n      <th>MapId</th>\n      <th>GameType</th>\n      <th>GameDate</th>\n      <th>GameDateFormatted</th>\n      <th>WinningTeam</th>\n      <th>FirstToTen</th>\n      <th>DraftFirstTeam</th>\n      <th>MapName</th>\n    </tr>\n  </thead>\n  <tbody>\n    <tr>\n      <th>0</th>\n      <td>5</td>\n      <td>58</td>\n      <td>313964503</td>\n      <td>Banned</td>\n      <td>0</td>\n      <td>-1</td>\n      <td>Nazeebo</td>\n      <td>Ranged Assassin</td>\n      <td>0</td>\n      <td>6</td>\n      <td>StormLeague</td>\n      <td>2021-09-06 08:40:24</td>\n      <td>2021-09-06</td>\n      <td>1</td>\n      <td>1</td>\n      <td>0</td>\n      <td>Garden of Terror</td>\n    </tr>\n    <tr>\n      <th>1</th>\n      <td>5</td>\n      <td>10</td>\n      <td>313964503</td>\n      <td>Banned</td>\n      <td>1</td>\n      <td>-1</td>\n      <td>Azmodan</td>\n      <td>Ranged Assassin</td>\n      <td>0</td>\n      <td>6</td>\n      <td>StormLeague</td>\n      <td>2021-09-06 08:40:24</td>\n      <td>2021-09-06</td>\n      <td>1</td>\n      <td>1</td>\n      <td>0</td>\n      <td>Garden of Terror</td>\n    </tr>\n    <tr>\n      <th>2</th>\n      <td>5</td>\n      <td>26</td>\n      <td>313964503</td>\n      <td>Banned</td>\n      <td>2</td>\n      <td>-1</td>\n      <td>Garrosh</td>\n      <td>Tank</td>\n      <td>0</td>\n      <td>6</td>\n      <td>StormLeague</td>\n      <td>2021-09-06 08:40:24</td>\n      <td>2021-09-06</td>\n      <td>1</td>\n      <td>1</td>\n      <td>0</td>\n      <td>Garden of Terror</td>\n    </tr>\n    <tr>\n      <th>3</th>\n      <td>5</td>\n      <td>82</td>\n      <td>313964503</td>\n      <td>Banned</td>\n      <td>3</td>\n      <td>-1</td>\n      <td>Valla</td>\n      <td>Ranged Assassin</td>\n      <td>0</td>\n      <td>6</td>\n      <td>StormLeague</td>\n      <td>2021-09-06 08:40:24</td>\n      <td>2021-09-06</td>\n      <td>1</td>\n      <td>1</td>\n      <td>0</td>\n      <td>Garden of Terror</td>\n    </tr>\n    <tr>\n      <th>4</th>\n      <td>5</td>\n      <td>83</td>\n      <td>313964503</td>\n      <td>Picked</td>\n      <td>4</td>\n      <td>0</td>\n      <td>Varian</td>\n      <td>Bruiser</td>\n      <td>0</td>\n      <td>6</td>\n      <td>StormLeague</td>\n      <td>2021-09-06 08:40:24</td>\n      <td>2021-09-06</td>\n      <td>1</td>\n      <td>1</td>\n      <td>0</td>\n      <td>Garden of Terror</td>\n    </tr>\n  </tbody>\n</table>\n</div>"
     },
     "execution_count": 67,
     "metadata": {},
     "output_type": "execute_result"
    }
   ],
   "source": [
    "replay_draft_detail_df.head()"
   ],
   "metadata": {
    "collapsed": false,
    "pycharm": {
     "name": "#%%\n"
    }
   }
  },
  {
   "cell_type": "markdown",
   "source": [],
   "metadata": {
    "collapsed": false
   }
  },
  {
   "cell_type": "code",
   "execution_count": 75,
   "outputs": [
    {
     "data": {
      "text/plain": "HeroName     PickType\nAbathur      Banned       403\n             Picked       474\nAlarak       Banned        43\n             Picked       386\nAlexstrasza  Banned        36\n                         ... \nZarya        Picked       213\nZeratul      Banned       128\n             Picked       406\nZul'jin      Banned       382\n             Picked      1069\nName: DraftIndex, Length: 222, dtype: int64"
     },
     "execution_count": 75,
     "metadata": {},
     "output_type": "execute_result"
    }
   ],
   "source": [
    "replay_draft_detail_df.groupby(['HeroName', 'PickType'])['DraftIndex'].count()"
   ],
   "metadata": {
    "collapsed": false,
    "pycharm": {
     "name": "#%%\n"
    }
   }
  },
  {
   "cell_type": "code",
   "execution_count": null,
   "outputs": [],
   "source": [],
   "metadata": {
    "collapsed": false,
    "pycharm": {
     "name": "#%%\n"
    }
   }
  }
 ],
 "metadata": {
  "kernelspec": {
   "display_name": "Python 3",
   "language": "python",
   "name": "python3"
  },
  "language_info": {
   "codemirror_mode": {
    "name": "ipython",
    "version": 2
   },
   "file_extension": ".py",
   "mimetype": "text/x-python",
   "name": "python",
   "nbconvert_exporter": "python",
   "pygments_lexer": "ipython2",
   "version": "2.7.6"
  }
 },
 "nbformat": 4,
 "nbformat_minor": 0
}