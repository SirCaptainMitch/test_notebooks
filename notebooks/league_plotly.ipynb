{
 "cells": [
  {
   "cell_type": "code",
   "execution_count": 491,
   "outputs": [],
   "source": [
    "import sqlalchemy as sa\n",
    "import pandas as pd\n",
    "from datetime import datetime, timedelta\n",
    "import numpy as np\n",
    "\n",
    "from matplotlib import pyplot as plt\n",
    "import plotly.express as px\n",
    "from plotly.subplots import make_subplots\n",
    "\n",
    "import plotly.graph_objects as go\n",
    "import plotly.figure_factory as ff\n",
    "\n",
    "from matplotlib.animation import FuncAnimation, writers\n",
    "import numpy as np"
   ],
   "metadata": {
    "collapsed": false,
    "pycharm": {
     "name": "#%%\n"
    }
   }
  },
  {
   "cell_type": "code",
   "execution_count": null,
   "outputs": [],
   "source": [],
   "metadata": {
    "collapsed": false,
    "pycharm": {
     "name": "#%%\n"
    }
   }
  },
  {
   "cell_type": "code",
   "execution_count": 492,
   "outputs": [],
   "source": [
    "SERVER='192.168.0.245'\n",
    "SQLSERVER_DATABASE='lookingglass'\n",
    "SQLSERVER_USER='thecaptain'\n",
    "SQLSERVER_PASSWORD='99Redbal00ns'\n",
    "PORT=1433\n",
    "SQLSERVER_BASE_URI = 'mssql+pyodbc://{USER}:{PWD}@{SERVER}:{PORT}/{DATABASE}?driver=ODBC+Driver+17+for+SQL+Server'\n",
    "\n",
    "engine = sa.create_engine(SQLSERVER_BASE_URI.format(\n",
    "  SERVER=SERVER,\n",
    "  DATABASE=SQLSERVER_DATABASE,\n",
    "  USER=SQLSERVER_USER,\n",
    "  PWD=SQLSERVER_PASSWORD,\n",
    "  PORT=PORT\n",
    "))"
   ],
   "metadata": {
    "collapsed": false,
    "pycharm": {
     "name": "#%%\n"
    }
   }
  },
  {
   "cell_type": "code",
   "execution_count": 493,
   "outputs": [],
   "source": [
    "match_game_df = pd.read_sql_table(table_name='leaguematchgame', con=engine)\n",
    "match_round_df = pd.read_sql_table(table_name='leaguematch', con=engine)"
   ],
   "metadata": {
    "collapsed": false,
    "pycharm": {
     "name": "#%%\n"
    }
   }
  },
  {
   "cell_type": "code",
   "execution_count": 494,
   "outputs": [],
   "source": [
    "round_df = match_round_df[['ngs_match_id', 'match_round','scheduled_start_time', 'match_winner', 'is_forfeit', 'home_team', 'away_team', 'division_concat']]\n",
    "round_df.scheduled_start_time = np.where(round_df.scheduled_start_time.isnull(), pd.to_datetime('1/31/2022'), round_df.scheduled_start_time)\n",
    "round_df['scheduled_date'] = pd.to_datetime(round_df['scheduled_start_time']).dt.strftime('%Y-%m-%d')\n",
    "round_df.drop(['scheduled_start_time'], inplace=True, axis=1)\n",
    "round_score_df = match_game_df[['ngs_match_id','team_name', 'total_score', 'is_domination']].drop_duplicates()"
   ],
   "metadata": {
    "collapsed": false,
    "pycharm": {
     "name": "#%%\n"
    }
   }
  },
  {
   "cell_type": "code",
   "execution_count": 495,
   "outputs": [],
   "source": [
    "match_df = pd.merge(round_df, round_score_df, left_on='ngs_match_id', right_on='ngs_match_id', how='left')\n",
    "match_df['vs_team'] = np.where(match_df.team_name!=match_df.away_team, match_df.away_team, match_df.home_team)\n",
    "match_df.drop(['home_team', 'away_team'], inplace=True, axis=1)"
   ],
   "metadata": {
    "collapsed": false,
    "pycharm": {
     "name": "#%%\n"
    }
   }
  },
  {
   "cell_type": "code",
   "execution_count": 496,
   "outputs": [],
   "source": [
    "match_df.total_score.fillna(0, inplace=True)\n",
    "match_df.drop_duplicates(inplace=True)\n",
    "\n",
    "match_df.is_forfeit = np.where(match_df.is_forfeit.isnull(), False, match_df.is_forfeit)\n",
    "match_df.team_name = np.where(( match_df.team_name.isnull() & match_df.is_forfeit == True), match_df.match_winner, match_df.team_name)\n",
    "match_df.total_score = np.where(( (match_df.team_name==match_df.match_winner) & match_df.is_forfeit == True), 3.0, match_df.total_score)\n",
    "match_df.is_domination = np.where(( (match_df.team_name==match_df.match_winner) & match_df.is_forfeit == True), True, match_df.is_domination)\n",
    "match_df.is_domination = np.where(match_df.is_domination == True, 1, 0)\n",
    "match_df['is_win'] = np.where( match_df.team_name==match_df.match_winner, 1, 0)\n",
    "match_df['is_loss'] = np.where( match_df.team_name!=match_df.match_winner, 1, 0)\n",
    "match_df['game_cnt'] = 1\n",
    "match_df.drop(['ngs_match_id'], inplace=True, axis=1)"
   ],
   "metadata": {
    "collapsed": false,
    "pycharm": {
     "name": "#%%\n"
    }
   }
  },
  {
   "cell_type": "code",
   "execution_count": 497,
   "outputs": [],
   "source": [
    "match_df['scheduled_week'] = pd.to_datetime(pd.to_datetime(match_df['scheduled_date']) - pd.to_timedelta(pd.to_datetime(match_df['scheduled_date']).dt.weekday % 7, unit='D'))\n",
    "match_df['week'] = pd.to_datetime(pd.to_datetime(match_df['scheduled_date']) - pd.to_timedelta(pd.to_datetime(match_df['scheduled_date']).dt.weekday % 7, unit='D')).dt.strftime('%a %m-%d')\n",
    "match_df['week_number'] = pd.to_datetime(match_df['scheduled_date']).dt.isocalendar().week\n",
    "match_df['score']=match_df.groupby(['scheduled_week', 'team_name'])['total_score'].cumsum()\n",
    "match_df['dominations']=match_df.groupby(['scheduled_week', 'team_name'])['is_domination'].cumsum()\n",
    "match_df['wins']=match_df.groupby(['scheduled_week', 'team_name'])['is_win'].cumsum()\n",
    "match_df['loss']=match_df.groupby(['scheduled_week', 'team_name'])['is_loss'].cumsum()\n",
    "match_df['games']=match_df.groupby(['scheduled_week', 'team_name'])['game_cnt'].cumsum()\n",
    "match_df['win_rate']=(match_df.wins / match_df.games) * 100\n",
    "match_df.sort_values(by='scheduled_week', ascending=True, inplace=True)\n",
    "match_df = match_df[match_df['team_name'].notnull()]"
   ],
   "metadata": {
    "collapsed": false,
    "pycharm": {
     "name": "#%%\n"
    }
   }
  },
  {
   "cell_type": "code",
   "execution_count": 562,
   "outputs": [],
   "source": [
    "fig = None\n",
    "df = None\n",
    "df = match_df[['week', 'week_number', 'scheduled_week', 'team_name', 'division_concat', 'score']]\n",
    "df = df.groupby(['team_name','week_number', 'week', 'scheduled_week', 'division_concat'])['score'].max()\n",
    "x = df.groupby(['team_name']).cumsum(axis=0).reset_index()\n",
    "\n",
    "piv = x.pivot(index=['team_name'], columns=\"scheduled_week\", values=\"score\")\n",
    "piv = piv.fillna(0)\n",
    "# piv.head(100)\n",
    "\n",
    "# y = pd.crosstab(index=[x.team_name], columns=x.week, values=x.score, aggfunc='sum', margins=True)"
   ],
   "metadata": {
    "collapsed": false,
    "pycharm": {
     "name": "#%%\n"
    }
   }
  },
  {
   "cell_type": "code",
   "execution_count": 540,
   "outputs": [
    {
     "data": {
      "application/vnd.plotly.v1+json": {
       "data": [
        {
         "hovertemplate": "color=210 blechman street<br>scheduled_week=%{x}<br>score=%{y}<extra></extra>",
         "legendgroup": "210 blechman street",
         "line": {
          "color": "#636efa",
          "dash": "solid"
         },
         "marker": {
          "symbol": "circle"
         },
         "mode": "markers+lines",
         "name": "210 blechman street",
         "orientation": "v",
         "showlegend": true,
         "x": [
          "2022-01-31T00:00:00",
          "2022-02-07T00:00:00",
          "2022-02-21T00:00:00",
          "2022-02-28T00:00:00",
          "2022-03-07T00:00:00",
          "2022-03-14T00:00:00",
          "2022-03-21T00:00:00",
          "2022-03-28T00:00:00",
          "2022-04-04T00:00:00"
         ],
         "xaxis": "x",
         "y": [
          3.0,
          5.0,
          11.0,
          13.0,
          14.0,
          15.0,
          15.0,
          18.0,
          21.0
         ],
         "yaxis": "y",
         "type": "scatter"
        },
        {
         "hovertemplate": "color=kingfishers (withdrawn)<br>scheduled_week=%{x}<br>score=%{y}<extra></extra>",
         "legendgroup": "kingfishers (withdrawn)",
         "line": {
          "color": "#EF553B",
          "dash": "solid"
         },
         "marker": {
          "symbol": "circle"
         },
         "mode": "markers+lines",
         "name": "kingfishers (withdrawn)",
         "orientation": "v",
         "showlegend": true,
         "x": [
          "2022-01-31T00:00:00",
          "2022-02-07T00:00:00",
          "2022-02-21T00:00:00",
          "2022-02-28T00:00:00",
          "2022-03-07T00:00:00",
          "2022-03-14T00:00:00",
          "2022-03-21T00:00:00",
          "2022-03-28T00:00:00",
          "2022-04-04T00:00:00"
         ],
         "xaxis": "x",
         "y": [
          2.0,
          4.0,
          5.0,
          8.0,
          9.0,
          12.0,
          15.0,
          16.0,
          19.0
         ],
         "yaxis": "y",
         "type": "scatter"
        },
        {
         "hovertemplate": "color=liquid metal<br>scheduled_week=%{x}<br>score=%{y}<extra></extra>",
         "legendgroup": "liquid metal",
         "line": {
          "color": "#00cc96",
          "dash": "solid"
         },
         "marker": {
          "symbol": "circle"
         },
         "mode": "markers+lines",
         "name": "liquid metal",
         "orientation": "v",
         "showlegend": true,
         "x": [
          "2022-01-31T00:00:00",
          "2022-02-07T00:00:00",
          "2022-02-14T00:00:00",
          "2022-02-21T00:00:00",
          "2022-02-28T00:00:00",
          "2022-03-07T00:00:00",
          "2022-03-14T00:00:00",
          "2022-03-21T00:00:00",
          "2022-03-28T00:00:00",
          "2022-04-04T00:00:00"
         ],
         "xaxis": "x",
         "y": [
          0.0,
          1.0,
          4.0,
          7.0,
          7.0,
          9.0,
          9.0,
          12.0,
          15.0,
          15.0
         ],
         "yaxis": "y",
         "type": "scatter"
        },
        {
         "hovertemplate": "color=the eh team<br>scheduled_week=%{x}<br>score=%{y}<extra></extra>",
         "legendgroup": "the eh team",
         "line": {
          "color": "#ab63fa",
          "dash": "solid"
         },
         "marker": {
          "symbol": "circle"
         },
         "mode": "markers+lines",
         "name": "the eh team",
         "orientation": "v",
         "showlegend": true,
         "x": [
          "2022-01-31T00:00:00",
          "2022-02-07T00:00:00",
          "2022-02-14T00:00:00",
          "2022-02-21T00:00:00",
          "2022-02-28T00:00:00",
          "2022-03-07T00:00:00",
          "2022-03-14T00:00:00",
          "2022-03-21T00:00:00",
          "2022-03-28T00:00:00",
          "2022-04-04T00:00:00"
         ],
         "xaxis": "x",
         "y": [
          3.0,
          4.0,
          7.0,
          9.0,
          12.0,
          15.0,
          17.0,
          20.0,
          22.0,
          25.0
         ],
         "yaxis": "y",
         "type": "scatter"
        },
        {
         "hovertemplate": "color=creepy crawly spiders<br>scheduled_week=%{x}<br>score=%{y}<extra></extra>",
         "legendgroup": "creepy crawly spiders",
         "line": {
          "color": "#636efa",
          "dash": "solid"
         },
         "marker": {
          "symbol": "circle"
         },
         "mode": "markers+lines",
         "name": "creepy crawly spiders",
         "orientation": "v",
         "showlegend": true,
         "x": [
          "2022-01-31T00:00:00",
          "2022-02-07T00:00:00",
          "2022-02-14T00:00:00",
          "2022-02-21T00:00:00",
          "2022-02-28T00:00:00",
          "2022-03-07T00:00:00",
          "2022-03-14T00:00:00",
          "2022-03-21T00:00:00",
          "2022-03-28T00:00:00",
          "2022-04-04T00:00:00"
         ],
         "xaxis": "x2",
         "y": [
          1.0,
          2.0,
          2.0,
          2.0,
          3.0,
          5.0,
          8.0,
          8.0,
          8.0,
          8.0
         ],
         "yaxis": "y2",
         "type": "scatter"
        },
        {
         "hovertemplate": "color=phoenix rising amethyst<br>scheduled_week=%{x}<br>score=%{y}<extra></extra>",
         "legendgroup": "phoenix rising amethyst",
         "line": {
          "color": "#EF553B",
          "dash": "solid"
         },
         "marker": {
          "symbol": "circle"
         },
         "mode": "markers+lines",
         "name": "phoenix rising amethyst",
         "orientation": "v",
         "showlegend": true,
         "x": [
          "2022-01-31T00:00:00",
          "2022-02-07T00:00:00",
          "2022-02-14T00:00:00",
          "2022-02-21T00:00:00",
          "2022-02-28T00:00:00",
          "2022-03-07T00:00:00",
          "2022-03-14T00:00:00",
          "2022-03-21T00:00:00",
          "2022-03-28T00:00:00",
          "2022-04-04T00:00:00"
         ],
         "xaxis": "x2",
         "y": [
          0.0,
          2.0,
          2.0,
          2.0,
          2.0,
          2.0,
          2.0,
          2.0,
          2.0,
          2.0
         ],
         "yaxis": "y2",
         "type": "scatter"
        },
        {
         "hovertemplate": "color=30 seconds to mosh<br>scheduled_week=%{x}<br>score=%{y}<extra></extra>",
         "legendgroup": "30 seconds to mosh",
         "line": {
          "color": "#636efa",
          "dash": "solid"
         },
         "marker": {
          "symbol": "circle"
         },
         "mode": "markers+lines",
         "name": "30 seconds to mosh",
         "orientation": "v",
         "showlegend": true,
         "x": [
          "2022-01-31T00:00:00",
          "2022-02-07T00:00:00",
          "2022-02-14T00:00:00",
          "2022-02-21T00:00:00",
          "2022-02-28T00:00:00",
          "2022-03-07T00:00:00",
          "2022-03-14T00:00:00",
          "2022-03-21T00:00:00",
          "2022-03-28T00:00:00",
          "2022-04-04T00:00:00"
         ],
         "xaxis": "x3",
         "y": [
          1.0,
          3.0,
          6.0,
          9.0,
          12.0,
          15.0,
          15.0,
          18.0,
          22.0,
          23.0
         ],
         "yaxis": "y3",
         "type": "scatter"
        },
        {
         "hovertemplate": "color=fc hong kong<br>scheduled_week=%{x}<br>score=%{y}<extra></extra>",
         "legendgroup": "fc hong kong",
         "line": {
          "color": "#EF553B",
          "dash": "solid"
         },
         "marker": {
          "symbol": "circle"
         },
         "mode": "markers+lines",
         "name": "fc hong kong",
         "orientation": "v",
         "showlegend": true,
         "x": [
          "2022-01-31T00:00:00",
          "2022-02-07T00:00:00",
          "2022-02-14T00:00:00",
          "2022-02-21T00:00:00",
          "2022-02-28T00:00:00",
          "2022-03-07T00:00:00",
          "2022-03-14T00:00:00",
          "2022-03-21T00:00:00",
          "2022-03-28T00:00:00",
          "2022-04-04T00:00:00"
         ],
         "xaxis": "x3",
         "y": [
          0.0,
          1.0,
          4.0,
          4.0,
          8.0,
          14.0,
          15.0,
          15.0,
          18.0,
          19.0
         ],
         "yaxis": "y3",
         "type": "scatter"
        },
        {
         "hovertemplate": "color=ff & the pancakes<br>scheduled_week=%{x}<br>score=%{y}<extra></extra>",
         "legendgroup": "ff & the pancakes",
         "line": {
          "color": "#00cc96",
          "dash": "solid"
         },
         "marker": {
          "symbol": "circle"
         },
         "mode": "markers+lines",
         "name": "ff & the pancakes",
         "orientation": "v",
         "showlegend": true,
         "x": [
          "2022-01-31T00:00:00",
          "2022-02-07T00:00:00",
          "2022-02-14T00:00:00",
          "2022-02-21T00:00:00",
          "2022-02-28T00:00:00",
          "2022-03-07T00:00:00",
          "2022-03-14T00:00:00",
          "2022-03-21T00:00:00",
          "2022-03-28T00:00:00",
          "2022-04-04T00:00:00"
         ],
         "xaxis": "x3",
         "y": [
          3.0,
          5.0,
          7.0,
          10.0,
          13.0,
          14.0,
          17.0,
          19.0,
          22.0,
          25.0
         ],
         "yaxis": "y3",
         "type": "scatter"
        },
        {
         "hovertemplate": "color=hard stuck support group<br>scheduled_week=%{x}<br>score=%{y}<extra></extra>",
         "legendgroup": "hard stuck support group",
         "line": {
          "color": "#ab63fa",
          "dash": "solid"
         },
         "marker": {
          "symbol": "circle"
         },
         "mode": "markers+lines",
         "name": "hard stuck support group",
         "orientation": "v",
         "showlegend": true,
         "x": [
          "2022-01-31T00:00:00",
          "2022-02-07T00:00:00",
          "2022-02-14T00:00:00",
          "2022-02-21T00:00:00",
          "2022-02-28T00:00:00",
          "2022-03-07T00:00:00",
          "2022-03-14T00:00:00",
          "2022-03-21T00:00:00",
          "2022-03-28T00:00:00",
          "2022-04-04T00:00:00"
         ],
         "xaxis": "x3",
         "y": [
          3.0,
          3.0,
          6.0,
          9.0,
          12.0,
          12.0,
          13.0,
          13.0,
          16.0,
          22.0
         ],
         "yaxis": "y3",
         "type": "scatter"
        },
        {
         "hovertemplate": "color=icc queens<br>scheduled_week=%{x}<br>score=%{y}<extra></extra>",
         "legendgroup": "icc queens",
         "line": {
          "color": "#FFA15A",
          "dash": "solid"
         },
         "marker": {
          "symbol": "circle"
         },
         "mode": "markers+lines",
         "name": "icc queens",
         "orientation": "v",
         "showlegend": true,
         "x": [
          "2022-01-31T00:00:00",
          "2022-02-07T00:00:00",
          "2022-02-14T00:00:00",
          "2022-02-21T00:00:00",
          "2022-02-28T00:00:00",
          "2022-03-07T00:00:00",
          "2022-03-14T00:00:00",
          "2022-03-21T00:00:00",
          "2022-03-28T00:00:00",
          "2022-04-04T00:00:00"
         ],
         "xaxis": "x3",
         "y": [
          2.0,
          4.0,
          4.0,
          4.0,
          10.0,
          12.0,
          12.0,
          15.0,
          15.0,
          17.0
         ],
         "yaxis": "y3",
         "type": "scatter"
        },
        {
         "hovertemplate": "color=macro machines<br>scheduled_week=%{x}<br>score=%{y}<extra></extra>",
         "legendgroup": "macro machines",
         "line": {
          "color": "#19d3f3",
          "dash": "solid"
         },
         "marker": {
          "symbol": "circle"
         },
         "mode": "markers+lines",
         "name": "macro machines",
         "orientation": "v",
         "showlegend": true,
         "x": [
          "2022-01-31T00:00:00",
          "2022-02-07T00:00:00",
          "2022-02-14T00:00:00",
          "2022-02-21T00:00:00",
          "2022-02-28T00:00:00",
          "2022-03-07T00:00:00",
          "2022-03-21T00:00:00",
          "2022-03-28T00:00:00",
          "2022-04-04T00:00:00"
         ],
         "xaxis": "x3",
         "y": [
          6.0,
          9.0,
          10.0,
          13.0,
          15.0,
          19.0,
          19.0,
          24.0,
          27.0
         ],
         "yaxis": "y3",
         "type": "scatter"
        },
        {
         "hovertemplate": "color=regen rebel<br>scheduled_week=%{x}<br>score=%{y}<extra></extra>",
         "legendgroup": "regen rebel",
         "line": {
          "color": "#FF6692",
          "dash": "solid"
         },
         "marker": {
          "symbol": "circle"
         },
         "mode": "markers+lines",
         "name": "regen rebel",
         "orientation": "v",
         "showlegend": true,
         "x": [
          "2022-01-31T00:00:00",
          "2022-02-07T00:00:00",
          "2022-02-14T00:00:00",
          "2022-02-21T00:00:00",
          "2022-02-28T00:00:00",
          "2022-03-07T00:00:00",
          "2022-03-14T00:00:00",
          "2022-03-21T00:00:00",
          "2022-03-28T00:00:00"
         ],
         "xaxis": "x3",
         "y": [
          5.0,
          8.0,
          11.0,
          14.0,
          17.0,
          19.0,
          24.0,
          27.0,
          33.0
         ],
         "yaxis": "y3",
         "type": "scatter"
        },
        {
         "hovertemplate": "color=souls in slowmo<br>scheduled_week=%{x}<br>score=%{y}<extra></extra>",
         "legendgroup": "souls in slowmo",
         "line": {
          "color": "#B6E880",
          "dash": "solid"
         },
         "marker": {
          "symbol": "circle"
         },
         "mode": "markers+lines",
         "name": "souls in slowmo",
         "orientation": "v",
         "showlegend": true,
         "x": [
          "2022-01-31T00:00:00",
          "2022-02-07T00:00:00",
          "2022-02-14T00:00:00",
          "2022-02-28T00:00:00",
          "2022-03-07T00:00:00",
          "2022-03-14T00:00:00",
          "2022-03-21T00:00:00",
          "2022-03-28T00:00:00",
          "2022-04-04T00:00:00"
         ],
         "xaxis": "x3",
         "y": [
          1.0,
          5.0,
          8.0,
          11.0,
          14.0,
          20.0,
          23.0,
          26.0,
          28.0
         ],
         "yaxis": "y3",
         "type": "scatter"
        },
        {
         "hovertemplate": "color=beyonce gnolls<br>scheduled_week=%{x}<br>score=%{y}<extra></extra>",
         "legendgroup": "beyonce gnolls",
         "line": {
          "color": "#636efa",
          "dash": "solid"
         },
         "marker": {
          "symbol": "circle"
         },
         "mode": "markers+lines",
         "name": "beyonce gnolls",
         "orientation": "v",
         "showlegend": true,
         "x": [
          "2022-01-31T00:00:00",
          "2022-02-07T00:00:00",
          "2022-02-14T00:00:00",
          "2022-02-21T00:00:00",
          "2022-02-28T00:00:00",
          "2022-03-07T00:00:00",
          "2022-03-14T00:00:00",
          "2022-03-28T00:00:00",
          "2022-04-04T00:00:00"
         ],
         "xaxis": "x4",
         "y": [
          1.0,
          4.0,
          4.0,
          4.0,
          5.0,
          5.0,
          5.0,
          8.0,
          8.0
         ],
         "yaxis": "y4",
         "type": "scatter"
        },
        {
         "hovertemplate": "color=frostbite<br>scheduled_week=%{x}<br>score=%{y}<extra></extra>",
         "legendgroup": "frostbite",
         "line": {
          "color": "#EF553B",
          "dash": "solid"
         },
         "marker": {
          "symbol": "circle"
         },
         "mode": "markers+lines",
         "name": "frostbite",
         "orientation": "v",
         "showlegend": true,
         "x": [
          "2022-01-31T00:00:00",
          "2022-02-07T00:00:00",
          "2022-02-14T00:00:00",
          "2022-02-21T00:00:00",
          "2022-02-28T00:00:00",
          "2022-03-07T00:00:00",
          "2022-03-14T00:00:00",
          "2022-03-21T00:00:00",
          "2022-03-28T00:00:00",
          "2022-04-04T00:00:00"
         ],
         "xaxis": "x4",
         "y": [
          3.0,
          3.0,
          3.0,
          5.0,
          8.0,
          8.0,
          11.0,
          14.0,
          14.0,
          14.0
         ],
         "yaxis": "y4",
         "type": "scatter"
        },
        {
         "hovertemplate": "color=o7 chromium<br>scheduled_week=%{x}<br>score=%{y}<extra></extra>",
         "legendgroup": "o7 chromium",
         "line": {
          "color": "#00cc96",
          "dash": "solid"
         },
         "marker": {
          "symbol": "circle"
         },
         "mode": "markers+lines",
         "name": "o7 chromium",
         "orientation": "v",
         "showlegend": true,
         "x": [
          "2022-01-31T00:00:00",
          "2022-02-07T00:00:00",
          "2022-02-14T00:00:00",
          "2022-02-21T00:00:00",
          "2022-02-28T00:00:00",
          "2022-03-07T00:00:00",
          "2022-03-14T00:00:00",
          "2022-03-21T00:00:00",
          "2022-03-28T00:00:00",
          "2022-04-04T00:00:00"
         ],
         "xaxis": "x4",
         "y": [
          0.0,
          1.0,
          4.0,
          4.0,
          4.0,
          7.0,
          7.0,
          7.0,
          7.0,
          7.0
         ],
         "yaxis": "y4",
         "type": "scatter"
        },
        {
         "hovertemplate": "color=phoenix rising sapphire (withdrawn) (withdrawn)<br>scheduled_week=%{x}<br>score=%{y}<extra></extra>",
         "legendgroup": "phoenix rising sapphire (withdrawn) (withdrawn)",
         "line": {
          "color": "#ab63fa",
          "dash": "solid"
         },
         "marker": {
          "symbol": "circle"
         },
         "mode": "markers+lines",
         "name": "phoenix rising sapphire (withdrawn) (withdrawn)",
         "orientation": "v",
         "showlegend": true,
         "x": [
          "2022-01-31T00:00:00",
          "2022-02-07T00:00:00",
          "2022-02-14T00:00:00",
          "2022-02-21T00:00:00",
          "2022-02-28T00:00:00",
          "2022-03-07T00:00:00"
         ],
         "xaxis": "x4",
         "y": [
          0.0,
          0.0,
          0.0,
          0.0,
          0.0,
          0.0
         ],
         "yaxis": "y4",
         "type": "scatter"
        },
        {
         "hovertemplate": "color=ycmyccast6:returnoftheking<br>scheduled_week=%{x}<br>score=%{y}<extra></extra>",
         "legendgroup": "ycmyccast6:returnoftheking",
         "line": {
          "color": "#FFA15A",
          "dash": "solid"
         },
         "marker": {
          "symbol": "circle"
         },
         "mode": "markers+lines",
         "name": "ycmyccast6:returnoftheking",
         "orientation": "v",
         "showlegend": true,
         "x": [
          "2022-01-31T00:00:00",
          "2022-02-14T00:00:00",
          "2022-02-21T00:00:00",
          "2022-02-28T00:00:00",
          "2022-03-14T00:00:00",
          "2022-03-21T00:00:00",
          "2022-03-28T00:00:00",
          "2022-04-04T00:00:00"
         ],
         "xaxis": "x4",
         "y": [
          2.0,
          5.0,
          6.0,
          8.0,
          10.0,
          11.0,
          11.0,
          11.0
         ],
         "yaxis": "y4",
         "type": "scatter"
        }
       ],
       "layout": {
        "template": {
         "data": {
          "bar": [
           {
            "error_x": {
             "color": "#2a3f5f"
            },
            "error_y": {
             "color": "#2a3f5f"
            },
            "marker": {
             "line": {
              "color": "#E5ECF6",
              "width": 0.5
             },
             "pattern": {
              "fillmode": "overlay",
              "size": 10,
              "solidity": 0.2
             }
            },
            "type": "bar"
           }
          ],
          "barpolar": [
           {
            "marker": {
             "line": {
              "color": "#E5ECF6",
              "width": 0.5
             },
             "pattern": {
              "fillmode": "overlay",
              "size": 10,
              "solidity": 0.2
             }
            },
            "type": "barpolar"
           }
          ],
          "carpet": [
           {
            "aaxis": {
             "endlinecolor": "#2a3f5f",
             "gridcolor": "white",
             "linecolor": "white",
             "minorgridcolor": "white",
             "startlinecolor": "#2a3f5f"
            },
            "baxis": {
             "endlinecolor": "#2a3f5f",
             "gridcolor": "white",
             "linecolor": "white",
             "minorgridcolor": "white",
             "startlinecolor": "#2a3f5f"
            },
            "type": "carpet"
           }
          ],
          "choropleth": [
           {
            "colorbar": {
             "outlinewidth": 0,
             "ticks": ""
            },
            "type": "choropleth"
           }
          ],
          "contour": [
           {
            "colorbar": {
             "outlinewidth": 0,
             "ticks": ""
            },
            "colorscale": [
             [
              0.0,
              "#0d0887"
             ],
             [
              0.1111111111111111,
              "#46039f"
             ],
             [
              0.2222222222222222,
              "#7201a8"
             ],
             [
              0.3333333333333333,
              "#9c179e"
             ],
             [
              0.4444444444444444,
              "#bd3786"
             ],
             [
              0.5555555555555556,
              "#d8576b"
             ],
             [
              0.6666666666666666,
              "#ed7953"
             ],
             [
              0.7777777777777778,
              "#fb9f3a"
             ],
             [
              0.8888888888888888,
              "#fdca26"
             ],
             [
              1.0,
              "#f0f921"
             ]
            ],
            "type": "contour"
           }
          ],
          "contourcarpet": [
           {
            "colorbar": {
             "outlinewidth": 0,
             "ticks": ""
            },
            "type": "contourcarpet"
           }
          ],
          "heatmap": [
           {
            "colorbar": {
             "outlinewidth": 0,
             "ticks": ""
            },
            "colorscale": [
             [
              0.0,
              "#0d0887"
             ],
             [
              0.1111111111111111,
              "#46039f"
             ],
             [
              0.2222222222222222,
              "#7201a8"
             ],
             [
              0.3333333333333333,
              "#9c179e"
             ],
             [
              0.4444444444444444,
              "#bd3786"
             ],
             [
              0.5555555555555556,
              "#d8576b"
             ],
             [
              0.6666666666666666,
              "#ed7953"
             ],
             [
              0.7777777777777778,
              "#fb9f3a"
             ],
             [
              0.8888888888888888,
              "#fdca26"
             ],
             [
              1.0,
              "#f0f921"
             ]
            ],
            "type": "heatmap"
           }
          ],
          "heatmapgl": [
           {
            "colorbar": {
             "outlinewidth": 0,
             "ticks": ""
            },
            "colorscale": [
             [
              0.0,
              "#0d0887"
             ],
             [
              0.1111111111111111,
              "#46039f"
             ],
             [
              0.2222222222222222,
              "#7201a8"
             ],
             [
              0.3333333333333333,
              "#9c179e"
             ],
             [
              0.4444444444444444,
              "#bd3786"
             ],
             [
              0.5555555555555556,
              "#d8576b"
             ],
             [
              0.6666666666666666,
              "#ed7953"
             ],
             [
              0.7777777777777778,
              "#fb9f3a"
             ],
             [
              0.8888888888888888,
              "#fdca26"
             ],
             [
              1.0,
              "#f0f921"
             ]
            ],
            "type": "heatmapgl"
           }
          ],
          "histogram": [
           {
            "marker": {
             "pattern": {
              "fillmode": "overlay",
              "size": 10,
              "solidity": 0.2
             }
            },
            "type": "histogram"
           }
          ],
          "histogram2d": [
           {
            "colorbar": {
             "outlinewidth": 0,
             "ticks": ""
            },
            "colorscale": [
             [
              0.0,
              "#0d0887"
             ],
             [
              0.1111111111111111,
              "#46039f"
             ],
             [
              0.2222222222222222,
              "#7201a8"
             ],
             [
              0.3333333333333333,
              "#9c179e"
             ],
             [
              0.4444444444444444,
              "#bd3786"
             ],
             [
              0.5555555555555556,
              "#d8576b"
             ],
             [
              0.6666666666666666,
              "#ed7953"
             ],
             [
              0.7777777777777778,
              "#fb9f3a"
             ],
             [
              0.8888888888888888,
              "#fdca26"
             ],
             [
              1.0,
              "#f0f921"
             ]
            ],
            "type": "histogram2d"
           }
          ],
          "histogram2dcontour": [
           {
            "colorbar": {
             "outlinewidth": 0,
             "ticks": ""
            },
            "colorscale": [
             [
              0.0,
              "#0d0887"
             ],
             [
              0.1111111111111111,
              "#46039f"
             ],
             [
              0.2222222222222222,
              "#7201a8"
             ],
             [
              0.3333333333333333,
              "#9c179e"
             ],
             [
              0.4444444444444444,
              "#bd3786"
             ],
             [
              0.5555555555555556,
              "#d8576b"
             ],
             [
              0.6666666666666666,
              "#ed7953"
             ],
             [
              0.7777777777777778,
              "#fb9f3a"
             ],
             [
              0.8888888888888888,
              "#fdca26"
             ],
             [
              1.0,
              "#f0f921"
             ]
            ],
            "type": "histogram2dcontour"
           }
          ],
          "mesh3d": [
           {
            "colorbar": {
             "outlinewidth": 0,
             "ticks": ""
            },
            "type": "mesh3d"
           }
          ],
          "parcoords": [
           {
            "line": {
             "colorbar": {
              "outlinewidth": 0,
              "ticks": ""
             }
            },
            "type": "parcoords"
           }
          ],
          "pie": [
           {
            "automargin": true,
            "type": "pie"
           }
          ],
          "scatter": [
           {
            "marker": {
             "colorbar": {
              "outlinewidth": 0,
              "ticks": ""
             }
            },
            "type": "scatter"
           }
          ],
          "scatter3d": [
           {
            "line": {
             "colorbar": {
              "outlinewidth": 0,
              "ticks": ""
             }
            },
            "marker": {
             "colorbar": {
              "outlinewidth": 0,
              "ticks": ""
             }
            },
            "type": "scatter3d"
           }
          ],
          "scattercarpet": [
           {
            "marker": {
             "colorbar": {
              "outlinewidth": 0,
              "ticks": ""
             }
            },
            "type": "scattercarpet"
           }
          ],
          "scattergeo": [
           {
            "marker": {
             "colorbar": {
              "outlinewidth": 0,
              "ticks": ""
             }
            },
            "type": "scattergeo"
           }
          ],
          "scattergl": [
           {
            "marker": {
             "colorbar": {
              "outlinewidth": 0,
              "ticks": ""
             }
            },
            "type": "scattergl"
           }
          ],
          "scattermapbox": [
           {
            "marker": {
             "colorbar": {
              "outlinewidth": 0,
              "ticks": ""
             }
            },
            "type": "scattermapbox"
           }
          ],
          "scatterpolar": [
           {
            "marker": {
             "colorbar": {
              "outlinewidth": 0,
              "ticks": ""
             }
            },
            "type": "scatterpolar"
           }
          ],
          "scatterpolargl": [
           {
            "marker": {
             "colorbar": {
              "outlinewidth": 0,
              "ticks": ""
             }
            },
            "type": "scatterpolargl"
           }
          ],
          "scatterternary": [
           {
            "marker": {
             "colorbar": {
              "outlinewidth": 0,
              "ticks": ""
             }
            },
            "type": "scatterternary"
           }
          ],
          "surface": [
           {
            "colorbar": {
             "outlinewidth": 0,
             "ticks": ""
            },
            "colorscale": [
             [
              0.0,
              "#0d0887"
             ],
             [
              0.1111111111111111,
              "#46039f"
             ],
             [
              0.2222222222222222,
              "#7201a8"
             ],
             [
              0.3333333333333333,
              "#9c179e"
             ],
             [
              0.4444444444444444,
              "#bd3786"
             ],
             [
              0.5555555555555556,
              "#d8576b"
             ],
             [
              0.6666666666666666,
              "#ed7953"
             ],
             [
              0.7777777777777778,
              "#fb9f3a"
             ],
             [
              0.8888888888888888,
              "#fdca26"
             ],
             [
              1.0,
              "#f0f921"
             ]
            ],
            "type": "surface"
           }
          ],
          "table": [
           {
            "cells": {
             "fill": {
              "color": "#EBF0F8"
             },
             "line": {
              "color": "white"
             }
            },
            "header": {
             "fill": {
              "color": "#C8D4E3"
             },
             "line": {
              "color": "white"
             }
            },
            "type": "table"
           }
          ]
         },
         "layout": {
          "annotationdefaults": {
           "arrowcolor": "#2a3f5f",
           "arrowhead": 0,
           "arrowwidth": 1
          },
          "autotypenumbers": "strict",
          "coloraxis": {
           "colorbar": {
            "outlinewidth": 0,
            "ticks": ""
           }
          },
          "colorscale": {
           "diverging": [
            [
             0,
             "#8e0152"
            ],
            [
             0.1,
             "#c51b7d"
            ],
            [
             0.2,
             "#de77ae"
            ],
            [
             0.3,
             "#f1b6da"
            ],
            [
             0.4,
             "#fde0ef"
            ],
            [
             0.5,
             "#f7f7f7"
            ],
            [
             0.6,
             "#e6f5d0"
            ],
            [
             0.7,
             "#b8e186"
            ],
            [
             0.8,
             "#7fbc41"
            ],
            [
             0.9,
             "#4d9221"
            ],
            [
             1,
             "#276419"
            ]
           ],
           "sequential": [
            [
             0.0,
             "#0d0887"
            ],
            [
             0.1111111111111111,
             "#46039f"
            ],
            [
             0.2222222222222222,
             "#7201a8"
            ],
            [
             0.3333333333333333,
             "#9c179e"
            ],
            [
             0.4444444444444444,
             "#bd3786"
            ],
            [
             0.5555555555555556,
             "#d8576b"
            ],
            [
             0.6666666666666666,
             "#ed7953"
            ],
            [
             0.7777777777777778,
             "#fb9f3a"
            ],
            [
             0.8888888888888888,
             "#fdca26"
            ],
            [
             1.0,
             "#f0f921"
            ]
           ],
           "sequentialminus": [
            [
             0.0,
             "#0d0887"
            ],
            [
             0.1111111111111111,
             "#46039f"
            ],
            [
             0.2222222222222222,
             "#7201a8"
            ],
            [
             0.3333333333333333,
             "#9c179e"
            ],
            [
             0.4444444444444444,
             "#bd3786"
            ],
            [
             0.5555555555555556,
             "#d8576b"
            ],
            [
             0.6666666666666666,
             "#ed7953"
            ],
            [
             0.7777777777777778,
             "#fb9f3a"
            ],
            [
             0.8888888888888888,
             "#fdca26"
            ],
            [
             1.0,
             "#f0f921"
            ]
           ]
          },
          "colorway": [
           "#636efa",
           "#EF553B",
           "#00cc96",
           "#ab63fa",
           "#FFA15A",
           "#19d3f3",
           "#FF6692",
           "#B6E880",
           "#FF97FF",
           "#FECB52"
          ],
          "font": {
           "color": "#2a3f5f"
          },
          "geo": {
           "bgcolor": "white",
           "lakecolor": "white",
           "landcolor": "#E5ECF6",
           "showlakes": true,
           "showland": true,
           "subunitcolor": "white"
          },
          "hoverlabel": {
           "align": "left"
          },
          "hovermode": "closest",
          "mapbox": {
           "style": "light"
          },
          "paper_bgcolor": "white",
          "plot_bgcolor": "#E5ECF6",
          "polar": {
           "angularaxis": {
            "gridcolor": "white",
            "linecolor": "white",
            "ticks": ""
           },
           "bgcolor": "#E5ECF6",
           "radialaxis": {
            "gridcolor": "white",
            "linecolor": "white",
            "ticks": ""
           }
          },
          "scene": {
           "xaxis": {
            "backgroundcolor": "#E5ECF6",
            "gridcolor": "white",
            "gridwidth": 2,
            "linecolor": "white",
            "showbackground": true,
            "ticks": "",
            "zerolinecolor": "white"
           },
           "yaxis": {
            "backgroundcolor": "#E5ECF6",
            "gridcolor": "white",
            "gridwidth": 2,
            "linecolor": "white",
            "showbackground": true,
            "ticks": "",
            "zerolinecolor": "white"
           },
           "zaxis": {
            "backgroundcolor": "#E5ECF6",
            "gridcolor": "white",
            "gridwidth": 2,
            "linecolor": "white",
            "showbackground": true,
            "ticks": "",
            "zerolinecolor": "white"
           }
          },
          "shapedefaults": {
           "line": {
            "color": "#2a3f5f"
           }
          },
          "ternary": {
           "aaxis": {
            "gridcolor": "white",
            "linecolor": "white",
            "ticks": ""
           },
           "baxis": {
            "gridcolor": "white",
            "linecolor": "white",
            "ticks": ""
           },
           "bgcolor": "#E5ECF6",
           "caxis": {
            "gridcolor": "white",
            "linecolor": "white",
            "ticks": ""
           }
          },
          "title": {
           "x": 0.05
          },
          "xaxis": {
           "automargin": true,
           "gridcolor": "white",
           "linecolor": "white",
           "ticks": "",
           "title": {
            "standoff": 15
           },
           "zerolinecolor": "white",
           "zerolinewidth": 2
          },
          "yaxis": {
           "automargin": true,
           "gridcolor": "white",
           "linecolor": "white",
           "ticks": "",
           "title": {
            "standoff": 15
           },
           "zerolinecolor": "white",
           "zerolinewidth": 2
          }
         }
        },
        "xaxis": {
         "anchor": "y",
         "domain": [
          0.0,
          0.44
         ]
        },
        "yaxis": {
         "anchor": "x",
         "domain": [
          0.575,
          1.0
         ]
        },
        "xaxis2": {
         "anchor": "y2",
         "domain": [
          0.54,
          0.98
         ]
        },
        "yaxis2": {
         "anchor": "x2",
         "domain": [
          0.575,
          1.0
         ]
        },
        "xaxis3": {
         "anchor": "y3",
         "domain": [
          0.0,
          0.44
         ]
        },
        "yaxis3": {
         "anchor": "x3",
         "domain": [
          0.0,
          0.425
         ]
        },
        "xaxis4": {
         "anchor": "y4",
         "domain": [
          0.54,
          0.98
         ]
        },
        "yaxis4": {
         "anchor": "x4",
         "domain": [
          0.0,
          0.425
         ]
        },
        "annotations": [
         {
          "font": {
           "size": 16
          },
          "showarrow": false,
          "text": "e-west",
          "textangle": 90,
          "x": 0.98,
          "xanchor": "left",
          "xref": "paper",
          "y": 0.7875,
          "yanchor": "middle",
          "yref": "paper"
         },
         {
          "font": {
           "size": 16
          },
          "showarrow": false,
          "text": "e-east",
          "textangle": 90,
          "x": 0.98,
          "xanchor": "left",
          "xref": "paper",
          "y": 0.2125,
          "yanchor": "middle",
          "yref": "paper"
         }
        ],
        "height": 1000
       },
       "config": {
        "plotlyServerURL": "https://plot.ly"
       }
      },
      "text/html": "<div>                            <div id=\"3630eb62-3025-4189-8710-d0a266b9369c\" class=\"plotly-graph-div\" style=\"height:1000px; width:100%;\"></div>            <script type=\"text/javascript\">                require([\"plotly\"], function(Plotly) {                    window.PLOTLYENV=window.PLOTLYENV || {};                                    if (document.getElementById(\"3630eb62-3025-4189-8710-d0a266b9369c\")) {                    Plotly.newPlot(                        \"3630eb62-3025-4189-8710-d0a266b9369c\",                        [{\"hovertemplate\":\"color=210 blechman street<br>scheduled_week=%{x}<br>score=%{y}<extra></extra>\",\"legendgroup\":\"210 blechman street\",\"line\":{\"color\":\"#636efa\",\"dash\":\"solid\"},\"marker\":{\"symbol\":\"circle\"},\"mode\":\"markers+lines\",\"name\":\"210 blechman street\",\"orientation\":\"v\",\"showlegend\":true,\"x\":[\"2022-01-31T00:00:00\",\"2022-02-07T00:00:00\",\"2022-02-21T00:00:00\",\"2022-02-28T00:00:00\",\"2022-03-07T00:00:00\",\"2022-03-14T00:00:00\",\"2022-03-21T00:00:00\",\"2022-03-28T00:00:00\",\"2022-04-04T00:00:00\"],\"xaxis\":\"x\",\"y\":[3.0,5.0,11.0,13.0,14.0,15.0,15.0,18.0,21.0],\"yaxis\":\"y\",\"type\":\"scatter\"},{\"hovertemplate\":\"color=kingfishers (withdrawn)<br>scheduled_week=%{x}<br>score=%{y}<extra></extra>\",\"legendgroup\":\"kingfishers (withdrawn)\",\"line\":{\"color\":\"#EF553B\",\"dash\":\"solid\"},\"marker\":{\"symbol\":\"circle\"},\"mode\":\"markers+lines\",\"name\":\"kingfishers (withdrawn)\",\"orientation\":\"v\",\"showlegend\":true,\"x\":[\"2022-01-31T00:00:00\",\"2022-02-07T00:00:00\",\"2022-02-21T00:00:00\",\"2022-02-28T00:00:00\",\"2022-03-07T00:00:00\",\"2022-03-14T00:00:00\",\"2022-03-21T00:00:00\",\"2022-03-28T00:00:00\",\"2022-04-04T00:00:00\"],\"xaxis\":\"x\",\"y\":[2.0,4.0,5.0,8.0,9.0,12.0,15.0,16.0,19.0],\"yaxis\":\"y\",\"type\":\"scatter\"},{\"hovertemplate\":\"color=liquid metal<br>scheduled_week=%{x}<br>score=%{y}<extra></extra>\",\"legendgroup\":\"liquid metal\",\"line\":{\"color\":\"#00cc96\",\"dash\":\"solid\"},\"marker\":{\"symbol\":\"circle\"},\"mode\":\"markers+lines\",\"name\":\"liquid metal\",\"orientation\":\"v\",\"showlegend\":true,\"x\":[\"2022-01-31T00:00:00\",\"2022-02-07T00:00:00\",\"2022-02-14T00:00:00\",\"2022-02-21T00:00:00\",\"2022-02-28T00:00:00\",\"2022-03-07T00:00:00\",\"2022-03-14T00:00:00\",\"2022-03-21T00:00:00\",\"2022-03-28T00:00:00\",\"2022-04-04T00:00:00\"],\"xaxis\":\"x\",\"y\":[0.0,1.0,4.0,7.0,7.0,9.0,9.0,12.0,15.0,15.0],\"yaxis\":\"y\",\"type\":\"scatter\"},{\"hovertemplate\":\"color=the eh team<br>scheduled_week=%{x}<br>score=%{y}<extra></extra>\",\"legendgroup\":\"the eh team\",\"line\":{\"color\":\"#ab63fa\",\"dash\":\"solid\"},\"marker\":{\"symbol\":\"circle\"},\"mode\":\"markers+lines\",\"name\":\"the eh team\",\"orientation\":\"v\",\"showlegend\":true,\"x\":[\"2022-01-31T00:00:00\",\"2022-02-07T00:00:00\",\"2022-02-14T00:00:00\",\"2022-02-21T00:00:00\",\"2022-02-28T00:00:00\",\"2022-03-07T00:00:00\",\"2022-03-14T00:00:00\",\"2022-03-21T00:00:00\",\"2022-03-28T00:00:00\",\"2022-04-04T00:00:00\"],\"xaxis\":\"x\",\"y\":[3.0,4.0,7.0,9.0,12.0,15.0,17.0,20.0,22.0,25.0],\"yaxis\":\"y\",\"type\":\"scatter\"},{\"hovertemplate\":\"color=creepy crawly spiders<br>scheduled_week=%{x}<br>score=%{y}<extra></extra>\",\"legendgroup\":\"creepy crawly spiders\",\"line\":{\"color\":\"#636efa\",\"dash\":\"solid\"},\"marker\":{\"symbol\":\"circle\"},\"mode\":\"markers+lines\",\"name\":\"creepy crawly spiders\",\"orientation\":\"v\",\"showlegend\":true,\"x\":[\"2022-01-31T00:00:00\",\"2022-02-07T00:00:00\",\"2022-02-14T00:00:00\",\"2022-02-21T00:00:00\",\"2022-02-28T00:00:00\",\"2022-03-07T00:00:00\",\"2022-03-14T00:00:00\",\"2022-03-21T00:00:00\",\"2022-03-28T00:00:00\",\"2022-04-04T00:00:00\"],\"xaxis\":\"x2\",\"y\":[1.0,2.0,2.0,2.0,3.0,5.0,8.0,8.0,8.0,8.0],\"yaxis\":\"y2\",\"type\":\"scatter\"},{\"hovertemplate\":\"color=phoenix rising amethyst<br>scheduled_week=%{x}<br>score=%{y}<extra></extra>\",\"legendgroup\":\"phoenix rising amethyst\",\"line\":{\"color\":\"#EF553B\",\"dash\":\"solid\"},\"marker\":{\"symbol\":\"circle\"},\"mode\":\"markers+lines\",\"name\":\"phoenix rising amethyst\",\"orientation\":\"v\",\"showlegend\":true,\"x\":[\"2022-01-31T00:00:00\",\"2022-02-07T00:00:00\",\"2022-02-14T00:00:00\",\"2022-02-21T00:00:00\",\"2022-02-28T00:00:00\",\"2022-03-07T00:00:00\",\"2022-03-14T00:00:00\",\"2022-03-21T00:00:00\",\"2022-03-28T00:00:00\",\"2022-04-04T00:00:00\"],\"xaxis\":\"x2\",\"y\":[0.0,2.0,2.0,2.0,2.0,2.0,2.0,2.0,2.0,2.0],\"yaxis\":\"y2\",\"type\":\"scatter\"},{\"hovertemplate\":\"color=30 seconds to mosh<br>scheduled_week=%{x}<br>score=%{y}<extra></extra>\",\"legendgroup\":\"30 seconds to mosh\",\"line\":{\"color\":\"#636efa\",\"dash\":\"solid\"},\"marker\":{\"symbol\":\"circle\"},\"mode\":\"markers+lines\",\"name\":\"30 seconds to mosh\",\"orientation\":\"v\",\"showlegend\":true,\"x\":[\"2022-01-31T00:00:00\",\"2022-02-07T00:00:00\",\"2022-02-14T00:00:00\",\"2022-02-21T00:00:00\",\"2022-02-28T00:00:00\",\"2022-03-07T00:00:00\",\"2022-03-14T00:00:00\",\"2022-03-21T00:00:00\",\"2022-03-28T00:00:00\",\"2022-04-04T00:00:00\"],\"xaxis\":\"x3\",\"y\":[1.0,3.0,6.0,9.0,12.0,15.0,15.0,18.0,22.0,23.0],\"yaxis\":\"y3\",\"type\":\"scatter\"},{\"hovertemplate\":\"color=fc hong kong<br>scheduled_week=%{x}<br>score=%{y}<extra></extra>\",\"legendgroup\":\"fc hong kong\",\"line\":{\"color\":\"#EF553B\",\"dash\":\"solid\"},\"marker\":{\"symbol\":\"circle\"},\"mode\":\"markers+lines\",\"name\":\"fc hong kong\",\"orientation\":\"v\",\"showlegend\":true,\"x\":[\"2022-01-31T00:00:00\",\"2022-02-07T00:00:00\",\"2022-02-14T00:00:00\",\"2022-02-21T00:00:00\",\"2022-02-28T00:00:00\",\"2022-03-07T00:00:00\",\"2022-03-14T00:00:00\",\"2022-03-21T00:00:00\",\"2022-03-28T00:00:00\",\"2022-04-04T00:00:00\"],\"xaxis\":\"x3\",\"y\":[0.0,1.0,4.0,4.0,8.0,14.0,15.0,15.0,18.0,19.0],\"yaxis\":\"y3\",\"type\":\"scatter\"},{\"hovertemplate\":\"color=ff & the pancakes<br>scheduled_week=%{x}<br>score=%{y}<extra></extra>\",\"legendgroup\":\"ff & the pancakes\",\"line\":{\"color\":\"#00cc96\",\"dash\":\"solid\"},\"marker\":{\"symbol\":\"circle\"},\"mode\":\"markers+lines\",\"name\":\"ff & the pancakes\",\"orientation\":\"v\",\"showlegend\":true,\"x\":[\"2022-01-31T00:00:00\",\"2022-02-07T00:00:00\",\"2022-02-14T00:00:00\",\"2022-02-21T00:00:00\",\"2022-02-28T00:00:00\",\"2022-03-07T00:00:00\",\"2022-03-14T00:00:00\",\"2022-03-21T00:00:00\",\"2022-03-28T00:00:00\",\"2022-04-04T00:00:00\"],\"xaxis\":\"x3\",\"y\":[3.0,5.0,7.0,10.0,13.0,14.0,17.0,19.0,22.0,25.0],\"yaxis\":\"y3\",\"type\":\"scatter\"},{\"hovertemplate\":\"color=hard stuck support group<br>scheduled_week=%{x}<br>score=%{y}<extra></extra>\",\"legendgroup\":\"hard stuck support group\",\"line\":{\"color\":\"#ab63fa\",\"dash\":\"solid\"},\"marker\":{\"symbol\":\"circle\"},\"mode\":\"markers+lines\",\"name\":\"hard stuck support group\",\"orientation\":\"v\",\"showlegend\":true,\"x\":[\"2022-01-31T00:00:00\",\"2022-02-07T00:00:00\",\"2022-02-14T00:00:00\",\"2022-02-21T00:00:00\",\"2022-02-28T00:00:00\",\"2022-03-07T00:00:00\",\"2022-03-14T00:00:00\",\"2022-03-21T00:00:00\",\"2022-03-28T00:00:00\",\"2022-04-04T00:00:00\"],\"xaxis\":\"x3\",\"y\":[3.0,3.0,6.0,9.0,12.0,12.0,13.0,13.0,16.0,22.0],\"yaxis\":\"y3\",\"type\":\"scatter\"},{\"hovertemplate\":\"color=icc queens<br>scheduled_week=%{x}<br>score=%{y}<extra></extra>\",\"legendgroup\":\"icc queens\",\"line\":{\"color\":\"#FFA15A\",\"dash\":\"solid\"},\"marker\":{\"symbol\":\"circle\"},\"mode\":\"markers+lines\",\"name\":\"icc queens\",\"orientation\":\"v\",\"showlegend\":true,\"x\":[\"2022-01-31T00:00:00\",\"2022-02-07T00:00:00\",\"2022-02-14T00:00:00\",\"2022-02-21T00:00:00\",\"2022-02-28T00:00:00\",\"2022-03-07T00:00:00\",\"2022-03-14T00:00:00\",\"2022-03-21T00:00:00\",\"2022-03-28T00:00:00\",\"2022-04-04T00:00:00\"],\"xaxis\":\"x3\",\"y\":[2.0,4.0,4.0,4.0,10.0,12.0,12.0,15.0,15.0,17.0],\"yaxis\":\"y3\",\"type\":\"scatter\"},{\"hovertemplate\":\"color=macro machines<br>scheduled_week=%{x}<br>score=%{y}<extra></extra>\",\"legendgroup\":\"macro machines\",\"line\":{\"color\":\"#19d3f3\",\"dash\":\"solid\"},\"marker\":{\"symbol\":\"circle\"},\"mode\":\"markers+lines\",\"name\":\"macro machines\",\"orientation\":\"v\",\"showlegend\":true,\"x\":[\"2022-01-31T00:00:00\",\"2022-02-07T00:00:00\",\"2022-02-14T00:00:00\",\"2022-02-21T00:00:00\",\"2022-02-28T00:00:00\",\"2022-03-07T00:00:00\",\"2022-03-21T00:00:00\",\"2022-03-28T00:00:00\",\"2022-04-04T00:00:00\"],\"xaxis\":\"x3\",\"y\":[6.0,9.0,10.0,13.0,15.0,19.0,19.0,24.0,27.0],\"yaxis\":\"y3\",\"type\":\"scatter\"},{\"hovertemplate\":\"color=regen rebel<br>scheduled_week=%{x}<br>score=%{y}<extra></extra>\",\"legendgroup\":\"regen rebel\",\"line\":{\"color\":\"#FF6692\",\"dash\":\"solid\"},\"marker\":{\"symbol\":\"circle\"},\"mode\":\"markers+lines\",\"name\":\"regen rebel\",\"orientation\":\"v\",\"showlegend\":true,\"x\":[\"2022-01-31T00:00:00\",\"2022-02-07T00:00:00\",\"2022-02-14T00:00:00\",\"2022-02-21T00:00:00\",\"2022-02-28T00:00:00\",\"2022-03-07T00:00:00\",\"2022-03-14T00:00:00\",\"2022-03-21T00:00:00\",\"2022-03-28T00:00:00\"],\"xaxis\":\"x3\",\"y\":[5.0,8.0,11.0,14.0,17.0,19.0,24.0,27.0,33.0],\"yaxis\":\"y3\",\"type\":\"scatter\"},{\"hovertemplate\":\"color=souls in slowmo<br>scheduled_week=%{x}<br>score=%{y}<extra></extra>\",\"legendgroup\":\"souls in slowmo\",\"line\":{\"color\":\"#B6E880\",\"dash\":\"solid\"},\"marker\":{\"symbol\":\"circle\"},\"mode\":\"markers+lines\",\"name\":\"souls in slowmo\",\"orientation\":\"v\",\"showlegend\":true,\"x\":[\"2022-01-31T00:00:00\",\"2022-02-07T00:00:00\",\"2022-02-14T00:00:00\",\"2022-02-28T00:00:00\",\"2022-03-07T00:00:00\",\"2022-03-14T00:00:00\",\"2022-03-21T00:00:00\",\"2022-03-28T00:00:00\",\"2022-04-04T00:00:00\"],\"xaxis\":\"x3\",\"y\":[1.0,5.0,8.0,11.0,14.0,20.0,23.0,26.0,28.0],\"yaxis\":\"y3\",\"type\":\"scatter\"},{\"hovertemplate\":\"color=beyonce gnolls<br>scheduled_week=%{x}<br>score=%{y}<extra></extra>\",\"legendgroup\":\"beyonce gnolls\",\"line\":{\"color\":\"#636efa\",\"dash\":\"solid\"},\"marker\":{\"symbol\":\"circle\"},\"mode\":\"markers+lines\",\"name\":\"beyonce gnolls\",\"orientation\":\"v\",\"showlegend\":true,\"x\":[\"2022-01-31T00:00:00\",\"2022-02-07T00:00:00\",\"2022-02-14T00:00:00\",\"2022-02-21T00:00:00\",\"2022-02-28T00:00:00\",\"2022-03-07T00:00:00\",\"2022-03-14T00:00:00\",\"2022-03-28T00:00:00\",\"2022-04-04T00:00:00\"],\"xaxis\":\"x4\",\"y\":[1.0,4.0,4.0,4.0,5.0,5.0,5.0,8.0,8.0],\"yaxis\":\"y4\",\"type\":\"scatter\"},{\"hovertemplate\":\"color=frostbite<br>scheduled_week=%{x}<br>score=%{y}<extra></extra>\",\"legendgroup\":\"frostbite\",\"line\":{\"color\":\"#EF553B\",\"dash\":\"solid\"},\"marker\":{\"symbol\":\"circle\"},\"mode\":\"markers+lines\",\"name\":\"frostbite\",\"orientation\":\"v\",\"showlegend\":true,\"x\":[\"2022-01-31T00:00:00\",\"2022-02-07T00:00:00\",\"2022-02-14T00:00:00\",\"2022-02-21T00:00:00\",\"2022-02-28T00:00:00\",\"2022-03-07T00:00:00\",\"2022-03-14T00:00:00\",\"2022-03-21T00:00:00\",\"2022-03-28T00:00:00\",\"2022-04-04T00:00:00\"],\"xaxis\":\"x4\",\"y\":[3.0,3.0,3.0,5.0,8.0,8.0,11.0,14.0,14.0,14.0],\"yaxis\":\"y4\",\"type\":\"scatter\"},{\"hovertemplate\":\"color=o7 chromium<br>scheduled_week=%{x}<br>score=%{y}<extra></extra>\",\"legendgroup\":\"o7 chromium\",\"line\":{\"color\":\"#00cc96\",\"dash\":\"solid\"},\"marker\":{\"symbol\":\"circle\"},\"mode\":\"markers+lines\",\"name\":\"o7 chromium\",\"orientation\":\"v\",\"showlegend\":true,\"x\":[\"2022-01-31T00:00:00\",\"2022-02-07T00:00:00\",\"2022-02-14T00:00:00\",\"2022-02-21T00:00:00\",\"2022-02-28T00:00:00\",\"2022-03-07T00:00:00\",\"2022-03-14T00:00:00\",\"2022-03-21T00:00:00\",\"2022-03-28T00:00:00\",\"2022-04-04T00:00:00\"],\"xaxis\":\"x4\",\"y\":[0.0,1.0,4.0,4.0,4.0,7.0,7.0,7.0,7.0,7.0],\"yaxis\":\"y4\",\"type\":\"scatter\"},{\"hovertemplate\":\"color=phoenix rising sapphire (withdrawn) (withdrawn)<br>scheduled_week=%{x}<br>score=%{y}<extra></extra>\",\"legendgroup\":\"phoenix rising sapphire (withdrawn) (withdrawn)\",\"line\":{\"color\":\"#ab63fa\",\"dash\":\"solid\"},\"marker\":{\"symbol\":\"circle\"},\"mode\":\"markers+lines\",\"name\":\"phoenix rising sapphire (withdrawn) (withdrawn)\",\"orientation\":\"v\",\"showlegend\":true,\"x\":[\"2022-01-31T00:00:00\",\"2022-02-07T00:00:00\",\"2022-02-14T00:00:00\",\"2022-02-21T00:00:00\",\"2022-02-28T00:00:00\",\"2022-03-07T00:00:00\"],\"xaxis\":\"x4\",\"y\":[0.0,0.0,0.0,0.0,0.0,0.0],\"yaxis\":\"y4\",\"type\":\"scatter\"},{\"hovertemplate\":\"color=ycmyccast6:returnoftheking<br>scheduled_week=%{x}<br>score=%{y}<extra></extra>\",\"legendgroup\":\"ycmyccast6:returnoftheking\",\"line\":{\"color\":\"#FFA15A\",\"dash\":\"solid\"},\"marker\":{\"symbol\":\"circle\"},\"mode\":\"markers+lines\",\"name\":\"ycmyccast6:returnoftheking\",\"orientation\":\"v\",\"showlegend\":true,\"x\":[\"2022-01-31T00:00:00\",\"2022-02-14T00:00:00\",\"2022-02-21T00:00:00\",\"2022-02-28T00:00:00\",\"2022-03-14T00:00:00\",\"2022-03-21T00:00:00\",\"2022-03-28T00:00:00\",\"2022-04-04T00:00:00\"],\"xaxis\":\"x4\",\"y\":[2.0,5.0,6.0,8.0,10.0,11.0,11.0,11.0],\"yaxis\":\"y4\",\"type\":\"scatter\"}],                        {\"template\":{\"data\":{\"bar\":[{\"error_x\":{\"color\":\"#2a3f5f\"},\"error_y\":{\"color\":\"#2a3f5f\"},\"marker\":{\"line\":{\"color\":\"#E5ECF6\",\"width\":0.5},\"pattern\":{\"fillmode\":\"overlay\",\"size\":10,\"solidity\":0.2}},\"type\":\"bar\"}],\"barpolar\":[{\"marker\":{\"line\":{\"color\":\"#E5ECF6\",\"width\":0.5},\"pattern\":{\"fillmode\":\"overlay\",\"size\":10,\"solidity\":0.2}},\"type\":\"barpolar\"}],\"carpet\":[{\"aaxis\":{\"endlinecolor\":\"#2a3f5f\",\"gridcolor\":\"white\",\"linecolor\":\"white\",\"minorgridcolor\":\"white\",\"startlinecolor\":\"#2a3f5f\"},\"baxis\":{\"endlinecolor\":\"#2a3f5f\",\"gridcolor\":\"white\",\"linecolor\":\"white\",\"minorgridcolor\":\"white\",\"startlinecolor\":\"#2a3f5f\"},\"type\":\"carpet\"}],\"choropleth\":[{\"colorbar\":{\"outlinewidth\":0,\"ticks\":\"\"},\"type\":\"choropleth\"}],\"contour\":[{\"colorbar\":{\"outlinewidth\":0,\"ticks\":\"\"},\"colorscale\":[[0.0,\"#0d0887\"],[0.1111111111111111,\"#46039f\"],[0.2222222222222222,\"#7201a8\"],[0.3333333333333333,\"#9c179e\"],[0.4444444444444444,\"#bd3786\"],[0.5555555555555556,\"#d8576b\"],[0.6666666666666666,\"#ed7953\"],[0.7777777777777778,\"#fb9f3a\"],[0.8888888888888888,\"#fdca26\"],[1.0,\"#f0f921\"]],\"type\":\"contour\"}],\"contourcarpet\":[{\"colorbar\":{\"outlinewidth\":0,\"ticks\":\"\"},\"type\":\"contourcarpet\"}],\"heatmap\":[{\"colorbar\":{\"outlinewidth\":0,\"ticks\":\"\"},\"colorscale\":[[0.0,\"#0d0887\"],[0.1111111111111111,\"#46039f\"],[0.2222222222222222,\"#7201a8\"],[0.3333333333333333,\"#9c179e\"],[0.4444444444444444,\"#bd3786\"],[0.5555555555555556,\"#d8576b\"],[0.6666666666666666,\"#ed7953\"],[0.7777777777777778,\"#fb9f3a\"],[0.8888888888888888,\"#fdca26\"],[1.0,\"#f0f921\"]],\"type\":\"heatmap\"}],\"heatmapgl\":[{\"colorbar\":{\"outlinewidth\":0,\"ticks\":\"\"},\"colorscale\":[[0.0,\"#0d0887\"],[0.1111111111111111,\"#46039f\"],[0.2222222222222222,\"#7201a8\"],[0.3333333333333333,\"#9c179e\"],[0.4444444444444444,\"#bd3786\"],[0.5555555555555556,\"#d8576b\"],[0.6666666666666666,\"#ed7953\"],[0.7777777777777778,\"#fb9f3a\"],[0.8888888888888888,\"#fdca26\"],[1.0,\"#f0f921\"]],\"type\":\"heatmapgl\"}],\"histogram\":[{\"marker\":{\"pattern\":{\"fillmode\":\"overlay\",\"size\":10,\"solidity\":0.2}},\"type\":\"histogram\"}],\"histogram2d\":[{\"colorbar\":{\"outlinewidth\":0,\"ticks\":\"\"},\"colorscale\":[[0.0,\"#0d0887\"],[0.1111111111111111,\"#46039f\"],[0.2222222222222222,\"#7201a8\"],[0.3333333333333333,\"#9c179e\"],[0.4444444444444444,\"#bd3786\"],[0.5555555555555556,\"#d8576b\"],[0.6666666666666666,\"#ed7953\"],[0.7777777777777778,\"#fb9f3a\"],[0.8888888888888888,\"#fdca26\"],[1.0,\"#f0f921\"]],\"type\":\"histogram2d\"}],\"histogram2dcontour\":[{\"colorbar\":{\"outlinewidth\":0,\"ticks\":\"\"},\"colorscale\":[[0.0,\"#0d0887\"],[0.1111111111111111,\"#46039f\"],[0.2222222222222222,\"#7201a8\"],[0.3333333333333333,\"#9c179e\"],[0.4444444444444444,\"#bd3786\"],[0.5555555555555556,\"#d8576b\"],[0.6666666666666666,\"#ed7953\"],[0.7777777777777778,\"#fb9f3a\"],[0.8888888888888888,\"#fdca26\"],[1.0,\"#f0f921\"]],\"type\":\"histogram2dcontour\"}],\"mesh3d\":[{\"colorbar\":{\"outlinewidth\":0,\"ticks\":\"\"},\"type\":\"mesh3d\"}],\"parcoords\":[{\"line\":{\"colorbar\":{\"outlinewidth\":0,\"ticks\":\"\"}},\"type\":\"parcoords\"}],\"pie\":[{\"automargin\":true,\"type\":\"pie\"}],\"scatter\":[{\"marker\":{\"colorbar\":{\"outlinewidth\":0,\"ticks\":\"\"}},\"type\":\"scatter\"}],\"scatter3d\":[{\"line\":{\"colorbar\":{\"outlinewidth\":0,\"ticks\":\"\"}},\"marker\":{\"colorbar\":{\"outlinewidth\":0,\"ticks\":\"\"}},\"type\":\"scatter3d\"}],\"scattercarpet\":[{\"marker\":{\"colorbar\":{\"outlinewidth\":0,\"ticks\":\"\"}},\"type\":\"scattercarpet\"}],\"scattergeo\":[{\"marker\":{\"colorbar\":{\"outlinewidth\":0,\"ticks\":\"\"}},\"type\":\"scattergeo\"}],\"scattergl\":[{\"marker\":{\"colorbar\":{\"outlinewidth\":0,\"ticks\":\"\"}},\"type\":\"scattergl\"}],\"scattermapbox\":[{\"marker\":{\"colorbar\":{\"outlinewidth\":0,\"ticks\":\"\"}},\"type\":\"scattermapbox\"}],\"scatterpolar\":[{\"marker\":{\"colorbar\":{\"outlinewidth\":0,\"ticks\":\"\"}},\"type\":\"scatterpolar\"}],\"scatterpolargl\":[{\"marker\":{\"colorbar\":{\"outlinewidth\":0,\"ticks\":\"\"}},\"type\":\"scatterpolargl\"}],\"scatterternary\":[{\"marker\":{\"colorbar\":{\"outlinewidth\":0,\"ticks\":\"\"}},\"type\":\"scatterternary\"}],\"surface\":[{\"colorbar\":{\"outlinewidth\":0,\"ticks\":\"\"},\"colorscale\":[[0.0,\"#0d0887\"],[0.1111111111111111,\"#46039f\"],[0.2222222222222222,\"#7201a8\"],[0.3333333333333333,\"#9c179e\"],[0.4444444444444444,\"#bd3786\"],[0.5555555555555556,\"#d8576b\"],[0.6666666666666666,\"#ed7953\"],[0.7777777777777778,\"#fb9f3a\"],[0.8888888888888888,\"#fdca26\"],[1.0,\"#f0f921\"]],\"type\":\"surface\"}],\"table\":[{\"cells\":{\"fill\":{\"color\":\"#EBF0F8\"},\"line\":{\"color\":\"white\"}},\"header\":{\"fill\":{\"color\":\"#C8D4E3\"},\"line\":{\"color\":\"white\"}},\"type\":\"table\"}]},\"layout\":{\"annotationdefaults\":{\"arrowcolor\":\"#2a3f5f\",\"arrowhead\":0,\"arrowwidth\":1},\"autotypenumbers\":\"strict\",\"coloraxis\":{\"colorbar\":{\"outlinewidth\":0,\"ticks\":\"\"}},\"colorscale\":{\"diverging\":[[0,\"#8e0152\"],[0.1,\"#c51b7d\"],[0.2,\"#de77ae\"],[0.3,\"#f1b6da\"],[0.4,\"#fde0ef\"],[0.5,\"#f7f7f7\"],[0.6,\"#e6f5d0\"],[0.7,\"#b8e186\"],[0.8,\"#7fbc41\"],[0.9,\"#4d9221\"],[1,\"#276419\"]],\"sequential\":[[0.0,\"#0d0887\"],[0.1111111111111111,\"#46039f\"],[0.2222222222222222,\"#7201a8\"],[0.3333333333333333,\"#9c179e\"],[0.4444444444444444,\"#bd3786\"],[0.5555555555555556,\"#d8576b\"],[0.6666666666666666,\"#ed7953\"],[0.7777777777777778,\"#fb9f3a\"],[0.8888888888888888,\"#fdca26\"],[1.0,\"#f0f921\"]],\"sequentialminus\":[[0.0,\"#0d0887\"],[0.1111111111111111,\"#46039f\"],[0.2222222222222222,\"#7201a8\"],[0.3333333333333333,\"#9c179e\"],[0.4444444444444444,\"#bd3786\"],[0.5555555555555556,\"#d8576b\"],[0.6666666666666666,\"#ed7953\"],[0.7777777777777778,\"#fb9f3a\"],[0.8888888888888888,\"#fdca26\"],[1.0,\"#f0f921\"]]},\"colorway\":[\"#636efa\",\"#EF553B\",\"#00cc96\",\"#ab63fa\",\"#FFA15A\",\"#19d3f3\",\"#FF6692\",\"#B6E880\",\"#FF97FF\",\"#FECB52\"],\"font\":{\"color\":\"#2a3f5f\"},\"geo\":{\"bgcolor\":\"white\",\"lakecolor\":\"white\",\"landcolor\":\"#E5ECF6\",\"showlakes\":true,\"showland\":true,\"subunitcolor\":\"white\"},\"hoverlabel\":{\"align\":\"left\"},\"hovermode\":\"closest\",\"mapbox\":{\"style\":\"light\"},\"paper_bgcolor\":\"white\",\"plot_bgcolor\":\"#E5ECF6\",\"polar\":{\"angularaxis\":{\"gridcolor\":\"white\",\"linecolor\":\"white\",\"ticks\":\"\"},\"bgcolor\":\"#E5ECF6\",\"radialaxis\":{\"gridcolor\":\"white\",\"linecolor\":\"white\",\"ticks\":\"\"}},\"scene\":{\"xaxis\":{\"backgroundcolor\":\"#E5ECF6\",\"gridcolor\":\"white\",\"gridwidth\":2,\"linecolor\":\"white\",\"showbackground\":true,\"ticks\":\"\",\"zerolinecolor\":\"white\"},\"yaxis\":{\"backgroundcolor\":\"#E5ECF6\",\"gridcolor\":\"white\",\"gridwidth\":2,\"linecolor\":\"white\",\"showbackground\":true,\"ticks\":\"\",\"zerolinecolor\":\"white\"},\"zaxis\":{\"backgroundcolor\":\"#E5ECF6\",\"gridcolor\":\"white\",\"gridwidth\":2,\"linecolor\":\"white\",\"showbackground\":true,\"ticks\":\"\",\"zerolinecolor\":\"white\"}},\"shapedefaults\":{\"line\":{\"color\":\"#2a3f5f\"}},\"ternary\":{\"aaxis\":{\"gridcolor\":\"white\",\"linecolor\":\"white\",\"ticks\":\"\"},\"baxis\":{\"gridcolor\":\"white\",\"linecolor\":\"white\",\"ticks\":\"\"},\"bgcolor\":\"#E5ECF6\",\"caxis\":{\"gridcolor\":\"white\",\"linecolor\":\"white\",\"ticks\":\"\"}},\"title\":{\"x\":0.05},\"xaxis\":{\"automargin\":true,\"gridcolor\":\"white\",\"linecolor\":\"white\",\"ticks\":\"\",\"title\":{\"standoff\":15},\"zerolinecolor\":\"white\",\"zerolinewidth\":2},\"yaxis\":{\"automargin\":true,\"gridcolor\":\"white\",\"linecolor\":\"white\",\"ticks\":\"\",\"title\":{\"standoff\":15},\"zerolinecolor\":\"white\",\"zerolinewidth\":2}}},\"xaxis\":{\"anchor\":\"y\",\"domain\":[0.0,0.44]},\"yaxis\":{\"anchor\":\"x\",\"domain\":[0.575,1.0]},\"xaxis2\":{\"anchor\":\"y2\",\"domain\":[0.54,0.98]},\"yaxis2\":{\"anchor\":\"x2\",\"domain\":[0.575,1.0]},\"xaxis3\":{\"anchor\":\"y3\",\"domain\":[0.0,0.44]},\"yaxis3\":{\"anchor\":\"x3\",\"domain\":[0.0,0.425]},\"xaxis4\":{\"anchor\":\"y4\",\"domain\":[0.54,0.98]},\"yaxis4\":{\"anchor\":\"x4\",\"domain\":[0.0,0.425]},\"annotations\":[{\"font\":{\"size\":16},\"showarrow\":false,\"text\":\"e-west\",\"textangle\":90,\"x\":0.98,\"xanchor\":\"left\",\"xref\":\"paper\",\"y\":0.7875,\"yanchor\":\"middle\",\"yref\":\"paper\"},{\"font\":{\"size\":16},\"showarrow\":false,\"text\":\"e-east\",\"textangle\":90,\"x\":0.98,\"xanchor\":\"left\",\"xref\":\"paper\",\"y\":0.2125,\"yanchor\":\"middle\",\"yref\":\"paper\"}],\"height\":1000},                        {\"responsive\": true}                    ).then(function(){\n                            \nvar gd = document.getElementById('3630eb62-3025-4189-8710-d0a266b9369c');\nvar x = new MutationObserver(function (mutations, observer) {{\n        var display = window.getComputedStyle(gd).display;\n        if (!display || display === 'none') {{\n            console.log([gd, 'removed!']);\n            Plotly.purge(gd);\n            observer.disconnect();\n        }}\n}});\n\n// Listen for the removal of the full notebook cells\nvar notebookContainer = gd.closest('#notebook-container');\nif (notebookContainer) {{\n    x.observe(notebookContainer, {childList: true});\n}}\n\n// Listen for the clearing of the current output cell\nvar outputEl = gd.closest('.output');\nif (outputEl) {{\n    x.observe(outputEl, {childList: true});\n}}\n\n                        })                };                });            </script>        </div>"
     },
     "metadata": {},
     "output_type": "display_data"
    }
   ],
   "source": [
    "divs = [ div for div in x['division_concat'].unique() ]\n",
    "\n",
    "fig = make_subplots(rows=len(divs), cols=2,row_titles=divs)\n",
    "\n",
    "for div in divs:\n",
    "  idx = divs.index(div) + 1\n",
    "  x_df = x[x['division_concat'] == div]\n",
    "  max_df = x_df.groupby(['team_name'])['score'].max().reset_index()\n",
    "  max_score = x_df.score.max() / 2\n",
    "  a = x_df[x_df.team_name.isin(max_df[max_df['score'] > max_score].team_name.to_list())]\n",
    "  b = x_df[x_df.team_name.isin(max_df[max_df['score'] < max_score].team_name.to_list())]\n",
    "\n",
    "  a.set_index('team_name', inplace=True)\n",
    "  b.set_index('team_name', inplace=True)\n",
    "\n",
    "  fig1 = px.line(a, x=\"scheduled_week\", y=\"score\", color=a.index.to_list(), markers=True, title=div)\n",
    "  fig2 = px.line(b, x=\"scheduled_week\", y=\"score\", color=b.index.to_list(), markers=True, title=div)\n",
    "\n",
    "  for d in fig1.data:\n",
    "    fig.add_trace(d, row=idx, col=1)\n",
    "\n",
    "  for d in fig2.data:\n",
    "    fig.add_trace(d, row=idx, col=2)\n",
    "\n",
    "fig.layout.update({'height':1000})\n",
    "fig.show()"
   ],
   "metadata": {
    "collapsed": false,
    "pycharm": {
     "name": "#%%\n"
    }
   }
  },
  {
   "cell_type": "code",
   "execution_count": 500,
   "outputs": [],
   "source": [
    "fig.write_html(\"file.html\")"
   ],
   "metadata": {
    "collapsed": false,
    "pycharm": {
     "name": "#%%\n"
    }
   }
  },
  {
   "cell_type": "code",
   "execution_count": 500,
   "outputs": [],
   "source": [],
   "metadata": {
    "collapsed": false,
    "pycharm": {
     "name": "#%%\n"
    }
   }
  }
 ],
 "metadata": {
  "kernelspec": {
   "display_name": "Python 3",
   "language": "python",
   "name": "python3"
  },
  "language_info": {
   "codemirror_mode": {
    "name": "ipython",
    "version": 2
   },
   "file_extension": ".py",
   "mimetype": "text/x-python",
   "name": "python",
   "nbconvert_exporter": "python",
   "pygments_lexer": "ipython2",
   "version": "2.7.6"
  }
 },
 "nbformat": 4,
 "nbformat_minor": 0
}