{
 "cells": [
  {
   "cell_type": "code",
   "execution_count": 1,
   "metadata": {
    "collapsed": true,
    "pycharm": {
     "name": "#%%\n"
    }
   },
   "outputs": [],
   "source": [
    "import os\n",
    "import sqlalchemy as sa\n",
    "import pandas as pd\n",
    "from sample_data import stat_vectors, comp_style_vectors, map_style_vectors, roles"
   ]
  },
  {
   "cell_type": "code",
   "execution_count": 5,
   "outputs": [
    {
     "data": {
      "text/plain": "      HeroName  WaveClear  Engage  Peel  TeamSustain  SelfSustain SoloLane  \\\n0      Abathur        2.0     0.0   2.0          5.0          0.0    Maybe   \n1       Alarak        2.0     5.0   5.0          0.0          2.0    Maybe   \n2  Alexstrasza        4.0     1.0   2.0          7.0          5.0    Maybe   \n3          Ana        2.0     2.0   4.0          7.0          3.0       No   \n4       Anduin        3.0     2.0   4.0          6.0          5.0       No   \n\n   Fight  Macro  Artillery  Protect  Pick  \n0    4.0    8.0        1.0      7.0   2.0  \n1    5.0    3.0        2.0      4.0   9.0  \n2    7.0    3.0        4.0      5.0   3.0  \n3    4.0    4.0        5.0      7.0   8.0  \n4    4.0    3.0        3.0      7.0   7.0  ",
      "text/html": "<div>\n<style scoped>\n    .dataframe tbody tr th:only-of-type {\n        vertical-align: middle;\n    }\n\n    .dataframe tbody tr th {\n        vertical-align: top;\n    }\n\n    .dataframe thead th {\n        text-align: right;\n    }\n</style>\n<table border=\"1\" class=\"dataframe\">\n  <thead>\n    <tr style=\"text-align: right;\">\n      <th></th>\n      <th>HeroName</th>\n      <th>WaveClear</th>\n      <th>Engage</th>\n      <th>Peel</th>\n      <th>TeamSustain</th>\n      <th>SelfSustain</th>\n      <th>SoloLane</th>\n      <th>Fight</th>\n      <th>Macro</th>\n      <th>Artillery</th>\n      <th>Protect</th>\n      <th>Pick</th>\n    </tr>\n  </thead>\n  <tbody>\n    <tr>\n      <th>0</th>\n      <td>Abathur</td>\n      <td>2.0</td>\n      <td>0.0</td>\n      <td>2.0</td>\n      <td>5.0</td>\n      <td>0.0</td>\n      <td>Maybe</td>\n      <td>4.0</td>\n      <td>8.0</td>\n      <td>1.0</td>\n      <td>7.0</td>\n      <td>2.0</td>\n    </tr>\n    <tr>\n      <th>1</th>\n      <td>Alarak</td>\n      <td>2.0</td>\n      <td>5.0</td>\n      <td>5.0</td>\n      <td>0.0</td>\n      <td>2.0</td>\n      <td>Maybe</td>\n      <td>5.0</td>\n      <td>3.0</td>\n      <td>2.0</td>\n      <td>4.0</td>\n      <td>9.0</td>\n    </tr>\n    <tr>\n      <th>2</th>\n      <td>Alexstrasza</td>\n      <td>4.0</td>\n      <td>1.0</td>\n      <td>2.0</td>\n      <td>7.0</td>\n      <td>5.0</td>\n      <td>Maybe</td>\n      <td>7.0</td>\n      <td>3.0</td>\n      <td>4.0</td>\n      <td>5.0</td>\n      <td>3.0</td>\n    </tr>\n    <tr>\n      <th>3</th>\n      <td>Ana</td>\n      <td>2.0</td>\n      <td>2.0</td>\n      <td>4.0</td>\n      <td>7.0</td>\n      <td>3.0</td>\n      <td>No</td>\n      <td>4.0</td>\n      <td>4.0</td>\n      <td>5.0</td>\n      <td>7.0</td>\n      <td>8.0</td>\n    </tr>\n    <tr>\n      <th>4</th>\n      <td>Anduin</td>\n      <td>3.0</td>\n      <td>2.0</td>\n      <td>4.0</td>\n      <td>6.0</td>\n      <td>5.0</td>\n      <td>No</td>\n      <td>4.0</td>\n      <td>3.0</td>\n      <td>3.0</td>\n      <td>7.0</td>\n      <td>7.0</td>\n    </tr>\n  </tbody>\n</table>\n</div>"
     },
     "execution_count": 5,
     "metadata": {},
     "output_type": "execute_result"
    }
   ],
   "source": [
    "BASE_DIR = os.path.abspath(os.path.dirname('../'))\n",
    "\n",
    "SERVER='192.168.0.245'\n",
    "SQLSERVER_DATABASE='lookingglass'\n",
    "SQLSERVER_USER='thecaptain'\n",
    "SQLSERVER_PASSWORD='99Redbal00ns'\n",
    "PORT=1433\n",
    "SQLSERVER_BASE_URI = 'mssql+pyodbc://{USER}:{PWD}@{SERVER}:{PORT}/{DATABASE}?driver=ODBC+Driver+17+for+SQL+Server'\n",
    "\n",
    "engine = sa.create_engine(SQLSERVER_BASE_URI.format(\n",
    "  SERVER=SERVER,\n",
    "  DATABASE=SQLSERVER_DATABASE,\n",
    "  USER=SQLSERVER_USER,\n",
    "  PWD=SQLSERVER_PASSWORD,\n",
    "  PORT=PORT\n",
    "))\n",
    "\n",
    "hero_stats_path = f'{BASE_DIR}\\\\app\\sample_data\\hero_stats.csv'\n",
    "comfort_path = f'{BASE_DIR}\\\\app\\sample_data\\player_comfort.csv'"
   ],
   "metadata": {
    "collapsed": false,
    "pycharm": {
     "name": "#%%\n"
    }
   }
  },
  {
   "cell_type": "code",
   "execution_count": 8,
   "outputs": [
    {
     "data": {
      "text/plain": "-1"
     },
     "execution_count": 8,
     "metadata": {},
     "output_type": "execute_result"
    }
   ],
   "source": [
    "comfort_df = pd.read_csv(comfort_path)\n",
    "hero_stats_df = pd.read_csv(hero_stats_path)\n",
    "\n",
    "hero_stats_df['SoloLaneCode'] = hero_stats_df\n",
    "\n",
    "comfort_df.to_sql('PlayerComfort', con=engine, if_exists='replace')\n",
    "hero_stats_df.to_sql('HeroStats', con=engine, if_exists='replace')"
   ],
   "metadata": {
    "collapsed": false,
    "pycharm": {
     "name": "#%%\n"
    }
   }
  },
  {
   "cell_type": "code",
   "execution_count": 15,
   "outputs": [
    {
     "data": {
      "text/plain": "   index     HeroName  WaveClear  Engage  Peel  TeamSustain  SelfSustain  \\\n0      0      Abathur        2.0     0.0   2.0          5.0          0.0   \n1      1       Alarak        2.0     5.0   5.0          0.0          2.0   \n2      2  Alexstrasza        4.0     1.0   2.0          7.0          5.0   \n3      3          Ana        2.0     2.0   4.0          7.0          3.0   \n4      4       Anduin        3.0     2.0   4.0          6.0          5.0   \n\n  SoloLane  Fight  Macro  Artillery  Protect  Pick  \n0    Maybe    4.0    8.0        1.0      7.0   2.0  \n1    Maybe    5.0    3.0        2.0      4.0   9.0  \n2    Maybe    7.0    3.0        4.0      5.0   3.0  \n3       No    4.0    4.0        5.0      7.0   8.0  \n4       No    4.0    3.0        3.0      7.0   7.0  ",
      "text/html": "<div>\n<style scoped>\n    .dataframe tbody tr th:only-of-type {\n        vertical-align: middle;\n    }\n\n    .dataframe tbody tr th {\n        vertical-align: top;\n    }\n\n    .dataframe thead th {\n        text-align: right;\n    }\n</style>\n<table border=\"1\" class=\"dataframe\">\n  <thead>\n    <tr style=\"text-align: right;\">\n      <th></th>\n      <th>index</th>\n      <th>HeroName</th>\n      <th>WaveClear</th>\n      <th>Engage</th>\n      <th>Peel</th>\n      <th>TeamSustain</th>\n      <th>SelfSustain</th>\n      <th>SoloLane</th>\n      <th>Fight</th>\n      <th>Macro</th>\n      <th>Artillery</th>\n      <th>Protect</th>\n      <th>Pick</th>\n    </tr>\n  </thead>\n  <tbody>\n    <tr>\n      <th>0</th>\n      <td>0</td>\n      <td>Abathur</td>\n      <td>2.0</td>\n      <td>0.0</td>\n      <td>2.0</td>\n      <td>5.0</td>\n      <td>0.0</td>\n      <td>Maybe</td>\n      <td>4.0</td>\n      <td>8.0</td>\n      <td>1.0</td>\n      <td>7.0</td>\n      <td>2.0</td>\n    </tr>\n    <tr>\n      <th>1</th>\n      <td>1</td>\n      <td>Alarak</td>\n      <td>2.0</td>\n      <td>5.0</td>\n      <td>5.0</td>\n      <td>0.0</td>\n      <td>2.0</td>\n      <td>Maybe</td>\n      <td>5.0</td>\n      <td>3.0</td>\n      <td>2.0</td>\n      <td>4.0</td>\n      <td>9.0</td>\n    </tr>\n    <tr>\n      <th>2</th>\n      <td>2</td>\n      <td>Alexstrasza</td>\n      <td>4.0</td>\n      <td>1.0</td>\n      <td>2.0</td>\n      <td>7.0</td>\n      <td>5.0</td>\n      <td>Maybe</td>\n      <td>7.0</td>\n      <td>3.0</td>\n      <td>4.0</td>\n      <td>5.0</td>\n      <td>3.0</td>\n    </tr>\n    <tr>\n      <th>3</th>\n      <td>3</td>\n      <td>Ana</td>\n      <td>2.0</td>\n      <td>2.0</td>\n      <td>4.0</td>\n      <td>7.0</td>\n      <td>3.0</td>\n      <td>No</td>\n      <td>4.0</td>\n      <td>4.0</td>\n      <td>5.0</td>\n      <td>7.0</td>\n      <td>8.0</td>\n    </tr>\n    <tr>\n      <th>4</th>\n      <td>4</td>\n      <td>Anduin</td>\n      <td>3.0</td>\n      <td>2.0</td>\n      <td>4.0</td>\n      <td>6.0</td>\n      <td>5.0</td>\n      <td>No</td>\n      <td>4.0</td>\n      <td>3.0</td>\n      <td>3.0</td>\n      <td>7.0</td>\n      <td>7.0</td>\n    </tr>\n  </tbody>\n</table>\n</div>"
     },
     "execution_count": 15,
     "metadata": {},
     "output_type": "execute_result"
    }
   ],
   "source": [
    "meta_data = sa.MetaData(bind=engine)\n",
    "sa.MetaData.reflect(meta_data)\n",
    "\n",
    "Player=meta_data.tables['Player']\n",
    "Hero=meta_data.tables['Hero']\n",
    "PlayerComfort=meta_data.tables['PlayerComfort']\n",
    "HeroStats=meta_data.tables['HeroStats']\n",
    "\n",
    "hero_query = sa.select(\n",
    "    Hero.c.HeroId\n",
    "  , Hero.c.HeroName\n",
    "  , Hero.c.NewRole\n",
    ")\n",
    "\n",
    "player_query = sa.select(\n",
    "  Player.c.PlayerId\n",
    "  , Player.c.Battletag\n",
    "  , Player.c.AccountLevel\n",
    "  , Player.c.BlizzardId\n",
    "  , Player.c.MasterPlayerId\n",
    ")\n",
    "\n",
    "comfort_query = sa.select(PlayerComfort)\n",
    "\n",
    "hero_stats_query = sa.select(HeroStats)\n",
    "\n",
    "player_df = pd.read_sql(sql = player_query, con = engine)\n",
    "hero_df = pd.read_sql(sql = hero_query, con = engine)\n",
    "comfort_df = pd.read_sql(sql = comfort_query, con = engine)\n",
    "hero_stats_df = pd.read_sql(sql = hero_stats_query, con = engine)\n",
    "\n",
    "hero_stats_df.head(5)"
   ],
   "metadata": {
    "collapsed": false,
    "pycharm": {
     "name": "#%%\n"
    }
   }
  },
  {
   "cell_type": "code",
   "execution_count": 17,
   "outputs": [],
   "source": [
    "hero_df['HeroRoleCode'] = hero_df.NewRole.astype('category').cat.codes\n",
    "hero_stats_df['SoloLaneCode'] = hero_stats_df.SoloLane.astype('category').cat.codes"
   ],
   "metadata": {
    "collapsed": false,
    "pycharm": {
     "name": "#%%\n"
    }
   }
  },
  {
   "cell_type": "code",
   "execution_count": 19,
   "outputs": [
    {
     "data": {
      "text/plain": "       HeroName          NewRole  Bruiser  Healer  Melee Assassin  \\\n0       Abathur          Support      0.0     0.0             0.0   \n1        Alarak   Melee Assassin      0.0     0.0             1.0   \n2   Alexstrasza           Healer      0.0     1.0             0.0   \n3           Ana           Healer      0.0     1.0             0.0   \n4        Anduin           Healer      0.0     1.0             0.0   \n..          ...              ...      ...     ...             ...   \n85         Yrel          Bruiser      1.0     0.0             0.0   \n86       Zagara  Ranged Assassin      0.0     0.0             0.0   \n87        Zarya          Support      0.0     0.0             0.0   \n88      Zeratul   Melee Assassin      0.0     0.0             1.0   \n89      Zul'jin  Ranged Assassin      0.0     0.0             0.0   \n\n    Ranged Assassin  Support  Tank  \n0               0.0      1.0   0.0  \n1               0.0      0.0   0.0  \n2               0.0      0.0   0.0  \n3               0.0      0.0   0.0  \n4               0.0      0.0   0.0  \n..              ...      ...   ...  \n85              0.0      0.0   0.0  \n86              1.0      0.0   0.0  \n87              0.0      1.0   0.0  \n88              0.0      0.0   0.0  \n89              1.0      0.0   0.0  \n\n[90 rows x 8 columns]",
      "text/html": "<div>\n<style scoped>\n    .dataframe tbody tr th:only-of-type {\n        vertical-align: middle;\n    }\n\n    .dataframe tbody tr th {\n        vertical-align: top;\n    }\n\n    .dataframe thead th {\n        text-align: right;\n    }\n</style>\n<table border=\"1\" class=\"dataframe\">\n  <thead>\n    <tr style=\"text-align: right;\">\n      <th></th>\n      <th>HeroName</th>\n      <th>NewRole</th>\n      <th>Bruiser</th>\n      <th>Healer</th>\n      <th>Melee Assassin</th>\n      <th>Ranged Assassin</th>\n      <th>Support</th>\n      <th>Tank</th>\n    </tr>\n  </thead>\n  <tbody>\n    <tr>\n      <th>0</th>\n      <td>Abathur</td>\n      <td>Support</td>\n      <td>0.0</td>\n      <td>0.0</td>\n      <td>0.0</td>\n      <td>0.0</td>\n      <td>1.0</td>\n      <td>0.0</td>\n    </tr>\n    <tr>\n      <th>1</th>\n      <td>Alarak</td>\n      <td>Melee Assassin</td>\n      <td>0.0</td>\n      <td>0.0</td>\n      <td>1.0</td>\n      <td>0.0</td>\n      <td>0.0</td>\n      <td>0.0</td>\n    </tr>\n    <tr>\n      <th>2</th>\n      <td>Alexstrasza</td>\n      <td>Healer</td>\n      <td>0.0</td>\n      <td>1.0</td>\n      <td>0.0</td>\n      <td>0.0</td>\n      <td>0.0</td>\n      <td>0.0</td>\n    </tr>\n    <tr>\n      <th>3</th>\n      <td>Ana</td>\n      <td>Healer</td>\n      <td>0.0</td>\n      <td>1.0</td>\n      <td>0.0</td>\n      <td>0.0</td>\n      <td>0.0</td>\n      <td>0.0</td>\n    </tr>\n    <tr>\n      <th>4</th>\n      <td>Anduin</td>\n      <td>Healer</td>\n      <td>0.0</td>\n      <td>1.0</td>\n      <td>0.0</td>\n      <td>0.0</td>\n      <td>0.0</td>\n      <td>0.0</td>\n    </tr>\n    <tr>\n      <th>...</th>\n      <td>...</td>\n      <td>...</td>\n      <td>...</td>\n      <td>...</td>\n      <td>...</td>\n      <td>...</td>\n      <td>...</td>\n      <td>...</td>\n    </tr>\n    <tr>\n      <th>85</th>\n      <td>Yrel</td>\n      <td>Bruiser</td>\n      <td>1.0</td>\n      <td>0.0</td>\n      <td>0.0</td>\n      <td>0.0</td>\n      <td>0.0</td>\n      <td>0.0</td>\n    </tr>\n    <tr>\n      <th>86</th>\n      <td>Zagara</td>\n      <td>Ranged Assassin</td>\n      <td>0.0</td>\n      <td>0.0</td>\n      <td>0.0</td>\n      <td>1.0</td>\n      <td>0.0</td>\n      <td>0.0</td>\n    </tr>\n    <tr>\n      <th>87</th>\n      <td>Zarya</td>\n      <td>Support</td>\n      <td>0.0</td>\n      <td>0.0</td>\n      <td>0.0</td>\n      <td>0.0</td>\n      <td>1.0</td>\n      <td>0.0</td>\n    </tr>\n    <tr>\n      <th>88</th>\n      <td>Zeratul</td>\n      <td>Melee Assassin</td>\n      <td>0.0</td>\n      <td>0.0</td>\n      <td>1.0</td>\n      <td>0.0</td>\n      <td>0.0</td>\n      <td>0.0</td>\n    </tr>\n    <tr>\n      <th>89</th>\n      <td>Zul'jin</td>\n      <td>Ranged Assassin</td>\n      <td>0.0</td>\n      <td>0.0</td>\n      <td>0.0</td>\n      <td>1.0</td>\n      <td>0.0</td>\n      <td>0.0</td>\n    </tr>\n  </tbody>\n</table>\n<p>90 rows × 8 columns</p>\n</div>"
     },
     "execution_count": 19,
     "metadata": {},
     "output_type": "execute_result"
    }
   ],
   "source": [
    "hero_role_df = pd.DataFrame(columns=['HeroName', 'NewRole'])\n",
    "hero_role_df = hero_role_df.astype(dtype= {\"HeroName\":\"object\" })\n",
    "hero_role_df.HeroName = hero_df['HeroName']\n",
    "hero_role_df.NewRole = hero_df[hero_role_df['HeroName'] == hero_df['HeroName']].NewRole\n",
    "\n",
    "for col in roles:\n",
    "  hero_role_df.loc[(hero_role_df.NewRole == col), col] = 1\n",
    "\n",
    "hero_role_df.loc[(hero_role_df.HeroName == 'Varian'), 'Tank'] = 1\n",
    "hero_role_df.loc[(hero_role_df.HeroName == 'Varian'), 'Melee Assassin'] = 1\n",
    "\n",
    "hero_role_df.fillna(0, inplace=True)\n",
    "hero_role_df.head(100)"
   ],
   "metadata": {
    "collapsed": false,
    "pycharm": {
     "name": "#%%\n"
    }
   }
  },
  {
   "cell_type": "code",
   "execution_count": 20,
   "outputs": [
    {
     "name": "stdout",
     "output_type": "stream",
     "text": [
      "Map Count - 23\n",
      "Hero Count - 90\n"
     ]
    }
   ],
   "source": [
    "print(f'Map Count - {map_df.shape[0]}')\n",
    "print(f'Hero Count - {hero_df.shape[0]}')"
   ],
   "metadata": {
    "collapsed": false,
    "pycharm": {
     "name": "#%%\n"
    }
   }
  },
  {
   "cell_type": "code",
   "execution_count": 21,
   "outputs": [],
   "source": [
    "stats_df = pd.read_csv(hero_stats_path)\n",
    "players_df = pd.read_csv(comfort_path)\n",
    "\n",
    "stats_df.set_index('HeroName', inplace=True)\n",
    "players_df.set_index(['HeroName'], inplace=True)"
   ],
   "metadata": {
    "collapsed": false,
    "pycharm": {
     "name": "#%%\n"
    }
   }
  },
  {
   "cell_type": "code",
   "execution_count": 22,
   "outputs": [],
   "source": [
    "df = players_df.join(stats_df, on='HeroName', how='inner')\n",
    "df = pd.merge(df, hero_role_df, left_on=['HeroName', 'NewRole'], right_on=['HeroName', 'NewRole'], how='inner')"
   ],
   "metadata": {
    "collapsed": false,
    "pycharm": {
     "name": "#%%\n"
    }
   }
  },
  {
   "cell_type": "code",
   "execution_count": 25,
   "outputs": [
    {
     "data": {
      "text/plain": "       ComfortScore   WaveClear      Engage        Peel  TeamSustain  \\\ncount    486.000000  486.000000  486.000000  486.000000   486.000000   \nmean       5.174897    4.950617    3.543210    4.172840     1.777778   \nstd        3.080412    1.785864    1.989971    1.994571     2.603725   \nmin        0.000000    2.000000    0.000000    0.000000     0.000000   \n25%        3.000000    4.000000    2.000000    3.000000     0.000000   \n50%        5.000000    5.000000    4.000000    4.000000     0.000000   \n75%        8.000000    6.000000    5.000000    6.000000     3.000000   \nmax       10.000000    9.000000    8.000000    9.000000     8.000000   \n\n       SelfSustain       Fight       Macro   Artillery     Protect  \\\ncount   486.000000  486.000000  486.000000  486.000000  486.000000   \nmean      3.382716    5.111111    4.938272    4.790123    4.358025   \nstd       2.383281    1.572968    2.118231    1.905279    1.922039   \nmin       0.000000    1.000000    0.000000    1.000000    1.000000   \n25%       1.000000    4.000000    3.000000    3.000000    3.000000   \n50%       4.000000    5.000000    5.000000    4.000000    4.000000   \n75%       5.000000    6.000000    7.000000    6.000000    6.000000   \nmax       8.000000    8.000000    9.000000   10.000000   10.000000   \n\n             Pick     Bruiser      Healer  Melee Assassin  Ranged Assassin  \\\ncount  486.000000  486.000000  486.000000      486.000000       486.000000   \nmean     5.506173    0.209877    0.185185        0.123457         0.308642   \nstd      1.946438    0.407640    0.388848        0.329300         0.462409   \nmin      2.000000    0.000000    0.000000        0.000000         0.000000   \n25%      4.000000    0.000000    0.000000        0.000000         0.000000   \n50%      6.000000    0.000000    0.000000        0.000000         0.000000   \n75%      7.000000    0.000000    0.000000        0.000000         1.000000   \nmax      9.000000    1.000000    1.000000        1.000000         1.000000   \n\n          Support        Tank  \ncount  486.000000  486.000000  \nmean     0.049383    0.148148  \nstd      0.216889    0.355613  \nmin      0.000000    0.000000  \n25%      0.000000    0.000000  \n50%      0.000000    0.000000  \n75%      0.000000    0.000000  \nmax      1.000000    1.000000  ",
      "text/html": "<div>\n<style scoped>\n    .dataframe tbody tr th:only-of-type {\n        vertical-align: middle;\n    }\n\n    .dataframe tbody tr th {\n        vertical-align: top;\n    }\n\n    .dataframe thead th {\n        text-align: right;\n    }\n</style>\n<table border=\"1\" class=\"dataframe\">\n  <thead>\n    <tr style=\"text-align: right;\">\n      <th></th>\n      <th>ComfortScore</th>\n      <th>WaveClear</th>\n      <th>Engage</th>\n      <th>Peel</th>\n      <th>TeamSustain</th>\n      <th>SelfSustain</th>\n      <th>Fight</th>\n      <th>Macro</th>\n      <th>Artillery</th>\n      <th>Protect</th>\n      <th>Pick</th>\n      <th>Bruiser</th>\n      <th>Healer</th>\n      <th>Melee Assassin</th>\n      <th>Ranged Assassin</th>\n      <th>Support</th>\n      <th>Tank</th>\n    </tr>\n  </thead>\n  <tbody>\n    <tr>\n      <th>count</th>\n      <td>486.000000</td>\n      <td>486.000000</td>\n      <td>486.000000</td>\n      <td>486.000000</td>\n      <td>486.000000</td>\n      <td>486.000000</td>\n      <td>486.000000</td>\n      <td>486.000000</td>\n      <td>486.000000</td>\n      <td>486.000000</td>\n      <td>486.000000</td>\n      <td>486.000000</td>\n      <td>486.000000</td>\n      <td>486.000000</td>\n      <td>486.000000</td>\n      <td>486.000000</td>\n      <td>486.000000</td>\n    </tr>\n    <tr>\n      <th>mean</th>\n      <td>5.174897</td>\n      <td>4.950617</td>\n      <td>3.543210</td>\n      <td>4.172840</td>\n      <td>1.777778</td>\n      <td>3.382716</td>\n      <td>5.111111</td>\n      <td>4.938272</td>\n      <td>4.790123</td>\n      <td>4.358025</td>\n      <td>5.506173</td>\n      <td>0.209877</td>\n      <td>0.185185</td>\n      <td>0.123457</td>\n      <td>0.308642</td>\n      <td>0.049383</td>\n      <td>0.148148</td>\n    </tr>\n    <tr>\n      <th>std</th>\n      <td>3.080412</td>\n      <td>1.785864</td>\n      <td>1.989971</td>\n      <td>1.994571</td>\n      <td>2.603725</td>\n      <td>2.383281</td>\n      <td>1.572968</td>\n      <td>2.118231</td>\n      <td>1.905279</td>\n      <td>1.922039</td>\n      <td>1.946438</td>\n      <td>0.407640</td>\n      <td>0.388848</td>\n      <td>0.329300</td>\n      <td>0.462409</td>\n      <td>0.216889</td>\n      <td>0.355613</td>\n    </tr>\n    <tr>\n      <th>min</th>\n      <td>0.000000</td>\n      <td>2.000000</td>\n      <td>0.000000</td>\n      <td>0.000000</td>\n      <td>0.000000</td>\n      <td>0.000000</td>\n      <td>1.000000</td>\n      <td>0.000000</td>\n      <td>1.000000</td>\n      <td>1.000000</td>\n      <td>2.000000</td>\n      <td>0.000000</td>\n      <td>0.000000</td>\n      <td>0.000000</td>\n      <td>0.000000</td>\n      <td>0.000000</td>\n      <td>0.000000</td>\n    </tr>\n    <tr>\n      <th>25%</th>\n      <td>3.000000</td>\n      <td>4.000000</td>\n      <td>2.000000</td>\n      <td>3.000000</td>\n      <td>0.000000</td>\n      <td>1.000000</td>\n      <td>4.000000</td>\n      <td>3.000000</td>\n      <td>3.000000</td>\n      <td>3.000000</td>\n      <td>4.000000</td>\n      <td>0.000000</td>\n      <td>0.000000</td>\n      <td>0.000000</td>\n      <td>0.000000</td>\n      <td>0.000000</td>\n      <td>0.000000</td>\n    </tr>\n    <tr>\n      <th>50%</th>\n      <td>5.000000</td>\n      <td>5.000000</td>\n      <td>4.000000</td>\n      <td>4.000000</td>\n      <td>0.000000</td>\n      <td>4.000000</td>\n      <td>5.000000</td>\n      <td>5.000000</td>\n      <td>4.000000</td>\n      <td>4.000000</td>\n      <td>6.000000</td>\n      <td>0.000000</td>\n      <td>0.000000</td>\n      <td>0.000000</td>\n      <td>0.000000</td>\n      <td>0.000000</td>\n      <td>0.000000</td>\n    </tr>\n    <tr>\n      <th>75%</th>\n      <td>8.000000</td>\n      <td>6.000000</td>\n      <td>5.000000</td>\n      <td>6.000000</td>\n      <td>3.000000</td>\n      <td>5.000000</td>\n      <td>6.000000</td>\n      <td>7.000000</td>\n      <td>6.000000</td>\n      <td>6.000000</td>\n      <td>7.000000</td>\n      <td>0.000000</td>\n      <td>0.000000</td>\n      <td>0.000000</td>\n      <td>1.000000</td>\n      <td>0.000000</td>\n      <td>0.000000</td>\n    </tr>\n    <tr>\n      <th>max</th>\n      <td>10.000000</td>\n      <td>9.000000</td>\n      <td>8.000000</td>\n      <td>9.000000</td>\n      <td>8.000000</td>\n      <td>8.000000</td>\n      <td>8.000000</td>\n      <td>9.000000</td>\n      <td>10.000000</td>\n      <td>10.000000</td>\n      <td>9.000000</td>\n      <td>1.000000</td>\n      <td>1.000000</td>\n      <td>1.000000</td>\n      <td>1.000000</td>\n      <td>1.000000</td>\n      <td>1.000000</td>\n    </tr>\n  </tbody>\n</table>\n</div>"
     },
     "execution_count": 25,
     "metadata": {},
     "output_type": "execute_result"
    }
   ],
   "source": [
    "df.describe()"
   ],
   "metadata": {
    "collapsed": false,
    "pycharm": {
     "name": "#%%\n"
    }
   }
  },
  {
   "cell_type": "code",
   "execution_count": 30,
   "outputs": [
    {
     "data": {
      "text/plain": "                         ComfortScore                                      \\\n                                count      mean       std  min   25%  50%   \nPlayer   NewRole                                                            \nPlayer 1 Bruiser                 17.0  4.588235  3.336518  0.0  2.00  4.0   \n         Healer                  15.0  5.066667  2.939064  0.0  3.00  5.0   \n         Melee Assassin           9.0  3.777778  1.715938  1.0  3.00  3.0   \n         Ranged Assassin         25.0  5.800000  3.674235  0.0  1.00  7.0   \n         Support                  4.0  6.750000  2.061553  4.0  6.25  7.0   \n         Tank                    11.0  4.636364  3.471966  0.0  2.00  3.0   \nPlayer 2 Bruiser                 17.0  5.588235  3.606571  0.0  3.00  6.0   \n         Healer                  15.0  4.133333  2.614975  1.0  2.50  4.0   \n         Melee Assassin           9.0  7.555556  2.403701  2.0  7.00  8.0   \n         Ranged Assassin         25.0  5.920000  3.438992  0.0  2.00  7.0   \n         Support                  4.0  3.500000  2.645751  1.0  1.75  3.0   \n         Tank                    11.0  5.818182  3.736795  0.0  2.50  6.0   \nPlayer 3 Bruiser                 17.0  5.294118  3.097675  0.0  3.00  5.0   \n         Healer                  15.0  5.800000  3.189268  0.0  3.50  7.0   \n         Melee Assassin           9.0  6.222222  2.682246  1.0  6.00  7.0   \n         Ranged Assassin         25.0  5.240000  3.218178  1.0  2.00  5.0   \n         Support                  4.0  5.250000  4.031129  1.0  2.50  5.0   \n         Tank                    11.0  6.181818  2.891995  0.0  5.00  7.0   \nPlayer 4 Bruiser                 17.0  5.235294  3.152963  1.0  3.00  5.0   \n         Healer                  15.0  5.600000  3.224903  0.0  3.00  5.0   \n         Melee Assassin           9.0  5.444444  3.205897  0.0  3.00  6.0   \n         Ranged Assassin         25.0  5.120000  3.004441  0.0  3.00  5.0   \n         Support                  4.0  3.250000  3.403430  0.0  1.50  2.5   \n         Tank                    11.0  5.636364  2.975659  2.0  3.50  5.0   \nPlayer 5 Bruiser                 17.0  4.470588  2.576763  1.0  3.00  4.0   \n         Healer                  15.0  5.133333  2.642149  0.0  3.00  5.0   \n         Melee Assassin           9.0  4.111111  3.333333  0.0  2.00  3.0   \n         Ranged Assassin         25.0  4.480000  3.163858  0.0  2.00  4.0   \n         Support                  4.0  4.000000  3.559026  1.0  1.00  3.5   \n         Tank                    11.0  5.545455  3.297382  1.0  3.00  6.0   \nPlayer 6 Bruiser                 17.0  5.470588  3.064263  0.0  4.00  7.0   \n         Healer                  15.0  3.800000  2.704494  0.0  2.00  4.0   \n         Melee Assassin           9.0  3.444444  2.068279  0.0  2.00  3.0   \n         Ranged Assassin         25.0  5.000000  3.109126  0.0  3.00  4.0   \n         Support                  4.0  6.750000  2.217356  4.0  5.50  7.0   \n         Tank                    11.0  5.727273  2.240130  2.0  4.50  6.0   \n\n                                      \n                           75%   max  \nPlayer   NewRole                      \nPlayer 1 Bruiser          7.00  10.0  \n         Healer           6.50  10.0  \n         Melee Assassin   5.00   7.0  \n         Ranged Assassin  9.00  10.0  \n         Support          7.50   9.0  \n         Tank             8.50   9.0  \nPlayer 2 Bruiser          9.00  10.0  \n         Healer           5.00  10.0  \n         Melee Assassin   9.00  10.0  \n         Ranged Assassin  9.00  10.0  \n         Support          4.75   7.0  \n         Tank             9.00  10.0  \nPlayer 3 Bruiser          8.00  10.0  \n         Healer           8.00  10.0  \n         Melee Assassin   8.00   9.0  \n         Ranged Assassin  8.00  10.0  \n         Support          7.75  10.0  \n         Tank             8.00  10.0  \nPlayer 4 Bruiser          8.00  10.0  \n         Healer           8.00  10.0  \n         Melee Assassin   8.00  10.0  \n         Ranged Assassin  8.00  10.0  \n         Support          4.25   8.0  \n         Tank             8.00  10.0  \nPlayer 5 Bruiser          6.00  10.0  \n         Healer           7.00   9.0  \n         Melee Assassin   7.00  10.0  \n         Ranged Assassin  6.00  10.0  \n         Support          6.50   8.0  \n         Tank             8.00  10.0  \nPlayer 6 Bruiser          7.00   9.0  \n         Healer           5.00  10.0  \n         Melee Assassin   5.00   7.0  \n         Ranged Assassin  7.00  10.0  \n         Support          8.25   9.0  \n         Tank             6.50  10.0  ",
      "text/html": "<div>\n<style scoped>\n    .dataframe tbody tr th:only-of-type {\n        vertical-align: middle;\n    }\n\n    .dataframe tbody tr th {\n        vertical-align: top;\n    }\n\n    .dataframe thead tr th {\n        text-align: left;\n    }\n\n    .dataframe thead tr:last-of-type th {\n        text-align: right;\n    }\n</style>\n<table border=\"1\" class=\"dataframe\">\n  <thead>\n    <tr>\n      <th></th>\n      <th></th>\n      <th colspan=\"8\" halign=\"left\">ComfortScore</th>\n    </tr>\n    <tr>\n      <th></th>\n      <th></th>\n      <th>count</th>\n      <th>mean</th>\n      <th>std</th>\n      <th>min</th>\n      <th>25%</th>\n      <th>50%</th>\n      <th>75%</th>\n      <th>max</th>\n    </tr>\n    <tr>\n      <th>Player</th>\n      <th>NewRole</th>\n      <th></th>\n      <th></th>\n      <th></th>\n      <th></th>\n      <th></th>\n      <th></th>\n      <th></th>\n      <th></th>\n    </tr>\n  </thead>\n  <tbody>\n    <tr>\n      <th rowspan=\"6\" valign=\"top\">Player 1</th>\n      <th>Bruiser</th>\n      <td>17.0</td>\n      <td>4.588235</td>\n      <td>3.336518</td>\n      <td>0.0</td>\n      <td>2.00</td>\n      <td>4.0</td>\n      <td>7.00</td>\n      <td>10.0</td>\n    </tr>\n    <tr>\n      <th>Healer</th>\n      <td>15.0</td>\n      <td>5.066667</td>\n      <td>2.939064</td>\n      <td>0.0</td>\n      <td>3.00</td>\n      <td>5.0</td>\n      <td>6.50</td>\n      <td>10.0</td>\n    </tr>\n    <tr>\n      <th>Melee Assassin</th>\n      <td>9.0</td>\n      <td>3.777778</td>\n      <td>1.715938</td>\n      <td>1.0</td>\n      <td>3.00</td>\n      <td>3.0</td>\n      <td>5.00</td>\n      <td>7.0</td>\n    </tr>\n    <tr>\n      <th>Ranged Assassin</th>\n      <td>25.0</td>\n      <td>5.800000</td>\n      <td>3.674235</td>\n      <td>0.0</td>\n      <td>1.00</td>\n      <td>7.0</td>\n      <td>9.00</td>\n      <td>10.0</td>\n    </tr>\n    <tr>\n      <th>Support</th>\n      <td>4.0</td>\n      <td>6.750000</td>\n      <td>2.061553</td>\n      <td>4.0</td>\n      <td>6.25</td>\n      <td>7.0</td>\n      <td>7.50</td>\n      <td>9.0</td>\n    </tr>\n    <tr>\n      <th>Tank</th>\n      <td>11.0</td>\n      <td>4.636364</td>\n      <td>3.471966</td>\n      <td>0.0</td>\n      <td>2.00</td>\n      <td>3.0</td>\n      <td>8.50</td>\n      <td>9.0</td>\n    </tr>\n    <tr>\n      <th rowspan=\"6\" valign=\"top\">Player 2</th>\n      <th>Bruiser</th>\n      <td>17.0</td>\n      <td>5.588235</td>\n      <td>3.606571</td>\n      <td>0.0</td>\n      <td>3.00</td>\n      <td>6.0</td>\n      <td>9.00</td>\n      <td>10.0</td>\n    </tr>\n    <tr>\n      <th>Healer</th>\n      <td>15.0</td>\n      <td>4.133333</td>\n      <td>2.614975</td>\n      <td>1.0</td>\n      <td>2.50</td>\n      <td>4.0</td>\n      <td>5.00</td>\n      <td>10.0</td>\n    </tr>\n    <tr>\n      <th>Melee Assassin</th>\n      <td>9.0</td>\n      <td>7.555556</td>\n      <td>2.403701</td>\n      <td>2.0</td>\n      <td>7.00</td>\n      <td>8.0</td>\n      <td>9.00</td>\n      <td>10.0</td>\n    </tr>\n    <tr>\n      <th>Ranged Assassin</th>\n      <td>25.0</td>\n      <td>5.920000</td>\n      <td>3.438992</td>\n      <td>0.0</td>\n      <td>2.00</td>\n      <td>7.0</td>\n      <td>9.00</td>\n      <td>10.0</td>\n    </tr>\n    <tr>\n      <th>Support</th>\n      <td>4.0</td>\n      <td>3.500000</td>\n      <td>2.645751</td>\n      <td>1.0</td>\n      <td>1.75</td>\n      <td>3.0</td>\n      <td>4.75</td>\n      <td>7.0</td>\n    </tr>\n    <tr>\n      <th>Tank</th>\n      <td>11.0</td>\n      <td>5.818182</td>\n      <td>3.736795</td>\n      <td>0.0</td>\n      <td>2.50</td>\n      <td>6.0</td>\n      <td>9.00</td>\n      <td>10.0</td>\n    </tr>\n    <tr>\n      <th rowspan=\"6\" valign=\"top\">Player 3</th>\n      <th>Bruiser</th>\n      <td>17.0</td>\n      <td>5.294118</td>\n      <td>3.097675</td>\n      <td>0.0</td>\n      <td>3.00</td>\n      <td>5.0</td>\n      <td>8.00</td>\n      <td>10.0</td>\n    </tr>\n    <tr>\n      <th>Healer</th>\n      <td>15.0</td>\n      <td>5.800000</td>\n      <td>3.189268</td>\n      <td>0.0</td>\n      <td>3.50</td>\n      <td>7.0</td>\n      <td>8.00</td>\n      <td>10.0</td>\n    </tr>\n    <tr>\n      <th>Melee Assassin</th>\n      <td>9.0</td>\n      <td>6.222222</td>\n      <td>2.682246</td>\n      <td>1.0</td>\n      <td>6.00</td>\n      <td>7.0</td>\n      <td>8.00</td>\n      <td>9.0</td>\n    </tr>\n    <tr>\n      <th>Ranged Assassin</th>\n      <td>25.0</td>\n      <td>5.240000</td>\n      <td>3.218178</td>\n      <td>1.0</td>\n      <td>2.00</td>\n      <td>5.0</td>\n      <td>8.00</td>\n      <td>10.0</td>\n    </tr>\n    <tr>\n      <th>Support</th>\n      <td>4.0</td>\n      <td>5.250000</td>\n      <td>4.031129</td>\n      <td>1.0</td>\n      <td>2.50</td>\n      <td>5.0</td>\n      <td>7.75</td>\n      <td>10.0</td>\n    </tr>\n    <tr>\n      <th>Tank</th>\n      <td>11.0</td>\n      <td>6.181818</td>\n      <td>2.891995</td>\n      <td>0.0</td>\n      <td>5.00</td>\n      <td>7.0</td>\n      <td>8.00</td>\n      <td>10.0</td>\n    </tr>\n    <tr>\n      <th rowspan=\"6\" valign=\"top\">Player 4</th>\n      <th>Bruiser</th>\n      <td>17.0</td>\n      <td>5.235294</td>\n      <td>3.152963</td>\n      <td>1.0</td>\n      <td>3.00</td>\n      <td>5.0</td>\n      <td>8.00</td>\n      <td>10.0</td>\n    </tr>\n    <tr>\n      <th>Healer</th>\n      <td>15.0</td>\n      <td>5.600000</td>\n      <td>3.224903</td>\n      <td>0.0</td>\n      <td>3.00</td>\n      <td>5.0</td>\n      <td>8.00</td>\n      <td>10.0</td>\n    </tr>\n    <tr>\n      <th>Melee Assassin</th>\n      <td>9.0</td>\n      <td>5.444444</td>\n      <td>3.205897</td>\n      <td>0.0</td>\n      <td>3.00</td>\n      <td>6.0</td>\n      <td>8.00</td>\n      <td>10.0</td>\n    </tr>\n    <tr>\n      <th>Ranged Assassin</th>\n      <td>25.0</td>\n      <td>5.120000</td>\n      <td>3.004441</td>\n      <td>0.0</td>\n      <td>3.00</td>\n      <td>5.0</td>\n      <td>8.00</td>\n      <td>10.0</td>\n    </tr>\n    <tr>\n      <th>Support</th>\n      <td>4.0</td>\n      <td>3.250000</td>\n      <td>3.403430</td>\n      <td>0.0</td>\n      <td>1.50</td>\n      <td>2.5</td>\n      <td>4.25</td>\n      <td>8.0</td>\n    </tr>\n    <tr>\n      <th>Tank</th>\n      <td>11.0</td>\n      <td>5.636364</td>\n      <td>2.975659</td>\n      <td>2.0</td>\n      <td>3.50</td>\n      <td>5.0</td>\n      <td>8.00</td>\n      <td>10.0</td>\n    </tr>\n    <tr>\n      <th rowspan=\"6\" valign=\"top\">Player 5</th>\n      <th>Bruiser</th>\n      <td>17.0</td>\n      <td>4.470588</td>\n      <td>2.576763</td>\n      <td>1.0</td>\n      <td>3.00</td>\n      <td>4.0</td>\n      <td>6.00</td>\n      <td>10.0</td>\n    </tr>\n    <tr>\n      <th>Healer</th>\n      <td>15.0</td>\n      <td>5.133333</td>\n      <td>2.642149</td>\n      <td>0.0</td>\n      <td>3.00</td>\n      <td>5.0</td>\n      <td>7.00</td>\n      <td>9.0</td>\n    </tr>\n    <tr>\n      <th>Melee Assassin</th>\n      <td>9.0</td>\n      <td>4.111111</td>\n      <td>3.333333</td>\n      <td>0.0</td>\n      <td>2.00</td>\n      <td>3.0</td>\n      <td>7.00</td>\n      <td>10.0</td>\n    </tr>\n    <tr>\n      <th>Ranged Assassin</th>\n      <td>25.0</td>\n      <td>4.480000</td>\n      <td>3.163858</td>\n      <td>0.0</td>\n      <td>2.00</td>\n      <td>4.0</td>\n      <td>6.00</td>\n      <td>10.0</td>\n    </tr>\n    <tr>\n      <th>Support</th>\n      <td>4.0</td>\n      <td>4.000000</td>\n      <td>3.559026</td>\n      <td>1.0</td>\n      <td>1.00</td>\n      <td>3.5</td>\n      <td>6.50</td>\n      <td>8.0</td>\n    </tr>\n    <tr>\n      <th>Tank</th>\n      <td>11.0</td>\n      <td>5.545455</td>\n      <td>3.297382</td>\n      <td>1.0</td>\n      <td>3.00</td>\n      <td>6.0</td>\n      <td>8.00</td>\n      <td>10.0</td>\n    </tr>\n    <tr>\n      <th rowspan=\"6\" valign=\"top\">Player 6</th>\n      <th>Bruiser</th>\n      <td>17.0</td>\n      <td>5.470588</td>\n      <td>3.064263</td>\n      <td>0.0</td>\n      <td>4.00</td>\n      <td>7.0</td>\n      <td>7.00</td>\n      <td>9.0</td>\n    </tr>\n    <tr>\n      <th>Healer</th>\n      <td>15.0</td>\n      <td>3.800000</td>\n      <td>2.704494</td>\n      <td>0.0</td>\n      <td>2.00</td>\n      <td>4.0</td>\n      <td>5.00</td>\n      <td>10.0</td>\n    </tr>\n    <tr>\n      <th>Melee Assassin</th>\n      <td>9.0</td>\n      <td>3.444444</td>\n      <td>2.068279</td>\n      <td>0.0</td>\n      <td>2.00</td>\n      <td>3.0</td>\n      <td>5.00</td>\n      <td>7.0</td>\n    </tr>\n    <tr>\n      <th>Ranged Assassin</th>\n      <td>25.0</td>\n      <td>5.000000</td>\n      <td>3.109126</td>\n      <td>0.0</td>\n      <td>3.00</td>\n      <td>4.0</td>\n      <td>7.00</td>\n      <td>10.0</td>\n    </tr>\n    <tr>\n      <th>Support</th>\n      <td>4.0</td>\n      <td>6.750000</td>\n      <td>2.217356</td>\n      <td>4.0</td>\n      <td>5.50</td>\n      <td>7.0</td>\n      <td>8.25</td>\n      <td>9.0</td>\n    </tr>\n    <tr>\n      <th>Tank</th>\n      <td>11.0</td>\n      <td>5.727273</td>\n      <td>2.240130</td>\n      <td>2.0</td>\n      <td>4.50</td>\n      <td>6.0</td>\n      <td>6.50</td>\n      <td>10.0</td>\n    </tr>\n  </tbody>\n</table>\n</div>"
     },
     "execution_count": 30,
     "metadata": {},
     "output_type": "execute_result"
    }
   ],
   "source": [
    "df[['Player', 'NewRole', 'ComfortScore']].groupby(['Player', 'NewRole']).describe()"
   ],
   "metadata": {
    "collapsed": false,
    "pycharm": {
     "name": "#%%\n"
    }
   }
  },
  {
   "cell_type": "code",
   "execution_count": 15,
   "outputs": [
    {
     "data": {
      "text/plain": "0      6.750000\n1      3.500000\n2      5.250000\n3      3.250000\n4      4.000000\n         ...   \n481    7.555556\n482    6.222222\n483    5.444444\n484    4.111111\n485    3.444444\nName: ComfortScore, Length: 486, dtype: float64"
     },
     "execution_count": 15,
     "metadata": {},
     "output_type": "execute_result"
    }
   ],
   "source": [
    "df.groupby(['Player', 'NewRole'])['ComfortScore'].transform('mean')"
   ],
   "metadata": {
    "collapsed": false,
    "pycharm": {
     "name": "#%%\n"
    }
   }
  },
  {
   "cell_type": "code",
   "execution_count": 13,
   "outputs": [
    {
     "data": {
      "text/plain": "Player    NewRole             \nPlayer 1  Bruiser          174    10\n                           396    10\n          Healer           12     10\n                           348    10\n          Melee Assassin   210     7\n                                  ..\nPlayer 6  Ranged Assassin  293    10\n          Support          245     9\n                           5       8\n          Tank             125    10\n                           113     8\nName: ComfortScore, Length: 72, dtype: int64"
     },
     "execution_count": 13,
     "metadata": {},
     "output_type": "execute_result"
    }
   ],
   "source": [
    "df.groupby(['Player', 'NewRole'])['ComfortScore'].nlargest(2)"
   ],
   "metadata": {
    "collapsed": false,
    "pycharm": {
     "name": "#%%\n"
    }
   }
  },
  {
   "cell_type": "code",
   "execution_count": 13,
   "outputs": [],
   "source": [],
   "metadata": {
    "collapsed": false,
    "pycharm": {
     "name": "#%%\n"
    }
   }
  }
 ],
 "metadata": {
  "kernelspec": {
   "display_name": "Python 3",
   "language": "python",
   "name": "python3"
  },
  "language_info": {
   "codemirror_mode": {
    "name": "ipython",
    "version": 2
   },
   "file_extension": ".py",
   "mimetype": "text/x-python",
   "name": "python",
   "nbconvert_exporter": "python",
   "pygments_lexer": "ipython2",
   "version": "2.7.6"
  }
 },
 "nbformat": 4,
 "nbformat_minor": 0
}