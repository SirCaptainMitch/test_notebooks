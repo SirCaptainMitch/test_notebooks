{
 "cells": [
  {
   "cell_type": "code",
   "execution_count": 1,
   "metadata": {
    "collapsed": true,
    "pycharm": {
     "name": "#%%\n"
    }
   },
   "outputs": [],
   "source": [
    "import json\n",
    "import csv\n",
    "import os\n",
    "import datetime\n",
    "from pprint import pprint as pr\n",
    "import sqlalchemy as sa\n",
    "from sqlalchemy import join\n",
    "import pandas as pd\n",
    "from app.sample_data import stat_vectors, comp_style_vectors, map_style_vectors, roles"
   ]
  },
  {
   "cell_type": "code",
   "execution_count": 148,
   "outputs": [],
   "source": [
    "BASE_DIR = os.path.abspath(os.path.dirname('../'))\n",
    "\n",
    "SERVER='192.168.0.245'\n",
    "SQLSERVER_DATABASE='lookingglass'\n",
    "SQLSERVER_USER='thecaptain'\n",
    "SQLSERVER_PASSWORD='99Redbal00ns'\n",
    "PORT=1433\n",
    "SQLSERVER_BASE_URI = 'mssql+pyodbc://{USER}:{PWD}@{SERVER}:{PORT}/{DATABASE}?driver=ODBC+Driver+17+for+SQL+Server'\n",
    "\n",
    "engine = sa.create_engine(SQLSERVER_BASE_URI.format(\n",
    "  SERVER=SERVER,\n",
    "  DATABASE=SQLSERVER_DATABASE,\n",
    "  USER=SQLSERVER_USER,\n",
    "  PWD=SQLSERVER_PASSWORD,\n",
    "  PORT=PORT\n",
    "))\n",
    "\n",
    "meta_data = sa.MetaData(bind=engine)\n",
    "sa.MetaData.reflect(meta_data)"
   ],
   "metadata": {
    "collapsed": false,
    "pycharm": {
     "name": "#%%\n"
    }
   }
  },
  {
   "cell_type": "code",
   "execution_count": 149,
   "outputs": [],
   "source": [
    "Player=meta_data.tables['Player']\n",
    "TeamMember=meta_data.tables['TeamMember']\n",
    "Hero=meta_data.tables['Hero']\n",
    "Battleground=meta_data.tables['Map']\n",
    "Replay=meta_data.tables['Replay']"
   ],
   "metadata": {
    "collapsed": false,
    "pycharm": {
     "name": "#%%\n"
    }
   }
  },
  {
   "cell_type": "code",
   "execution_count": 241,
   "outputs": [],
   "source": [
    "team_id = 4109\n",
    "div_id = 1024\n",
    "act_list = ['TheCaptain#12345', 'Aly#11717']\n",
    "\n",
    "# j = Replay.join(Player,Player.c.Battletag == Replay.c.Battletag) \\\n",
    "#     .join(Hero, Replay.c.Hero == Hero.c.HeroName)\n",
    "#\n",
    "# query = sa.select(\n",
    "#     Replay\n",
    "#     , Player.c.PlayerId\n",
    "#     , Hero.c.HeroId\n",
    "#     , Hero.c.NewRole\n",
    "# ).select_from(j).where(sa.and_(\n",
    "#      Replay.c.GameDate >= '01/01/2022'\n",
    "#     , Player.c.Battletag.in_(act_list)\n",
    "# ))\n",
    "\n",
    "j = Replay.join(Player,Player.c.Battletag == Replay.c.Battletag) \\\n",
    "    .join(TeamMember, TeamMember.c.PlayerId == Player.c.PlayerId) \\\n",
    "    .join(Hero, Replay.c.Hero == Hero.c.HeroName)\n",
    "\n",
    "query = sa.select(\n",
    "    TeamMember.c.IsActive\n",
    "    , Replay\n",
    "    , Player.c.PlayerId\n",
    "    , Hero.c.HeroId\n",
    "    , Hero.c.NewRole\n",
    ").select_from(j).where(sa.and_(\n",
    "    TeamMember.c.TeamId == team_id\n",
    "    , TeamMember.c.IsActive==True\n",
    "    , Replay.c.GameDate >= '01/01/2022'\n",
    "    , TeamMember.c.DivisionId==div_id\n",
    "))\n",
    "\n",
    "df = pd.read_sql(sql = query,\n",
    "                 con = engine)\n",
    "df['Battletag'].drop_duplicates(keep='first', inplace=True)"
   ],
   "metadata": {
    "collapsed": false,
    "pycharm": {
     "name": "#%%\n"
    }
   }
  },
  {
   "cell_type": "code",
   "execution_count": 242,
   "outputs": [],
   "source": [
    "bins = [0, 7, 14, 30, 60, 90, 180]\n",
    "labels = [7, 14, 30, 60, 90, 180]\n",
    "df = df[df.GameDate > datetime.datetime.now() - pd.to_timedelta(\"180day\")]\n",
    "df['ReplayAgeInDays'] = ((df['GameDate'] - datetime.datetime.now()).dt.days) * -1\n",
    "df['Binned'] = pd.cut(df['ReplayAgeInDays'], bins, labels=labels)\n",
    "df = df[df['Binned'] <= 60]"
   ],
   "metadata": {
    "collapsed": false,
    "pycharm": {
     "name": "#%%\n"
    }
   }
  },
  {
   "cell_type": "code",
   "execution_count": 243,
   "outputs": [],
   "source": [
    "points = ['Battletag', 'SourceReplayId', 'Team']\n",
    "dfn = df[[*points]].groupby(['SourceReplayId', 'Team']).agg(\n",
    "    Count=('SourceReplayId', 'count')\n",
    ").sort_values('Count', ascending=False)\n",
    "\n",
    "team_df = pd.merge(df, dfn[dfn['Count'] == 5], right_on=['SourceReplayId', 'Team'], left_on=['SourceReplayId', 'Team'], how='inner')"
   ],
   "metadata": {
    "collapsed": false,
    "pycharm": {
     "name": "#%%\n"
    }
   }
  },
  {
   "cell_type": "code",
   "execution_count": 244,
   "outputs": [
    {
     "data": {
      "text/plain": "GameType  Custom  Quick Match  Storm League  All\nBinned                                          \n7              0            5             0    5\n14             5           10            30   45\n30            45           20            45  110\n60            30           15            50   95\n90             0            0             0    0\n180            0            0             0    0\nAll           80           50           125  255",
      "text/html": "<div>\n<style scoped>\n    .dataframe tbody tr th:only-of-type {\n        vertical-align: middle;\n    }\n\n    .dataframe tbody tr th {\n        vertical-align: top;\n    }\n\n    .dataframe thead th {\n        text-align: right;\n    }\n</style>\n<table border=\"1\" class=\"dataframe\">\n  <thead>\n    <tr style=\"text-align: right;\">\n      <th>GameType</th>\n      <th>Custom</th>\n      <th>Quick Match</th>\n      <th>Storm League</th>\n      <th>All</th>\n    </tr>\n    <tr>\n      <th>Binned</th>\n      <th></th>\n      <th></th>\n      <th></th>\n      <th></th>\n    </tr>\n  </thead>\n  <tbody>\n    <tr>\n      <th>7</th>\n      <td>0</td>\n      <td>5</td>\n      <td>0</td>\n      <td>5</td>\n    </tr>\n    <tr>\n      <th>14</th>\n      <td>5</td>\n      <td>10</td>\n      <td>30</td>\n      <td>45</td>\n    </tr>\n    <tr>\n      <th>30</th>\n      <td>45</td>\n      <td>20</td>\n      <td>45</td>\n      <td>110</td>\n    </tr>\n    <tr>\n      <th>60</th>\n      <td>30</td>\n      <td>15</td>\n      <td>50</td>\n      <td>95</td>\n    </tr>\n    <tr>\n      <th>90</th>\n      <td>0</td>\n      <td>0</td>\n      <td>0</td>\n      <td>0</td>\n    </tr>\n    <tr>\n      <th>180</th>\n      <td>0</td>\n      <td>0</td>\n      <td>0</td>\n      <td>0</td>\n    </tr>\n    <tr>\n      <th>All</th>\n      <td>80</td>\n      <td>50</td>\n      <td>125</td>\n      <td>255</td>\n    </tr>\n  </tbody>\n</table>\n</div>"
     },
     "execution_count": 244,
     "metadata": {},
     "output_type": "execute_result"
    }
   ],
   "source": [
    "points = ['Battletag', 'Binned', 'GameType', 'IsWinner']\n",
    "dfn = team_df[[*points]].groupby(['Battletag', 'GameType', 'Binned']).agg(\n",
    "    Count=('GameType', 'count')\n",
    "    , Wins=('IsWinner', 'sum')\n",
    ").sort_values('Count', ascending=False)\n",
    "\n",
    "dfn['WinRate'] = round(dfn.Wins / dfn.Count, 2)\n",
    "dfn = dfn.groupby(['Battletag']).head(100).sort_index().reset_index()\n",
    "\n",
    "pd.crosstab(index=[dfn.Binned], columns=[dfn.GameType], values=dfn.Count, aggfunc='sum', margins=True)"
   ],
   "metadata": {
    "collapsed": false,
    "pycharm": {
     "name": "#%%\n"
    }
   }
  },
  {
   "cell_type": "code",
   "execution_count": 239,
   "outputs": [
    {
     "data": {
      "text/plain": "                                  Count  Wins  WinRate\nHero    Binned Battletag                              \nJaina   30     TheCaptain#12345       8     4     0.50\nStukov  60     BornToShine#11556      8     3     0.38\nJohanna 30     MowBWan#1362           7     3     0.43\nAnduin  30     BornToShine#11556      6     4     0.67\nStukov  30     BornToShine#11556      6     3     0.50\n...                                 ...   ...      ...\nDiablo  60     Knivers#1675           1     1     1.00\nGenji   14     SubZero#1577           1     0     0.00\nLúcio   14     BornToShine#11556      1     0     0.00\nGazlowe 30     TheCaptain#12345       1     0     0.00\nZagara  60     DirePants#125315       1     0     0.00\n\n[100 rows x 3 columns]",
      "text/html": "<div>\n<style scoped>\n    .dataframe tbody tr th:only-of-type {\n        vertical-align: middle;\n    }\n\n    .dataframe tbody tr th {\n        vertical-align: top;\n    }\n\n    .dataframe thead th {\n        text-align: right;\n    }\n</style>\n<table border=\"1\" class=\"dataframe\">\n  <thead>\n    <tr style=\"text-align: right;\">\n      <th></th>\n      <th></th>\n      <th></th>\n      <th>Count</th>\n      <th>Wins</th>\n      <th>WinRate</th>\n    </tr>\n    <tr>\n      <th>Hero</th>\n      <th>Binned</th>\n      <th>Battletag</th>\n      <th></th>\n      <th></th>\n      <th></th>\n    </tr>\n  </thead>\n  <tbody>\n    <tr>\n      <th>Jaina</th>\n      <th>30</th>\n      <th>TheCaptain#12345</th>\n      <td>8</td>\n      <td>4</td>\n      <td>0.50</td>\n    </tr>\n    <tr>\n      <th>Stukov</th>\n      <th>60</th>\n      <th>BornToShine#11556</th>\n      <td>8</td>\n      <td>3</td>\n      <td>0.38</td>\n    </tr>\n    <tr>\n      <th>Johanna</th>\n      <th>30</th>\n      <th>MowBWan#1362</th>\n      <td>7</td>\n      <td>3</td>\n      <td>0.43</td>\n    </tr>\n    <tr>\n      <th>Anduin</th>\n      <th>30</th>\n      <th>BornToShine#11556</th>\n      <td>6</td>\n      <td>4</td>\n      <td>0.67</td>\n    </tr>\n    <tr>\n      <th>Stukov</th>\n      <th>30</th>\n      <th>BornToShine#11556</th>\n      <td>6</td>\n      <td>3</td>\n      <td>0.50</td>\n    </tr>\n    <tr>\n      <th>...</th>\n      <th>...</th>\n      <th>...</th>\n      <td>...</td>\n      <td>...</td>\n      <td>...</td>\n    </tr>\n    <tr>\n      <th>Diablo</th>\n      <th>60</th>\n      <th>Knivers#1675</th>\n      <td>1</td>\n      <td>1</td>\n      <td>1.00</td>\n    </tr>\n    <tr>\n      <th>Genji</th>\n      <th>14</th>\n      <th>SubZero#1577</th>\n      <td>1</td>\n      <td>0</td>\n      <td>0.00</td>\n    </tr>\n    <tr>\n      <th>Lúcio</th>\n      <th>14</th>\n      <th>BornToShine#11556</th>\n      <td>1</td>\n      <td>0</td>\n      <td>0.00</td>\n    </tr>\n    <tr>\n      <th>Gazlowe</th>\n      <th>30</th>\n      <th>TheCaptain#12345</th>\n      <td>1</td>\n      <td>0</td>\n      <td>0.00</td>\n    </tr>\n    <tr>\n      <th>Zagara</th>\n      <th>60</th>\n      <th>DirePants#125315</th>\n      <td>1</td>\n      <td>0</td>\n      <td>0.00</td>\n    </tr>\n  </tbody>\n</table>\n<p>100 rows × 3 columns</p>\n</div>"
     },
     "execution_count": 239,
     "metadata": {},
     "output_type": "execute_result"
    }
   ],
   "source": [
    "points = ['Battletag', 'Binned', 'Hero', 'IsWinner']\n",
    "dfn = df[[*points]].groupby(['Battletag', 'Hero', 'Binned']).agg(\n",
    "    Count=('Hero', 'count')\n",
    "    , Wins=('IsWinner', 'sum')\n",
    ").sort_values('Count', ascending=False)\n",
    "\n",
    "dfn['WinRate'] = round(dfn.Wins / dfn.Count, 2)\n",
    "dfn.reset_index(inplace=True)\n",
    "dfn = dfn[dfn['Binned'] <= 60].groupby(['Hero']).head(100).sort_index()\n",
    "dfn.set_index(['Hero', 'Binned', 'Battletag' ], inplace=True)\n",
    "dfn.head(100)"
   ],
   "metadata": {
    "collapsed": false,
    "pycharm": {
     "name": "#%%\n"
    }
   }
  },
  {
   "cell_type": "code",
   "execution_count": 240,
   "outputs": [
    {
     "data": {
      "text/plain": "                                          Count  Wins  WinRate\nNewRole         Binned Battletag                              \nHealer          30     BornToShine#11556     21    12     0.57\nTank            30     MowBWan#1362          19    12     0.63\nBruiser         30     DirePants#125315      19    12     0.63\nHealer          60     BornToShine#11556     19    10     0.53\nRanged Assassin 30     TheCaptain#12345      15     8     0.53\n...                                         ...   ...      ...\nSupport         30     SubZero#1577           0     0      NaN\n                60     SubZero#1577           0     0      NaN\nTank            7      SubZero#1577           0     0      NaN\n                14     SubZero#1577           0     0      NaN\nRanged Assassin 60     YipYip#11141           0     0      NaN\n\n[100 rows x 3 columns]",
      "text/html": "<div>\n<style scoped>\n    .dataframe tbody tr th:only-of-type {\n        vertical-align: middle;\n    }\n\n    .dataframe tbody tr th {\n        vertical-align: top;\n    }\n\n    .dataframe thead th {\n        text-align: right;\n    }\n</style>\n<table border=\"1\" class=\"dataframe\">\n  <thead>\n    <tr style=\"text-align: right;\">\n      <th></th>\n      <th></th>\n      <th></th>\n      <th>Count</th>\n      <th>Wins</th>\n      <th>WinRate</th>\n    </tr>\n    <tr>\n      <th>NewRole</th>\n      <th>Binned</th>\n      <th>Battletag</th>\n      <th></th>\n      <th></th>\n      <th></th>\n    </tr>\n  </thead>\n  <tbody>\n    <tr>\n      <th>Healer</th>\n      <th>30</th>\n      <th>BornToShine#11556</th>\n      <td>21</td>\n      <td>12</td>\n      <td>0.57</td>\n    </tr>\n    <tr>\n      <th>Tank</th>\n      <th>30</th>\n      <th>MowBWan#1362</th>\n      <td>19</td>\n      <td>12</td>\n      <td>0.63</td>\n    </tr>\n    <tr>\n      <th>Bruiser</th>\n      <th>30</th>\n      <th>DirePants#125315</th>\n      <td>19</td>\n      <td>12</td>\n      <td>0.63</td>\n    </tr>\n    <tr>\n      <th>Healer</th>\n      <th>60</th>\n      <th>BornToShine#11556</th>\n      <td>19</td>\n      <td>10</td>\n      <td>0.53</td>\n    </tr>\n    <tr>\n      <th>Ranged Assassin</th>\n      <th>30</th>\n      <th>TheCaptain#12345</th>\n      <td>15</td>\n      <td>8</td>\n      <td>0.53</td>\n    </tr>\n    <tr>\n      <th>...</th>\n      <th>...</th>\n      <th>...</th>\n      <td>...</td>\n      <td>...</td>\n      <td>...</td>\n    </tr>\n    <tr>\n      <th rowspan=\"2\" valign=\"top\">Support</th>\n      <th>30</th>\n      <th>SubZero#1577</th>\n      <td>0</td>\n      <td>0</td>\n      <td>NaN</td>\n    </tr>\n    <tr>\n      <th>60</th>\n      <th>SubZero#1577</th>\n      <td>0</td>\n      <td>0</td>\n      <td>NaN</td>\n    </tr>\n    <tr>\n      <th rowspan=\"2\" valign=\"top\">Tank</th>\n      <th>7</th>\n      <th>SubZero#1577</th>\n      <td>0</td>\n      <td>0</td>\n      <td>NaN</td>\n    </tr>\n    <tr>\n      <th>14</th>\n      <th>SubZero#1577</th>\n      <td>0</td>\n      <td>0</td>\n      <td>NaN</td>\n    </tr>\n    <tr>\n      <th>Ranged Assassin</th>\n      <th>60</th>\n      <th>YipYip#11141</th>\n      <td>0</td>\n      <td>0</td>\n      <td>NaN</td>\n    </tr>\n  </tbody>\n</table>\n<p>100 rows × 3 columns</p>\n</div>"
     },
     "execution_count": 240,
     "metadata": {},
     "output_type": "execute_result"
    }
   ],
   "source": [
    "role_points = ['Battletag', 'NewRole', 'IsWinner', 'Binned']\n",
    "dfn = df[[*role_points]].groupby(['Battletag', 'NewRole', 'Binned']).agg(\n",
    "    Count=('NewRole', 'count')\n",
    "    , Wins=('IsWinner', 'sum')\n",
    ").sort_values('Count', ascending=False)\n",
    "\n",
    "dfn['WinRate'] = round(dfn.Wins / dfn.Count, 2)\n",
    "dfn.reset_index(inplace=True)\n",
    "dfn = dfn[dfn['Binned'] <= 60].groupby(['NewRole']).head(100).sort_index()\n",
    "dfn.set_index(['NewRole', 'Binned', 'Battletag' ], inplace=True)\n",
    "dfn.head(100)"
   ],
   "metadata": {
    "collapsed": false,
    "pycharm": {
     "name": "#%%\n"
    }
   }
  },
  {
   "cell_type": "code",
   "execution_count": 219,
   "outputs": [
    {
     "data": {
      "text/plain": "             Count  Wins  MeanLevel  MeanDeaths  MeanKills  MeanAssists  \\\nHero                                                                      \nAnub'arak       11     7  20.363636    3.363636   1.636364     8.363636   \nAuriel           1     0  19.000000    5.000000   0.000000     5.000000   \nBlaze            1     0  19.000000    6.000000   1.000000     3.000000   \nBrightwing       7     4  20.000000    2.285714   2.142857    11.428571   \nCassia          90    56  20.200000    2.211111   4.233333     8.711111   \nChromie          9     3  19.888889    1.777778   3.222222     7.333333   \nDeckard          3     1  17.666667    2.000000   0.333333    12.666667   \nDehaka           3     0  20.666667    4.666667   0.333333     7.333333   \nDiablo           4     2  23.250000    7.500000   2.000000    11.000000   \nFenix            2     0  18.500000    5.000000   1.000000     4.000000   \nGall             2     0  16.500000    3.000000   1.500000     5.000000   \nGazlowe          1     0  14.000000    5.000000   0.000000     5.000000   \nGenji            3     1  24.333333    3.666667  10.000000    11.000000   \nGreymane         4     1  21.500000    4.250000   4.250000     5.500000   \nGul'dan         23    13  19.652174    3.000000   3.130435     9.217391   \nJaina          188   112  20.755319    2.430851   4.212766     9.563830   \nJohanna         12     4  20.750000    3.583333   2.166667    10.666667   \nJunkrat          5     0  20.600000    2.400000   3.800000     6.000000   \nKael'thas       29    10  20.689655    3.758621   4.758621     8.827586   \nKerrigan         1     0  19.000000   10.000000   4.000000     3.000000   \nKharazim         3     1  18.333333    3.333333   3.333333     4.000000   \nLi-Ming         36    12  19.916667    2.722222   3.944444     7.305556   \nLt. Morales      4     2  19.500000    5.250000   1.750000    12.500000   \nMalfurion        2     1  21.500000    4.500000   1.000000     9.500000   \nMephisto        14     5  19.071429    3.642857   2.428571     7.357143   \nNazeebo         19    11  21.473684    2.000000   2.947368     6.157895   \nOrphea          90    49  20.233333    3.433333   4.544444     9.566667   \nProbius         30    15  21.233333    3.000000   1.900000     8.100000   \nQhira           10     3  20.500000    5.200000   3.200000     6.800000   \nRaynor           1     1  23.000000    2.000000   4.000000     8.000000   \nRehgar           6     2  21.333333    5.166667   0.833333     8.500000   \nSgt. Hammer      4     1  17.500000    3.250000   2.000000     5.250000   \nStitches         8     3  19.875000    5.875000   2.000000     5.875000   \nStukov          36    24  20.916667    2.500000   3.388889    12.944444   \nSylvanas         5     2  20.600000    3.200000   1.200000     5.600000   \nThe Butcher      3     2  19.666667    4.000000   3.666667     8.000000   \nThrall           4     1  21.000000    5.250000   4.750000    10.250000   \nTyrande          2     0  16.500000    3.000000   0.500000     6.500000   \nUther            1     1  21.000000    3.000000   1.000000    28.000000   \nValeera         10     6  21.900000    4.000000   3.500000    11.300000   \nValla           47    19  20.489362    2.680851   4.468085     8.361702   \nVarian          93    46  20.688172    3.935484   4.322581     9.043011   \nZagara           1     1  22.000000    1.000000   5.000000     6.000000   \nZarya           14     8  20.071429    3.500000   3.357143     7.857143   \nZul'jin          2     2  22.500000    8.000000   4.000000     8.500000   \n\n             WinRate  \nHero                  \nAnub'arak       0.64  \nAuriel          0.00  \nBlaze           0.00  \nBrightwing      0.57  \nCassia          0.62  \nChromie         0.33  \nDeckard         0.33  \nDehaka          0.00  \nDiablo          0.50  \nFenix           0.00  \nGall            0.00  \nGazlowe         0.00  \nGenji           0.33  \nGreymane        0.25  \nGul'dan         0.57  \nJaina           0.60  \nJohanna         0.33  \nJunkrat         0.00  \nKael'thas       0.34  \nKerrigan        0.00  \nKharazim        0.33  \nLi-Ming         0.33  \nLt. Morales     0.50  \nMalfurion       0.50  \nMephisto        0.36  \nNazeebo         0.58  \nOrphea          0.54  \nProbius         0.50  \nQhira           0.30  \nRaynor          1.00  \nRehgar          0.33  \nSgt. Hammer     0.25  \nStitches        0.38  \nStukov          0.67  \nSylvanas        0.40  \nThe Butcher     0.67  \nThrall          0.25  \nTyrande         0.00  \nUther           1.00  \nValeera         0.60  \nValla           0.40  \nVarian          0.49  \nZagara          1.00  \nZarya           0.57  \nZul'jin         1.00  ",
      "text/html": "<div>\n<style scoped>\n    .dataframe tbody tr th:only-of-type {\n        vertical-align: middle;\n    }\n\n    .dataframe tbody tr th {\n        vertical-align: top;\n    }\n\n    .dataframe thead th {\n        text-align: right;\n    }\n</style>\n<table border=\"1\" class=\"dataframe\">\n  <thead>\n    <tr style=\"text-align: right;\">\n      <th></th>\n      <th>Count</th>\n      <th>Wins</th>\n      <th>MeanLevel</th>\n      <th>MeanDeaths</th>\n      <th>MeanKills</th>\n      <th>MeanAssists</th>\n      <th>WinRate</th>\n    </tr>\n    <tr>\n      <th>Hero</th>\n      <th></th>\n      <th></th>\n      <th></th>\n      <th></th>\n      <th></th>\n      <th></th>\n      <th></th>\n    </tr>\n  </thead>\n  <tbody>\n    <tr>\n      <th>Anub'arak</th>\n      <td>11</td>\n      <td>7</td>\n      <td>20.363636</td>\n      <td>3.363636</td>\n      <td>1.636364</td>\n      <td>8.363636</td>\n      <td>0.64</td>\n    </tr>\n    <tr>\n      <th>Auriel</th>\n      <td>1</td>\n      <td>0</td>\n      <td>19.000000</td>\n      <td>5.000000</td>\n      <td>0.000000</td>\n      <td>5.000000</td>\n      <td>0.00</td>\n    </tr>\n    <tr>\n      <th>Blaze</th>\n      <td>1</td>\n      <td>0</td>\n      <td>19.000000</td>\n      <td>6.000000</td>\n      <td>1.000000</td>\n      <td>3.000000</td>\n      <td>0.00</td>\n    </tr>\n    <tr>\n      <th>Brightwing</th>\n      <td>7</td>\n      <td>4</td>\n      <td>20.000000</td>\n      <td>2.285714</td>\n      <td>2.142857</td>\n      <td>11.428571</td>\n      <td>0.57</td>\n    </tr>\n    <tr>\n      <th>Cassia</th>\n      <td>90</td>\n      <td>56</td>\n      <td>20.200000</td>\n      <td>2.211111</td>\n      <td>4.233333</td>\n      <td>8.711111</td>\n      <td>0.62</td>\n    </tr>\n    <tr>\n      <th>Chromie</th>\n      <td>9</td>\n      <td>3</td>\n      <td>19.888889</td>\n      <td>1.777778</td>\n      <td>3.222222</td>\n      <td>7.333333</td>\n      <td>0.33</td>\n    </tr>\n    <tr>\n      <th>Deckard</th>\n      <td>3</td>\n      <td>1</td>\n      <td>17.666667</td>\n      <td>2.000000</td>\n      <td>0.333333</td>\n      <td>12.666667</td>\n      <td>0.33</td>\n    </tr>\n    <tr>\n      <th>Dehaka</th>\n      <td>3</td>\n      <td>0</td>\n      <td>20.666667</td>\n      <td>4.666667</td>\n      <td>0.333333</td>\n      <td>7.333333</td>\n      <td>0.00</td>\n    </tr>\n    <tr>\n      <th>Diablo</th>\n      <td>4</td>\n      <td>2</td>\n      <td>23.250000</td>\n      <td>7.500000</td>\n      <td>2.000000</td>\n      <td>11.000000</td>\n      <td>0.50</td>\n    </tr>\n    <tr>\n      <th>Fenix</th>\n      <td>2</td>\n      <td>0</td>\n      <td>18.500000</td>\n      <td>5.000000</td>\n      <td>1.000000</td>\n      <td>4.000000</td>\n      <td>0.00</td>\n    </tr>\n    <tr>\n      <th>Gall</th>\n      <td>2</td>\n      <td>0</td>\n      <td>16.500000</td>\n      <td>3.000000</td>\n      <td>1.500000</td>\n      <td>5.000000</td>\n      <td>0.00</td>\n    </tr>\n    <tr>\n      <th>Gazlowe</th>\n      <td>1</td>\n      <td>0</td>\n      <td>14.000000</td>\n      <td>5.000000</td>\n      <td>0.000000</td>\n      <td>5.000000</td>\n      <td>0.00</td>\n    </tr>\n    <tr>\n      <th>Genji</th>\n      <td>3</td>\n      <td>1</td>\n      <td>24.333333</td>\n      <td>3.666667</td>\n      <td>10.000000</td>\n      <td>11.000000</td>\n      <td>0.33</td>\n    </tr>\n    <tr>\n      <th>Greymane</th>\n      <td>4</td>\n      <td>1</td>\n      <td>21.500000</td>\n      <td>4.250000</td>\n      <td>4.250000</td>\n      <td>5.500000</td>\n      <td>0.25</td>\n    </tr>\n    <tr>\n      <th>Gul'dan</th>\n      <td>23</td>\n      <td>13</td>\n      <td>19.652174</td>\n      <td>3.000000</td>\n      <td>3.130435</td>\n      <td>9.217391</td>\n      <td>0.57</td>\n    </tr>\n    <tr>\n      <th>Jaina</th>\n      <td>188</td>\n      <td>112</td>\n      <td>20.755319</td>\n      <td>2.430851</td>\n      <td>4.212766</td>\n      <td>9.563830</td>\n      <td>0.60</td>\n    </tr>\n    <tr>\n      <th>Johanna</th>\n      <td>12</td>\n      <td>4</td>\n      <td>20.750000</td>\n      <td>3.583333</td>\n      <td>2.166667</td>\n      <td>10.666667</td>\n      <td>0.33</td>\n    </tr>\n    <tr>\n      <th>Junkrat</th>\n      <td>5</td>\n      <td>0</td>\n      <td>20.600000</td>\n      <td>2.400000</td>\n      <td>3.800000</td>\n      <td>6.000000</td>\n      <td>0.00</td>\n    </tr>\n    <tr>\n      <th>Kael'thas</th>\n      <td>29</td>\n      <td>10</td>\n      <td>20.689655</td>\n      <td>3.758621</td>\n      <td>4.758621</td>\n      <td>8.827586</td>\n      <td>0.34</td>\n    </tr>\n    <tr>\n      <th>Kerrigan</th>\n      <td>1</td>\n      <td>0</td>\n      <td>19.000000</td>\n      <td>10.000000</td>\n      <td>4.000000</td>\n      <td>3.000000</td>\n      <td>0.00</td>\n    </tr>\n    <tr>\n      <th>Kharazim</th>\n      <td>3</td>\n      <td>1</td>\n      <td>18.333333</td>\n      <td>3.333333</td>\n      <td>3.333333</td>\n      <td>4.000000</td>\n      <td>0.33</td>\n    </tr>\n    <tr>\n      <th>Li-Ming</th>\n      <td>36</td>\n      <td>12</td>\n      <td>19.916667</td>\n      <td>2.722222</td>\n      <td>3.944444</td>\n      <td>7.305556</td>\n      <td>0.33</td>\n    </tr>\n    <tr>\n      <th>Lt. Morales</th>\n      <td>4</td>\n      <td>2</td>\n      <td>19.500000</td>\n      <td>5.250000</td>\n      <td>1.750000</td>\n      <td>12.500000</td>\n      <td>0.50</td>\n    </tr>\n    <tr>\n      <th>Malfurion</th>\n      <td>2</td>\n      <td>1</td>\n      <td>21.500000</td>\n      <td>4.500000</td>\n      <td>1.000000</td>\n      <td>9.500000</td>\n      <td>0.50</td>\n    </tr>\n    <tr>\n      <th>Mephisto</th>\n      <td>14</td>\n      <td>5</td>\n      <td>19.071429</td>\n      <td>3.642857</td>\n      <td>2.428571</td>\n      <td>7.357143</td>\n      <td>0.36</td>\n    </tr>\n    <tr>\n      <th>Nazeebo</th>\n      <td>19</td>\n      <td>11</td>\n      <td>21.473684</td>\n      <td>2.000000</td>\n      <td>2.947368</td>\n      <td>6.157895</td>\n      <td>0.58</td>\n    </tr>\n    <tr>\n      <th>Orphea</th>\n      <td>90</td>\n      <td>49</td>\n      <td>20.233333</td>\n      <td>3.433333</td>\n      <td>4.544444</td>\n      <td>9.566667</td>\n      <td>0.54</td>\n    </tr>\n    <tr>\n      <th>Probius</th>\n      <td>30</td>\n      <td>15</td>\n      <td>21.233333</td>\n      <td>3.000000</td>\n      <td>1.900000</td>\n      <td>8.100000</td>\n      <td>0.50</td>\n    </tr>\n    <tr>\n      <th>Qhira</th>\n      <td>10</td>\n      <td>3</td>\n      <td>20.500000</td>\n      <td>5.200000</td>\n      <td>3.200000</td>\n      <td>6.800000</td>\n      <td>0.30</td>\n    </tr>\n    <tr>\n      <th>Raynor</th>\n      <td>1</td>\n      <td>1</td>\n      <td>23.000000</td>\n      <td>2.000000</td>\n      <td>4.000000</td>\n      <td>8.000000</td>\n      <td>1.00</td>\n    </tr>\n    <tr>\n      <th>Rehgar</th>\n      <td>6</td>\n      <td>2</td>\n      <td>21.333333</td>\n      <td>5.166667</td>\n      <td>0.833333</td>\n      <td>8.500000</td>\n      <td>0.33</td>\n    </tr>\n    <tr>\n      <th>Sgt. Hammer</th>\n      <td>4</td>\n      <td>1</td>\n      <td>17.500000</td>\n      <td>3.250000</td>\n      <td>2.000000</td>\n      <td>5.250000</td>\n      <td>0.25</td>\n    </tr>\n    <tr>\n      <th>Stitches</th>\n      <td>8</td>\n      <td>3</td>\n      <td>19.875000</td>\n      <td>5.875000</td>\n      <td>2.000000</td>\n      <td>5.875000</td>\n      <td>0.38</td>\n    </tr>\n    <tr>\n      <th>Stukov</th>\n      <td>36</td>\n      <td>24</td>\n      <td>20.916667</td>\n      <td>2.500000</td>\n      <td>3.388889</td>\n      <td>12.944444</td>\n      <td>0.67</td>\n    </tr>\n    <tr>\n      <th>Sylvanas</th>\n      <td>5</td>\n      <td>2</td>\n      <td>20.600000</td>\n      <td>3.200000</td>\n      <td>1.200000</td>\n      <td>5.600000</td>\n      <td>0.40</td>\n    </tr>\n    <tr>\n      <th>The Butcher</th>\n      <td>3</td>\n      <td>2</td>\n      <td>19.666667</td>\n      <td>4.000000</td>\n      <td>3.666667</td>\n      <td>8.000000</td>\n      <td>0.67</td>\n    </tr>\n    <tr>\n      <th>Thrall</th>\n      <td>4</td>\n      <td>1</td>\n      <td>21.000000</td>\n      <td>5.250000</td>\n      <td>4.750000</td>\n      <td>10.250000</td>\n      <td>0.25</td>\n    </tr>\n    <tr>\n      <th>Tyrande</th>\n      <td>2</td>\n      <td>0</td>\n      <td>16.500000</td>\n      <td>3.000000</td>\n      <td>0.500000</td>\n      <td>6.500000</td>\n      <td>0.00</td>\n    </tr>\n    <tr>\n      <th>Uther</th>\n      <td>1</td>\n      <td>1</td>\n      <td>21.000000</td>\n      <td>3.000000</td>\n      <td>1.000000</td>\n      <td>28.000000</td>\n      <td>1.00</td>\n    </tr>\n    <tr>\n      <th>Valeera</th>\n      <td>10</td>\n      <td>6</td>\n      <td>21.900000</td>\n      <td>4.000000</td>\n      <td>3.500000</td>\n      <td>11.300000</td>\n      <td>0.60</td>\n    </tr>\n    <tr>\n      <th>Valla</th>\n      <td>47</td>\n      <td>19</td>\n      <td>20.489362</td>\n      <td>2.680851</td>\n      <td>4.468085</td>\n      <td>8.361702</td>\n      <td>0.40</td>\n    </tr>\n    <tr>\n      <th>Varian</th>\n      <td>93</td>\n      <td>46</td>\n      <td>20.688172</td>\n      <td>3.935484</td>\n      <td>4.322581</td>\n      <td>9.043011</td>\n      <td>0.49</td>\n    </tr>\n    <tr>\n      <th>Zagara</th>\n      <td>1</td>\n      <td>1</td>\n      <td>22.000000</td>\n      <td>1.000000</td>\n      <td>5.000000</td>\n      <td>6.000000</td>\n      <td>1.00</td>\n    </tr>\n    <tr>\n      <th>Zarya</th>\n      <td>14</td>\n      <td>8</td>\n      <td>20.071429</td>\n      <td>3.500000</td>\n      <td>3.357143</td>\n      <td>7.857143</td>\n      <td>0.57</td>\n    </tr>\n    <tr>\n      <th>Zul'jin</th>\n      <td>2</td>\n      <td>2</td>\n      <td>22.500000</td>\n      <td>8.000000</td>\n      <td>4.000000</td>\n      <td>8.500000</td>\n      <td>1.00</td>\n    </tr>\n  </tbody>\n</table>\n</div>"
     },
     "execution_count": 219,
     "metadata": {},
     "output_type": "execute_result"
    }
   ],
   "source": [
    "dfn = df.groupby(['Hero']).agg(\n",
    "    Count=('NewRole', 'count')\n",
    "    , Wins=('IsWinner', 'sum')\n",
    "    , MeanLevel=('Level', 'mean')\n",
    "    , MeanDeaths=('Deaths', 'mean')\n",
    "    , MeanKills=('Kills', 'mean')\n",
    "    , MeanAssists=('Assists', 'mean')\n",
    ")\n",
    "\n",
    "dfn['WinRate'] = round(dfn.Wins / dfn.Count, 2)\n",
    "dfn = dfn.groupby(['Hero']).head(5).sort_index()\n",
    "dfn.head(100)"
   ],
   "metadata": {
    "collapsed": false,
    "pycharm": {
     "name": "#%%\n"
    }
   }
  },
  {
   "cell_type": "code",
   "execution_count": 126,
   "outputs": [
    {
     "data": {
      "text/plain": "        Count\nBinned       \n30        320\n60        310\n90        242",
      "text/html": "<div>\n<style scoped>\n    .dataframe tbody tr th:only-of-type {\n        vertical-align: middle;\n    }\n\n    .dataframe tbody tr th {\n        vertical-align: top;\n    }\n\n    .dataframe thead th {\n        text-align: right;\n    }\n</style>\n<table border=\"1\" class=\"dataframe\">\n  <thead>\n    <tr style=\"text-align: right;\">\n      <th></th>\n      <th>Count</th>\n    </tr>\n    <tr>\n      <th>Binned</th>\n      <th></th>\n    </tr>\n  </thead>\n  <tbody>\n    <tr>\n      <th>30</th>\n      <td>320</td>\n    </tr>\n    <tr>\n      <th>60</th>\n      <td>310</td>\n    </tr>\n    <tr>\n      <th>90</th>\n      <td>242</td>\n    </tr>\n  </tbody>\n</table>\n</div>"
     },
     "execution_count": 126,
     "metadata": {},
     "output_type": "execute_result"
    }
   ],
   "source": [
    "bins = [0, 30, 60, 90]\n",
    "labels =[30,60,90]\n",
    "dfn = df[df.GameDate > datetime.datetime.now() - pd.to_timedelta(\"90day\")][['SourceReplayId', 'GameDate', ]]\n",
    "dfn['ReplayAgeInDays'] = ((dfn['GameDate'] - datetime.datetime.now()).dt.days) * -1\n",
    "dfn['Binned'] = pd.cut(dfn['ReplayAgeInDays'], bins,labels=labels)\n",
    "dfn.groupby('Binned').agg(Count=('Binned', 'count'))"
   ],
   "metadata": {
    "collapsed": false,
    "pycharm": {
     "name": "#%%\n"
    }
   }
  },
  {
   "cell_type": "code",
   "execution_count": null,
   "outputs": [],
   "source": [],
   "metadata": {
    "collapsed": false,
    "pycharm": {
     "name": "#%%\n"
    }
   }
  }
 ],
 "metadata": {
  "kernelspec": {
   "display_name": "Python 3",
   "language": "python",
   "name": "python3"
  },
  "language_info": {
   "codemirror_mode": {
    "name": "ipython",
    "version": 2
   },
   "file_extension": ".py",
   "mimetype": "text/x-python",
   "name": "python",
   "nbconvert_exporter": "python",
   "pygments_lexer": "ipython2",
   "version": "2.7.6"
  }
 },
 "nbformat": 4,
 "nbformat_minor": 0
}