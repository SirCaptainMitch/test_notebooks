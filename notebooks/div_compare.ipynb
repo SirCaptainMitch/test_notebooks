{
 "cells": [
  {
   "cell_type": "code",
   "execution_count": 5,
   "metadata": {
    "collapsed": true
   },
   "outputs": [],
   "source": [
    "import sqlalchemy as sa\n",
    "import pandas as pd\n",
    "import numpy as np\n",
    "from notebooks.scripts import engine, game_types, team_names"
   ]
  },
  {
   "cell_type": "code",
   "execution_count": 6,
   "outputs": [],
   "source": [
    "meta_data = sa.MetaData(bind=engine)\n",
    "sa.MetaData.reflect(meta_data)"
   ],
   "metadata": {
    "collapsed": false,
    "pycharm": {
     "name": "#%%\n"
    }
   }
  },
  {
   "cell_type": "code",
   "execution_count": 7,
   "outputs": [],
   "source": [
    "Hero=meta_data.tables['Hero']\n",
    "Map=meta_data.tables['Map']\n",
    "ReplayDetail=meta_data.tables['ReplayDetail']\n",
    "ReplayPlayer=meta_data.tables['ReplayPlayer']\n",
    "TeamPlayerReplayHistory=meta_data.tables['TeamPlayerReplayHistory']\n",
    "\n",
    "TeamRollup=meta_data.tables['TeamRollup']\n",
    "TeamHeroRollup=meta_data.tables['TeamHeroRollup']\n",
    "TeamStandingRollup=meta_data.tables['TeamStandingRollup']\n",
    "\n",
    "Player=meta_data.tables['Player']"
   ],
   "metadata": {
    "collapsed": false,
    "pycharm": {
     "name": "#%%\n"
    }
   }
  },
  {
   "cell_type": "code",
   "execution_count": null,
   "outputs": [],
   "source": [
    "player_history_df = pd.read_sql(sql=sa.select(TeamPlayerReplayHistory), con=engine)\n",
    "\n",
    "replay_j = ReplayDetail\\\n",
    "    .join(Map,Map.c.MapId == ReplayDetail.c.MapId)\\\n",
    "    .join(TeamRollup,TeamRollup.c.PlayerId == ReplayPlayer.c.PlayerId)\n",
    "\n",
    "replay_query = sa.select(\n",
    "    TeamRollup.c.PlayerId\n",
    "   , TeamRollup.c.Battletag\n",
    "    , TeamRollup.c.AccountLevel\n",
    "    , TeamRollup.c.TeamName\n",
    "    , ReplayDetail.c.GameDate\n",
    "    , ReplayDetail.c.GameType\n",
    "    , ReplayDetail.c.GameLengthTimestamp\n",
    "    , Hero.c.HeroName\n",
    "    , Hero.c.NewRole\n",
    "    , Map.c.MapName\n",
    "    , ReplayDetail.c.ReplayFingerPrint\n",
    ").select_from(replay_j).where(sa.and_(\n",
    "    ReplayDetail.c.GameType.not_in(game_types)\n",
    "))\n",
    "\n",
    "replay_df = pd.read_sql(sql=replay_query, con=engine)\n",
    "\n",
    "replay_df['RoleCode'] = replay_df['NewRole'].astype('category').cat.codes\n",
    "replay_df['HeroCode'] = replay_df['HeroName'].astype('category').cat.codes\n",
    "replay_df['MapCode'] = replay_df['MapName'].astype('category').cat.codes\n",
    "replay_df['GameTypeCode'] = replay_df['GameType'].astype('category').cat.codes\n",
    "replay_df['TeamNameCode'] = replay_df['TeamName'].astype('category').cat.codes\n",
    "replay_df['FingerPrintCode'] = replay_df['ReplayFingerPrint'].astype('category').cat.codes\n",
    "\n",
    "\n",
    "replay_df['Battletag'] = replay_df['Battletag'].str.lower()\n",
    "\n",
    "print(f'Total full replay count: {replay_df.shape[0]}')"
   ],
   "metadata": {
    "collapsed": false,
    "pycharm": {
     "name": "#%%\n"
    }
   }
  },
  {
   "cell_type": "code",
   "execution_count": 9,
   "outputs": [
    {
     "name": "stdout",
     "output_type": "stream",
     "text": [
      "Total full replay count: 51746 - Total player history count: 155760\n"
     ]
    }
   ],
   "source": [
    "player_history_df = pd.read_sql(sql=sa.select(TeamPlayerReplayHistory), con=engine)\n",
    "\n",
    "replay_j = ReplayDetail\\\n",
    "    .join(ReplayPlayer, ReplayPlayer.c.ReplayId == ReplayDetail.c.ReplayId)\\\n",
    "    .join(Hero,Hero.c.HeroId == ReplayPlayer.c.HeroId)\\\n",
    "    .join(Map,Map.c.MapId == ReplayDetail.c.MapId)\\\n",
    "    .join(TeamRollup,TeamRollup.c.PlayerId == ReplayPlayer.c.PlayerId)\n",
    "\n",
    "replay_query = sa.select(\n",
    "    TeamRollup.c.PlayerId\n",
    "   , TeamRollup.c.Battletag\n",
    "    , TeamRollup.c.AccountLevel\n",
    "    , TeamRollup.c.TeamName\n",
    "    , ReplayDetail.c.GameDate\n",
    "    , ReplayDetail.c.GameType\n",
    "    , ReplayDetail.c.GameLengthTimestamp\n",
    "    , Hero.c.HeroName\n",
    "    , Hero.c.NewRole\n",
    "    , Map.c.MapName\n",
    "    , ReplayPlayer.c.Team\n",
    "    , ReplayPlayer.c.IsWinner\n",
    "    , ReplayPlayer.c.Party\n",
    "    , ReplayPlayer.c.FirstToTen\n",
    "    , ReplayPlayer.c.Kills\n",
    "    , ReplayPlayer.c.Assists\n",
    "    , ReplayPlayer.c.Takedowns\n",
    "    , ReplayPlayer.c.Deaths\n",
    "    , ReplayPlayer.c.Level\n",
    "    , ReplayPlayer.c.HeroDamage\n",
    "    , ReplayPlayer.c.SiegeDamage\n",
    "    , ReplayPlayer.c.StructureDamage\n",
    "    , ReplayPlayer.c.MinionDamage\n",
    "    , ReplayPlayer.c.CreepDamage\n",
    "    , ReplayPlayer.c.SummonDamage\n",
    "    , ReplayPlayer.c.TimeCcEnemyHeroes\n",
    "    , ReplayPlayer.c.Healing\n",
    "    , ReplayPlayer.c.SelfHealing\n",
    "    , ReplayPlayer.c.DamageTaken\n",
    "    , ReplayPlayer.c.ExperienceContribution\n",
    "    , ReplayPlayer.c.HighestKillStreak\n",
    "    , ReplayPlayer.c.TownKills\n",
    "    , ReplayPlayer.c.Multikill\n",
    "    , ReplayPlayer.c.TimeSpentDead\n",
    "    , ReplayPlayer.c.MercCampCaptures\n",
    "    , ReplayPlayer.c.WatchTowerCaptures\n",
    "    , ReplayPlayer.c.MetaExperience\n",
    "    , ReplayPlayer.c.ProtectionAllies\n",
    "    , ReplayPlayer.c.SilencingEnemies\n",
    "    , ReplayPlayer.c.RootingEnemies\n",
    "    , ReplayPlayer.c.StunningEnemies\n",
    "    , ReplayPlayer.c.ClutchHeals\n",
    "    , ReplayPlayer.c.Escapes\n",
    "    , ReplayPlayer.c.Vengeance\n",
    "    , ReplayPlayer.c.OutnumberedDeaths\n",
    "    , ReplayPlayer.c.TeamfightEscapes\n",
    "    , ReplayPlayer.c.TeamfightHealing\n",
    "    , ReplayPlayer.c.TeamfightDamageTaken\n",
    "    , ReplayPlayer.c.TeamfightHeroDamage\n",
    "    , ReplayPlayer.c.PhysicalDamage\n",
    "    , ReplayPlayer.c.SpellDamage\n",
    "    , ReplayPlayer.c.RegenGlobes\n",
    "    , ReplayPlayer.c.TimeonFire\n",
    "    , TeamRollup.c.BlizzardId\n",
    "    , ReplayDetail.c.ReplayFingerPrint\n",
    ").select_from(replay_j).where(sa.and_(\n",
    "    ReplayDetail.c.GameType.not_in(game_types)\n",
    "))\n",
    "\n",
    "replay_df = pd.read_sql(sql=replay_query, con=engine)\n",
    "\n",
    "replay_df['RoleCode'] = replay_df['NewRole'].astype('category').cat.codes\n",
    "replay_df['HeroCode'] = replay_df['HeroName'].astype('category').cat.codes\n",
    "replay_df['MapCode'] = replay_df['MapName'].astype('category').cat.codes\n",
    "replay_df['GameTypeCode'] = replay_df['GameType'].astype('category').cat.codes\n",
    "replay_df['TeamNameCode'] = replay_df['TeamName'].astype('category').cat.codes\n",
    "replay_df['FingerPrintCode'] = replay_df['ReplayFingerPrint'].astype('category').cat.codes\n",
    "\n",
    "\n",
    "replay_df['Battletag'] = replay_df['Battletag'].str.lower()\n",
    "\n",
    "print(f'Total full replay count: {replay_df.shape[0]}')"
   ],
   "metadata": {
    "collapsed": false,
    "pycharm": {
     "name": "#%%\n"
    }
   }
  },
  {
   "cell_type": "code",
   "execution_count": null,
   "outputs": [],
   "source": [
    "replay_df.to_sql('TeamReplayRollup', con=engine, if_exists='replace', index=False)"
   ],
   "metadata": {
    "collapsed": false,
    "pycharm": {
     "name": "#%%\n"
    }
   }
  },
  {
   "cell_type": "code",
   "execution_count": null,
   "outputs": [],
   "source": [
    "team_replay_df = player_history_df[['ReplayFingerPrint', 'Battletag', 'Team']].groupby(['ReplayFingerPrint', 'Team']).agg('count').reset_index()\n",
    "team_replay_df['TotalPlayers'] = team_replay_df['Battletag']\n",
    "team_replay_df = team_replay_df[team_replay_df['Battletag'] >= 5]\n",
    "t_df = pd.merge(player_history_df, team_replay_df[['ReplayFingerPrint', 'TotalPlayers']], left_on='ReplayFingerPrint', right_on='ReplayFingerPrint')\n",
    "print(f'Total team replay count: {t_df.shape[0]}')\n",
    "t_df.head(5000)"
   ],
   "metadata": {
    "collapsed": false,
    "pycharm": {
     "name": "#%%\n"
    }
   }
  },
  {
   "cell_type": "code",
   "execution_count": null,
   "outputs": [],
   "source": [
    "t_df[t_df['TeamName'].isin(['30 seconds to mosh', 'gold dragons'])][['ReplayFingerPrint', 'TotalPlayers', 'Battletag', 'Team', 'GameDate', 'MapName', 'HeroName', 'GameType', 'IsWinner']].head(100)"
   ],
   "metadata": {
    "collapsed": false,
    "pycharm": {
     "name": "#%%\n"
    }
   }
  },
  {
   "cell_type": "code",
   "execution_count": null,
   "outputs": [],
   "source": [
    "from datetime import datetime\n",
    "\n",
    "print(datetime.now())"
   ],
   "metadata": {
    "collapsed": false,
    "pycharm": {
     "name": "#%%\n"
    }
   }
  },
  {
   "cell_type": "code",
   "execution_count": null,
   "outputs": [],
   "source": [],
   "metadata": {
    "collapsed": false,
    "pycharm": {
     "name": "#%%\n"
    }
   }
  }
 ],
 "metadata": {
  "kernelspec": {
   "display_name": "Python 3",
   "language": "python",
   "name": "python3"
  },
  "language_info": {
   "codemirror_mode": {
    "name": "ipython",
    "version": 2
   },
   "file_extension": ".py",
   "mimetype": "text/x-python",
   "name": "python",
   "nbconvert_exporter": "python",
   "pygments_lexer": "ipython2",
   "version": "2.7.6"
  }
 },
 "nbformat": 4,
 "nbformat_minor": 0
}