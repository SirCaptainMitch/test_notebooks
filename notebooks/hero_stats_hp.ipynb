{
 "cells": [
  {
   "cell_type": "code",
   "execution_count": 2,
   "metadata": {
    "collapsed": true,
    "pycharm": {
     "name": "#%%\n"
    }
   },
   "outputs": [],
   "source": [
    "import json\n",
    "import csv\n",
    "import os\n",
    "from pprint import pprint as pr\n",
    "import sqlalchemy as sa\n",
    "import pandas as pd\n",
    "from app.sample_data import stat_vectors, comp_style_vectors, map_style_vectors, roles"
   ]
  },
  {
   "cell_type": "code",
   "execution_count": 3,
   "outputs": [],
   "source": [
    "BASE_DIR = os.path.abspath(os.path.dirname('../'))\n",
    "\n",
    "SERVER='192.168.0.245'\n",
    "SQLSERVER_DATABASE='lookingglass'\n",
    "SQLSERVER_USER='thecaptain'\n",
    "SQLSERVER_PASSWORD='99Redbal00ns'\n",
    "PORT=1433\n",
    "SQLSERVER_BASE_URI = 'mssql+pyodbc://{USER}:{PWD}@{SERVER}:{PORT}/{DATABASE}?driver=ODBC+Driver+17+for+SQL+Server'\n",
    "\n",
    "engine = sa.create_engine(SQLSERVER_BASE_URI.format(\n",
    "  SERVER=SERVER,\n",
    "  DATABASE=SQLSERVER_DATABASE,\n",
    "  USER=SQLSERVER_USER,\n",
    "  PWD=SQLSERVER_PASSWORD,\n",
    "  PORT=PORT\n",
    "))\n",
    "\n",
    "hero_stats_path = f'{BASE_DIR}\\\\app\\sample_data\\hero_stats.json'\n",
    "builds_path = f'{BASE_DIR}\\\\app\\sample_data\\hero_builds.json'\n",
    "talents_path = f'{BASE_DIR}\\\\app\\sample_data\\hero_talents.json'"
   ],
   "metadata": {
    "collapsed": false,
    "pycharm": {
     "name": "#%%\n"
    }
   }
  },
  {
   "cell_type": "code",
   "execution_count": 52,
   "outputs": [],
   "source": [
    "hero_stats_df = pd.read_json(hero_stats_path)\n",
    "builds_df = pd.read_json(builds_path)\n",
    "talents_df = pd.read_json(talents_path)\n",
    "\n",
    "# builds_df.to_sql('HeroBuildAgg', con=engine, if_exists='replace')\n",
    "# talents_df.to_sql('HeroTalentAgg', con=engine, if_exists='replace')\n",
    "# hero_stats_df.to_sql('HeroStatsAgg', con=engine, if_exists='replace')"
   ],
   "metadata": {
    "collapsed": false,
    "pycharm": {
     "name": "#%%\n"
    }
   }
  },
  {
   "cell_type": "code",
   "execution_count": 56,
   "outputs": [
    {
     "data": {
      "text/plain": "           hero                                                  1  \\\n0       Abathur  {'Pressurized Glands': {'games_played': 2487, ...   \n1        Alarak  {'Overwhelming Power': {'games_played': 3173, ...   \n2   Alexstrasza  {'Live and Let Live': {'games_played': 1392, '...   \n3           Ana  {'Contact Healing': {'games_played': 1127, 'wi...   \n4        Anduin  {'Evenhanded Blessings': {'games_played': 6223...   \n..          ...                                                ...   \n85         Yrel  {'Light of Karabor': {'games_played': 520, 'wi...   \n86       Zagara  {'Volatile Acid': {'games_played': 520, 'wins'...   \n87        Zarya  {'Demolitions Expert': {'games_played': 474, '...   \n88      Zeratul  {'Greater Cleave': {'games_played': 873, 'wins...   \n89      Zul'jin  {'Boneslicer': {'games_played': 907, 'wins': 4...   \n\n                                                    4  \\\n0   {'Adrenal Overload': {'games_played': 3353, 'w...   \n1   {'Chaos Reigns': {'games_played': 1800, 'wins'...   \n2   {'Surge of Vitality': {'games_played': 1040, '...   \n3   {'Biotic Enhancements': {'games_played': 962, ...   \n4   {'Moral Compass': {'games_played': 6381, 'wins...   \n..                                                ...   \n85  {'Aegis of Light': {'games_played': 211, 'wins...   \n86  {'Envenomed Spines': {'games_played': 1414, 'w...   \n87  {'I Am the Strongest': {'games_played': 760, '...   \n88  {'Rending Cleave': {'games_played': 919, 'wins...   \n89  {'Troll's Blood': {'games_played': 1786, 'wins...   \n\n                                                    7  \\\n0   {'Vile Nest': {'games_played': 388, 'wins': 14...   \n1   {'Dissonance': {'games_played': 757, 'wins': 3...   \n2   {'Lifeblossom': {'games_played': 1464, 'wins':...   \n3   {'Anti-Healer': {'games_played': 1098, 'wins':...   \n4   {'Binding Heal': {'games_played': 2749, 'wins'...   \n..                                                ...   \n85  {'Righteous Momentum': {'games_played': 717, '...   \n86  {'Baneling Massacre': {'games_played': 732, 'w...   \n87  {'Pinpoint Accuracy': {'games_played': 1163, '...   \n88  {'Wormhole': {'games_played': 1682, 'wins': 87...   \n89  {'Vicious Assault': {'games_played': 1020, 'wi...   \n\n                                                   10  \\\n0   {'Ultimate Evolution': {'games_played': 2860, ...   \n1   {'Deadly Charge': {'games_played': 1508, 'wins...   \n2   {'Life-Binder': {'games_played': 2057, 'wins':...   \n3   {'Nano Boost': {'games_played': 2801, 'wins': ...   \n4   {'Holy Word: Salvation': {'games_played': 5761...   \n..                                                ...   \n85  {'Ardent Defender': {'games_played': 1556, 'wi...   \n86  {'Devouring Maw': {'games_played': 2711, 'wins...   \n87  {'Graviton Surge': {'games_played': 1258, 'win...   \n88  {'Might of the Nerazim': {'games_played': 3484...   \n89  {'Taz'dingo!': {'games_played': 7753, 'wins': ...   \n\n                                                   13  \\\n0   {'Spatial Efficiency': {'games_played': 466, '...   \n1   {'Blade of the Highlord': {'games_played': 253...   \n2   {'Dragon Scales': {'games_played': 979, 'wins'...   \n3   {'Speed Serum': {'games_played': 693, 'wins': ...   \n4   {'Speed of the Pious': {'games_played': 8610, ...   \n..                                                ...   \n85  {'Aldor Peacekeeper': {'games_played': 416, 'w...   \n86  {'Hydralisk Transfusion': {'games_played': 347...   \n87  {'Unstoppable Competitor': {'games_played': 83...   \n88  {'Shroud of Adun': {'games_played': 732, 'wins...   \n89  {'Lacerate': {'games_played': 1272, 'wins': 64...   \n\n                                                   16  \\\n0   {'Envenomed Spikes': {'games_played': 1115, 'w...   \n1   {'Lethal Onslaught': {'games_played': 2045, 'w...   \n2   {'Tough Love': {'games_played': 869, 'wins': 4...   \n3   {'Sharpshooter': {'games_played': 1160, 'wins'...   \n4   {'Renew': {'games_played': 3265, 'wins': 1761,...   \n..                                                ...   \n85  {'Templar's Verdict': {'games_played': 1284, '...   \n86  {'Corrosive Saliva': {'games_played': 3057, 'w...   \n87  {'Cleansing Shield': {'games_played': 400, 'wi...   \n88  {'Master Warp-Blade': {'games_played': 2064, '...   \n89  {'No Mercy!': {'games_played': 1396, 'wins': 7...   \n\n                                                   20    0  \n0   {'Evolutionary Link': {'games_played': 331, 'w...  NaN  \n1   {'Counter-Strike': {'games_played': 636, 'wins...  NaN  \n2   {'Ritual of Life': {'games_played': 851, 'wins...  NaN  \n3   {'Nano Infusion': {'games_played': 1107, 'wins...  NaN  \n4   {'Light of Stormwind': {'games_played': 2453, ...  NaN  \n..                                                ...  ...  \n85  {'Word of Glory': {'games_played': 167, 'wins'...  NaN  \n86  {'Tyrant Maw': {'games_played': 281, 'wins': 1...  NaN  \n87  {'Gravity Kills': {'games_played': 495, 'wins'...  NaN  \n88  {'Twilight Falls': {'games_played': 1065, 'win...  NaN  \n89  {'Amani Resilience': {'games_played': 3390, 'w...  NaN  \n\n[90 rows x 9 columns]",
      "text/html": "<div>\n<style scoped>\n    .dataframe tbody tr th:only-of-type {\n        vertical-align: middle;\n    }\n\n    .dataframe tbody tr th {\n        vertical-align: top;\n    }\n\n    .dataframe thead th {\n        text-align: right;\n    }\n</style>\n<table border=\"1\" class=\"dataframe\">\n  <thead>\n    <tr style=\"text-align: right;\">\n      <th></th>\n      <th>hero</th>\n      <th>1</th>\n      <th>4</th>\n      <th>7</th>\n      <th>10</th>\n      <th>13</th>\n      <th>16</th>\n      <th>20</th>\n      <th>0</th>\n    </tr>\n  </thead>\n  <tbody>\n    <tr>\n      <th>0</th>\n      <td>Abathur</td>\n      <td>{'Pressurized Glands': {'games_played': 2487, ...</td>\n      <td>{'Adrenal Overload': {'games_played': 3353, 'w...</td>\n      <td>{'Vile Nest': {'games_played': 388, 'wins': 14...</td>\n      <td>{'Ultimate Evolution': {'games_played': 2860, ...</td>\n      <td>{'Spatial Efficiency': {'games_played': 466, '...</td>\n      <td>{'Envenomed Spikes': {'games_played': 1115, 'w...</td>\n      <td>{'Evolutionary Link': {'games_played': 331, 'w...</td>\n      <td>NaN</td>\n    </tr>\n    <tr>\n      <th>1</th>\n      <td>Alarak</td>\n      <td>{'Overwhelming Power': {'games_played': 3173, ...</td>\n      <td>{'Chaos Reigns': {'games_played': 1800, 'wins'...</td>\n      <td>{'Dissonance': {'games_played': 757, 'wins': 3...</td>\n      <td>{'Deadly Charge': {'games_played': 1508, 'wins...</td>\n      <td>{'Blade of the Highlord': {'games_played': 253...</td>\n      <td>{'Lethal Onslaught': {'games_played': 2045, 'w...</td>\n      <td>{'Counter-Strike': {'games_played': 636, 'wins...</td>\n      <td>NaN</td>\n    </tr>\n    <tr>\n      <th>2</th>\n      <td>Alexstrasza</td>\n      <td>{'Live and Let Live': {'games_played': 1392, '...</td>\n      <td>{'Surge of Vitality': {'games_played': 1040, '...</td>\n      <td>{'Lifeblossom': {'games_played': 1464, 'wins':...</td>\n      <td>{'Life-Binder': {'games_played': 2057, 'wins':...</td>\n      <td>{'Dragon Scales': {'games_played': 979, 'wins'...</td>\n      <td>{'Tough Love': {'games_played': 869, 'wins': 4...</td>\n      <td>{'Ritual of Life': {'games_played': 851, 'wins...</td>\n      <td>NaN</td>\n    </tr>\n    <tr>\n      <th>3</th>\n      <td>Ana</td>\n      <td>{'Contact Healing': {'games_played': 1127, 'wi...</td>\n      <td>{'Biotic Enhancements': {'games_played': 962, ...</td>\n      <td>{'Anti-Healer': {'games_played': 1098, 'wins':...</td>\n      <td>{'Nano Boost': {'games_played': 2801, 'wins': ...</td>\n      <td>{'Speed Serum': {'games_played': 693, 'wins': ...</td>\n      <td>{'Sharpshooter': {'games_played': 1160, 'wins'...</td>\n      <td>{'Nano Infusion': {'games_played': 1107, 'wins...</td>\n      <td>NaN</td>\n    </tr>\n    <tr>\n      <th>4</th>\n      <td>Anduin</td>\n      <td>{'Evenhanded Blessings': {'games_played': 6223...</td>\n      <td>{'Moral Compass': {'games_played': 6381, 'wins...</td>\n      <td>{'Binding Heal': {'games_played': 2749, 'wins'...</td>\n      <td>{'Holy Word: Salvation': {'games_played': 5761...</td>\n      <td>{'Speed of the Pious': {'games_played': 8610, ...</td>\n      <td>{'Renew': {'games_played': 3265, 'wins': 1761,...</td>\n      <td>{'Light of Stormwind': {'games_played': 2453, ...</td>\n      <td>NaN</td>\n    </tr>\n    <tr>\n      <th>...</th>\n      <td>...</td>\n      <td>...</td>\n      <td>...</td>\n      <td>...</td>\n      <td>...</td>\n      <td>...</td>\n      <td>...</td>\n      <td>...</td>\n      <td>...</td>\n    </tr>\n    <tr>\n      <th>85</th>\n      <td>Yrel</td>\n      <td>{'Light of Karabor': {'games_played': 520, 'wi...</td>\n      <td>{'Aegis of Light': {'games_played': 211, 'wins...</td>\n      <td>{'Righteous Momentum': {'games_played': 717, '...</td>\n      <td>{'Ardent Defender': {'games_played': 1556, 'wi...</td>\n      <td>{'Aldor Peacekeeper': {'games_played': 416, 'w...</td>\n      <td>{'Templar's Verdict': {'games_played': 1284, '...</td>\n      <td>{'Word of Glory': {'games_played': 167, 'wins'...</td>\n      <td>NaN</td>\n    </tr>\n    <tr>\n      <th>86</th>\n      <td>Zagara</td>\n      <td>{'Volatile Acid': {'games_played': 520, 'wins'...</td>\n      <td>{'Envenomed Spines': {'games_played': 1414, 'w...</td>\n      <td>{'Baneling Massacre': {'games_played': 732, 'w...</td>\n      <td>{'Devouring Maw': {'games_played': 2711, 'wins...</td>\n      <td>{'Hydralisk Transfusion': {'games_played': 347...</td>\n      <td>{'Corrosive Saliva': {'games_played': 3057, 'w...</td>\n      <td>{'Tyrant Maw': {'games_played': 281, 'wins': 1...</td>\n      <td>NaN</td>\n    </tr>\n    <tr>\n      <th>87</th>\n      <td>Zarya</td>\n      <td>{'Demolitions Expert': {'games_played': 474, '...</td>\n      <td>{'I Am the Strongest': {'games_played': 760, '...</td>\n      <td>{'Pinpoint Accuracy': {'games_played': 1163, '...</td>\n      <td>{'Graviton Surge': {'games_played': 1258, 'win...</td>\n      <td>{'Unstoppable Competitor': {'games_played': 83...</td>\n      <td>{'Cleansing Shield': {'games_played': 400, 'wi...</td>\n      <td>{'Gravity Kills': {'games_played': 495, 'wins'...</td>\n      <td>NaN</td>\n    </tr>\n    <tr>\n      <th>88</th>\n      <td>Zeratul</td>\n      <td>{'Greater Cleave': {'games_played': 873, 'wins...</td>\n      <td>{'Rending Cleave': {'games_played': 919, 'wins...</td>\n      <td>{'Wormhole': {'games_played': 1682, 'wins': 87...</td>\n      <td>{'Might of the Nerazim': {'games_played': 3484...</td>\n      <td>{'Shroud of Adun': {'games_played': 732, 'wins...</td>\n      <td>{'Master Warp-Blade': {'games_played': 2064, '...</td>\n      <td>{'Twilight Falls': {'games_played': 1065, 'win...</td>\n      <td>NaN</td>\n    </tr>\n    <tr>\n      <th>89</th>\n      <td>Zul'jin</td>\n      <td>{'Boneslicer': {'games_played': 907, 'wins': 4...</td>\n      <td>{'Troll's Blood': {'games_played': 1786, 'wins...</td>\n      <td>{'Vicious Assault': {'games_played': 1020, 'wi...</td>\n      <td>{'Taz'dingo!': {'games_played': 7753, 'wins': ...</td>\n      <td>{'Lacerate': {'games_played': 1272, 'wins': 64...</td>\n      <td>{'No Mercy!': {'games_played': 1396, 'wins': 7...</td>\n      <td>{'Amani Resilience': {'games_played': 3390, 'w...</td>\n      <td>NaN</td>\n    </tr>\n  </tbody>\n</table>\n<p>90 rows × 9 columns</p>\n</div>"
     },
     "execution_count": 56,
     "metadata": {},
     "output_type": "execute_result"
    }
   ],
   "source": [
    "hero_talents_list = []\n",
    "\n",
    "with open(talents_path, 'r', encoding='utf-8') as f:\n",
    "  hero_talents = json.loads(f.read())\n",
    "\n",
    "for hero, stats in hero_talents.items():\n",
    "  x = dict(hero=hero, **stats)\n",
    "  hero_talents_list.append(x)\n",
    "\n",
    "talents_df = pd.DataFrame(hero_talents_list)\n",
    "\n",
    "talents_df"
   ],
   "metadata": {
    "collapsed": false,
    "pycharm": {
     "name": "#%%\n"
    }
   }
  },
  {
   "cell_type": "code",
   "execution_count": 51,
   "outputs": [
    {
     "data": {
      "text/plain": "           hero  losses  wins   bans  games_played  win_rate  popularity  \\\n0       Abathur    2751  2186   5607          4937     44.28       17.58   \n1        Alarak    2294  2247   1304          4541     49.48        9.74   \n2   Alexstrasza    1775  1662    361          3437     48.36        6.33   \n3           Ana    2125  1749    784          3874     45.15        7.77   \n4        Anduin    8975  8792  11793         17767     49.49       49.28   \n..          ...     ...   ...    ...           ...       ...         ...   \n85         Yrel     960   862    196          1822     47.31        3.36   \n86       Zagara    2435  2533   1303          4968     50.99       10.45   \n87        Zarya     962   913    269          1875     48.69        3.57   \n88      Zeratul    2128  2161   2695          4289     50.38       11.64   \n89      Zul'jin    4253  4533   2857          8786     51.59       19.41   \n\n    ban_rate  pick_rate  \n0       9.35       8.23  \n1       2.17       7.57  \n2       0.60       5.73  \n3       1.31       6.46  \n4      19.66      29.62  \n..       ...        ...  \n85      0.33       3.04  \n86      2.17       8.28  \n87      0.45       3.13  \n88      4.49       7.15  \n89      4.76      14.65  \n\n[90 rows x 9 columns]",
      "text/html": "<div>\n<style scoped>\n    .dataframe tbody tr th:only-of-type {\n        vertical-align: middle;\n    }\n\n    .dataframe tbody tr th {\n        vertical-align: top;\n    }\n\n    .dataframe thead th {\n        text-align: right;\n    }\n</style>\n<table border=\"1\" class=\"dataframe\">\n  <thead>\n    <tr style=\"text-align: right;\">\n      <th></th>\n      <th>hero</th>\n      <th>losses</th>\n      <th>wins</th>\n      <th>bans</th>\n      <th>games_played</th>\n      <th>win_rate</th>\n      <th>popularity</th>\n      <th>ban_rate</th>\n      <th>pick_rate</th>\n    </tr>\n  </thead>\n  <tbody>\n    <tr>\n      <th>0</th>\n      <td>Abathur</td>\n      <td>2751</td>\n      <td>2186</td>\n      <td>5607</td>\n      <td>4937</td>\n      <td>44.28</td>\n      <td>17.58</td>\n      <td>9.35</td>\n      <td>8.23</td>\n    </tr>\n    <tr>\n      <th>1</th>\n      <td>Alarak</td>\n      <td>2294</td>\n      <td>2247</td>\n      <td>1304</td>\n      <td>4541</td>\n      <td>49.48</td>\n      <td>9.74</td>\n      <td>2.17</td>\n      <td>7.57</td>\n    </tr>\n    <tr>\n      <th>2</th>\n      <td>Alexstrasza</td>\n      <td>1775</td>\n      <td>1662</td>\n      <td>361</td>\n      <td>3437</td>\n      <td>48.36</td>\n      <td>6.33</td>\n      <td>0.60</td>\n      <td>5.73</td>\n    </tr>\n    <tr>\n      <th>3</th>\n      <td>Ana</td>\n      <td>2125</td>\n      <td>1749</td>\n      <td>784</td>\n      <td>3874</td>\n      <td>45.15</td>\n      <td>7.77</td>\n      <td>1.31</td>\n      <td>6.46</td>\n    </tr>\n    <tr>\n      <th>4</th>\n      <td>Anduin</td>\n      <td>8975</td>\n      <td>8792</td>\n      <td>11793</td>\n      <td>17767</td>\n      <td>49.49</td>\n      <td>49.28</td>\n      <td>19.66</td>\n      <td>29.62</td>\n    </tr>\n    <tr>\n      <th>...</th>\n      <td>...</td>\n      <td>...</td>\n      <td>...</td>\n      <td>...</td>\n      <td>...</td>\n      <td>...</td>\n      <td>...</td>\n      <td>...</td>\n      <td>...</td>\n    </tr>\n    <tr>\n      <th>85</th>\n      <td>Yrel</td>\n      <td>960</td>\n      <td>862</td>\n      <td>196</td>\n      <td>1822</td>\n      <td>47.31</td>\n      <td>3.36</td>\n      <td>0.33</td>\n      <td>3.04</td>\n    </tr>\n    <tr>\n      <th>86</th>\n      <td>Zagara</td>\n      <td>2435</td>\n      <td>2533</td>\n      <td>1303</td>\n      <td>4968</td>\n      <td>50.99</td>\n      <td>10.45</td>\n      <td>2.17</td>\n      <td>8.28</td>\n    </tr>\n    <tr>\n      <th>87</th>\n      <td>Zarya</td>\n      <td>962</td>\n      <td>913</td>\n      <td>269</td>\n      <td>1875</td>\n      <td>48.69</td>\n      <td>3.57</td>\n      <td>0.45</td>\n      <td>3.13</td>\n    </tr>\n    <tr>\n      <th>88</th>\n      <td>Zeratul</td>\n      <td>2128</td>\n      <td>2161</td>\n      <td>2695</td>\n      <td>4289</td>\n      <td>50.38</td>\n      <td>11.64</td>\n      <td>4.49</td>\n      <td>7.15</td>\n    </tr>\n    <tr>\n      <th>89</th>\n      <td>Zul'jin</td>\n      <td>4253</td>\n      <td>4533</td>\n      <td>2857</td>\n      <td>8786</td>\n      <td>51.59</td>\n      <td>19.41</td>\n      <td>4.76</td>\n      <td>14.65</td>\n    </tr>\n  </tbody>\n</table>\n<p>90 rows × 9 columns</p>\n</div>"
     },
     "execution_count": 51,
     "metadata": {},
     "output_type": "execute_result"
    }
   ],
   "source": [
    "hero_stats_list = []\n",
    "\n",
    "with open(hero_stats_path, 'r', encoding='utf-8') as f:\n",
    "  hero_stats = json.loads(f.read())\n",
    "\n",
    "for hero, stats in hero_stats.items():\n",
    "  x = dict(hero=hero, **stats)\n",
    "  hero_stats_list.append(x)\n",
    "\n",
    "stats_df = pd.DataFrame(hero_stats_list)\n",
    "\n",
    "stats_df"
   ],
   "metadata": {
    "collapsed": false,
    "pycharm": {
     "name": "#%%\n"
    }
   }
  },
  {
   "cell_type": "code",
   "execution_count": 47,
   "outputs": [
    {
     "data": {
      "text/plain": "       hero  calculated_wins  calculated_losses  calculated_games_played  \\\n155  Hogger              256                192                      448   \n156  Hogger              188                143                      331   \n157  Hogger              536                416                      952   \n158  Hogger              356                311                      667   \n159  Hogger              210                203                      413   \n\n     win_rate           One              Four                  Seven  \\\n155     57.14  On The Prowl  Hogger's Joggers           Garbage Fire   \n156     56.80  On The Prowl  Hogger's Joggers             Seeing Red   \n157     56.30  On The Prowl  Hogger's Joggers  Dense Blasting Powder   \n158     53.37  On The Prowl  Hogger's Joggers             Seeing Red   \n159     50.85  On The Prowl  Hogger's Joggers  Dense Blasting Powder   \n\n            Ten Thirteen     Sixteen      Twenty  \n155  Hoardapult   Pummel  Headbanger  No Control  \n156  Hoardapult   Pummel  Headbanger  No Control  \n157   Shockwave   Pummel   Kablooie!  No Control  \n158   Shockwave   Pummel  Headbanger  No Control  \n159   Shockwave   Pummel  Headbanger  No Control  ",
      "text/html": "<div>\n<style scoped>\n    .dataframe tbody tr th:only-of-type {\n        vertical-align: middle;\n    }\n\n    .dataframe tbody tr th {\n        vertical-align: top;\n    }\n\n    .dataframe thead th {\n        text-align: right;\n    }\n</style>\n<table border=\"1\" class=\"dataframe\">\n  <thead>\n    <tr style=\"text-align: right;\">\n      <th></th>\n      <th>hero</th>\n      <th>calculated_wins</th>\n      <th>calculated_losses</th>\n      <th>calculated_games_played</th>\n      <th>win_rate</th>\n      <th>One</th>\n      <th>Four</th>\n      <th>Seven</th>\n      <th>Ten</th>\n      <th>Thirteen</th>\n      <th>Sixteen</th>\n      <th>Twenty</th>\n    </tr>\n  </thead>\n  <tbody>\n    <tr>\n      <th>155</th>\n      <td>Hogger</td>\n      <td>256</td>\n      <td>192</td>\n      <td>448</td>\n      <td>57.14</td>\n      <td>On The Prowl</td>\n      <td>Hogger's Joggers</td>\n      <td>Garbage Fire</td>\n      <td>Hoardapult</td>\n      <td>Pummel</td>\n      <td>Headbanger</td>\n      <td>No Control</td>\n    </tr>\n    <tr>\n      <th>156</th>\n      <td>Hogger</td>\n      <td>188</td>\n      <td>143</td>\n      <td>331</td>\n      <td>56.80</td>\n      <td>On The Prowl</td>\n      <td>Hogger's Joggers</td>\n      <td>Seeing Red</td>\n      <td>Hoardapult</td>\n      <td>Pummel</td>\n      <td>Headbanger</td>\n      <td>No Control</td>\n    </tr>\n    <tr>\n      <th>157</th>\n      <td>Hogger</td>\n      <td>536</td>\n      <td>416</td>\n      <td>952</td>\n      <td>56.30</td>\n      <td>On The Prowl</td>\n      <td>Hogger's Joggers</td>\n      <td>Dense Blasting Powder</td>\n      <td>Shockwave</td>\n      <td>Pummel</td>\n      <td>Kablooie!</td>\n      <td>No Control</td>\n    </tr>\n    <tr>\n      <th>158</th>\n      <td>Hogger</td>\n      <td>356</td>\n      <td>311</td>\n      <td>667</td>\n      <td>53.37</td>\n      <td>On The Prowl</td>\n      <td>Hogger's Joggers</td>\n      <td>Seeing Red</td>\n      <td>Shockwave</td>\n      <td>Pummel</td>\n      <td>Headbanger</td>\n      <td>No Control</td>\n    </tr>\n    <tr>\n      <th>159</th>\n      <td>Hogger</td>\n      <td>210</td>\n      <td>203</td>\n      <td>413</td>\n      <td>50.85</td>\n      <td>On The Prowl</td>\n      <td>Hogger's Joggers</td>\n      <td>Dense Blasting Powder</td>\n      <td>Shockwave</td>\n      <td>Pummel</td>\n      <td>Headbanger</td>\n      <td>No Control</td>\n    </tr>\n  </tbody>\n</table>\n</div>"
     },
     "execution_count": 47,
     "metadata": {},
     "output_type": "execute_result"
    }
   ],
   "source": [
    "hero_builds_list = []\n",
    "\n",
    "with open(builds_path, 'r', encoding='utf-8') as f:\n",
    "  build_stats = json.loads(f.read())\n",
    "\n",
    "for hero, data in build_stats.items():\n",
    "  x = dict(hero=hero)\n",
    "  for build in data:\n",
    "      b = dict(\n",
    "        calculated_wins=build['calculated_wins']\n",
    "        , calculated_losses=build['calculated_losses']\n",
    "        , calculated_games_played=build['calculated_games_played']\n",
    "        , win_rate=build['win_rate']\n",
    "      )\n",
    "      for i, tal in enumerate(build['build_talents']):\n",
    "          tal_index = 'Zero'\n",
    "          match i:\n",
    "            case 0:\n",
    "                tal_index = 'One'\n",
    "            case 1:\n",
    "                tal_index = 'Four'\n",
    "            case 2:\n",
    "                tal_index = 'Seven'\n",
    "            case 3:\n",
    "                tal_index = 'Ten'\n",
    "            case 4:\n",
    "                tal_index = 'Thirteen'\n",
    "            case 5:\n",
    "                tal_index = 'Sixteen'\n",
    "            case 6:\n",
    "                tal_index = 'Twenty'\n",
    "\n",
    "          talent_index = tal_index\n",
    "          b[talent_index] = tal\n",
    "      y = x | b\n",
    "      hero_builds_list.append(y)\n",
    "\n",
    "build_stats_df = pd.DataFrame(hero_builds_list)\n",
    "\n",
    "b =  ['Pressurized Glands',' Adrenal Overload', 'Networked Carapace', 'Ultimate Evolution', 'Soma Transference', 'Adrenaline Boost', 'Hivemind']\n",
    "\n",
    "# build_stats_df.info()\n",
    "\n",
    "build_stats_df[build_stats_df['hero'] == 'Hogger'].head(100)"
   ],
   "metadata": {
    "collapsed": false,
    "pycharm": {
     "name": "#%%\n"
    }
   }
  },
  {
   "cell_type": "code",
   "execution_count": 15,
   "outputs": [
    {
     "data": {
      "text/plain": "   index     HeroName  WaveClear  Engage  Peel  TeamSustain  SelfSustain  \\\n0      0      Abathur        2.0     0.0   2.0          5.0          0.0   \n1      1       Alarak        2.0     5.0   5.0          0.0          2.0   \n2      2  Alexstrasza        4.0     1.0   2.0          7.0          5.0   \n3      3          Ana        2.0     2.0   4.0          7.0          3.0   \n4      4       Anduin        3.0     2.0   4.0          6.0          5.0   \n\n  SoloLane  Fight  Macro  Artillery  Protect  Pick  \n0    Maybe    4.0    8.0        1.0      7.0   2.0  \n1    Maybe    5.0    3.0        2.0      4.0   9.0  \n2    Maybe    7.0    3.0        4.0      5.0   3.0  \n3       No    4.0    4.0        5.0      7.0   8.0  \n4       No    4.0    3.0        3.0      7.0   7.0  ",
      "text/html": "<div>\n<style scoped>\n    .dataframe tbody tr th:only-of-type {\n        vertical-align: middle;\n    }\n\n    .dataframe tbody tr th {\n        vertical-align: top;\n    }\n\n    .dataframe thead th {\n        text-align: right;\n    }\n</style>\n<table border=\"1\" class=\"dataframe\">\n  <thead>\n    <tr style=\"text-align: right;\">\n      <th></th>\n      <th>index</th>\n      <th>HeroName</th>\n      <th>WaveClear</th>\n      <th>Engage</th>\n      <th>Peel</th>\n      <th>TeamSustain</th>\n      <th>SelfSustain</th>\n      <th>SoloLane</th>\n      <th>Fight</th>\n      <th>Macro</th>\n      <th>Artillery</th>\n      <th>Protect</th>\n      <th>Pick</th>\n    </tr>\n  </thead>\n  <tbody>\n    <tr>\n      <th>0</th>\n      <td>0</td>\n      <td>Abathur</td>\n      <td>2.0</td>\n      <td>0.0</td>\n      <td>2.0</td>\n      <td>5.0</td>\n      <td>0.0</td>\n      <td>Maybe</td>\n      <td>4.0</td>\n      <td>8.0</td>\n      <td>1.0</td>\n      <td>7.0</td>\n      <td>2.0</td>\n    </tr>\n    <tr>\n      <th>1</th>\n      <td>1</td>\n      <td>Alarak</td>\n      <td>2.0</td>\n      <td>5.0</td>\n      <td>5.0</td>\n      <td>0.0</td>\n      <td>2.0</td>\n      <td>Maybe</td>\n      <td>5.0</td>\n      <td>3.0</td>\n      <td>2.0</td>\n      <td>4.0</td>\n      <td>9.0</td>\n    </tr>\n    <tr>\n      <th>2</th>\n      <td>2</td>\n      <td>Alexstrasza</td>\n      <td>4.0</td>\n      <td>1.0</td>\n      <td>2.0</td>\n      <td>7.0</td>\n      <td>5.0</td>\n      <td>Maybe</td>\n      <td>7.0</td>\n      <td>3.0</td>\n      <td>4.0</td>\n      <td>5.0</td>\n      <td>3.0</td>\n    </tr>\n    <tr>\n      <th>3</th>\n      <td>3</td>\n      <td>Ana</td>\n      <td>2.0</td>\n      <td>2.0</td>\n      <td>4.0</td>\n      <td>7.0</td>\n      <td>3.0</td>\n      <td>No</td>\n      <td>4.0</td>\n      <td>4.0</td>\n      <td>5.0</td>\n      <td>7.0</td>\n      <td>8.0</td>\n    </tr>\n    <tr>\n      <th>4</th>\n      <td>4</td>\n      <td>Anduin</td>\n      <td>3.0</td>\n      <td>2.0</td>\n      <td>4.0</td>\n      <td>6.0</td>\n      <td>5.0</td>\n      <td>No</td>\n      <td>4.0</td>\n      <td>3.0</td>\n      <td>3.0</td>\n      <td>7.0</td>\n      <td>7.0</td>\n    </tr>\n  </tbody>\n</table>\n</div>"
     },
     "execution_count": 15,
     "metadata": {},
     "output_type": "execute_result"
    }
   ],
   "source": [
    "meta_data = sa.MetaData(bind=engine)\n",
    "sa.MetaData.reflect(meta_data)\n",
    "\n",
    "HeroBuildAgg=meta_data.tables['Player']\n",
    "talents_df=meta_data.tables['Hero']\n",
    "PlayerComfort=meta_data.tables['PlayerComfort']\n",
    "HeroStats=meta_data.tables['HeroStats']\n",
    "\n",
    "hero_query = sa.select(\n",
    "    Hero.c.HeroId\n",
    "  , Hero.c.HeroName\n",
    "  , Hero.c.NewRole\n",
    ")\n",
    "\n",
    "player_query = sa.select(\n",
    "  Player.c.PlayerId\n",
    "  , Player.c.Battletag\n",
    "  , Player.c.AccountLevel\n",
    "  , Player.c.BlizzardId\n",
    "  , Player.c.MasterPlayerId\n",
    ")\n",
    "\n",
    "comfort_query = sa.select(PlayerComfort)\n",
    "\n",
    "hero_stats_query = sa.select(HeroStats)\n",
    "\n",
    "player_df = pd.read_sql(sql = player_query, con = engine)\n",
    "hero_df = pd.read_sql(sql = hero_query, con = engine)\n",
    "comfort_df = pd.read_sql(sql = comfort_query, con = engine)\n",
    "hero_stats_df = pd.read_sql(sql = hero_stats_query, con = engine)\n",
    "\n",
    "hero_stats_df.head(5)"
   ],
   "metadata": {
    "collapsed": false,
    "pycharm": {
     "name": "#%%\n"
    }
   }
  },
  {
   "cell_type": "code",
   "execution_count": 17,
   "outputs": [],
   "source": [
    "hero_df['HeroRoleCode'] = hero_df.NewRole.astype('category').cat.codes\n",
    "hero_stats_df['SoloLaneCode'] = hero_stats_df.SoloLane.astype('category').cat.codes"
   ],
   "metadata": {
    "collapsed": false,
    "pycharm": {
     "name": "#%%\n"
    }
   }
  },
  {
   "cell_type": "code",
   "execution_count": 19,
   "outputs": [
    {
     "data": {
      "text/plain": "       HeroName          NewRole  Bruiser  Healer  Melee Assassin  \\\n0       Abathur          Support      0.0     0.0             0.0   \n1        Alarak   Melee Assassin      0.0     0.0             1.0   \n2   Alexstrasza           Healer      0.0     1.0             0.0   \n3           Ana           Healer      0.0     1.0             0.0   \n4        Anduin           Healer      0.0     1.0             0.0   \n..          ...              ...      ...     ...             ...   \n85         Yrel          Bruiser      1.0     0.0             0.0   \n86       Zagara  Ranged Assassin      0.0     0.0             0.0   \n87        Zarya          Support      0.0     0.0             0.0   \n88      Zeratul   Melee Assassin      0.0     0.0             1.0   \n89      Zul'jin  Ranged Assassin      0.0     0.0             0.0   \n\n    Ranged Assassin  Support  Tank  \n0               0.0      1.0   0.0  \n1               0.0      0.0   0.0  \n2               0.0      0.0   0.0  \n3               0.0      0.0   0.0  \n4               0.0      0.0   0.0  \n..              ...      ...   ...  \n85              0.0      0.0   0.0  \n86              1.0      0.0   0.0  \n87              0.0      1.0   0.0  \n88              0.0      0.0   0.0  \n89              1.0      0.0   0.0  \n\n[90 rows x 8 columns]",
      "text/html": "<div>\n<style scoped>\n    .dataframe tbody tr th:only-of-type {\n        vertical-align: middle;\n    }\n\n    .dataframe tbody tr th {\n        vertical-align: top;\n    }\n\n    .dataframe thead th {\n        text-align: right;\n    }\n</style>\n<table border=\"1\" class=\"dataframe\">\n  <thead>\n    <tr style=\"text-align: right;\">\n      <th></th>\n      <th>HeroName</th>\n      <th>NewRole</th>\n      <th>Bruiser</th>\n      <th>Healer</th>\n      <th>Melee Assassin</th>\n      <th>Ranged Assassin</th>\n      <th>Support</th>\n      <th>Tank</th>\n    </tr>\n  </thead>\n  <tbody>\n    <tr>\n      <th>0</th>\n      <td>Abathur</td>\n      <td>Support</td>\n      <td>0.0</td>\n      <td>0.0</td>\n      <td>0.0</td>\n      <td>0.0</td>\n      <td>1.0</td>\n      <td>0.0</td>\n    </tr>\n    <tr>\n      <th>1</th>\n      <td>Alarak</td>\n      <td>Melee Assassin</td>\n      <td>0.0</td>\n      <td>0.0</td>\n      <td>1.0</td>\n      <td>0.0</td>\n      <td>0.0</td>\n      <td>0.0</td>\n    </tr>\n    <tr>\n      <th>2</th>\n      <td>Alexstrasza</td>\n      <td>Healer</td>\n      <td>0.0</td>\n      <td>1.0</td>\n      <td>0.0</td>\n      <td>0.0</td>\n      <td>0.0</td>\n      <td>0.0</td>\n    </tr>\n    <tr>\n      <th>3</th>\n      <td>Ana</td>\n      <td>Healer</td>\n      <td>0.0</td>\n      <td>1.0</td>\n      <td>0.0</td>\n      <td>0.0</td>\n      <td>0.0</td>\n      <td>0.0</td>\n    </tr>\n    <tr>\n      <th>4</th>\n      <td>Anduin</td>\n      <td>Healer</td>\n      <td>0.0</td>\n      <td>1.0</td>\n      <td>0.0</td>\n      <td>0.0</td>\n      <td>0.0</td>\n      <td>0.0</td>\n    </tr>\n    <tr>\n      <th>...</th>\n      <td>...</td>\n      <td>...</td>\n      <td>...</td>\n      <td>...</td>\n      <td>...</td>\n      <td>...</td>\n      <td>...</td>\n      <td>...</td>\n    </tr>\n    <tr>\n      <th>85</th>\n      <td>Yrel</td>\n      <td>Bruiser</td>\n      <td>1.0</td>\n      <td>0.0</td>\n      <td>0.0</td>\n      <td>0.0</td>\n      <td>0.0</td>\n      <td>0.0</td>\n    </tr>\n    <tr>\n      <th>86</th>\n      <td>Zagara</td>\n      <td>Ranged Assassin</td>\n      <td>0.0</td>\n      <td>0.0</td>\n      <td>0.0</td>\n      <td>1.0</td>\n      <td>0.0</td>\n      <td>0.0</td>\n    </tr>\n    <tr>\n      <th>87</th>\n      <td>Zarya</td>\n      <td>Support</td>\n      <td>0.0</td>\n      <td>0.0</td>\n      <td>0.0</td>\n      <td>0.0</td>\n      <td>1.0</td>\n      <td>0.0</td>\n    </tr>\n    <tr>\n      <th>88</th>\n      <td>Zeratul</td>\n      <td>Melee Assassin</td>\n      <td>0.0</td>\n      <td>0.0</td>\n      <td>1.0</td>\n      <td>0.0</td>\n      <td>0.0</td>\n      <td>0.0</td>\n    </tr>\n    <tr>\n      <th>89</th>\n      <td>Zul'jin</td>\n      <td>Ranged Assassin</td>\n      <td>0.0</td>\n      <td>0.0</td>\n      <td>0.0</td>\n      <td>1.0</td>\n      <td>0.0</td>\n      <td>0.0</td>\n    </tr>\n  </tbody>\n</table>\n<p>90 rows × 8 columns</p>\n</div>"
     },
     "execution_count": 19,
     "metadata": {},
     "output_type": "execute_result"
    }
   ],
   "source": [
    "hero_role_df = pd.DataFrame(columns=['HeroName', 'NewRole'])\n",
    "hero_role_df = hero_role_df.astype(dtype= {\"HeroName\":\"object\" })\n",
    "hero_role_df.HeroName = hero_df['HeroName']\n",
    "hero_role_df.NewRole = hero_df[hero_role_df['HeroName'] == hero_df['HeroName']].NewRole\n",
    "\n",
    "for col in roles:\n",
    "  hero_role_df.loc[(hero_role_df.NewRole == col), col] = 1\n",
    "\n",
    "hero_role_df.loc[(hero_role_df.HeroName == 'Varian'), 'Tank'] = 1\n",
    "hero_role_df.loc[(hero_role_df.HeroName == 'Varian'), 'Melee Assassin'] = 1\n",
    "\n",
    "hero_role_df.fillna(0, inplace=True)\n",
    "hero_role_df.head(100)"
   ],
   "metadata": {
    "collapsed": false,
    "pycharm": {
     "name": "#%%\n"
    }
   }
  },
  {
   "cell_type": "code",
   "execution_count": 20,
   "outputs": [
    {
     "name": "stdout",
     "output_type": "stream",
     "text": [
      "Map Count - 23\n",
      "Hero Count - 90\n"
     ]
    }
   ],
   "source": [
    "print(f'Map Count - {map_df.shape[0]}')\n",
    "print(f'Hero Count - {hero_df.shape[0]}')"
   ],
   "metadata": {
    "collapsed": false,
    "pycharm": {
     "name": "#%%\n"
    }
   }
  },
  {
   "cell_type": "code",
   "execution_count": 21,
   "outputs": [],
   "source": [
    "stats_df = pd.read_csv(hero_stats_path)\n",
    "players_df = pd.read_csv(comfort_path)\n",
    "\n",
    "stats_df.set_index('HeroName', inplace=True)\n",
    "players_df.set_index(['HeroName'], inplace=True)"
   ],
   "metadata": {
    "collapsed": false,
    "pycharm": {
     "name": "#%%\n"
    }
   }
  },
  {
   "cell_type": "code",
   "execution_count": 22,
   "outputs": [],
   "source": [
    "df = players_df.join(stats_df, on='HeroName', how='inner')\n",
    "df = pd.merge(df, hero_role_df, left_on=['HeroName', 'NewRole'], right_on=['HeroName', 'NewRole'], how='inner')"
   ],
   "metadata": {
    "collapsed": false,
    "pycharm": {
     "name": "#%%\n"
    }
   }
  },
  {
   "cell_type": "code",
   "execution_count": 25,
   "outputs": [
    {
     "data": {
      "text/plain": "       ComfortScore   WaveClear      Engage        Peel  TeamSustain  \\\ncount    486.000000  486.000000  486.000000  486.000000   486.000000   \nmean       5.174897    4.950617    3.543210    4.172840     1.777778   \nstd        3.080412    1.785864    1.989971    1.994571     2.603725   \nmin        0.000000    2.000000    0.000000    0.000000     0.000000   \n25%        3.000000    4.000000    2.000000    3.000000     0.000000   \n50%        5.000000    5.000000    4.000000    4.000000     0.000000   \n75%        8.000000    6.000000    5.000000    6.000000     3.000000   \nmax       10.000000    9.000000    8.000000    9.000000     8.000000   \n\n       SelfSustain       Fight       Macro   Artillery     Protect  \\\ncount   486.000000  486.000000  486.000000  486.000000  486.000000   \nmean      3.382716    5.111111    4.938272    4.790123    4.358025   \nstd       2.383281    1.572968    2.118231    1.905279    1.922039   \nmin       0.000000    1.000000    0.000000    1.000000    1.000000   \n25%       1.000000    4.000000    3.000000    3.000000    3.000000   \n50%       4.000000    5.000000    5.000000    4.000000    4.000000   \n75%       5.000000    6.000000    7.000000    6.000000    6.000000   \nmax       8.000000    8.000000    9.000000   10.000000   10.000000   \n\n             Pick     Bruiser      Healer  Melee Assassin  Ranged Assassin  \\\ncount  486.000000  486.000000  486.000000      486.000000       486.000000   \nmean     5.506173    0.209877    0.185185        0.123457         0.308642   \nstd      1.946438    0.407640    0.388848        0.329300         0.462409   \nmin      2.000000    0.000000    0.000000        0.000000         0.000000   \n25%      4.000000    0.000000    0.000000        0.000000         0.000000   \n50%      6.000000    0.000000    0.000000        0.000000         0.000000   \n75%      7.000000    0.000000    0.000000        0.000000         1.000000   \nmax      9.000000    1.000000    1.000000        1.000000         1.000000   \n\n          Support        Tank  \ncount  486.000000  486.000000  \nmean     0.049383    0.148148  \nstd      0.216889    0.355613  \nmin      0.000000    0.000000  \n25%      0.000000    0.000000  \n50%      0.000000    0.000000  \n75%      0.000000    0.000000  \nmax      1.000000    1.000000  ",
      "text/html": "<div>\n<style scoped>\n    .dataframe tbody tr th:only-of-type {\n        vertical-align: middle;\n    }\n\n    .dataframe tbody tr th {\n        vertical-align: top;\n    }\n\n    .dataframe thead th {\n        text-align: right;\n    }\n</style>\n<table border=\"1\" class=\"dataframe\">\n  <thead>\n    <tr style=\"text-align: right;\">\n      <th></th>\n      <th>ComfortScore</th>\n      <th>WaveClear</th>\n      <th>Engage</th>\n      <th>Peel</th>\n      <th>TeamSustain</th>\n      <th>SelfSustain</th>\n      <th>Fight</th>\n      <th>Macro</th>\n      <th>Artillery</th>\n      <th>Protect</th>\n      <th>Pick</th>\n      <th>Bruiser</th>\n      <th>Healer</th>\n      <th>Melee Assassin</th>\n      <th>Ranged Assassin</th>\n      <th>Support</th>\n      <th>Tank</th>\n    </tr>\n  </thead>\n  <tbody>\n    <tr>\n      <th>count</th>\n      <td>486.000000</td>\n      <td>486.000000</td>\n      <td>486.000000</td>\n      <td>486.000000</td>\n      <td>486.000000</td>\n      <td>486.000000</td>\n      <td>486.000000</td>\n      <td>486.000000</td>\n      <td>486.000000</td>\n      <td>486.000000</td>\n      <td>486.000000</td>\n      <td>486.000000</td>\n      <td>486.000000</td>\n      <td>486.000000</td>\n      <td>486.000000</td>\n      <td>486.000000</td>\n      <td>486.000000</td>\n    </tr>\n    <tr>\n      <th>mean</th>\n      <td>5.174897</td>\n      <td>4.950617</td>\n      <td>3.543210</td>\n      <td>4.172840</td>\n      <td>1.777778</td>\n      <td>3.382716</td>\n      <td>5.111111</td>\n      <td>4.938272</td>\n      <td>4.790123</td>\n      <td>4.358025</td>\n      <td>5.506173</td>\n      <td>0.209877</td>\n      <td>0.185185</td>\n      <td>0.123457</td>\n      <td>0.308642</td>\n      <td>0.049383</td>\n      <td>0.148148</td>\n    </tr>\n    <tr>\n      <th>std</th>\n      <td>3.080412</td>\n      <td>1.785864</td>\n      <td>1.989971</td>\n      <td>1.994571</td>\n      <td>2.603725</td>\n      <td>2.383281</td>\n      <td>1.572968</td>\n      <td>2.118231</td>\n      <td>1.905279</td>\n      <td>1.922039</td>\n      <td>1.946438</td>\n      <td>0.407640</td>\n      <td>0.388848</td>\n      <td>0.329300</td>\n      <td>0.462409</td>\n      <td>0.216889</td>\n      <td>0.355613</td>\n    </tr>\n    <tr>\n      <th>min</th>\n      <td>0.000000</td>\n      <td>2.000000</td>\n      <td>0.000000</td>\n      <td>0.000000</td>\n      <td>0.000000</td>\n      <td>0.000000</td>\n      <td>1.000000</td>\n      <td>0.000000</td>\n      <td>1.000000</td>\n      <td>1.000000</td>\n      <td>2.000000</td>\n      <td>0.000000</td>\n      <td>0.000000</td>\n      <td>0.000000</td>\n      <td>0.000000</td>\n      <td>0.000000</td>\n      <td>0.000000</td>\n    </tr>\n    <tr>\n      <th>25%</th>\n      <td>3.000000</td>\n      <td>4.000000</td>\n      <td>2.000000</td>\n      <td>3.000000</td>\n      <td>0.000000</td>\n      <td>1.000000</td>\n      <td>4.000000</td>\n      <td>3.000000</td>\n      <td>3.000000</td>\n      <td>3.000000</td>\n      <td>4.000000</td>\n      <td>0.000000</td>\n      <td>0.000000</td>\n      <td>0.000000</td>\n      <td>0.000000</td>\n      <td>0.000000</td>\n      <td>0.000000</td>\n    </tr>\n    <tr>\n      <th>50%</th>\n      <td>5.000000</td>\n      <td>5.000000</td>\n      <td>4.000000</td>\n      <td>4.000000</td>\n      <td>0.000000</td>\n      <td>4.000000</td>\n      <td>5.000000</td>\n      <td>5.000000</td>\n      <td>4.000000</td>\n      <td>4.000000</td>\n      <td>6.000000</td>\n      <td>0.000000</td>\n      <td>0.000000</td>\n      <td>0.000000</td>\n      <td>0.000000</td>\n      <td>0.000000</td>\n      <td>0.000000</td>\n    </tr>\n    <tr>\n      <th>75%</th>\n      <td>8.000000</td>\n      <td>6.000000</td>\n      <td>5.000000</td>\n      <td>6.000000</td>\n      <td>3.000000</td>\n      <td>5.000000</td>\n      <td>6.000000</td>\n      <td>7.000000</td>\n      <td>6.000000</td>\n      <td>6.000000</td>\n      <td>7.000000</td>\n      <td>0.000000</td>\n      <td>0.000000</td>\n      <td>0.000000</td>\n      <td>1.000000</td>\n      <td>0.000000</td>\n      <td>0.000000</td>\n    </tr>\n    <tr>\n      <th>max</th>\n      <td>10.000000</td>\n      <td>9.000000</td>\n      <td>8.000000</td>\n      <td>9.000000</td>\n      <td>8.000000</td>\n      <td>8.000000</td>\n      <td>8.000000</td>\n      <td>9.000000</td>\n      <td>10.000000</td>\n      <td>10.000000</td>\n      <td>9.000000</td>\n      <td>1.000000</td>\n      <td>1.000000</td>\n      <td>1.000000</td>\n      <td>1.000000</td>\n      <td>1.000000</td>\n      <td>1.000000</td>\n    </tr>\n  </tbody>\n</table>\n</div>"
     },
     "execution_count": 25,
     "metadata": {},
     "output_type": "execute_result"
    }
   ],
   "source": [
    "df.describe()"
   ],
   "metadata": {
    "collapsed": false,
    "pycharm": {
     "name": "#%%\n"
    }
   }
  },
  {
   "cell_type": "code",
   "execution_count": 30,
   "outputs": [
    {
     "data": {
      "text/plain": "                         ComfortScore                                      \\\n                                count      mean       std  min   25%  50%   \nPlayer   NewRole                                                            \nPlayer 1 Bruiser                 17.0  4.588235  3.336518  0.0  2.00  4.0   \n         Healer                  15.0  5.066667  2.939064  0.0  3.00  5.0   \n         Melee Assassin           9.0  3.777778  1.715938  1.0  3.00  3.0   \n         Ranged Assassin         25.0  5.800000  3.674235  0.0  1.00  7.0   \n         Support                  4.0  6.750000  2.061553  4.0  6.25  7.0   \n         Tank                    11.0  4.636364  3.471966  0.0  2.00  3.0   \nPlayer 2 Bruiser                 17.0  5.588235  3.606571  0.0  3.00  6.0   \n         Healer                  15.0  4.133333  2.614975  1.0  2.50  4.0   \n         Melee Assassin           9.0  7.555556  2.403701  2.0  7.00  8.0   \n         Ranged Assassin         25.0  5.920000  3.438992  0.0  2.00  7.0   \n         Support                  4.0  3.500000  2.645751  1.0  1.75  3.0   \n         Tank                    11.0  5.818182  3.736795  0.0  2.50  6.0   \nPlayer 3 Bruiser                 17.0  5.294118  3.097675  0.0  3.00  5.0   \n         Healer                  15.0  5.800000  3.189268  0.0  3.50  7.0   \n         Melee Assassin           9.0  6.222222  2.682246  1.0  6.00  7.0   \n         Ranged Assassin         25.0  5.240000  3.218178  1.0  2.00  5.0   \n         Support                  4.0  5.250000  4.031129  1.0  2.50  5.0   \n         Tank                    11.0  6.181818  2.891995  0.0  5.00  7.0   \nPlayer 4 Bruiser                 17.0  5.235294  3.152963  1.0  3.00  5.0   \n         Healer                  15.0  5.600000  3.224903  0.0  3.00  5.0   \n         Melee Assassin           9.0  5.444444  3.205897  0.0  3.00  6.0   \n         Ranged Assassin         25.0  5.120000  3.004441  0.0  3.00  5.0   \n         Support                  4.0  3.250000  3.403430  0.0  1.50  2.5   \n         Tank                    11.0  5.636364  2.975659  2.0  3.50  5.0   \nPlayer 5 Bruiser                 17.0  4.470588  2.576763  1.0  3.00  4.0   \n         Healer                  15.0  5.133333  2.642149  0.0  3.00  5.0   \n         Melee Assassin           9.0  4.111111  3.333333  0.0  2.00  3.0   \n         Ranged Assassin         25.0  4.480000  3.163858  0.0  2.00  4.0   \n         Support                  4.0  4.000000  3.559026  1.0  1.00  3.5   \n         Tank                    11.0  5.545455  3.297382  1.0  3.00  6.0   \nPlayer 6 Bruiser                 17.0  5.470588  3.064263  0.0  4.00  7.0   \n         Healer                  15.0  3.800000  2.704494  0.0  2.00  4.0   \n         Melee Assassin           9.0  3.444444  2.068279  0.0  2.00  3.0   \n         Ranged Assassin         25.0  5.000000  3.109126  0.0  3.00  4.0   \n         Support                  4.0  6.750000  2.217356  4.0  5.50  7.0   \n         Tank                    11.0  5.727273  2.240130  2.0  4.50  6.0   \n\n                                      \n                           75%   max  \nPlayer   NewRole                      \nPlayer 1 Bruiser          7.00  10.0  \n         Healer           6.50  10.0  \n         Melee Assassin   5.00   7.0  \n         Ranged Assassin  9.00  10.0  \n         Support          7.50   9.0  \n         Tank             8.50   9.0  \nPlayer 2 Bruiser          9.00  10.0  \n         Healer           5.00  10.0  \n         Melee Assassin   9.00  10.0  \n         Ranged Assassin  9.00  10.0  \n         Support          4.75   7.0  \n         Tank             9.00  10.0  \nPlayer 3 Bruiser          8.00  10.0  \n         Healer           8.00  10.0  \n         Melee Assassin   8.00   9.0  \n         Ranged Assassin  8.00  10.0  \n         Support          7.75  10.0  \n         Tank             8.00  10.0  \nPlayer 4 Bruiser          8.00  10.0  \n         Healer           8.00  10.0  \n         Melee Assassin   8.00  10.0  \n         Ranged Assassin  8.00  10.0  \n         Support          4.25   8.0  \n         Tank             8.00  10.0  \nPlayer 5 Bruiser          6.00  10.0  \n         Healer           7.00   9.0  \n         Melee Assassin   7.00  10.0  \n         Ranged Assassin  6.00  10.0  \n         Support          6.50   8.0  \n         Tank             8.00  10.0  \nPlayer 6 Bruiser          7.00   9.0  \n         Healer           5.00  10.0  \n         Melee Assassin   5.00   7.0  \n         Ranged Assassin  7.00  10.0  \n         Support          8.25   9.0  \n         Tank             6.50  10.0  ",
      "text/html": "<div>\n<style scoped>\n    .dataframe tbody tr th:only-of-type {\n        vertical-align: middle;\n    }\n\n    .dataframe tbody tr th {\n        vertical-align: top;\n    }\n\n    .dataframe thead tr th {\n        text-align: left;\n    }\n\n    .dataframe thead tr:last-of-type th {\n        text-align: right;\n    }\n</style>\n<table border=\"1\" class=\"dataframe\">\n  <thead>\n    <tr>\n      <th></th>\n      <th></th>\n      <th colspan=\"8\" halign=\"left\">ComfortScore</th>\n    </tr>\n    <tr>\n      <th></th>\n      <th></th>\n      <th>count</th>\n      <th>mean</th>\n      <th>std</th>\n      <th>min</th>\n      <th>25%</th>\n      <th>50%</th>\n      <th>75%</th>\n      <th>max</th>\n    </tr>\n    <tr>\n      <th>Player</th>\n      <th>NewRole</th>\n      <th></th>\n      <th></th>\n      <th></th>\n      <th></th>\n      <th></th>\n      <th></th>\n      <th></th>\n      <th></th>\n    </tr>\n  </thead>\n  <tbody>\n    <tr>\n      <th rowspan=\"6\" valign=\"top\">Player 1</th>\n      <th>Bruiser</th>\n      <td>17.0</td>\n      <td>4.588235</td>\n      <td>3.336518</td>\n      <td>0.0</td>\n      <td>2.00</td>\n      <td>4.0</td>\n      <td>7.00</td>\n      <td>10.0</td>\n    </tr>\n    <tr>\n      <th>Healer</th>\n      <td>15.0</td>\n      <td>5.066667</td>\n      <td>2.939064</td>\n      <td>0.0</td>\n      <td>3.00</td>\n      <td>5.0</td>\n      <td>6.50</td>\n      <td>10.0</td>\n    </tr>\n    <tr>\n      <th>Melee Assassin</th>\n      <td>9.0</td>\n      <td>3.777778</td>\n      <td>1.715938</td>\n      <td>1.0</td>\n      <td>3.00</td>\n      <td>3.0</td>\n      <td>5.00</td>\n      <td>7.0</td>\n    </tr>\n    <tr>\n      <th>Ranged Assassin</th>\n      <td>25.0</td>\n      <td>5.800000</td>\n      <td>3.674235</td>\n      <td>0.0</td>\n      <td>1.00</td>\n      <td>7.0</td>\n      <td>9.00</td>\n      <td>10.0</td>\n    </tr>\n    <tr>\n      <th>Support</th>\n      <td>4.0</td>\n      <td>6.750000</td>\n      <td>2.061553</td>\n      <td>4.0</td>\n      <td>6.25</td>\n      <td>7.0</td>\n      <td>7.50</td>\n      <td>9.0</td>\n    </tr>\n    <tr>\n      <th>Tank</th>\n      <td>11.0</td>\n      <td>4.636364</td>\n      <td>3.471966</td>\n      <td>0.0</td>\n      <td>2.00</td>\n      <td>3.0</td>\n      <td>8.50</td>\n      <td>9.0</td>\n    </tr>\n    <tr>\n      <th rowspan=\"6\" valign=\"top\">Player 2</th>\n      <th>Bruiser</th>\n      <td>17.0</td>\n      <td>5.588235</td>\n      <td>3.606571</td>\n      <td>0.0</td>\n      <td>3.00</td>\n      <td>6.0</td>\n      <td>9.00</td>\n      <td>10.0</td>\n    </tr>\n    <tr>\n      <th>Healer</th>\n      <td>15.0</td>\n      <td>4.133333</td>\n      <td>2.614975</td>\n      <td>1.0</td>\n      <td>2.50</td>\n      <td>4.0</td>\n      <td>5.00</td>\n      <td>10.0</td>\n    </tr>\n    <tr>\n      <th>Melee Assassin</th>\n      <td>9.0</td>\n      <td>7.555556</td>\n      <td>2.403701</td>\n      <td>2.0</td>\n      <td>7.00</td>\n      <td>8.0</td>\n      <td>9.00</td>\n      <td>10.0</td>\n    </tr>\n    <tr>\n      <th>Ranged Assassin</th>\n      <td>25.0</td>\n      <td>5.920000</td>\n      <td>3.438992</td>\n      <td>0.0</td>\n      <td>2.00</td>\n      <td>7.0</td>\n      <td>9.00</td>\n      <td>10.0</td>\n    </tr>\n    <tr>\n      <th>Support</th>\n      <td>4.0</td>\n      <td>3.500000</td>\n      <td>2.645751</td>\n      <td>1.0</td>\n      <td>1.75</td>\n      <td>3.0</td>\n      <td>4.75</td>\n      <td>7.0</td>\n    </tr>\n    <tr>\n      <th>Tank</th>\n      <td>11.0</td>\n      <td>5.818182</td>\n      <td>3.736795</td>\n      <td>0.0</td>\n      <td>2.50</td>\n      <td>6.0</td>\n      <td>9.00</td>\n      <td>10.0</td>\n    </tr>\n    <tr>\n      <th rowspan=\"6\" valign=\"top\">Player 3</th>\n      <th>Bruiser</th>\n      <td>17.0</td>\n      <td>5.294118</td>\n      <td>3.097675</td>\n      <td>0.0</td>\n      <td>3.00</td>\n      <td>5.0</td>\n      <td>8.00</td>\n      <td>10.0</td>\n    </tr>\n    <tr>\n      <th>Healer</th>\n      <td>15.0</td>\n      <td>5.800000</td>\n      <td>3.189268</td>\n      <td>0.0</td>\n      <td>3.50</td>\n      <td>7.0</td>\n      <td>8.00</td>\n      <td>10.0</td>\n    </tr>\n    <tr>\n      <th>Melee Assassin</th>\n      <td>9.0</td>\n      <td>6.222222</td>\n      <td>2.682246</td>\n      <td>1.0</td>\n      <td>6.00</td>\n      <td>7.0</td>\n      <td>8.00</td>\n      <td>9.0</td>\n    </tr>\n    <tr>\n      <th>Ranged Assassin</th>\n      <td>25.0</td>\n      <td>5.240000</td>\n      <td>3.218178</td>\n      <td>1.0</td>\n      <td>2.00</td>\n      <td>5.0</td>\n      <td>8.00</td>\n      <td>10.0</td>\n    </tr>\n    <tr>\n      <th>Support</th>\n      <td>4.0</td>\n      <td>5.250000</td>\n      <td>4.031129</td>\n      <td>1.0</td>\n      <td>2.50</td>\n      <td>5.0</td>\n      <td>7.75</td>\n      <td>10.0</td>\n    </tr>\n    <tr>\n      <th>Tank</th>\n      <td>11.0</td>\n      <td>6.181818</td>\n      <td>2.891995</td>\n      <td>0.0</td>\n      <td>5.00</td>\n      <td>7.0</td>\n      <td>8.00</td>\n      <td>10.0</td>\n    </tr>\n    <tr>\n      <th rowspan=\"6\" valign=\"top\">Player 4</th>\n      <th>Bruiser</th>\n      <td>17.0</td>\n      <td>5.235294</td>\n      <td>3.152963</td>\n      <td>1.0</td>\n      <td>3.00</td>\n      <td>5.0</td>\n      <td>8.00</td>\n      <td>10.0</td>\n    </tr>\n    <tr>\n      <th>Healer</th>\n      <td>15.0</td>\n      <td>5.600000</td>\n      <td>3.224903</td>\n      <td>0.0</td>\n      <td>3.00</td>\n      <td>5.0</td>\n      <td>8.00</td>\n      <td>10.0</td>\n    </tr>\n    <tr>\n      <th>Melee Assassin</th>\n      <td>9.0</td>\n      <td>5.444444</td>\n      <td>3.205897</td>\n      <td>0.0</td>\n      <td>3.00</td>\n      <td>6.0</td>\n      <td>8.00</td>\n      <td>10.0</td>\n    </tr>\n    <tr>\n      <th>Ranged Assassin</th>\n      <td>25.0</td>\n      <td>5.120000</td>\n      <td>3.004441</td>\n      <td>0.0</td>\n      <td>3.00</td>\n      <td>5.0</td>\n      <td>8.00</td>\n      <td>10.0</td>\n    </tr>\n    <tr>\n      <th>Support</th>\n      <td>4.0</td>\n      <td>3.250000</td>\n      <td>3.403430</td>\n      <td>0.0</td>\n      <td>1.50</td>\n      <td>2.5</td>\n      <td>4.25</td>\n      <td>8.0</td>\n    </tr>\n    <tr>\n      <th>Tank</th>\n      <td>11.0</td>\n      <td>5.636364</td>\n      <td>2.975659</td>\n      <td>2.0</td>\n      <td>3.50</td>\n      <td>5.0</td>\n      <td>8.00</td>\n      <td>10.0</td>\n    </tr>\n    <tr>\n      <th rowspan=\"6\" valign=\"top\">Player 5</th>\n      <th>Bruiser</th>\n      <td>17.0</td>\n      <td>4.470588</td>\n      <td>2.576763</td>\n      <td>1.0</td>\n      <td>3.00</td>\n      <td>4.0</td>\n      <td>6.00</td>\n      <td>10.0</td>\n    </tr>\n    <tr>\n      <th>Healer</th>\n      <td>15.0</td>\n      <td>5.133333</td>\n      <td>2.642149</td>\n      <td>0.0</td>\n      <td>3.00</td>\n      <td>5.0</td>\n      <td>7.00</td>\n      <td>9.0</td>\n    </tr>\n    <tr>\n      <th>Melee Assassin</th>\n      <td>9.0</td>\n      <td>4.111111</td>\n      <td>3.333333</td>\n      <td>0.0</td>\n      <td>2.00</td>\n      <td>3.0</td>\n      <td>7.00</td>\n      <td>10.0</td>\n    </tr>\n    <tr>\n      <th>Ranged Assassin</th>\n      <td>25.0</td>\n      <td>4.480000</td>\n      <td>3.163858</td>\n      <td>0.0</td>\n      <td>2.00</td>\n      <td>4.0</td>\n      <td>6.00</td>\n      <td>10.0</td>\n    </tr>\n    <tr>\n      <th>Support</th>\n      <td>4.0</td>\n      <td>4.000000</td>\n      <td>3.559026</td>\n      <td>1.0</td>\n      <td>1.00</td>\n      <td>3.5</td>\n      <td>6.50</td>\n      <td>8.0</td>\n    </tr>\n    <tr>\n      <th>Tank</th>\n      <td>11.0</td>\n      <td>5.545455</td>\n      <td>3.297382</td>\n      <td>1.0</td>\n      <td>3.00</td>\n      <td>6.0</td>\n      <td>8.00</td>\n      <td>10.0</td>\n    </tr>\n    <tr>\n      <th rowspan=\"6\" valign=\"top\">Player 6</th>\n      <th>Bruiser</th>\n      <td>17.0</td>\n      <td>5.470588</td>\n      <td>3.064263</td>\n      <td>0.0</td>\n      <td>4.00</td>\n      <td>7.0</td>\n      <td>7.00</td>\n      <td>9.0</td>\n    </tr>\n    <tr>\n      <th>Healer</th>\n      <td>15.0</td>\n      <td>3.800000</td>\n      <td>2.704494</td>\n      <td>0.0</td>\n      <td>2.00</td>\n      <td>4.0</td>\n      <td>5.00</td>\n      <td>10.0</td>\n    </tr>\n    <tr>\n      <th>Melee Assassin</th>\n      <td>9.0</td>\n      <td>3.444444</td>\n      <td>2.068279</td>\n      <td>0.0</td>\n      <td>2.00</td>\n      <td>3.0</td>\n      <td>5.00</td>\n      <td>7.0</td>\n    </tr>\n    <tr>\n      <th>Ranged Assassin</th>\n      <td>25.0</td>\n      <td>5.000000</td>\n      <td>3.109126</td>\n      <td>0.0</td>\n      <td>3.00</td>\n      <td>4.0</td>\n      <td>7.00</td>\n      <td>10.0</td>\n    </tr>\n    <tr>\n      <th>Support</th>\n      <td>4.0</td>\n      <td>6.750000</td>\n      <td>2.217356</td>\n      <td>4.0</td>\n      <td>5.50</td>\n      <td>7.0</td>\n      <td>8.25</td>\n      <td>9.0</td>\n    </tr>\n    <tr>\n      <th>Tank</th>\n      <td>11.0</td>\n      <td>5.727273</td>\n      <td>2.240130</td>\n      <td>2.0</td>\n      <td>4.50</td>\n      <td>6.0</td>\n      <td>6.50</td>\n      <td>10.0</td>\n    </tr>\n  </tbody>\n</table>\n</div>"
     },
     "execution_count": 30,
     "metadata": {},
     "output_type": "execute_result"
    }
   ],
   "source": [
    "df[['Player', 'NewRole', 'ComfortScore']].groupby(['Player', 'NewRole']).describe()"
   ],
   "metadata": {
    "collapsed": false,
    "pycharm": {
     "name": "#%%\n"
    }
   }
  },
  {
   "cell_type": "code",
   "execution_count": 15,
   "outputs": [
    {
     "data": {
      "text/plain": "0      6.750000\n1      3.500000\n2      5.250000\n3      3.250000\n4      4.000000\n         ...   \n481    7.555556\n482    6.222222\n483    5.444444\n484    4.111111\n485    3.444444\nName: ComfortScore, Length: 486, dtype: float64"
     },
     "execution_count": 15,
     "metadata": {},
     "output_type": "execute_result"
    }
   ],
   "source": [
    "df.groupby(['Player', 'NewRole'])['ComfortScore'].transform('mean')"
   ],
   "metadata": {
    "collapsed": false,
    "pycharm": {
     "name": "#%%\n"
    }
   }
  },
  {
   "cell_type": "code",
   "execution_count": 13,
   "outputs": [
    {
     "data": {
      "text/plain": "Player    NewRole             \nPlayer 1  Bruiser          174    10\n                           396    10\n          Healer           12     10\n                           348    10\n          Melee Assassin   210     7\n                                  ..\nPlayer 6  Ranged Assassin  293    10\n          Support          245     9\n                           5       8\n          Tank             125    10\n                           113     8\nName: ComfortScore, Length: 72, dtype: int64"
     },
     "execution_count": 13,
     "metadata": {},
     "output_type": "execute_result"
    }
   ],
   "source": [
    "df.groupby(['Player', 'NewRole'])['ComfortScore'].nlargest(2)"
   ],
   "metadata": {
    "collapsed": false,
    "pycharm": {
     "name": "#%%\n"
    }
   }
  },
  {
   "cell_type": "code",
   "execution_count": 13,
   "outputs": [],
   "source": [],
   "metadata": {
    "collapsed": false,
    "pycharm": {
     "name": "#%%\n"
    }
   }
  }
 ],
 "metadata": {
  "kernelspec": {
   "display_name": "Python 3",
   "language": "python",
   "name": "python3"
  },
  "language_info": {
   "codemirror_mode": {
    "name": "ipython",
    "version": 2
   },
   "file_extension": ".py",
   "mimetype": "text/x-python",
   "name": "python",
   "nbconvert_exporter": "python",
   "pygments_lexer": "ipython2",
   "version": "2.7.6"
  }
 },
 "nbformat": 4,
 "nbformat_minor": 0
}